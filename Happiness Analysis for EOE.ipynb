{
 "cells": [
  {
   "cell_type": "code",
   "execution_count": 1,
   "id": "2df64f7e",
   "metadata": {},
   "outputs": [],
   "source": [
    "#import libraries needed\n",
    "import numpy as np\n",
    "import pandas as pd\n",
    "import matplotlib.pyplot as pl\n",
    "import seaborn as sns"
   ]
  },
  {
   "cell_type": "code",
   "execution_count": null,
   "id": "130a4732",
   "metadata": {},
   "outputs": [],
   "source": [
    "#Let's load the 8 datasets for the analysis"
   ]
  },
  {
   "cell_type": "code",
   "execution_count": 7,
   "id": "eee3699a",
   "metadata": {},
   "outputs": [
    {
     "data": {
      "text/plain": [
       "'/Users/comfortuji'"
      ]
     },
     "execution_count": 7,
     "metadata": {},
     "output_type": "execute_result"
    }
   ],
   "source": [
    "pwd"
   ]
  },
  {
   "cell_type": "code",
   "execution_count": 25,
   "id": "43c4830d",
   "metadata": {},
   "outputs": [],
   "source": [
    "population = pd.read_csv('/Users/comfortuji/Desktop/population_WB.csv')"
   ]
  },
  {
   "cell_type": "code",
   "execution_count": 10,
   "id": "9cd1cb10",
   "metadata": {},
   "outputs": [],
   "source": [
    "women_parliament = pd.read_csv('/Users/comfortuji/Desktop/women_in_parliament.csv')"
   ]
  },
  {
   "cell_type": "code",
   "execution_count": 11,
   "id": "398ae765",
   "metadata": {},
   "outputs": [],
   "source": [
    "democracy = pd.read_csv('/Users/comfortuji/Desktop/democracy.csv')"
   ]
  },
  {
   "cell_type": "code",
   "execution_count": 12,
   "id": "a52249e1",
   "metadata": {},
   "outputs": [],
   "source": [
    "funct_govt = pd.read_csv('/Users/comfortuji/Desktop/functioning_government.csv')"
   ]
  },
  {
   "cell_type": "code",
   "execution_count": 79,
   "id": "7b5f18aa",
   "metadata": {},
   "outputs": [],
   "source": [
    "happiness_score = pd.read_csv('/Users/comfortuji/Desktop/happiness_score_whr.csv')"
   ]
  },
  {
   "cell_type": "code",
   "execution_count": 20,
   "id": "700006e5",
   "metadata": {},
   "outputs": [],
   "source": [
    "income_ineql = pd.read_csv('/Users/comfortuji/Desktop/income-inequality.csv')"
   ]
  },
  {
   "cell_type": "code",
   "execution_count": 34,
   "id": "d565b1a3",
   "metadata": {},
   "outputs": [],
   "source": [
    "continents = pd.read_csv('/Users/comfortuji/Desktop/continents.csv')"
   ]
  },
  {
   "cell_type": "code",
   "execution_count": 24,
   "id": "ec8e9fff",
   "metadata": {},
   "outputs": [],
   "source": [
    "avg_income = pd.read_csv('/Users/comfortuji/Desktop/average_daily_income.csv')"
   ]
  },
  {
   "cell_type": "code",
   "execution_count": null,
   "id": "04db175f",
   "metadata": {},
   "outputs": [],
   "source": [
    "#Exploring the data"
   ]
  },
  {
   "cell_type": "code",
   "execution_count": 26,
   "id": "4be6a1cb",
   "metadata": {},
   "outputs": [
    {
     "data": {
      "text/html": [
       "<div>\n",
       "<style scoped>\n",
       "    .dataframe tbody tr th:only-of-type {\n",
       "        vertical-align: middle;\n",
       "    }\n",
       "\n",
       "    .dataframe tbody tr th {\n",
       "        vertical-align: top;\n",
       "    }\n",
       "\n",
       "    .dataframe thead th {\n",
       "        text-align: right;\n",
       "    }\n",
       "</style>\n",
       "<table border=\"1\" class=\"dataframe\">\n",
       "  <thead>\n",
       "    <tr style=\"text-align: right;\">\n",
       "      <th></th>\n",
       "      <th>country;1800;1801;1802;1803;1804;1805;1806;1807;1808;1809;1810;1811;1812;1813;1814;1815;1816;1817;1818;1819;1820;1821;1822;1823;1824;1825;1826;1827;1828;1829;1830;1831;1832;1833;1834;1835;1836;1837;1838;1839;1840;1841;1842;1843;1844;1845;1846;1847;1848;1849;1850;1851;1852;1853;1854;1855;1856;1857;1858;1859;1860;1861;1862;1863;1864;1865;1866;1867;1868;1869;1870;1871;1872;1873;1874;1875;1876;1877;1878;1879;1880;1881;1882;1883;1884;1885;1886;1887;1888;1889;1890;1891;1892;1893;1894;1895;1896;1897;1898;1899;1900;1901;1902;1903;1904;1905;1906;1907;1908;1909;1910;1911;1912;1913;1914;1915;1916;1917;1918;1919;1920;1921;1922;1923;1924;1925;1926;1927;1928;1929;1930;1931;1932;1933;1934;1935;1936;1937;1938;1939;1940;1941;1942;1943;1944;1945;1946;1947;1948;1949;1950;1951;1952;1953;1954;1955;1956;1957;1958;1959;1960;1961;1962;1963;1964;1965;1966;1967;1968;1969;1970;1971;1972;1973;1974;1975;1976;1977;1978;1979;1980;1981;1982;1983;1984;1985;1986;1987;1988;1989;1990;1991;1992;1993;1994;1995;1996;1997;1998;1999;2000;2001;2002;2003;2004;2005;2006;2007;2008;2009;2010;2011;2012;2013;2014;2015;2016;2017;2018;2019;2020;2021</th>\n",
       "      <th>Unnamed: 1</th>\n",
       "    </tr>\n",
       "  </thead>\n",
       "  <tbody>\n",
       "    <tr>\n",
       "      <th>0</th>\n",
       "      <td>Afghanistan;919;919;919;919;919;919;919;919;91...</td>\n",
       "      <td>NaN</td>\n",
       "    </tr>\n",
       "    <tr>\n",
       "      <th>1</th>\n",
       "      <td>Angola;2.27;2.27;2.28;2.29;2.3;2.31;2.32;2.33;...</td>\n",
       "      <td>NaN</td>\n",
       "    </tr>\n",
       "    <tr>\n",
       "      <th>2</th>\n",
       "      <td>Albania;1.22;1.22;1.22;1.22;1.22;1.22;1.22;1.2...</td>\n",
       "      <td>NaN</td>\n",
       "    </tr>\n",
       "    <tr>\n",
       "      <th>3</th>\n",
       "      <td>Andorra;1.48;1.49;1.49;1.49;1.49;1.5;1.5;1.5;1...</td>\n",
       "      <td>NaN</td>\n",
       "    </tr>\n",
       "    <tr>\n",
       "      <th>4</th>\n",
       "      <td>United Arab Emirates;2.9;2.91;2.92;2.93;2.94;2...</td>\n",
       "      <td>NaN</td>\n",
       "    </tr>\n",
       "  </tbody>\n",
       "</table>\n",
       "</div>"
      ],
      "text/plain": [
       "  country;1800;1801;1802;1803;1804;1805;1806;1807;1808;1809;1810;1811;1812;1813;1814;1815;1816;1817;1818;1819;1820;1821;1822;1823;1824;1825;1826;1827;1828;1829;1830;1831;1832;1833;1834;1835;1836;1837;1838;1839;1840;1841;1842;1843;1844;1845;1846;1847;1848;1849;1850;1851;1852;1853;1854;1855;1856;1857;1858;1859;1860;1861;1862;1863;1864;1865;1866;1867;1868;1869;1870;1871;1872;1873;1874;1875;1876;1877;1878;1879;1880;1881;1882;1883;1884;1885;1886;1887;1888;1889;1890;1891;1892;1893;1894;1895;1896;1897;1898;1899;1900;1901;1902;1903;1904;1905;1906;1907;1908;1909;1910;1911;1912;1913;1914;1915;1916;1917;1918;1919;1920;1921;1922;1923;1924;1925;1926;1927;1928;1929;1930;1931;1932;1933;1934;1935;1936;1937;1938;1939;1940;1941;1942;1943;1944;1945;1946;1947;1948;1949;1950;1951;1952;1953;1954;1955;1956;1957;1958;1959;1960;1961;1962;1963;1964;1965;1966;1967;1968;1969;1970;1971;1972;1973;1974;1975;1976;1977;1978;1979;1980;1981;1982;1983;1984;1985;1986;1987;1988;1989;1990;1991;1992;1993;1994;1995;1996;1997;1998;1999;2000;2001;2002;2003;2004;2005;2006;2007;2008;2009;2010;2011;2012;2013;2014;2015;2016;2017;2018;2019;2020;2021  \\\n",
       "0  Afghanistan;919;919;919;919;919;919;919;919;91...                                                                                                                                                                                                                                                                                                                                                                                                                                                                                                                                                                                                                                                                                                                                                                                                                                                                                                                                                                                                                                                                                                              \n",
       "1  Angola;2.27;2.27;2.28;2.29;2.3;2.31;2.32;2.33;...                                                                                                                                                                                                                                                                                                                                                                                                                                                                                                                                                                                                                                                                                                                                                                                                                                                                                                                                                                                                                                                                                                              \n",
       "2  Albania;1.22;1.22;1.22;1.22;1.22;1.22;1.22;1.2...                                                                                                                                                                                                                                                                                                                                                                                                                                                                                                                                                                                                                                                                                                                                                                                                                                                                                                                                                                                                                                                                                                              \n",
       "3  Andorra;1.48;1.49;1.49;1.49;1.49;1.5;1.5;1.5;1...                                                                                                                                                                                                                                                                                                                                                                                                                                                                                                                                                                                                                                                                                                                                                                                                                                                                                                                                                                                                                                                                                                              \n",
       "4  United Arab Emirates;2.9;2.91;2.92;2.93;2.94;2...                                                                                                                                                                                                                                                                                                                                                                                                                                                                                                                                                                                                                                                                                                                                                                                                                                                                                                                                                                                                                                                                                                              \n",
       "\n",
       "  Unnamed: 1  \n",
       "0        NaN  \n",
       "1        NaN  \n",
       "2        NaN  \n",
       "3        NaN  \n",
       "4        NaN  "
      ]
     },
     "execution_count": 26,
     "metadata": {},
     "output_type": "execute_result"
    }
   ],
   "source": [
    "avg_income.head()"
   ]
  },
  {
   "cell_type": "code",
   "execution_count": 35,
   "id": "cbf4856f",
   "metadata": {},
   "outputs": [
    {
     "data": {
      "text/html": [
       "<div>\n",
       "<style scoped>\n",
       "    .dataframe tbody tr th:only-of-type {\n",
       "        vertical-align: middle;\n",
       "    }\n",
       "\n",
       "    .dataframe tbody tr th {\n",
       "        vertical-align: top;\n",
       "    }\n",
       "\n",
       "    .dataframe thead th {\n",
       "        text-align: right;\n",
       "    }\n",
       "</style>\n",
       "<table border=\"1\" class=\"dataframe\">\n",
       "  <thead>\n",
       "    <tr style=\"text-align: right;\">\n",
       "      <th></th>\n",
       "      <th>continent</th>\n",
       "      <th>country</th>\n",
       "    </tr>\n",
       "  </thead>\n",
       "  <tbody>\n",
       "    <tr>\n",
       "      <th>0</th>\n",
       "      <td>Africa</td>\n",
       "      <td>Algeria</td>\n",
       "    </tr>\n",
       "    <tr>\n",
       "      <th>1</th>\n",
       "      <td>Africa</td>\n",
       "      <td>Angola</td>\n",
       "    </tr>\n",
       "    <tr>\n",
       "      <th>2</th>\n",
       "      <td>Africa</td>\n",
       "      <td>Benin</td>\n",
       "    </tr>\n",
       "    <tr>\n",
       "      <th>3</th>\n",
       "      <td>Africa</td>\n",
       "      <td>Botswana</td>\n",
       "    </tr>\n",
       "    <tr>\n",
       "      <th>4</th>\n",
       "      <td>Africa</td>\n",
       "      <td>Burkina</td>\n",
       "    </tr>\n",
       "  </tbody>\n",
       "</table>\n",
       "</div>"
      ],
      "text/plain": [
       "  continent   country\n",
       "0    Africa   Algeria\n",
       "1    Africa    Angola\n",
       "2    Africa     Benin\n",
       "3    Africa  Botswana\n",
       "4    Africa   Burkina"
      ]
     },
     "execution_count": 35,
     "metadata": {},
     "output_type": "execute_result"
    }
   ],
   "source": [
    "continents.head()"
   ]
  },
  {
   "cell_type": "code",
   "execution_count": 28,
   "id": "bc19f73f",
   "metadata": {},
   "outputs": [
    {
     "data": {
      "text/html": [
       "<div>\n",
       "<style scoped>\n",
       "    .dataframe tbody tr th:only-of-type {\n",
       "        vertical-align: middle;\n",
       "    }\n",
       "\n",
       "    .dataframe tbody tr th {\n",
       "        vertical-align: top;\n",
       "    }\n",
       "\n",
       "    .dataframe thead th {\n",
       "        text-align: right;\n",
       "    }\n",
       "</style>\n",
       "<table border=\"1\" class=\"dataframe\">\n",
       "  <thead>\n",
       "    <tr style=\"text-align: right;\">\n",
       "      <th></th>\n",
       "      <th>country;1800;1801;1802;1803;1804;1805;1806;1807;1808;1809;1810;1811;1812;1813;1814;1815;1816;1817;1818;1819;1820;1821;1822;1823;1824;1825;1826;1827;1828;1829;1830;1831;1832;1833;1834;1835;1836;1837;1838;1839;1840;1841;1842;1843;1844;1845;1846;1847;1848;1849;1850;1851;1852;1853;1854;1855;1856;1857;1858;1859;1860;1861;1862;1863;1864;1865;1866;1867;1868;1869;1870;1871;1872;1873;1874;1875;1876;1877;1878;1879;1880;1881;1882;1883;1884;1885;1886;1887;1888;1889;1890;1891;1892;1893;1894;1895;1896;1897;1898;1899;1900;1901;1902;1903;1904;1905;1906;1907;1908;1909;1910;1911;1912;1913;1914;1915;1916;1917;1918;1919;1920;1921;1922;1923;1924;1925;1926;1927;1928;1929;1930;1931;1932;1933;1934;1935;1936;1937;1938;1939;1940;1941;1942;1943;1944;1945;1946;1947;1948;1949;1950;1951;1952;1953;1954;1955;1956;1957;1958;1959;1960;1961;1962;1963;1964;1965;1966;1967;1968;1969;1970;1971;1972;1973;1974;1975;1976;1977;1978;1979;1980;1981;1982;1983;1984;1985;1986;1987;1988;1989;1990;1991;1992;1993;1994;1995;1996;1997;1998;1999;2000;2001;2002;2003;2004;2005;2006;2007;2008;2009;2010;2011;2012;2013;2014;2015;2016;2017;2018;2019;2020;2021</th>\n",
       "      <th>Unnamed: 1</th>\n",
       "    </tr>\n",
       "  </thead>\n",
       "  <tbody>\n",
       "    <tr>\n",
       "      <th>0</th>\n",
       "      <td>Afghanistan;30.5;30.5;30.5;30.5;30.5;30.5;30.5...</td>\n",
       "      <td>NaN</td>\n",
       "    </tr>\n",
       "    <tr>\n",
       "      <th>1</th>\n",
       "      <td>Angola;57.7;57.7;57.7;57.7;57.7;57.7;57.7;57.7...</td>\n",
       "      <td>NaN</td>\n",
       "    </tr>\n",
       "    <tr>\n",
       "      <th>2</th>\n",
       "      <td>Albania;39.9;39.9;39.9;39.9;39.9;39.9;39.9;39....</td>\n",
       "      <td>NaN</td>\n",
       "    </tr>\n",
       "    <tr>\n",
       "      <th>3</th>\n",
       "      <td>Andorra;42.5;42.5;42.5;42.5;42.5;42.5;42.5;42....</td>\n",
       "      <td>NaN</td>\n",
       "    </tr>\n",
       "    <tr>\n",
       "      <th>4</th>\n",
       "      <td>United Arab Emirates;39.8;39.8;39.8;39.8;39.8;...</td>\n",
       "      <td>NaN</td>\n",
       "    </tr>\n",
       "  </tbody>\n",
       "</table>\n",
       "</div>"
      ],
      "text/plain": [
       "  country;1800;1801;1802;1803;1804;1805;1806;1807;1808;1809;1810;1811;1812;1813;1814;1815;1816;1817;1818;1819;1820;1821;1822;1823;1824;1825;1826;1827;1828;1829;1830;1831;1832;1833;1834;1835;1836;1837;1838;1839;1840;1841;1842;1843;1844;1845;1846;1847;1848;1849;1850;1851;1852;1853;1854;1855;1856;1857;1858;1859;1860;1861;1862;1863;1864;1865;1866;1867;1868;1869;1870;1871;1872;1873;1874;1875;1876;1877;1878;1879;1880;1881;1882;1883;1884;1885;1886;1887;1888;1889;1890;1891;1892;1893;1894;1895;1896;1897;1898;1899;1900;1901;1902;1903;1904;1905;1906;1907;1908;1909;1910;1911;1912;1913;1914;1915;1916;1917;1918;1919;1920;1921;1922;1923;1924;1925;1926;1927;1928;1929;1930;1931;1932;1933;1934;1935;1936;1937;1938;1939;1940;1941;1942;1943;1944;1945;1946;1947;1948;1949;1950;1951;1952;1953;1954;1955;1956;1957;1958;1959;1960;1961;1962;1963;1964;1965;1966;1967;1968;1969;1970;1971;1972;1973;1974;1975;1976;1977;1978;1979;1980;1981;1982;1983;1984;1985;1986;1987;1988;1989;1990;1991;1992;1993;1994;1995;1996;1997;1998;1999;2000;2001;2002;2003;2004;2005;2006;2007;2008;2009;2010;2011;2012;2013;2014;2015;2016;2017;2018;2019;2020;2021  \\\n",
       "0  Afghanistan;30.5;30.5;30.5;30.5;30.5;30.5;30.5...                                                                                                                                                                                                                                                                                                                                                                                                                                                                                                                                                                                                                                                                                                                                                                                                                                                                                                                                                                                                                                                                                                              \n",
       "1  Angola;57.7;57.7;57.7;57.7;57.7;57.7;57.7;57.7...                                                                                                                                                                                                                                                                                                                                                                                                                                                                                                                                                                                                                                                                                                                                                                                                                                                                                                                                                                                                                                                                                                              \n",
       "2  Albania;39.9;39.9;39.9;39.9;39.9;39.9;39.9;39....                                                                                                                                                                                                                                                                                                                                                                                                                                                                                                                                                                                                                                                                                                                                                                                                                                                                                                                                                                                                                                                                                                              \n",
       "3  Andorra;42.5;42.5;42.5;42.5;42.5;42.5;42.5;42....                                                                                                                                                                                                                                                                                                                                                                                                                                                                                                                                                                                                                                                                                                                                                                                                                                                                                                                                                                                                                                                                                                              \n",
       "4  United Arab Emirates;39.8;39.8;39.8;39.8;39.8;...                                                                                                                                                                                                                                                                                                                                                                                                                                                                                                                                                                                                                                                                                                                                                                                                                                                                                                                                                                                                                                                                                                              \n",
       "\n",
       "  Unnamed: 1  \n",
       "0        NaN  \n",
       "1        NaN  \n",
       "2        NaN  \n",
       "3        NaN  \n",
       "4        NaN  "
      ]
     },
     "execution_count": 28,
     "metadata": {},
     "output_type": "execute_result"
    }
   ],
   "source": [
    "income_ineql.head()"
   ]
  },
  {
   "cell_type": "code",
   "execution_count": 29,
   "id": "27cc77ba",
   "metadata": {},
   "outputs": [
    {
     "data": {
      "text/html": [
       "<div>\n",
       "<style scoped>\n",
       "    .dataframe tbody tr th:only-of-type {\n",
       "        vertical-align: middle;\n",
       "    }\n",
       "\n",
       "    .dataframe tbody tr th {\n",
       "        vertical-align: top;\n",
       "    }\n",
       "\n",
       "    .dataframe thead th {\n",
       "        text-align: right;\n",
       "    }\n",
       "</style>\n",
       "<table border=\"1\" class=\"dataframe\">\n",
       "  <thead>\n",
       "    <tr style=\"text-align: right;\">\n",
       "      <th></th>\n",
       "      <th>country</th>\n",
       "      <th>2005</th>\n",
       "      <th>2006</th>\n",
       "      <th>2007</th>\n",
       "      <th>2008</th>\n",
       "      <th>2009</th>\n",
       "      <th>2010</th>\n",
       "      <th>2011</th>\n",
       "      <th>2012</th>\n",
       "      <th>2013</th>\n",
       "      <th>2014</th>\n",
       "      <th>2015</th>\n",
       "      <th>2016</th>\n",
       "      <th>2017</th>\n",
       "      <th>2018</th>\n",
       "      <th>2019</th>\n",
       "    </tr>\n",
       "  </thead>\n",
       "  <tbody>\n",
       "    <tr>\n",
       "      <th>0</th>\n",
       "      <td>Afghanistan</td>\n",
       "      <td>NaN</td>\n",
       "      <td>NaN</td>\n",
       "      <td>NaN</td>\n",
       "      <td>37.2</td>\n",
       "      <td>44.0</td>\n",
       "      <td>47.6</td>\n",
       "      <td>38.3</td>\n",
       "      <td>37.8</td>\n",
       "      <td>35.7</td>\n",
       "      <td>31.3</td>\n",
       "      <td>39.8</td>\n",
       "      <td>42.2</td>\n",
       "      <td>26.6</td>\n",
       "      <td>26.9</td>\n",
       "      <td>25.7</td>\n",
       "    </tr>\n",
       "    <tr>\n",
       "      <th>1</th>\n",
       "      <td>Angola</td>\n",
       "      <td>NaN</td>\n",
       "      <td>NaN</td>\n",
       "      <td>NaN</td>\n",
       "      <td>NaN</td>\n",
       "      <td>NaN</td>\n",
       "      <td>NaN</td>\n",
       "      <td>55.9</td>\n",
       "      <td>43.6</td>\n",
       "      <td>39.4</td>\n",
       "      <td>37.9</td>\n",
       "      <td>NaN</td>\n",
       "      <td>NaN</td>\n",
       "      <td>NaN</td>\n",
       "      <td>NaN</td>\n",
       "      <td>NaN</td>\n",
       "    </tr>\n",
       "    <tr>\n",
       "      <th>2</th>\n",
       "      <td>Albania</td>\n",
       "      <td>NaN</td>\n",
       "      <td>NaN</td>\n",
       "      <td>46.3</td>\n",
       "      <td>NaN</td>\n",
       "      <td>54.9</td>\n",
       "      <td>52.7</td>\n",
       "      <td>58.7</td>\n",
       "      <td>55.1</td>\n",
       "      <td>45.5</td>\n",
       "      <td>48.1</td>\n",
       "      <td>46.1</td>\n",
       "      <td>45.1</td>\n",
       "      <td>46.4</td>\n",
       "      <td>50.0</td>\n",
       "      <td>48.8</td>\n",
       "    </tr>\n",
       "    <tr>\n",
       "      <th>3</th>\n",
       "      <td>United Arab Emirates</td>\n",
       "      <td>NaN</td>\n",
       "      <td>67.3</td>\n",
       "      <td>NaN</td>\n",
       "      <td>NaN</td>\n",
       "      <td>68.7</td>\n",
       "      <td>71.0</td>\n",
       "      <td>71.2</td>\n",
       "      <td>72.2</td>\n",
       "      <td>66.2</td>\n",
       "      <td>65.4</td>\n",
       "      <td>65.7</td>\n",
       "      <td>68.3</td>\n",
       "      <td>70.4</td>\n",
       "      <td>66.0</td>\n",
       "      <td>67.9</td>\n",
       "    </tr>\n",
       "    <tr>\n",
       "      <th>4</th>\n",
       "      <td>Argentina</td>\n",
       "      <td>NaN</td>\n",
       "      <td>63.1</td>\n",
       "      <td>60.7</td>\n",
       "      <td>59.6</td>\n",
       "      <td>64.2</td>\n",
       "      <td>64.4</td>\n",
       "      <td>67.8</td>\n",
       "      <td>64.7</td>\n",
       "      <td>65.8</td>\n",
       "      <td>66.7</td>\n",
       "      <td>67.0</td>\n",
       "      <td>64.3</td>\n",
       "      <td>60.4</td>\n",
       "      <td>57.9</td>\n",
       "      <td>59.7</td>\n",
       "    </tr>\n",
       "  </tbody>\n",
       "</table>\n",
       "</div>"
      ],
      "text/plain": [
       "                country  2005  2006  2007  2008  2009  2010  2011  2012  2013  \\\n",
       "0           Afghanistan   NaN   NaN   NaN  37.2  44.0  47.6  38.3  37.8  35.7   \n",
       "1                Angola   NaN   NaN   NaN   NaN   NaN   NaN  55.9  43.6  39.4   \n",
       "2               Albania   NaN   NaN  46.3   NaN  54.9  52.7  58.7  55.1  45.5   \n",
       "3  United Arab Emirates   NaN  67.3   NaN   NaN  68.7  71.0  71.2  72.2  66.2   \n",
       "4             Argentina   NaN  63.1  60.7  59.6  64.2  64.4  67.8  64.7  65.8   \n",
       "\n",
       "   2014  2015  2016  2017  2018  2019  \n",
       "0  31.3  39.8  42.2  26.6  26.9  25.7  \n",
       "1  37.9   NaN   NaN   NaN   NaN   NaN  \n",
       "2  48.1  46.1  45.1  46.4  50.0  48.8  \n",
       "3  65.4  65.7  68.3  70.4  66.0  67.9  \n",
       "4  66.7  67.0  64.3  60.4  57.9  59.7  "
      ]
     },
     "execution_count": 29,
     "metadata": {},
     "output_type": "execute_result"
    }
   ],
   "source": [
    "happiness_score.head()"
   ]
  },
  {
   "cell_type": "code",
   "execution_count": 30,
   "id": "8ae9d034",
   "metadata": {},
   "outputs": [
    {
     "data": {
      "text/html": [
       "<div>\n",
       "<style scoped>\n",
       "    .dataframe tbody tr th:only-of-type {\n",
       "        vertical-align: middle;\n",
       "    }\n",
       "\n",
       "    .dataframe tbody tr th {\n",
       "        vertical-align: top;\n",
       "    }\n",
       "\n",
       "    .dataframe thead th {\n",
       "        text-align: right;\n",
       "    }\n",
       "</style>\n",
       "<table border=\"1\" class=\"dataframe\">\n",
       "  <thead>\n",
       "    <tr style=\"text-align: right;\">\n",
       "      <th></th>\n",
       "      <th>country</th>\n",
       "      <th>2006</th>\n",
       "      <th>2007</th>\n",
       "      <th>2008</th>\n",
       "      <th>2009</th>\n",
       "      <th>2010</th>\n",
       "      <th>2011</th>\n",
       "      <th>2012</th>\n",
       "      <th>2013</th>\n",
       "      <th>2014</th>\n",
       "      <th>2015</th>\n",
       "      <th>2016</th>\n",
       "      <th>2017</th>\n",
       "      <th>2018</th>\n",
       "      <th>2019</th>\n",
       "      <th>2020</th>\n",
       "    </tr>\n",
       "  </thead>\n",
       "  <tbody>\n",
       "    <tr>\n",
       "      <th>0</th>\n",
       "      <td>Afghanistan</td>\n",
       "      <td>0.0</td>\n",
       "      <td>3.95</td>\n",
       "      <td>7.9</td>\n",
       "      <td>7.9</td>\n",
       "      <td>7.9</td>\n",
       "      <td>7.9</td>\n",
       "      <td>7.9</td>\n",
       "      <td>7.9</td>\n",
       "      <td>11.4</td>\n",
       "      <td>11.4</td>\n",
       "      <td>11.4</td>\n",
       "      <td>11.4</td>\n",
       "      <td>11.4</td>\n",
       "      <td>6.4</td>\n",
       "      <td>6.4</td>\n",
       "    </tr>\n",
       "    <tr>\n",
       "      <th>1</th>\n",
       "      <td>Angola</td>\n",
       "      <td>21.4</td>\n",
       "      <td>26.80</td>\n",
       "      <td>32.1</td>\n",
       "      <td>32.1</td>\n",
       "      <td>32.1</td>\n",
       "      <td>32.1</td>\n",
       "      <td>32.1</td>\n",
       "      <td>32.1</td>\n",
       "      <td>32.1</td>\n",
       "      <td>32.1</td>\n",
       "      <td>32.1</td>\n",
       "      <td>28.6</td>\n",
       "      <td>28.6</td>\n",
       "      <td>28.6</td>\n",
       "      <td>28.6</td>\n",
       "    </tr>\n",
       "    <tr>\n",
       "      <th>2</th>\n",
       "      <td>Albania</td>\n",
       "      <td>50.7</td>\n",
       "      <td>50.70</td>\n",
       "      <td>50.7</td>\n",
       "      <td>50.7</td>\n",
       "      <td>50.7</td>\n",
       "      <td>47.1</td>\n",
       "      <td>40.0</td>\n",
       "      <td>40.0</td>\n",
       "      <td>40.0</td>\n",
       "      <td>43.6</td>\n",
       "      <td>43.6</td>\n",
       "      <td>47.1</td>\n",
       "      <td>47.1</td>\n",
       "      <td>53.6</td>\n",
       "      <td>53.6</td>\n",
       "    </tr>\n",
       "    <tr>\n",
       "      <th>3</th>\n",
       "      <td>United Arab Emirates</td>\n",
       "      <td>30.7</td>\n",
       "      <td>35.00</td>\n",
       "      <td>39.3</td>\n",
       "      <td>37.5</td>\n",
       "      <td>35.7</td>\n",
       "      <td>35.7</td>\n",
       "      <td>35.7</td>\n",
       "      <td>35.7</td>\n",
       "      <td>35.7</td>\n",
       "      <td>35.7</td>\n",
       "      <td>35.7</td>\n",
       "      <td>35.7</td>\n",
       "      <td>39.3</td>\n",
       "      <td>39.3</td>\n",
       "      <td>39.3</td>\n",
       "    </tr>\n",
       "    <tr>\n",
       "      <th>4</th>\n",
       "      <td>Argentina</td>\n",
       "      <td>50.0</td>\n",
       "      <td>50.00</td>\n",
       "      <td>50.0</td>\n",
       "      <td>53.5</td>\n",
       "      <td>57.1</td>\n",
       "      <td>57.1</td>\n",
       "      <td>57.1</td>\n",
       "      <td>57.1</td>\n",
       "      <td>57.1</td>\n",
       "      <td>50.0</td>\n",
       "      <td>50.0</td>\n",
       "      <td>50.0</td>\n",
       "      <td>53.6</td>\n",
       "      <td>53.6</td>\n",
       "      <td>53.6</td>\n",
       "    </tr>\n",
       "  </tbody>\n",
       "</table>\n",
       "</div>"
      ],
      "text/plain": [
       "                country  2006   2007  2008  2009  2010  2011  2012  2013  \\\n",
       "0           Afghanistan   0.0   3.95   7.9   7.9   7.9   7.9   7.9   7.9   \n",
       "1                Angola  21.4  26.80  32.1  32.1  32.1  32.1  32.1  32.1   \n",
       "2               Albania  50.7  50.70  50.7  50.7  50.7  47.1  40.0  40.0   \n",
       "3  United Arab Emirates  30.7  35.00  39.3  37.5  35.7  35.7  35.7  35.7   \n",
       "4             Argentina  50.0  50.00  50.0  53.5  57.1  57.1  57.1  57.1   \n",
       "\n",
       "   2014  2015  2016  2017  2018  2019  2020  \n",
       "0  11.4  11.4  11.4  11.4  11.4   6.4   6.4  \n",
       "1  32.1  32.1  32.1  28.6  28.6  28.6  28.6  \n",
       "2  40.0  43.6  43.6  47.1  47.1  53.6  53.6  \n",
       "3  35.7  35.7  35.7  35.7  39.3  39.3  39.3  \n",
       "4  57.1  50.0  50.0  50.0  53.6  53.6  53.6  "
      ]
     },
     "execution_count": 30,
     "metadata": {},
     "output_type": "execute_result"
    }
   ],
   "source": [
    "funct_govt.head()"
   ]
  },
  {
   "cell_type": "code",
   "execution_count": 31,
   "id": "5402bdf8",
   "metadata": {},
   "outputs": [
    {
     "data": {
      "text/html": [
       "<div>\n",
       "<style scoped>\n",
       "    .dataframe tbody tr th:only-of-type {\n",
       "        vertical-align: middle;\n",
       "    }\n",
       "\n",
       "    .dataframe tbody tr th {\n",
       "        vertical-align: top;\n",
       "    }\n",
       "\n",
       "    .dataframe thead th {\n",
       "        text-align: right;\n",
       "    }\n",
       "</style>\n",
       "<table border=\"1\" class=\"dataframe\">\n",
       "  <thead>\n",
       "    <tr style=\"text-align: right;\">\n",
       "      <th></th>\n",
       "      <th>country</th>\n",
       "      <th>2006</th>\n",
       "      <th>2007</th>\n",
       "      <th>2008</th>\n",
       "      <th>2009</th>\n",
       "      <th>2010</th>\n",
       "      <th>2011</th>\n",
       "      <th>2012</th>\n",
       "      <th>2013</th>\n",
       "      <th>2014</th>\n",
       "      <th>2015</th>\n",
       "      <th>2016</th>\n",
       "      <th>2017</th>\n",
       "      <th>2018</th>\n",
       "      <th>2019</th>\n",
       "      <th>2020</th>\n",
       "    </tr>\n",
       "  </thead>\n",
       "  <tbody>\n",
       "    <tr>\n",
       "      <th>0</th>\n",
       "      <td>Afghanistan</td>\n",
       "      <td>30.6</td>\n",
       "      <td>30.4</td>\n",
       "      <td>30.2</td>\n",
       "      <td>27.5</td>\n",
       "      <td>24.8</td>\n",
       "      <td>24.8</td>\n",
       "      <td>24.8</td>\n",
       "      <td>24.8</td>\n",
       "      <td>27.7</td>\n",
       "      <td>27.7</td>\n",
       "      <td>25.5</td>\n",
       "      <td>25.5</td>\n",
       "      <td>29.7</td>\n",
       "      <td>28.5</td>\n",
       "      <td>28.5</td>\n",
       "    </tr>\n",
       "    <tr>\n",
       "      <th>1</th>\n",
       "      <td>Angola</td>\n",
       "      <td>24.1</td>\n",
       "      <td>28.8</td>\n",
       "      <td>33.5</td>\n",
       "      <td>33.4</td>\n",
       "      <td>33.2</td>\n",
       "      <td>33.2</td>\n",
       "      <td>33.5</td>\n",
       "      <td>33.5</td>\n",
       "      <td>33.5</td>\n",
       "      <td>33.5</td>\n",
       "      <td>34.0</td>\n",
       "      <td>36.2</td>\n",
       "      <td>36.2</td>\n",
       "      <td>37.2</td>\n",
       "      <td>36.6</td>\n",
       "    </tr>\n",
       "    <tr>\n",
       "      <th>2</th>\n",
       "      <td>Albania</td>\n",
       "      <td>59.1</td>\n",
       "      <td>59.1</td>\n",
       "      <td>59.1</td>\n",
       "      <td>58.9</td>\n",
       "      <td>58.6</td>\n",
       "      <td>58.1</td>\n",
       "      <td>56.7</td>\n",
       "      <td>56.7</td>\n",
       "      <td>56.7</td>\n",
       "      <td>59.1</td>\n",
       "      <td>59.1</td>\n",
       "      <td>59.8</td>\n",
       "      <td>59.8</td>\n",
       "      <td>58.9</td>\n",
       "      <td>60.8</td>\n",
       "    </tr>\n",
       "    <tr>\n",
       "      <th>3</th>\n",
       "      <td>United Arab Emirates</td>\n",
       "      <td>24.2</td>\n",
       "      <td>25.1</td>\n",
       "      <td>26.0</td>\n",
       "      <td>25.6</td>\n",
       "      <td>25.2</td>\n",
       "      <td>25.8</td>\n",
       "      <td>25.8</td>\n",
       "      <td>25.2</td>\n",
       "      <td>26.4</td>\n",
       "      <td>27.5</td>\n",
       "      <td>27.5</td>\n",
       "      <td>26.9</td>\n",
       "      <td>27.6</td>\n",
       "      <td>27.6</td>\n",
       "      <td>27.0</td>\n",
       "    </tr>\n",
       "    <tr>\n",
       "      <th>4</th>\n",
       "      <td>Argentina</td>\n",
       "      <td>66.3</td>\n",
       "      <td>66.3</td>\n",
       "      <td>66.3</td>\n",
       "      <td>67.3</td>\n",
       "      <td>68.4</td>\n",
       "      <td>68.4</td>\n",
       "      <td>68.4</td>\n",
       "      <td>68.4</td>\n",
       "      <td>68.4</td>\n",
       "      <td>70.2</td>\n",
       "      <td>69.6</td>\n",
       "      <td>69.6</td>\n",
       "      <td>70.2</td>\n",
       "      <td>70.2</td>\n",
       "      <td>69.5</td>\n",
       "    </tr>\n",
       "  </tbody>\n",
       "</table>\n",
       "</div>"
      ],
      "text/plain": [
       "                country  2006  2007  2008  2009  2010  2011  2012  2013  2014  \\\n",
       "0           Afghanistan  30.6  30.4  30.2  27.5  24.8  24.8  24.8  24.8  27.7   \n",
       "1                Angola  24.1  28.8  33.5  33.4  33.2  33.2  33.5  33.5  33.5   \n",
       "2               Albania  59.1  59.1  59.1  58.9  58.6  58.1  56.7  56.7  56.7   \n",
       "3  United Arab Emirates  24.2  25.1  26.0  25.6  25.2  25.8  25.8  25.2  26.4   \n",
       "4             Argentina  66.3  66.3  66.3  67.3  68.4  68.4  68.4  68.4  68.4   \n",
       "\n",
       "   2015  2016  2017  2018  2019  2020  \n",
       "0  27.7  25.5  25.5  29.7  28.5  28.5  \n",
       "1  33.5  34.0  36.2  36.2  37.2  36.6  \n",
       "2  59.1  59.1  59.8  59.8  58.9  60.8  \n",
       "3  27.5  27.5  26.9  27.6  27.6  27.0  \n",
       "4  70.2  69.6  69.6  70.2  70.2  69.5  "
      ]
     },
     "execution_count": 31,
     "metadata": {},
     "output_type": "execute_result"
    }
   ],
   "source": [
    "democracy.head()"
   ]
  },
  {
   "cell_type": "code",
   "execution_count": 32,
   "id": "e086d199",
   "metadata": {},
   "outputs": [
    {
     "data": {
      "text/html": [
       "<div>\n",
       "<style scoped>\n",
       "    .dataframe tbody tr th:only-of-type {\n",
       "        vertical-align: middle;\n",
       "    }\n",
       "\n",
       "    .dataframe tbody tr th {\n",
       "        vertical-align: top;\n",
       "    }\n",
       "\n",
       "    .dataframe thead th {\n",
       "        text-align: right;\n",
       "    }\n",
       "</style>\n",
       "<table border=\"1\" class=\"dataframe\">\n",
       "  <thead>\n",
       "    <tr style=\"text-align: right;\">\n",
       "      <th></th>\n",
       "      <th>country</th>\n",
       "      <th>1945</th>\n",
       "      <th>1946</th>\n",
       "      <th>1947</th>\n",
       "      <th>1948</th>\n",
       "      <th>1949</th>\n",
       "      <th>1950</th>\n",
       "      <th>1951</th>\n",
       "      <th>1952</th>\n",
       "      <th>1953</th>\n",
       "      <th>...</th>\n",
       "      <th>2011</th>\n",
       "      <th>2012</th>\n",
       "      <th>2013</th>\n",
       "      <th>2014</th>\n",
       "      <th>2015</th>\n",
       "      <th>2016</th>\n",
       "      <th>2017</th>\n",
       "      <th>2018</th>\n",
       "      <th>2019</th>\n",
       "      <th>2020</th>\n",
       "    </tr>\n",
       "  </thead>\n",
       "  <tbody>\n",
       "    <tr>\n",
       "      <th>0</th>\n",
       "      <td>Afghanistan</td>\n",
       "      <td>NaN</td>\n",
       "      <td>NaN</td>\n",
       "      <td>NaN</td>\n",
       "      <td>NaN</td>\n",
       "      <td>NaN</td>\n",
       "      <td>NaN</td>\n",
       "      <td>NaN</td>\n",
       "      <td>NaN</td>\n",
       "      <td>NaN</td>\n",
       "      <td>...</td>\n",
       "      <td>27.4</td>\n",
       "      <td>27.4</td>\n",
       "      <td>27.4</td>\n",
       "      <td>27.4</td>\n",
       "      <td>27.4</td>\n",
       "      <td>27.7</td>\n",
       "      <td>27.8</td>\n",
       "      <td>27.9</td>\n",
       "      <td>27.2</td>\n",
       "      <td>27.2</td>\n",
       "    </tr>\n",
       "    <tr>\n",
       "      <th>1</th>\n",
       "      <td>Angola</td>\n",
       "      <td>NaN</td>\n",
       "      <td>NaN</td>\n",
       "      <td>NaN</td>\n",
       "      <td>NaN</td>\n",
       "      <td>NaN</td>\n",
       "      <td>NaN</td>\n",
       "      <td>NaN</td>\n",
       "      <td>NaN</td>\n",
       "      <td>NaN</td>\n",
       "      <td>...</td>\n",
       "      <td>34.9</td>\n",
       "      <td>34.1</td>\n",
       "      <td>33.5</td>\n",
       "      <td>32.8</td>\n",
       "      <td>32.2</td>\n",
       "      <td>31.6</td>\n",
       "      <td>30.9</td>\n",
       "      <td>30.4</td>\n",
       "      <td>30.0</td>\n",
       "      <td>30.0</td>\n",
       "    </tr>\n",
       "    <tr>\n",
       "      <th>2</th>\n",
       "      <td>Albania</td>\n",
       "      <td>3.66</td>\n",
       "      <td>6.46</td>\n",
       "      <td>8.81</td>\n",
       "      <td>10.8</td>\n",
       "      <td>12.5</td>\n",
       "      <td>14.1</td>\n",
       "      <td>13.5</td>\n",
       "      <td>12.9</td>\n",
       "      <td>12.4</td>\n",
       "      <td>...</td>\n",
       "      <td>16.1</td>\n",
       "      <td>15.9</td>\n",
       "      <td>15.7</td>\n",
       "      <td>18.8</td>\n",
       "      <td>21.8</td>\n",
       "      <td>24.8</td>\n",
       "      <td>27.9</td>\n",
       "      <td>28.6</td>\n",
       "      <td>29.5</td>\n",
       "      <td>29.5</td>\n",
       "    </tr>\n",
       "    <tr>\n",
       "      <th>3</th>\n",
       "      <td>Andorra</td>\n",
       "      <td>NaN</td>\n",
       "      <td>NaN</td>\n",
       "      <td>NaN</td>\n",
       "      <td>NaN</td>\n",
       "      <td>NaN</td>\n",
       "      <td>NaN</td>\n",
       "      <td>NaN</td>\n",
       "      <td>NaN</td>\n",
       "      <td>NaN</td>\n",
       "      <td>...</td>\n",
       "      <td>51.8</td>\n",
       "      <td>50.0</td>\n",
       "      <td>47.6</td>\n",
       "      <td>44.3</td>\n",
       "      <td>39.3</td>\n",
       "      <td>41.1</td>\n",
       "      <td>42.9</td>\n",
       "      <td>44.6</td>\n",
       "      <td>46.4</td>\n",
       "      <td>46.4</td>\n",
       "    </tr>\n",
       "    <tr>\n",
       "      <th>4</th>\n",
       "      <td>United Arab Emirates</td>\n",
       "      <td>NaN</td>\n",
       "      <td>NaN</td>\n",
       "      <td>NaN</td>\n",
       "      <td>NaN</td>\n",
       "      <td>NaN</td>\n",
       "      <td>NaN</td>\n",
       "      <td>NaN</td>\n",
       "      <td>NaN</td>\n",
       "      <td>NaN</td>\n",
       "      <td>...</td>\n",
       "      <td>5.0</td>\n",
       "      <td>17.5</td>\n",
       "      <td>19.2</td>\n",
       "      <td>20.8</td>\n",
       "      <td>22.5</td>\n",
       "      <td>29.4</td>\n",
       "      <td>36.3</td>\n",
       "      <td>43.1</td>\n",
       "      <td>50.0</td>\n",
       "      <td>50.0</td>\n",
       "    </tr>\n",
       "  </tbody>\n",
       "</table>\n",
       "<p>5 rows × 77 columns</p>\n",
       "</div>"
      ],
      "text/plain": [
       "                country  1945  1946  1947  1948  1949  1950  1951  1952  1953  \\\n",
       "0           Afghanistan   NaN   NaN   NaN   NaN   NaN   NaN   NaN   NaN   NaN   \n",
       "1                Angola   NaN   NaN   NaN   NaN   NaN   NaN   NaN   NaN   NaN   \n",
       "2               Albania  3.66  6.46  8.81  10.8  12.5  14.1  13.5  12.9  12.4   \n",
       "3               Andorra   NaN   NaN   NaN   NaN   NaN   NaN   NaN   NaN   NaN   \n",
       "4  United Arab Emirates   NaN   NaN   NaN   NaN   NaN   NaN   NaN   NaN   NaN   \n",
       "\n",
       "   ...  2011  2012  2013  2014  2015  2016  2017  2018  2019  2020  \n",
       "0  ...  27.4  27.4  27.4  27.4  27.4  27.7  27.8  27.9  27.2  27.2  \n",
       "1  ...  34.9  34.1  33.5  32.8  32.2  31.6  30.9  30.4  30.0  30.0  \n",
       "2  ...  16.1  15.9  15.7  18.8  21.8  24.8  27.9  28.6  29.5  29.5  \n",
       "3  ...  51.8  50.0  47.6  44.3  39.3  41.1  42.9  44.6  46.4  46.4  \n",
       "4  ...   5.0  17.5  19.2  20.8  22.5  29.4  36.3  43.1  50.0  50.0  \n",
       "\n",
       "[5 rows x 77 columns]"
      ]
     },
     "execution_count": 32,
     "metadata": {},
     "output_type": "execute_result"
    }
   ],
   "source": [
    "women_parliament.head()"
   ]
  },
  {
   "cell_type": "code",
   "execution_count": 33,
   "id": "3a11b8b2",
   "metadata": {},
   "outputs": [
    {
     "data": {
      "text/html": [
       "<div>\n",
       "<style scoped>\n",
       "    .dataframe tbody tr th:only-of-type {\n",
       "        vertical-align: middle;\n",
       "    }\n",
       "\n",
       "    .dataframe tbody tr th {\n",
       "        vertical-align: top;\n",
       "    }\n",
       "\n",
       "    .dataframe thead th {\n",
       "        text-align: right;\n",
       "    }\n",
       "</style>\n",
       "<table border=\"1\" class=\"dataframe\">\n",
       "  <thead>\n",
       "    <tr style=\"text-align: right;\">\n",
       "      <th></th>\n",
       "      <th>Country Name</th>\n",
       "      <th>Country Code</th>\n",
       "      <th>1960</th>\n",
       "      <th>1961</th>\n",
       "      <th>1962</th>\n",
       "      <th>1963</th>\n",
       "      <th>1964</th>\n",
       "      <th>1965</th>\n",
       "      <th>1966</th>\n",
       "      <th>1967</th>\n",
       "      <th>...</th>\n",
       "      <th>2011</th>\n",
       "      <th>2012</th>\n",
       "      <th>2013</th>\n",
       "      <th>2014</th>\n",
       "      <th>2015</th>\n",
       "      <th>2016</th>\n",
       "      <th>2017</th>\n",
       "      <th>2018</th>\n",
       "      <th>2019</th>\n",
       "      <th>2020</th>\n",
       "    </tr>\n",
       "  </thead>\n",
       "  <tbody>\n",
       "    <tr>\n",
       "      <th>0</th>\n",
       "      <td>Aruba</td>\n",
       "      <td>ABW</td>\n",
       "      <td>54208.0</td>\n",
       "      <td>55434.0</td>\n",
       "      <td>56234.0</td>\n",
       "      <td>56699.0</td>\n",
       "      <td>57029.0</td>\n",
       "      <td>57357.0</td>\n",
       "      <td>57702.0</td>\n",
       "      <td>58044.0</td>\n",
       "      <td>...</td>\n",
       "      <td>102050.0</td>\n",
       "      <td>102565.0</td>\n",
       "      <td>103165.0</td>\n",
       "      <td>103776.0</td>\n",
       "      <td>104339.0</td>\n",
       "      <td>104865.0</td>\n",
       "      <td>105361.0</td>\n",
       "      <td>105846.0</td>\n",
       "      <td>106310.0</td>\n",
       "      <td>106766.0</td>\n",
       "    </tr>\n",
       "    <tr>\n",
       "      <th>1</th>\n",
       "      <td>Africa Eastern and Southern</td>\n",
       "      <td>AFE</td>\n",
       "      <td>130836765.0</td>\n",
       "      <td>134159786.0</td>\n",
       "      <td>137614644.0</td>\n",
       "      <td>141202036.0</td>\n",
       "      <td>144920186.0</td>\n",
       "      <td>148769974.0</td>\n",
       "      <td>152752671.0</td>\n",
       "      <td>156876454.0</td>\n",
       "      <td>...</td>\n",
       "      <td>532760424.0</td>\n",
       "      <td>547482863.0</td>\n",
       "      <td>562601578.0</td>\n",
       "      <td>578075373.0</td>\n",
       "      <td>593871847.0</td>\n",
       "      <td>609978946.0</td>\n",
       "      <td>626392880.0</td>\n",
       "      <td>643090131.0</td>\n",
       "      <td>660046272.0</td>\n",
       "      <td>677243299.0</td>\n",
       "    </tr>\n",
       "    <tr>\n",
       "      <th>2</th>\n",
       "      <td>Afghanistan</td>\n",
       "      <td>AFG</td>\n",
       "      <td>8996967.0</td>\n",
       "      <td>9169406.0</td>\n",
       "      <td>9351442.0</td>\n",
       "      <td>9543200.0</td>\n",
       "      <td>9744772.0</td>\n",
       "      <td>9956318.0</td>\n",
       "      <td>10174840.0</td>\n",
       "      <td>10399936.0</td>\n",
       "      <td>...</td>\n",
       "      <td>30117411.0</td>\n",
       "      <td>31161378.0</td>\n",
       "      <td>32269592.0</td>\n",
       "      <td>33370804.0</td>\n",
       "      <td>34413603.0</td>\n",
       "      <td>35383028.0</td>\n",
       "      <td>36296111.0</td>\n",
       "      <td>37171922.0</td>\n",
       "      <td>38041757.0</td>\n",
       "      <td>38928341.0</td>\n",
       "    </tr>\n",
       "    <tr>\n",
       "      <th>3</th>\n",
       "      <td>Africa Western and Central</td>\n",
       "      <td>AFW</td>\n",
       "      <td>96396419.0</td>\n",
       "      <td>98407221.0</td>\n",
       "      <td>100506960.0</td>\n",
       "      <td>102691339.0</td>\n",
       "      <td>104953470.0</td>\n",
       "      <td>107289875.0</td>\n",
       "      <td>109701811.0</td>\n",
       "      <td>112195950.0</td>\n",
       "      <td>...</td>\n",
       "      <td>360285439.0</td>\n",
       "      <td>370243017.0</td>\n",
       "      <td>380437896.0</td>\n",
       "      <td>390882979.0</td>\n",
       "      <td>401586651.0</td>\n",
       "      <td>412551299.0</td>\n",
       "      <td>423769930.0</td>\n",
       "      <td>435229381.0</td>\n",
       "      <td>446911598.0</td>\n",
       "      <td>458803476.0</td>\n",
       "    </tr>\n",
       "    <tr>\n",
       "      <th>4</th>\n",
       "      <td>Angola</td>\n",
       "      <td>AGO</td>\n",
       "      <td>5454938.0</td>\n",
       "      <td>5531451.0</td>\n",
       "      <td>5608499.0</td>\n",
       "      <td>5679409.0</td>\n",
       "      <td>5734995.0</td>\n",
       "      <td>5770573.0</td>\n",
       "      <td>5781305.0</td>\n",
       "      <td>5774440.0</td>\n",
       "      <td>...</td>\n",
       "      <td>24220660.0</td>\n",
       "      <td>25107925.0</td>\n",
       "      <td>26015786.0</td>\n",
       "      <td>26941773.0</td>\n",
       "      <td>27884380.0</td>\n",
       "      <td>28842482.0</td>\n",
       "      <td>29816769.0</td>\n",
       "      <td>30809787.0</td>\n",
       "      <td>31825299.0</td>\n",
       "      <td>32866268.0</td>\n",
       "    </tr>\n",
       "  </tbody>\n",
       "</table>\n",
       "<p>5 rows × 63 columns</p>\n",
       "</div>"
      ],
      "text/plain": [
       "                  Country Name Country Code         1960         1961  \\\n",
       "0                        Aruba          ABW      54208.0      55434.0   \n",
       "1  Africa Eastern and Southern          AFE  130836765.0  134159786.0   \n",
       "2                  Afghanistan          AFG    8996967.0    9169406.0   \n",
       "3   Africa Western and Central          AFW   96396419.0   98407221.0   \n",
       "4                       Angola          AGO    5454938.0    5531451.0   \n",
       "\n",
       "          1962         1963         1964         1965         1966  \\\n",
       "0      56234.0      56699.0      57029.0      57357.0      57702.0   \n",
       "1  137614644.0  141202036.0  144920186.0  148769974.0  152752671.0   \n",
       "2    9351442.0    9543200.0    9744772.0    9956318.0   10174840.0   \n",
       "3  100506960.0  102691339.0  104953470.0  107289875.0  109701811.0   \n",
       "4    5608499.0    5679409.0    5734995.0    5770573.0    5781305.0   \n",
       "\n",
       "          1967  ...         2011         2012         2013         2014  \\\n",
       "0      58044.0  ...     102050.0     102565.0     103165.0     103776.0   \n",
       "1  156876454.0  ...  532760424.0  547482863.0  562601578.0  578075373.0   \n",
       "2   10399936.0  ...   30117411.0   31161378.0   32269592.0   33370804.0   \n",
       "3  112195950.0  ...  360285439.0  370243017.0  380437896.0  390882979.0   \n",
       "4    5774440.0  ...   24220660.0   25107925.0   26015786.0   26941773.0   \n",
       "\n",
       "          2015         2016         2017         2018         2019  \\\n",
       "0     104339.0     104865.0     105361.0     105846.0     106310.0   \n",
       "1  593871847.0  609978946.0  626392880.0  643090131.0  660046272.0   \n",
       "2   34413603.0   35383028.0   36296111.0   37171922.0   38041757.0   \n",
       "3  401586651.0  412551299.0  423769930.0  435229381.0  446911598.0   \n",
       "4   27884380.0   28842482.0   29816769.0   30809787.0   31825299.0   \n",
       "\n",
       "          2020  \n",
       "0     106766.0  \n",
       "1  677243299.0  \n",
       "2   38928341.0  \n",
       "3  458803476.0  \n",
       "4   32866268.0  \n",
       "\n",
       "[5 rows x 63 columns]"
      ]
     },
     "execution_count": 33,
     "metadata": {},
     "output_type": "execute_result"
    }
   ],
   "source": [
    "population.head()"
   ]
  },
  {
   "cell_type": "code",
   "execution_count": null,
   "id": "a04a6e0e",
   "metadata": {},
   "outputs": [],
   "source": [
    "#Clean and process the datasets"
   ]
  },
  {
   "cell_type": "code",
   "execution_count": 37,
   "id": "0b62941f",
   "metadata": {},
   "outputs": [
    {
     "name": "stdout",
     "output_type": "stream",
     "text": [
      "Index(['Country Name', 'Country Code', '1960', '1961', '1962', '1963', '1964',\n",
      "       '1965', '1966', '1967', '1968', '1969', '1970', '1971', '1972', '1973',\n",
      "       '1974', '1975', '1976', '1977', '1978', '1979', '1980', '1981', '1982',\n",
      "       '1983', '1984', '1985', '1986', '1987', '1988', '1989', '1990', '1991',\n",
      "       '1992', '1993', '1994', '1995', '1996', '1997', '1998', '1999', '2000',\n",
      "       '2001', '2002', '2003', '2004', '2005', '2006', '2007', '2008', '2009',\n",
      "       '2010', '2011', '2012', '2013', '2014', '2015', '2016', '2017', '2018',\n",
      "       '2019', '2020'],\n",
      "      dtype='object')\n"
     ]
    }
   ],
   "source": [
    "print(population.columns)"
   ]
  },
  {
   "cell_type": "code",
   "execution_count": 38,
   "id": "71561f2b",
   "metadata": {},
   "outputs": [
    {
     "name": "stdout",
     "output_type": "stream",
     "text": [
      "Index(['country', '1945', '1946', '1947', '1948', '1949', '1950', '1951',\n",
      "       '1952', '1953', '1954', '1955', '1956', '1957', '1958', '1959', '1960',\n",
      "       '1961', '1962', '1963', '1964', '1965', '1966', '1967', '1968', '1969',\n",
      "       '1970', '1971', '1972', '1973', '1974', '1975', '1976', '1977', '1978',\n",
      "       '1979', '1980', '1981', '1982', '1983', '1984', '1985', '1986', '1987',\n",
      "       '1988', '1989', '1990', '1991', '1992', '1993', '1994', '1995', '1996',\n",
      "       '1997', '1998', '1999', '2000', '2001', '2002', '2003', '2004', '2005',\n",
      "       '2006', '2007', '2008', '2009', '2010', '2011', '2012', '2013', '2014',\n",
      "       '2015', '2016', '2017', '2018', '2019', '2020'],\n",
      "      dtype='object')\n"
     ]
    }
   ],
   "source": [
    "print(women_parliament.columns)"
   ]
  },
  {
   "cell_type": "code",
   "execution_count": 39,
   "id": "f28e99da",
   "metadata": {},
   "outputs": [
    {
     "name": "stdout",
     "output_type": "stream",
     "text": [
      "Index(['country', '2006', '2007', '2008', '2009', '2010', '2011', '2012',\n",
      "       '2013', '2014', '2015', '2016', '2017', '2018', '2019', '2020'],\n",
      "      dtype='object')\n"
     ]
    }
   ],
   "source": [
    "print(funct_govt.columns)"
   ]
  },
  {
   "cell_type": "code",
   "execution_count": 40,
   "id": "01958316",
   "metadata": {},
   "outputs": [
    {
     "name": "stdout",
     "output_type": "stream",
     "text": [
      "Index(['country', '2006', '2007', '2008', '2009', '2010', '2011', '2012',\n",
      "       '2013', '2014', '2015', '2016', '2017', '2018', '2019', '2020'],\n",
      "      dtype='object')\n"
     ]
    }
   ],
   "source": [
    "print(democracy.columns)"
   ]
  },
  {
   "cell_type": "code",
   "execution_count": 41,
   "id": "32db037e",
   "metadata": {},
   "outputs": [
    {
     "name": "stdout",
     "output_type": "stream",
     "text": [
      "Index(['country', '2005', '2006', '2007', '2008', '2009', '2010', '2011',\n",
      "       '2012', '2013', '2014', '2015', '2016', '2017', '2018', '2019'],\n",
      "      dtype='object')\n"
     ]
    }
   ],
   "source": [
    "print(happiness_score.columns)"
   ]
  },
  {
   "cell_type": "code",
   "execution_count": 42,
   "id": "7c8270d0",
   "metadata": {},
   "outputs": [
    {
     "name": "stdout",
     "output_type": "stream",
     "text": [
      "Index(['continent', 'country'], dtype='object')\n"
     ]
    }
   ],
   "source": [
    "print(continents.columns)"
   ]
  },
  {
   "cell_type": "code",
   "execution_count": 43,
   "id": "0b21f315",
   "metadata": {},
   "outputs": [
    {
     "name": "stdout",
     "output_type": "stream",
     "text": [
      "Index(['country;1800;1801;1802;1803;1804;1805;1806;1807;1808;1809;1810;1811;1812;1813;1814;1815;1816;1817;1818;1819;1820;1821;1822;1823;1824;1825;1826;1827;1828;1829;1830;1831;1832;1833;1834;1835;1836;1837;1838;1839;1840;1841;1842;1843;1844;1845;1846;1847;1848;1849;1850;1851;1852;1853;1854;1855;1856;1857;1858;1859;1860;1861;1862;1863;1864;1865;1866;1867;1868;1869;1870;1871;1872;1873;1874;1875;1876;1877;1878;1879;1880;1881;1882;1883;1884;1885;1886;1887;1888;1889;1890;1891;1892;1893;1894;1895;1896;1897;1898;1899;1900;1901;1902;1903;1904;1905;1906;1907;1908;1909;1910;1911;1912;1913;1914;1915;1916;1917;1918;1919;1920;1921;1922;1923;1924;1925;1926;1927;1928;1929;1930;1931;1932;1933;1934;1935;1936;1937;1938;1939;1940;1941;1942;1943;1944;1945;1946;1947;1948;1949;1950;1951;1952;1953;1954;1955;1956;1957;1958;1959;1960;1961;1962;1963;1964;1965;1966;1967;1968;1969;1970;1971;1972;1973;1974;1975;1976;1977;1978;1979;1980;1981;1982;1983;1984;1985;1986;1987;1988;1989;1990;1991;1992;1993;1994;1995;1996;1997;1998;1999;2000;2001;2002;2003;2004;2005;2006;2007;2008;2009;2010;2011;2012;2013;2014;2015;2016;2017;2018;2019;2020;2021', 'Unnamed: 1'], dtype='object')\n"
     ]
    }
   ],
   "source": [
    "print(avg_income.columns)"
   ]
  },
  {
   "cell_type": "code",
   "execution_count": 44,
   "id": "bdfb932d",
   "metadata": {},
   "outputs": [
    {
     "name": "stdout",
     "output_type": "stream",
     "text": [
      "Index(['country;1800;1801;1802;1803;1804;1805;1806;1807;1808;1809;1810;1811;1812;1813;1814;1815;1816;1817;1818;1819;1820;1821;1822;1823;1824;1825;1826;1827;1828;1829;1830;1831;1832;1833;1834;1835;1836;1837;1838;1839;1840;1841;1842;1843;1844;1845;1846;1847;1848;1849;1850;1851;1852;1853;1854;1855;1856;1857;1858;1859;1860;1861;1862;1863;1864;1865;1866;1867;1868;1869;1870;1871;1872;1873;1874;1875;1876;1877;1878;1879;1880;1881;1882;1883;1884;1885;1886;1887;1888;1889;1890;1891;1892;1893;1894;1895;1896;1897;1898;1899;1900;1901;1902;1903;1904;1905;1906;1907;1908;1909;1910;1911;1912;1913;1914;1915;1916;1917;1918;1919;1920;1921;1922;1923;1924;1925;1926;1927;1928;1929;1930;1931;1932;1933;1934;1935;1936;1937;1938;1939;1940;1941;1942;1943;1944;1945;1946;1947;1948;1949;1950;1951;1952;1953;1954;1955;1956;1957;1958;1959;1960;1961;1962;1963;1964;1965;1966;1967;1968;1969;1970;1971;1972;1973;1974;1975;1976;1977;1978;1979;1980;1981;1982;1983;1984;1985;1986;1987;1988;1989;1990;1991;1992;1993;1994;1995;1996;1997;1998;1999;2000;2001;2002;2003;2004;2005;2006;2007;2008;2009;2010;2011;2012;2013;2014;2015;2016;2017;2018;2019;2020;2021', 'Unnamed: 1'], dtype='object')\n"
     ]
    }
   ],
   "source": [
    "print(income_ineql.columns)"
   ]
  },
  {
   "cell_type": "code",
   "execution_count": 45,
   "id": "22d7cb65",
   "metadata": {},
   "outputs": [
    {
     "name": "stdout",
     "output_type": "stream",
     "text": [
      "Missing values in population: 103\n"
     ]
    }
   ],
   "source": [
    "print(\"Missing values in population:\",population.isnull().sum().sum())"
   ]
  },
  {
   "cell_type": "code",
   "execution_count": 46,
   "id": "ef85d6b6",
   "metadata": {},
   "outputs": [
    {
     "name": "stdout",
     "output_type": "stream",
     "text": [
      "Missing values in population: 4599\n"
     ]
    }
   ],
   "source": [
    "print(\"Missing values in population:\",women_parliament.isnull().sum().sum())"
   ]
  },
  {
   "cell_type": "code",
   "execution_count": 47,
   "id": "4c0f4a37",
   "metadata": {},
   "outputs": [
    {
     "name": "stdout",
     "output_type": "stream",
     "text": [
      "Missing values in population: 4\n"
     ]
    }
   ],
   "source": [
    "print(\"Missing values in population:\",funct_govt.isnull().sum().sum())"
   ]
  },
  {
   "cell_type": "code",
   "execution_count": 48,
   "id": "40776cf3",
   "metadata": {},
   "outputs": [
    {
     "name": "stdout",
     "output_type": "stream",
     "text": [
      "Missing values in population: 4\n"
     ]
    }
   ],
   "source": [
    "print(\"Missing values in population:\",democracy.isnull().sum().sum())"
   ]
  },
  {
   "cell_type": "code",
   "execution_count": 49,
   "id": "aec2b59d",
   "metadata": {},
   "outputs": [
    {
     "name": "stdout",
     "output_type": "stream",
     "text": [
      "Missing values in population: 608\n"
     ]
    }
   ],
   "source": [
    "print(\"Missing values in population:\",happiness_score.isnull().sum().sum())"
   ]
  },
  {
   "cell_type": "code",
   "execution_count": 50,
   "id": "2561e3f1",
   "metadata": {},
   "outputs": [
    {
     "name": "stdout",
     "output_type": "stream",
     "text": [
      "Missing values in population: 0\n"
     ]
    }
   ],
   "source": [
    "print(\"Missing values in population:\",continents.isnull().sum().sum())"
   ]
  },
  {
   "cell_type": "code",
   "execution_count": 51,
   "id": "a71a1ed4",
   "metadata": {},
   "outputs": [
    {
     "name": "stdout",
     "output_type": "stream",
     "text": [
      "Missing values in population: 191\n"
     ]
    }
   ],
   "source": [
    "print(\"Missing values in population:\",avg_income.isnull().sum().sum())"
   ]
  },
  {
   "cell_type": "code",
   "execution_count": 52,
   "id": "7984d028",
   "metadata": {},
   "outputs": [
    {
     "name": "stdout",
     "output_type": "stream",
     "text": [
      "Missing values in population: 193\n"
     ]
    }
   ],
   "source": [
    "print(\"Missing values in population:\",income_ineql.isnull().sum().sum())"
   ]
  },
  {
   "cell_type": "code",
   "execution_count": 53,
   "id": "707a51a9",
   "metadata": {},
   "outputs": [],
   "source": [
    "population = population.dropna(axis=0, how='any')"
   ]
  },
  {
   "cell_type": "code",
   "execution_count": 54,
   "id": "9482dd34",
   "metadata": {},
   "outputs": [
    {
     "name": "stdout",
     "output_type": "stream",
     "text": [
      "Missing values in population: 0\n"
     ]
    }
   ],
   "source": [
    "print(\"Missing values in population:\",population.isnull().sum().sum())"
   ]
  },
  {
   "cell_type": "code",
   "execution_count": 55,
   "id": "c486f373",
   "metadata": {},
   "outputs": [],
   "source": [
    "women_parliament = women_parliament.dropna(axis=0, how='any')"
   ]
  },
  {
   "cell_type": "code",
   "execution_count": 58,
   "id": "f0c86466",
   "metadata": {},
   "outputs": [
    {
     "name": "stdout",
     "output_type": "stream",
     "text": [
      "Missing values in women in parliament: 0\n"
     ]
    }
   ],
   "source": [
    "print(\"Missing values in women in parliament:\",women_parliament.isnull().sum().sum())"
   ]
  },
  {
   "cell_type": "code",
   "execution_count": 57,
   "id": "30d54981",
   "metadata": {},
   "outputs": [],
   "source": [
    "funct_govt = funct_govt.dropna(axis=0, how='any')"
   ]
  },
  {
   "cell_type": "code",
   "execution_count": 59,
   "id": "635a1d20",
   "metadata": {},
   "outputs": [
    {
     "name": "stdout",
     "output_type": "stream",
     "text": [
      "Missing values in functional government: 0\n"
     ]
    }
   ],
   "source": [
    "print(\"Missing values in functional government:\",funct_govt.isnull().sum().sum())"
   ]
  },
  {
   "cell_type": "code",
   "execution_count": 60,
   "id": "9d48b4c1",
   "metadata": {},
   "outputs": [],
   "source": [
    "democracy = democracy.dropna(axis=0, how='any')"
   ]
  },
  {
   "cell_type": "code",
   "execution_count": 61,
   "id": "199c6827",
   "metadata": {},
   "outputs": [
    {
     "name": "stdout",
     "output_type": "stream",
     "text": [
      "Missing values in democracy: 0\n"
     ]
    }
   ],
   "source": [
    "print(\"Missing values in democracy:\",democracy.isnull().sum().sum())"
   ]
  },
  {
   "cell_type": "code",
   "execution_count": 62,
   "id": "71ef0d14",
   "metadata": {},
   "outputs": [],
   "source": [
    "happiness_score = happiness_score.dropna(axis=0, how='any')"
   ]
  },
  {
   "cell_type": "code",
   "execution_count": 63,
   "id": "5e9b995b",
   "metadata": {},
   "outputs": [
    {
     "name": "stdout",
     "output_type": "stream",
     "text": [
      "Missing values in happiness score: 0.0\n"
     ]
    }
   ],
   "source": [
    "print(\"Missing values in happiness score:\",happiness_score.isnull().sum().sum())"
   ]
  },
  {
   "cell_type": "code",
   "execution_count": 65,
   "id": "46af873e",
   "metadata": {},
   "outputs": [],
   "source": [
    "avg_income = avg_income.dropna(axis=0, how='any')"
   ]
  },
  {
   "cell_type": "code",
   "execution_count": 66,
   "id": "7bad0a00",
   "metadata": {},
   "outputs": [
    {
     "name": "stdout",
     "output_type": "stream",
     "text": [
      "Missing values in average income score: 0\n"
     ]
    }
   ],
   "source": [
    "print(\"Missing values in average income score:\",avg_income.isnull().sum().sum())"
   ]
  },
  {
   "cell_type": "code",
   "execution_count": 68,
   "id": "0e411c90",
   "metadata": {},
   "outputs": [],
   "source": [
    "income_ineql = income_ineql.dropna(axis=0, how='any')"
   ]
  },
  {
   "cell_type": "code",
   "execution_count": 69,
   "id": "d2b1f1c9",
   "metadata": {},
   "outputs": [
    {
     "name": "stdout",
     "output_type": "stream",
     "text": [
      "Missing values in income inequality score: 0\n"
     ]
    }
   ],
   "source": [
    "print(\"Missing values in income inequality score:\",income_ineql.isnull().sum().sum())"
   ]
  },
  {
   "cell_type": "code",
   "execution_count": 70,
   "id": "f8ea64bc",
   "metadata": {},
   "outputs": [
    {
     "data": {
      "text/html": [
       "<div>\n",
       "<style scoped>\n",
       "    .dataframe tbody tr th:only-of-type {\n",
       "        vertical-align: middle;\n",
       "    }\n",
       "\n",
       "    .dataframe tbody tr th {\n",
       "        vertical-align: top;\n",
       "    }\n",
       "\n",
       "    .dataframe thead th {\n",
       "        text-align: right;\n",
       "    }\n",
       "</style>\n",
       "<table border=\"1\" class=\"dataframe\">\n",
       "  <thead>\n",
       "    <tr style=\"text-align: right;\">\n",
       "      <th></th>\n",
       "      <th>Country Name</th>\n",
       "      <th>Country Code</th>\n",
       "      <th>1960</th>\n",
       "      <th>1961</th>\n",
       "      <th>1962</th>\n",
       "      <th>1963</th>\n",
       "      <th>1964</th>\n",
       "      <th>1965</th>\n",
       "      <th>1966</th>\n",
       "      <th>1967</th>\n",
       "      <th>...</th>\n",
       "      <th>2011</th>\n",
       "      <th>2012</th>\n",
       "      <th>2013</th>\n",
       "      <th>2014</th>\n",
       "      <th>2015</th>\n",
       "      <th>2016</th>\n",
       "      <th>2017</th>\n",
       "      <th>2018</th>\n",
       "      <th>2019</th>\n",
       "      <th>2020</th>\n",
       "    </tr>\n",
       "  </thead>\n",
       "  <tbody>\n",
       "    <tr>\n",
       "      <th>0</th>\n",
       "      <td>Aruba</td>\n",
       "      <td>ABW</td>\n",
       "      <td>54208.0</td>\n",
       "      <td>55434.0</td>\n",
       "      <td>56234.0</td>\n",
       "      <td>56699.0</td>\n",
       "      <td>57029.0</td>\n",
       "      <td>57357.0</td>\n",
       "      <td>57702.0</td>\n",
       "      <td>58044.0</td>\n",
       "      <td>...</td>\n",
       "      <td>102050.0</td>\n",
       "      <td>102565.0</td>\n",
       "      <td>103165.0</td>\n",
       "      <td>103776.0</td>\n",
       "      <td>104339.0</td>\n",
       "      <td>104865.0</td>\n",
       "      <td>105361.0</td>\n",
       "      <td>105846.0</td>\n",
       "      <td>106310.0</td>\n",
       "      <td>106766.0</td>\n",
       "    </tr>\n",
       "    <tr>\n",
       "      <th>1</th>\n",
       "      <td>Africa Eastern and Southern</td>\n",
       "      <td>AFE</td>\n",
       "      <td>130836765.0</td>\n",
       "      <td>134159786.0</td>\n",
       "      <td>137614644.0</td>\n",
       "      <td>141202036.0</td>\n",
       "      <td>144920186.0</td>\n",
       "      <td>148769974.0</td>\n",
       "      <td>152752671.0</td>\n",
       "      <td>156876454.0</td>\n",
       "      <td>...</td>\n",
       "      <td>532760424.0</td>\n",
       "      <td>547482863.0</td>\n",
       "      <td>562601578.0</td>\n",
       "      <td>578075373.0</td>\n",
       "      <td>593871847.0</td>\n",
       "      <td>609978946.0</td>\n",
       "      <td>626392880.0</td>\n",
       "      <td>643090131.0</td>\n",
       "      <td>660046272.0</td>\n",
       "      <td>677243299.0</td>\n",
       "    </tr>\n",
       "    <tr>\n",
       "      <th>2</th>\n",
       "      <td>Afghanistan</td>\n",
       "      <td>AFG</td>\n",
       "      <td>8996967.0</td>\n",
       "      <td>9169406.0</td>\n",
       "      <td>9351442.0</td>\n",
       "      <td>9543200.0</td>\n",
       "      <td>9744772.0</td>\n",
       "      <td>9956318.0</td>\n",
       "      <td>10174840.0</td>\n",
       "      <td>10399936.0</td>\n",
       "      <td>...</td>\n",
       "      <td>30117411.0</td>\n",
       "      <td>31161378.0</td>\n",
       "      <td>32269592.0</td>\n",
       "      <td>33370804.0</td>\n",
       "      <td>34413603.0</td>\n",
       "      <td>35383028.0</td>\n",
       "      <td>36296111.0</td>\n",
       "      <td>37171922.0</td>\n",
       "      <td>38041757.0</td>\n",
       "      <td>38928341.0</td>\n",
       "    </tr>\n",
       "    <tr>\n",
       "      <th>3</th>\n",
       "      <td>Africa Western and Central</td>\n",
       "      <td>AFW</td>\n",
       "      <td>96396419.0</td>\n",
       "      <td>98407221.0</td>\n",
       "      <td>100506960.0</td>\n",
       "      <td>102691339.0</td>\n",
       "      <td>104953470.0</td>\n",
       "      <td>107289875.0</td>\n",
       "      <td>109701811.0</td>\n",
       "      <td>112195950.0</td>\n",
       "      <td>...</td>\n",
       "      <td>360285439.0</td>\n",
       "      <td>370243017.0</td>\n",
       "      <td>380437896.0</td>\n",
       "      <td>390882979.0</td>\n",
       "      <td>401586651.0</td>\n",
       "      <td>412551299.0</td>\n",
       "      <td>423769930.0</td>\n",
       "      <td>435229381.0</td>\n",
       "      <td>446911598.0</td>\n",
       "      <td>458803476.0</td>\n",
       "    </tr>\n",
       "    <tr>\n",
       "      <th>4</th>\n",
       "      <td>Angola</td>\n",
       "      <td>AGO</td>\n",
       "      <td>5454938.0</td>\n",
       "      <td>5531451.0</td>\n",
       "      <td>5608499.0</td>\n",
       "      <td>5679409.0</td>\n",
       "      <td>5734995.0</td>\n",
       "      <td>5770573.0</td>\n",
       "      <td>5781305.0</td>\n",
       "      <td>5774440.0</td>\n",
       "      <td>...</td>\n",
       "      <td>24220660.0</td>\n",
       "      <td>25107925.0</td>\n",
       "      <td>26015786.0</td>\n",
       "      <td>26941773.0</td>\n",
       "      <td>27884380.0</td>\n",
       "      <td>28842482.0</td>\n",
       "      <td>29816769.0</td>\n",
       "      <td>30809787.0</td>\n",
       "      <td>31825299.0</td>\n",
       "      <td>32866268.0</td>\n",
       "    </tr>\n",
       "  </tbody>\n",
       "</table>\n",
       "<p>5 rows × 63 columns</p>\n",
       "</div>"
      ],
      "text/plain": [
       "                  Country Name Country Code         1960         1961  \\\n",
       "0                        Aruba          ABW      54208.0      55434.0   \n",
       "1  Africa Eastern and Southern          AFE  130836765.0  134159786.0   \n",
       "2                  Afghanistan          AFG    8996967.0    9169406.0   \n",
       "3   Africa Western and Central          AFW   96396419.0   98407221.0   \n",
       "4                       Angola          AGO    5454938.0    5531451.0   \n",
       "\n",
       "          1962         1963         1964         1965         1966  \\\n",
       "0      56234.0      56699.0      57029.0      57357.0      57702.0   \n",
       "1  137614644.0  141202036.0  144920186.0  148769974.0  152752671.0   \n",
       "2    9351442.0    9543200.0    9744772.0    9956318.0   10174840.0   \n",
       "3  100506960.0  102691339.0  104953470.0  107289875.0  109701811.0   \n",
       "4    5608499.0    5679409.0    5734995.0    5770573.0    5781305.0   \n",
       "\n",
       "          1967  ...         2011         2012         2013         2014  \\\n",
       "0      58044.0  ...     102050.0     102565.0     103165.0     103776.0   \n",
       "1  156876454.0  ...  532760424.0  547482863.0  562601578.0  578075373.0   \n",
       "2   10399936.0  ...   30117411.0   31161378.0   32269592.0   33370804.0   \n",
       "3  112195950.0  ...  360285439.0  370243017.0  380437896.0  390882979.0   \n",
       "4    5774440.0  ...   24220660.0   25107925.0   26015786.0   26941773.0   \n",
       "\n",
       "          2015         2016         2017         2018         2019  \\\n",
       "0     104339.0     104865.0     105361.0     105846.0     106310.0   \n",
       "1  593871847.0  609978946.0  626392880.0  643090131.0  660046272.0   \n",
       "2   34413603.0   35383028.0   36296111.0   37171922.0   38041757.0   \n",
       "3  401586651.0  412551299.0  423769930.0  435229381.0  446911598.0   \n",
       "4   27884380.0   28842482.0   29816769.0   30809787.0   31825299.0   \n",
       "\n",
       "          2020  \n",
       "0     106766.0  \n",
       "1  677243299.0  \n",
       "2   38928341.0  \n",
       "3  458803476.0  \n",
       "4   32866268.0  \n",
       "\n",
       "[5 rows x 63 columns]"
      ]
     },
     "execution_count": 70,
     "metadata": {},
     "output_type": "execute_result"
    }
   ],
   "source": [
    "population.head()"
   ]
  },
  {
   "cell_type": "code",
   "execution_count": 72,
   "id": "52f2c3d5",
   "metadata": {},
   "outputs": [
    {
     "data": {
      "text/html": [
       "<div>\n",
       "<style scoped>\n",
       "    .dataframe tbody tr th:only-of-type {\n",
       "        vertical-align: middle;\n",
       "    }\n",
       "\n",
       "    .dataframe tbody tr th {\n",
       "        vertical-align: top;\n",
       "    }\n",
       "\n",
       "    .dataframe thead th {\n",
       "        text-align: right;\n",
       "    }\n",
       "</style>\n",
       "<table border=\"1\" class=\"dataframe\">\n",
       "  <thead>\n",
       "    <tr style=\"text-align: right;\">\n",
       "      <th></th>\n",
       "      <th>country</th>\n",
       "      <th>1945</th>\n",
       "      <th>1946</th>\n",
       "      <th>1947</th>\n",
       "      <th>1948</th>\n",
       "      <th>1949</th>\n",
       "      <th>1950</th>\n",
       "      <th>1951</th>\n",
       "      <th>1952</th>\n",
       "      <th>1953</th>\n",
       "      <th>...</th>\n",
       "      <th>2011</th>\n",
       "      <th>2012</th>\n",
       "      <th>2013</th>\n",
       "      <th>2014</th>\n",
       "      <th>2015</th>\n",
       "      <th>2016</th>\n",
       "      <th>2017</th>\n",
       "      <th>2018</th>\n",
       "      <th>2019</th>\n",
       "      <th>2020</th>\n",
       "    </tr>\n",
       "  </thead>\n",
       "  <tbody>\n",
       "    <tr>\n",
       "      <th>2</th>\n",
       "      <td>Albania</td>\n",
       "      <td>3.66</td>\n",
       "      <td>6.46</td>\n",
       "      <td>8.81</td>\n",
       "      <td>10.80</td>\n",
       "      <td>12.50</td>\n",
       "      <td>14.10</td>\n",
       "      <td>13.50</td>\n",
       "      <td>12.90</td>\n",
       "      <td>12.40</td>\n",
       "      <td>...</td>\n",
       "      <td>16.10</td>\n",
       "      <td>15.9</td>\n",
       "      <td>15.7</td>\n",
       "      <td>18.8</td>\n",
       "      <td>21.8</td>\n",
       "      <td>24.8</td>\n",
       "      <td>27.9</td>\n",
       "      <td>28.6</td>\n",
       "      <td>29.5</td>\n",
       "      <td>29.5</td>\n",
       "    </tr>\n",
       "    <tr>\n",
       "      <th>9</th>\n",
       "      <td>Austria</td>\n",
       "      <td>4.21</td>\n",
       "      <td>0.00</td>\n",
       "      <td>0.00</td>\n",
       "      <td>0.00</td>\n",
       "      <td>4.23</td>\n",
       "      <td>2.08</td>\n",
       "      <td>2.08</td>\n",
       "      <td>2.08</td>\n",
       "      <td>4.76</td>\n",
       "      <td>...</td>\n",
       "      <td>29.00</td>\n",
       "      <td>29.0</td>\n",
       "      <td>30.5</td>\n",
       "      <td>29.0</td>\n",
       "      <td>29.0</td>\n",
       "      <td>29.5</td>\n",
       "      <td>33.1</td>\n",
       "      <td>35.8</td>\n",
       "      <td>38.5</td>\n",
       "      <td>38.5</td>\n",
       "    </tr>\n",
       "    <tr>\n",
       "      <th>16</th>\n",
       "      <td>Bulgaria</td>\n",
       "      <td>5.80</td>\n",
       "      <td>8.17</td>\n",
       "      <td>9.58</td>\n",
       "      <td>11.70</td>\n",
       "      <td>15.10</td>\n",
       "      <td>15.20</td>\n",
       "      <td>15.40</td>\n",
       "      <td>15.50</td>\n",
       "      <td>15.70</td>\n",
       "      <td>...</td>\n",
       "      <td>22.80</td>\n",
       "      <td>23.3</td>\n",
       "      <td>23.8</td>\n",
       "      <td>20.0</td>\n",
       "      <td>21.3</td>\n",
       "      <td>22.5</td>\n",
       "      <td>23.8</td>\n",
       "      <td>24.8</td>\n",
       "      <td>25.8</td>\n",
       "      <td>26.7</td>\n",
       "    </tr>\n",
       "    <tr>\n",
       "      <th>23</th>\n",
       "      <td>Brazil</td>\n",
       "      <td>0.00</td>\n",
       "      <td>0.06</td>\n",
       "      <td>0.11</td>\n",
       "      <td>0.17</td>\n",
       "      <td>0.22</td>\n",
       "      <td>0.27</td>\n",
       "      <td>0.27</td>\n",
       "      <td>0.27</td>\n",
       "      <td>0.26</td>\n",
       "      <td>...</td>\n",
       "      <td>9.81</td>\n",
       "      <td>10.0</td>\n",
       "      <td>10.2</td>\n",
       "      <td>10.4</td>\n",
       "      <td>11.6</td>\n",
       "      <td>12.7</td>\n",
       "      <td>13.8</td>\n",
       "      <td>15.0</td>\n",
       "      <td>15.0</td>\n",
       "      <td>14.5</td>\n",
       "    </tr>\n",
       "    <tr>\n",
       "      <th>29</th>\n",
       "      <td>Canada</td>\n",
       "      <td>0.92</td>\n",
       "      <td>2.11</td>\n",
       "      <td>2.33</td>\n",
       "      <td>2.44</td>\n",
       "      <td>0.85</td>\n",
       "      <td>2.27</td>\n",
       "      <td>2.30</td>\n",
       "      <td>2.41</td>\n",
       "      <td>2.55</td>\n",
       "      <td>...</td>\n",
       "      <td>27.50</td>\n",
       "      <td>35.9</td>\n",
       "      <td>37.9</td>\n",
       "      <td>39.6</td>\n",
       "      <td>27.9</td>\n",
       "      <td>42.2</td>\n",
       "      <td>43.0</td>\n",
       "      <td>35.0</td>\n",
       "      <td>33.2</td>\n",
       "      <td>33.6</td>\n",
       "    </tr>\n",
       "  </tbody>\n",
       "</table>\n",
       "<p>5 rows × 77 columns</p>\n",
       "</div>"
      ],
      "text/plain": [
       "     country  1945  1946  1947   1948   1949   1950   1951   1952   1953  ...  \\\n",
       "2    Albania  3.66  6.46  8.81  10.80  12.50  14.10  13.50  12.90  12.40  ...   \n",
       "9    Austria  4.21  0.00  0.00   0.00   4.23   2.08   2.08   2.08   4.76  ...   \n",
       "16  Bulgaria  5.80  8.17  9.58  11.70  15.10  15.20  15.40  15.50  15.70  ...   \n",
       "23    Brazil  0.00  0.06  0.11   0.17   0.22   0.27   0.27   0.27   0.26  ...   \n",
       "29    Canada  0.92  2.11  2.33   2.44   0.85   2.27   2.30   2.41   2.55  ...   \n",
       "\n",
       "     2011  2012  2013  2014  2015  2016  2017  2018  2019  2020  \n",
       "2   16.10  15.9  15.7  18.8  21.8  24.8  27.9  28.6  29.5  29.5  \n",
       "9   29.00  29.0  30.5  29.0  29.0  29.5  33.1  35.8  38.5  38.5  \n",
       "16  22.80  23.3  23.8  20.0  21.3  22.5  23.8  24.8  25.8  26.7  \n",
       "23   9.81  10.0  10.2  10.4  11.6  12.7  13.8  15.0  15.0  14.5  \n",
       "29  27.50  35.9  37.9  39.6  27.9  42.2  43.0  35.0  33.2  33.6  \n",
       "\n",
       "[5 rows x 77 columns]"
      ]
     },
     "execution_count": 72,
     "metadata": {},
     "output_type": "execute_result"
    }
   ],
   "source": [
    "women_parliament.head()"
   ]
  },
  {
   "cell_type": "code",
   "execution_count": 73,
   "id": "8dbb99cf",
   "metadata": {},
   "outputs": [
    {
     "data": {
      "text/html": [
       "<div>\n",
       "<style scoped>\n",
       "    .dataframe tbody tr th:only-of-type {\n",
       "        vertical-align: middle;\n",
       "    }\n",
       "\n",
       "    .dataframe tbody tr th {\n",
       "        vertical-align: top;\n",
       "    }\n",
       "\n",
       "    .dataframe thead th {\n",
       "        text-align: right;\n",
       "    }\n",
       "</style>\n",
       "<table border=\"1\" class=\"dataframe\">\n",
       "  <thead>\n",
       "    <tr style=\"text-align: right;\">\n",
       "      <th></th>\n",
       "      <th>country</th>\n",
       "      <th>2006</th>\n",
       "      <th>2007</th>\n",
       "      <th>2008</th>\n",
       "      <th>2009</th>\n",
       "      <th>2010</th>\n",
       "      <th>2011</th>\n",
       "      <th>2012</th>\n",
       "      <th>2013</th>\n",
       "      <th>2014</th>\n",
       "      <th>2015</th>\n",
       "      <th>2016</th>\n",
       "      <th>2017</th>\n",
       "      <th>2018</th>\n",
       "      <th>2019</th>\n",
       "      <th>2020</th>\n",
       "    </tr>\n",
       "  </thead>\n",
       "  <tbody>\n",
       "    <tr>\n",
       "      <th>0</th>\n",
       "      <td>Afghanistan</td>\n",
       "      <td>0.0</td>\n",
       "      <td>3.95</td>\n",
       "      <td>7.9</td>\n",
       "      <td>7.9</td>\n",
       "      <td>7.9</td>\n",
       "      <td>7.9</td>\n",
       "      <td>7.9</td>\n",
       "      <td>7.9</td>\n",
       "      <td>11.4</td>\n",
       "      <td>11.4</td>\n",
       "      <td>11.4</td>\n",
       "      <td>11.4</td>\n",
       "      <td>11.4</td>\n",
       "      <td>6.4</td>\n",
       "      <td>6.4</td>\n",
       "    </tr>\n",
       "    <tr>\n",
       "      <th>1</th>\n",
       "      <td>Angola</td>\n",
       "      <td>21.4</td>\n",
       "      <td>26.80</td>\n",
       "      <td>32.1</td>\n",
       "      <td>32.1</td>\n",
       "      <td>32.1</td>\n",
       "      <td>32.1</td>\n",
       "      <td>32.1</td>\n",
       "      <td>32.1</td>\n",
       "      <td>32.1</td>\n",
       "      <td>32.1</td>\n",
       "      <td>32.1</td>\n",
       "      <td>28.6</td>\n",
       "      <td>28.6</td>\n",
       "      <td>28.6</td>\n",
       "      <td>28.6</td>\n",
       "    </tr>\n",
       "    <tr>\n",
       "      <th>2</th>\n",
       "      <td>Albania</td>\n",
       "      <td>50.7</td>\n",
       "      <td>50.70</td>\n",
       "      <td>50.7</td>\n",
       "      <td>50.7</td>\n",
       "      <td>50.7</td>\n",
       "      <td>47.1</td>\n",
       "      <td>40.0</td>\n",
       "      <td>40.0</td>\n",
       "      <td>40.0</td>\n",
       "      <td>43.6</td>\n",
       "      <td>43.6</td>\n",
       "      <td>47.1</td>\n",
       "      <td>47.1</td>\n",
       "      <td>53.6</td>\n",
       "      <td>53.6</td>\n",
       "    </tr>\n",
       "    <tr>\n",
       "      <th>3</th>\n",
       "      <td>United Arab Emirates</td>\n",
       "      <td>30.7</td>\n",
       "      <td>35.00</td>\n",
       "      <td>39.3</td>\n",
       "      <td>37.5</td>\n",
       "      <td>35.7</td>\n",
       "      <td>35.7</td>\n",
       "      <td>35.7</td>\n",
       "      <td>35.7</td>\n",
       "      <td>35.7</td>\n",
       "      <td>35.7</td>\n",
       "      <td>35.7</td>\n",
       "      <td>35.7</td>\n",
       "      <td>39.3</td>\n",
       "      <td>39.3</td>\n",
       "      <td>39.3</td>\n",
       "    </tr>\n",
       "    <tr>\n",
       "      <th>4</th>\n",
       "      <td>Argentina</td>\n",
       "      <td>50.0</td>\n",
       "      <td>50.00</td>\n",
       "      <td>50.0</td>\n",
       "      <td>53.5</td>\n",
       "      <td>57.1</td>\n",
       "      <td>57.1</td>\n",
       "      <td>57.1</td>\n",
       "      <td>57.1</td>\n",
       "      <td>57.1</td>\n",
       "      <td>50.0</td>\n",
       "      <td>50.0</td>\n",
       "      <td>50.0</td>\n",
       "      <td>53.6</td>\n",
       "      <td>53.6</td>\n",
       "      <td>53.6</td>\n",
       "    </tr>\n",
       "  </tbody>\n",
       "</table>\n",
       "</div>"
      ],
      "text/plain": [
       "                country  2006   2007  2008  2009  2010  2011  2012  2013  \\\n",
       "0           Afghanistan   0.0   3.95   7.9   7.9   7.9   7.9   7.9   7.9   \n",
       "1                Angola  21.4  26.80  32.1  32.1  32.1  32.1  32.1  32.1   \n",
       "2               Albania  50.7  50.70  50.7  50.7  50.7  47.1  40.0  40.0   \n",
       "3  United Arab Emirates  30.7  35.00  39.3  37.5  35.7  35.7  35.7  35.7   \n",
       "4             Argentina  50.0  50.00  50.0  53.5  57.1  57.1  57.1  57.1   \n",
       "\n",
       "   2014  2015  2016  2017  2018  2019  2020  \n",
       "0  11.4  11.4  11.4  11.4  11.4   6.4   6.4  \n",
       "1  32.1  32.1  32.1  28.6  28.6  28.6  28.6  \n",
       "2  40.0  43.6  43.6  47.1  47.1  53.6  53.6  \n",
       "3  35.7  35.7  35.7  35.7  39.3  39.3  39.3  \n",
       "4  57.1  50.0  50.0  50.0  53.6  53.6  53.6  "
      ]
     },
     "execution_count": 73,
     "metadata": {},
     "output_type": "execute_result"
    }
   ],
   "source": [
    "funct_govt.head()"
   ]
  },
  {
   "cell_type": "code",
   "execution_count": 74,
   "id": "49fe7d08",
   "metadata": {},
   "outputs": [
    {
     "data": {
      "text/html": [
       "<div>\n",
       "<style scoped>\n",
       "    .dataframe tbody tr th:only-of-type {\n",
       "        vertical-align: middle;\n",
       "    }\n",
       "\n",
       "    .dataframe tbody tr th {\n",
       "        vertical-align: top;\n",
       "    }\n",
       "\n",
       "    .dataframe thead th {\n",
       "        text-align: right;\n",
       "    }\n",
       "</style>\n",
       "<table border=\"1\" class=\"dataframe\">\n",
       "  <thead>\n",
       "    <tr style=\"text-align: right;\">\n",
       "      <th></th>\n",
       "      <th>country</th>\n",
       "      <th>2006</th>\n",
       "      <th>2007</th>\n",
       "      <th>2008</th>\n",
       "      <th>2009</th>\n",
       "      <th>2010</th>\n",
       "      <th>2011</th>\n",
       "      <th>2012</th>\n",
       "      <th>2013</th>\n",
       "      <th>2014</th>\n",
       "      <th>2015</th>\n",
       "      <th>2016</th>\n",
       "      <th>2017</th>\n",
       "      <th>2018</th>\n",
       "      <th>2019</th>\n",
       "      <th>2020</th>\n",
       "    </tr>\n",
       "  </thead>\n",
       "  <tbody>\n",
       "    <tr>\n",
       "      <th>0</th>\n",
       "      <td>Afghanistan</td>\n",
       "      <td>30.6</td>\n",
       "      <td>30.4</td>\n",
       "      <td>30.2</td>\n",
       "      <td>27.5</td>\n",
       "      <td>24.8</td>\n",
       "      <td>24.8</td>\n",
       "      <td>24.8</td>\n",
       "      <td>24.8</td>\n",
       "      <td>27.7</td>\n",
       "      <td>27.7</td>\n",
       "      <td>25.5</td>\n",
       "      <td>25.5</td>\n",
       "      <td>29.7</td>\n",
       "      <td>28.5</td>\n",
       "      <td>28.5</td>\n",
       "    </tr>\n",
       "    <tr>\n",
       "      <th>1</th>\n",
       "      <td>Angola</td>\n",
       "      <td>24.1</td>\n",
       "      <td>28.8</td>\n",
       "      <td>33.5</td>\n",
       "      <td>33.4</td>\n",
       "      <td>33.2</td>\n",
       "      <td>33.2</td>\n",
       "      <td>33.5</td>\n",
       "      <td>33.5</td>\n",
       "      <td>33.5</td>\n",
       "      <td>33.5</td>\n",
       "      <td>34.0</td>\n",
       "      <td>36.2</td>\n",
       "      <td>36.2</td>\n",
       "      <td>37.2</td>\n",
       "      <td>36.6</td>\n",
       "    </tr>\n",
       "    <tr>\n",
       "      <th>2</th>\n",
       "      <td>Albania</td>\n",
       "      <td>59.1</td>\n",
       "      <td>59.1</td>\n",
       "      <td>59.1</td>\n",
       "      <td>58.9</td>\n",
       "      <td>58.6</td>\n",
       "      <td>58.1</td>\n",
       "      <td>56.7</td>\n",
       "      <td>56.7</td>\n",
       "      <td>56.7</td>\n",
       "      <td>59.1</td>\n",
       "      <td>59.1</td>\n",
       "      <td>59.8</td>\n",
       "      <td>59.8</td>\n",
       "      <td>58.9</td>\n",
       "      <td>60.8</td>\n",
       "    </tr>\n",
       "    <tr>\n",
       "      <th>3</th>\n",
       "      <td>United Arab Emirates</td>\n",
       "      <td>24.2</td>\n",
       "      <td>25.1</td>\n",
       "      <td>26.0</td>\n",
       "      <td>25.6</td>\n",
       "      <td>25.2</td>\n",
       "      <td>25.8</td>\n",
       "      <td>25.8</td>\n",
       "      <td>25.2</td>\n",
       "      <td>26.4</td>\n",
       "      <td>27.5</td>\n",
       "      <td>27.5</td>\n",
       "      <td>26.9</td>\n",
       "      <td>27.6</td>\n",
       "      <td>27.6</td>\n",
       "      <td>27.0</td>\n",
       "    </tr>\n",
       "    <tr>\n",
       "      <th>4</th>\n",
       "      <td>Argentina</td>\n",
       "      <td>66.3</td>\n",
       "      <td>66.3</td>\n",
       "      <td>66.3</td>\n",
       "      <td>67.3</td>\n",
       "      <td>68.4</td>\n",
       "      <td>68.4</td>\n",
       "      <td>68.4</td>\n",
       "      <td>68.4</td>\n",
       "      <td>68.4</td>\n",
       "      <td>70.2</td>\n",
       "      <td>69.6</td>\n",
       "      <td>69.6</td>\n",
       "      <td>70.2</td>\n",
       "      <td>70.2</td>\n",
       "      <td>69.5</td>\n",
       "    </tr>\n",
       "  </tbody>\n",
       "</table>\n",
       "</div>"
      ],
      "text/plain": [
       "                country  2006  2007  2008  2009  2010  2011  2012  2013  2014  \\\n",
       "0           Afghanistan  30.6  30.4  30.2  27.5  24.8  24.8  24.8  24.8  27.7   \n",
       "1                Angola  24.1  28.8  33.5  33.4  33.2  33.2  33.5  33.5  33.5   \n",
       "2               Albania  59.1  59.1  59.1  58.9  58.6  58.1  56.7  56.7  56.7   \n",
       "3  United Arab Emirates  24.2  25.1  26.0  25.6  25.2  25.8  25.8  25.2  26.4   \n",
       "4             Argentina  66.3  66.3  66.3  67.3  68.4  68.4  68.4  68.4  68.4   \n",
       "\n",
       "   2015  2016  2017  2018  2019  2020  \n",
       "0  27.7  25.5  25.5  29.7  28.5  28.5  \n",
       "1  33.5  34.0  36.2  36.2  37.2  36.6  \n",
       "2  59.1  59.1  59.8  59.8  58.9  60.8  \n",
       "3  27.5  27.5  26.9  27.6  27.6  27.0  \n",
       "4  70.2  69.6  69.6  70.2  70.2  69.5  "
      ]
     },
     "execution_count": 74,
     "metadata": {},
     "output_type": "execute_result"
    }
   ],
   "source": [
    "democracy.head()"
   ]
  },
  {
   "cell_type": "code",
   "execution_count": 75,
   "id": "28f20465",
   "metadata": {},
   "outputs": [
    {
     "data": {
      "text/html": [
       "<div>\n",
       "<style scoped>\n",
       "    .dataframe tbody tr th:only-of-type {\n",
       "        vertical-align: middle;\n",
       "    }\n",
       "\n",
       "    .dataframe tbody tr th {\n",
       "        vertical-align: top;\n",
       "    }\n",
       "\n",
       "    .dataframe thead th {\n",
       "        text-align: right;\n",
       "    }\n",
       "</style>\n",
       "<table border=\"1\" class=\"dataframe\">\n",
       "  <thead>\n",
       "    <tr style=\"text-align: right;\">\n",
       "      <th></th>\n",
       "      <th>country</th>\n",
       "      <th>2005</th>\n",
       "      <th>2006</th>\n",
       "      <th>2007</th>\n",
       "      <th>2008</th>\n",
       "      <th>2009</th>\n",
       "      <th>2010</th>\n",
       "      <th>2011</th>\n",
       "      <th>2012</th>\n",
       "      <th>2013</th>\n",
       "      <th>2014</th>\n",
       "      <th>2015</th>\n",
       "      <th>2016</th>\n",
       "      <th>2017</th>\n",
       "      <th>2018</th>\n",
       "      <th>2019</th>\n",
       "    </tr>\n",
       "  </thead>\n",
       "  <tbody>\n",
       "  </tbody>\n",
       "</table>\n",
       "</div>"
      ],
      "text/plain": [
       "Empty DataFrame\n",
       "Columns: [country, 2005, 2006, 2007, 2008, 2009, 2010, 2011, 2012, 2013, 2014, 2015, 2016, 2017, 2018, 2019]\n",
       "Index: []"
      ]
     },
     "execution_count": 75,
     "metadata": {},
     "output_type": "execute_result"
    }
   ],
   "source": [
    "happiness_score.head()"
   ]
  },
  {
   "cell_type": "code",
   "execution_count": 76,
   "id": "7a7e9af3",
   "metadata": {},
   "outputs": [
    {
     "data": {
      "text/html": [
       "<div>\n",
       "<style scoped>\n",
       "    .dataframe tbody tr th:only-of-type {\n",
       "        vertical-align: middle;\n",
       "    }\n",
       "\n",
       "    .dataframe tbody tr th {\n",
       "        vertical-align: top;\n",
       "    }\n",
       "\n",
       "    .dataframe thead th {\n",
       "        text-align: right;\n",
       "    }\n",
       "</style>\n",
       "<table border=\"1\" class=\"dataframe\">\n",
       "  <thead>\n",
       "    <tr style=\"text-align: right;\">\n",
       "      <th></th>\n",
       "      <th>continent</th>\n",
       "      <th>country</th>\n",
       "    </tr>\n",
       "  </thead>\n",
       "  <tbody>\n",
       "    <tr>\n",
       "      <th>0</th>\n",
       "      <td>Africa</td>\n",
       "      <td>Algeria</td>\n",
       "    </tr>\n",
       "    <tr>\n",
       "      <th>1</th>\n",
       "      <td>Africa</td>\n",
       "      <td>Angola</td>\n",
       "    </tr>\n",
       "    <tr>\n",
       "      <th>2</th>\n",
       "      <td>Africa</td>\n",
       "      <td>Benin</td>\n",
       "    </tr>\n",
       "    <tr>\n",
       "      <th>3</th>\n",
       "      <td>Africa</td>\n",
       "      <td>Botswana</td>\n",
       "    </tr>\n",
       "    <tr>\n",
       "      <th>4</th>\n",
       "      <td>Africa</td>\n",
       "      <td>Burkina</td>\n",
       "    </tr>\n",
       "  </tbody>\n",
       "</table>\n",
       "</div>"
      ],
      "text/plain": [
       "  continent   country\n",
       "0    Africa   Algeria\n",
       "1    Africa    Angola\n",
       "2    Africa     Benin\n",
       "3    Africa  Botswana\n",
       "4    Africa   Burkina"
      ]
     },
     "execution_count": 76,
     "metadata": {},
     "output_type": "execute_result"
    }
   ],
   "source": [
    "continents.head()"
   ]
  },
  {
   "cell_type": "code",
   "execution_count": 77,
   "id": "64e55906",
   "metadata": {},
   "outputs": [
    {
     "data": {
      "text/html": [
       "<div>\n",
       "<style scoped>\n",
       "    .dataframe tbody tr th:only-of-type {\n",
       "        vertical-align: middle;\n",
       "    }\n",
       "\n",
       "    .dataframe tbody tr th {\n",
       "        vertical-align: top;\n",
       "    }\n",
       "\n",
       "    .dataframe thead th {\n",
       "        text-align: right;\n",
       "    }\n",
       "</style>\n",
       "<table border=\"1\" class=\"dataframe\">\n",
       "  <thead>\n",
       "    <tr style=\"text-align: right;\">\n",
       "      <th></th>\n",
       "      <th>country;1800;1801;1802;1803;1804;1805;1806;1807;1808;1809;1810;1811;1812;1813;1814;1815;1816;1817;1818;1819;1820;1821;1822;1823;1824;1825;1826;1827;1828;1829;1830;1831;1832;1833;1834;1835;1836;1837;1838;1839;1840;1841;1842;1843;1844;1845;1846;1847;1848;1849;1850;1851;1852;1853;1854;1855;1856;1857;1858;1859;1860;1861;1862;1863;1864;1865;1866;1867;1868;1869;1870;1871;1872;1873;1874;1875;1876;1877;1878;1879;1880;1881;1882;1883;1884;1885;1886;1887;1888;1889;1890;1891;1892;1893;1894;1895;1896;1897;1898;1899;1900;1901;1902;1903;1904;1905;1906;1907;1908;1909;1910;1911;1912;1913;1914;1915;1916;1917;1918;1919;1920;1921;1922;1923;1924;1925;1926;1927;1928;1929;1930;1931;1932;1933;1934;1935;1936;1937;1938;1939;1940;1941;1942;1943;1944;1945;1946;1947;1948;1949;1950;1951;1952;1953;1954;1955;1956;1957;1958;1959;1960;1961;1962;1963;1964;1965;1966;1967;1968;1969;1970;1971;1972;1973;1974;1975;1976;1977;1978;1979;1980;1981;1982;1983;1984;1985;1986;1987;1988;1989;1990;1991;1992;1993;1994;1995;1996;1997;1998;1999;2000;2001;2002;2003;2004;2005;2006;2007;2008;2009;2010;2011;2012;2013;2014;2015;2016;2017;2018;2019;2020;2021</th>\n",
       "      <th>Unnamed: 1</th>\n",
       "    </tr>\n",
       "  </thead>\n",
       "  <tbody>\n",
       "    <tr>\n",
       "      <th>35</th>\n",
       "      <td>Congo Dem Rep;</td>\n",
       "      <td>534;536;539;541;543;545;547;549;551;553;556;55...</td>\n",
       "    </tr>\n",
       "    <tr>\n",
       "      <th>36</th>\n",
       "      <td>Congo Rep;</td>\n",
       "      <td>389;389;0.39;392;393;394;395;396;397;399;399;4...</td>\n",
       "    </tr>\n",
       "    <tr>\n",
       "      <th>59</th>\n",
       "      <td>Micronesia</td>\n",
       "      <td>Fed. Sts.;1.22;1.22;1.22;1.22;1.22;1.22;1.22;...</td>\n",
       "    </tr>\n",
       "    <tr>\n",
       "      <th>72</th>\n",
       "      <td>Hong Kong</td>\n",
       "      <td>China;1.26;1.27;1.28;1.29;1.3;1.31;1.32;1.32;...</td>\n",
       "    </tr>\n",
       "  </tbody>\n",
       "</table>\n",
       "</div>"
      ],
      "text/plain": [
       "   country;1800;1801;1802;1803;1804;1805;1806;1807;1808;1809;1810;1811;1812;1813;1814;1815;1816;1817;1818;1819;1820;1821;1822;1823;1824;1825;1826;1827;1828;1829;1830;1831;1832;1833;1834;1835;1836;1837;1838;1839;1840;1841;1842;1843;1844;1845;1846;1847;1848;1849;1850;1851;1852;1853;1854;1855;1856;1857;1858;1859;1860;1861;1862;1863;1864;1865;1866;1867;1868;1869;1870;1871;1872;1873;1874;1875;1876;1877;1878;1879;1880;1881;1882;1883;1884;1885;1886;1887;1888;1889;1890;1891;1892;1893;1894;1895;1896;1897;1898;1899;1900;1901;1902;1903;1904;1905;1906;1907;1908;1909;1910;1911;1912;1913;1914;1915;1916;1917;1918;1919;1920;1921;1922;1923;1924;1925;1926;1927;1928;1929;1930;1931;1932;1933;1934;1935;1936;1937;1938;1939;1940;1941;1942;1943;1944;1945;1946;1947;1948;1949;1950;1951;1952;1953;1954;1955;1956;1957;1958;1959;1960;1961;1962;1963;1964;1965;1966;1967;1968;1969;1970;1971;1972;1973;1974;1975;1976;1977;1978;1979;1980;1981;1982;1983;1984;1985;1986;1987;1988;1989;1990;1991;1992;1993;1994;1995;1996;1997;1998;1999;2000;2001;2002;2003;2004;2005;2006;2007;2008;2009;2010;2011;2012;2013;2014;2015;2016;2017;2018;2019;2020;2021  \\\n",
       "35                                     Congo Dem Rep;                                                                                                                                                                                                                                                                                                                                                                                                                                                                                                                                                                                                                                                                                                                                                                                                                                                                                                                                                                                                                                                                                                              \n",
       "36                                         Congo Rep;                                                                                                                                                                                                                                                                                                                                                                                                                                                                                                                                                                                                                                                                                                                                                                                                                                                                                                                                                                                                                                                                                                              \n",
       "59                                         Micronesia                                                                                                                                                                                                                                                                                                                                                                                                                                                                                                                                                                                                                                                                                                                                                                                                                                                                                                                                                                                                                                                                                                              \n",
       "72                                          Hong Kong                                                                                                                                                                                                                                                                                                                                                                                                                                                                                                                                                                                                                                                                                                                                                                                                                                                                                                                                                                                                                                                                                                              \n",
       "\n",
       "                                           Unnamed: 1  \n",
       "35  534;536;539;541;543;545;547;549;551;553;556;55...  \n",
       "36  389;389;0.39;392;393;394;395;396;397;399;399;4...  \n",
       "59   Fed. Sts.;1.22;1.22;1.22;1.22;1.22;1.22;1.22;...  \n",
       "72   China;1.26;1.27;1.28;1.29;1.3;1.31;1.32;1.32;...  "
      ]
     },
     "execution_count": 77,
     "metadata": {},
     "output_type": "execute_result"
    }
   ],
   "source": [
    "avg_income.head()"
   ]
  },
  {
   "cell_type": "code",
   "execution_count": 78,
   "id": "a2e87e5c",
   "metadata": {},
   "outputs": [
    {
     "data": {
      "text/html": [
       "<div>\n",
       "<style scoped>\n",
       "    .dataframe tbody tr th:only-of-type {\n",
       "        vertical-align: middle;\n",
       "    }\n",
       "\n",
       "    .dataframe tbody tr th {\n",
       "        vertical-align: top;\n",
       "    }\n",
       "\n",
       "    .dataframe thead th {\n",
       "        text-align: right;\n",
       "    }\n",
       "</style>\n",
       "<table border=\"1\" class=\"dataframe\">\n",
       "  <thead>\n",
       "    <tr style=\"text-align: right;\">\n",
       "      <th></th>\n",
       "      <th>country;1800;1801;1802;1803;1804;1805;1806;1807;1808;1809;1810;1811;1812;1813;1814;1815;1816;1817;1818;1819;1820;1821;1822;1823;1824;1825;1826;1827;1828;1829;1830;1831;1832;1833;1834;1835;1836;1837;1838;1839;1840;1841;1842;1843;1844;1845;1846;1847;1848;1849;1850;1851;1852;1853;1854;1855;1856;1857;1858;1859;1860;1861;1862;1863;1864;1865;1866;1867;1868;1869;1870;1871;1872;1873;1874;1875;1876;1877;1878;1879;1880;1881;1882;1883;1884;1885;1886;1887;1888;1889;1890;1891;1892;1893;1894;1895;1896;1897;1898;1899;1900;1901;1902;1903;1904;1905;1906;1907;1908;1909;1910;1911;1912;1913;1914;1915;1916;1917;1918;1919;1920;1921;1922;1923;1924;1925;1926;1927;1928;1929;1930;1931;1932;1933;1934;1935;1936;1937;1938;1939;1940;1941;1942;1943;1944;1945;1946;1947;1948;1949;1950;1951;1952;1953;1954;1955;1956;1957;1958;1959;1960;1961;1962;1963;1964;1965;1966;1967;1968;1969;1970;1971;1972;1973;1974;1975;1976;1977;1978;1979;1980;1981;1982;1983;1984;1985;1986;1987;1988;1989;1990;1991;1992;1993;1994;1995;1996;1997;1998;1999;2000;2001;2002;2003;2004;2005;2006;2007;2008;2009;2010;2011;2012;2013;2014;2015;2016;2017;2018;2019;2020;2021</th>\n",
       "      <th>Unnamed: 1</th>\n",
       "    </tr>\n",
       "  </thead>\n",
       "  <tbody>\n",
       "    <tr>\n",
       "      <th>35</th>\n",
       "      <td>Congo Dem Rep;</td>\n",
       "      <td>40.4;40.4;40.4;40.4;40.4;40.4;40.4;40.4;40.4;4...</td>\n",
       "    </tr>\n",
       "    <tr>\n",
       "      <th>36</th>\n",
       "      <td>Congo Rep;</td>\n",
       "      <td>56.6;56.6;56.6;56.6;56.6;56.6;56.6;56.6;56.6;5...</td>\n",
       "    </tr>\n",
       "    <tr>\n",
       "      <th>59</th>\n",
       "      <td>Micronesia</td>\n",
       "      <td>Fed. Sts.;46.1;46.1;46.1;46.1;46.1;46.1;46.1;...</td>\n",
       "    </tr>\n",
       "    <tr>\n",
       "      <th>72</th>\n",
       "      <td>Hong Kong</td>\n",
       "      <td>China;48.7;48.7;48.7;48.7;48.7;48.7;48.7;48.7...</td>\n",
       "    </tr>\n",
       "  </tbody>\n",
       "</table>\n",
       "</div>"
      ],
      "text/plain": [
       "   country;1800;1801;1802;1803;1804;1805;1806;1807;1808;1809;1810;1811;1812;1813;1814;1815;1816;1817;1818;1819;1820;1821;1822;1823;1824;1825;1826;1827;1828;1829;1830;1831;1832;1833;1834;1835;1836;1837;1838;1839;1840;1841;1842;1843;1844;1845;1846;1847;1848;1849;1850;1851;1852;1853;1854;1855;1856;1857;1858;1859;1860;1861;1862;1863;1864;1865;1866;1867;1868;1869;1870;1871;1872;1873;1874;1875;1876;1877;1878;1879;1880;1881;1882;1883;1884;1885;1886;1887;1888;1889;1890;1891;1892;1893;1894;1895;1896;1897;1898;1899;1900;1901;1902;1903;1904;1905;1906;1907;1908;1909;1910;1911;1912;1913;1914;1915;1916;1917;1918;1919;1920;1921;1922;1923;1924;1925;1926;1927;1928;1929;1930;1931;1932;1933;1934;1935;1936;1937;1938;1939;1940;1941;1942;1943;1944;1945;1946;1947;1948;1949;1950;1951;1952;1953;1954;1955;1956;1957;1958;1959;1960;1961;1962;1963;1964;1965;1966;1967;1968;1969;1970;1971;1972;1973;1974;1975;1976;1977;1978;1979;1980;1981;1982;1983;1984;1985;1986;1987;1988;1989;1990;1991;1992;1993;1994;1995;1996;1997;1998;1999;2000;2001;2002;2003;2004;2005;2006;2007;2008;2009;2010;2011;2012;2013;2014;2015;2016;2017;2018;2019;2020;2021  \\\n",
       "35                                     Congo Dem Rep;                                                                                                                                                                                                                                                                                                                                                                                                                                                                                                                                                                                                                                                                                                                                                                                                                                                                                                                                                                                                                                                                                                              \n",
       "36                                         Congo Rep;                                                                                                                                                                                                                                                                                                                                                                                                                                                                                                                                                                                                                                                                                                                                                                                                                                                                                                                                                                                                                                                                                                              \n",
       "59                                         Micronesia                                                                                                                                                                                                                                                                                                                                                                                                                                                                                                                                                                                                                                                                                                                                                                                                                                                                                                                                                                                                                                                                                                              \n",
       "72                                          Hong Kong                                                                                                                                                                                                                                                                                                                                                                                                                                                                                                                                                                                                                                                                                                                                                                                                                                                                                                                                                                                                                                                                                                              \n",
       "\n",
       "                                           Unnamed: 1  \n",
       "35  40.4;40.4;40.4;40.4;40.4;40.4;40.4;40.4;40.4;4...  \n",
       "36  56.6;56.6;56.6;56.6;56.6;56.6;56.6;56.6;56.6;5...  \n",
       "59   Fed. Sts.;46.1;46.1;46.1;46.1;46.1;46.1;46.1;...  \n",
       "72   China;48.7;48.7;48.7;48.7;48.7;48.7;48.7;48.7...  "
      ]
     },
     "execution_count": 78,
     "metadata": {},
     "output_type": "execute_result"
    }
   ],
   "source": [
    "income_ineql.head()"
   ]
  },
  {
   "cell_type": "code",
   "execution_count": 80,
   "id": "a7e7a2fa",
   "metadata": {},
   "outputs": [
    {
     "data": {
      "text/html": [
       "<div>\n",
       "<style scoped>\n",
       "    .dataframe tbody tr th:only-of-type {\n",
       "        vertical-align: middle;\n",
       "    }\n",
       "\n",
       "    .dataframe tbody tr th {\n",
       "        vertical-align: top;\n",
       "    }\n",
       "\n",
       "    .dataframe thead th {\n",
       "        text-align: right;\n",
       "    }\n",
       "</style>\n",
       "<table border=\"1\" class=\"dataframe\">\n",
       "  <thead>\n",
       "    <tr style=\"text-align: right;\">\n",
       "      <th></th>\n",
       "      <th>country</th>\n",
       "      <th>2005</th>\n",
       "      <th>2006</th>\n",
       "      <th>2007</th>\n",
       "      <th>2008</th>\n",
       "      <th>2009</th>\n",
       "      <th>2010</th>\n",
       "      <th>2011</th>\n",
       "      <th>2012</th>\n",
       "      <th>2013</th>\n",
       "      <th>2014</th>\n",
       "      <th>2015</th>\n",
       "      <th>2016</th>\n",
       "      <th>2017</th>\n",
       "      <th>2018</th>\n",
       "      <th>2019</th>\n",
       "    </tr>\n",
       "  </thead>\n",
       "  <tbody>\n",
       "    <tr>\n",
       "      <th>0</th>\n",
       "      <td>Afghanistan</td>\n",
       "      <td>NaN</td>\n",
       "      <td>NaN</td>\n",
       "      <td>NaN</td>\n",
       "      <td>37.2</td>\n",
       "      <td>44.0</td>\n",
       "      <td>47.6</td>\n",
       "      <td>38.3</td>\n",
       "      <td>37.8</td>\n",
       "      <td>35.7</td>\n",
       "      <td>31.3</td>\n",
       "      <td>39.8</td>\n",
       "      <td>42.2</td>\n",
       "      <td>26.6</td>\n",
       "      <td>26.9</td>\n",
       "      <td>25.7</td>\n",
       "    </tr>\n",
       "    <tr>\n",
       "      <th>1</th>\n",
       "      <td>Angola</td>\n",
       "      <td>NaN</td>\n",
       "      <td>NaN</td>\n",
       "      <td>NaN</td>\n",
       "      <td>NaN</td>\n",
       "      <td>NaN</td>\n",
       "      <td>NaN</td>\n",
       "      <td>55.9</td>\n",
       "      <td>43.6</td>\n",
       "      <td>39.4</td>\n",
       "      <td>37.9</td>\n",
       "      <td>NaN</td>\n",
       "      <td>NaN</td>\n",
       "      <td>NaN</td>\n",
       "      <td>NaN</td>\n",
       "      <td>NaN</td>\n",
       "    </tr>\n",
       "    <tr>\n",
       "      <th>2</th>\n",
       "      <td>Albania</td>\n",
       "      <td>NaN</td>\n",
       "      <td>NaN</td>\n",
       "      <td>46.3</td>\n",
       "      <td>NaN</td>\n",
       "      <td>54.9</td>\n",
       "      <td>52.7</td>\n",
       "      <td>58.7</td>\n",
       "      <td>55.1</td>\n",
       "      <td>45.5</td>\n",
       "      <td>48.1</td>\n",
       "      <td>46.1</td>\n",
       "      <td>45.1</td>\n",
       "      <td>46.4</td>\n",
       "      <td>50.0</td>\n",
       "      <td>48.8</td>\n",
       "    </tr>\n",
       "    <tr>\n",
       "      <th>3</th>\n",
       "      <td>United Arab Emirates</td>\n",
       "      <td>NaN</td>\n",
       "      <td>67.3</td>\n",
       "      <td>NaN</td>\n",
       "      <td>NaN</td>\n",
       "      <td>68.7</td>\n",
       "      <td>71.0</td>\n",
       "      <td>71.2</td>\n",
       "      <td>72.2</td>\n",
       "      <td>66.2</td>\n",
       "      <td>65.4</td>\n",
       "      <td>65.7</td>\n",
       "      <td>68.3</td>\n",
       "      <td>70.4</td>\n",
       "      <td>66.0</td>\n",
       "      <td>67.9</td>\n",
       "    </tr>\n",
       "    <tr>\n",
       "      <th>4</th>\n",
       "      <td>Argentina</td>\n",
       "      <td>NaN</td>\n",
       "      <td>63.1</td>\n",
       "      <td>60.7</td>\n",
       "      <td>59.6</td>\n",
       "      <td>64.2</td>\n",
       "      <td>64.4</td>\n",
       "      <td>67.8</td>\n",
       "      <td>64.7</td>\n",
       "      <td>65.8</td>\n",
       "      <td>66.7</td>\n",
       "      <td>67.0</td>\n",
       "      <td>64.3</td>\n",
       "      <td>60.4</td>\n",
       "      <td>57.9</td>\n",
       "      <td>59.7</td>\n",
       "    </tr>\n",
       "  </tbody>\n",
       "</table>\n",
       "</div>"
      ],
      "text/plain": [
       "                country  2005  2006  2007  2008  2009  2010  2011  2012  2013  \\\n",
       "0           Afghanistan   NaN   NaN   NaN  37.2  44.0  47.6  38.3  37.8  35.7   \n",
       "1                Angola   NaN   NaN   NaN   NaN   NaN   NaN  55.9  43.6  39.4   \n",
       "2               Albania   NaN   NaN  46.3   NaN  54.9  52.7  58.7  55.1  45.5   \n",
       "3  United Arab Emirates   NaN  67.3   NaN   NaN  68.7  71.0  71.2  72.2  66.2   \n",
       "4             Argentina   NaN  63.1  60.7  59.6  64.2  64.4  67.8  64.7  65.8   \n",
       "\n",
       "   2014  2015  2016  2017  2018  2019  \n",
       "0  31.3  39.8  42.2  26.6  26.9  25.7  \n",
       "1  37.9   NaN   NaN   NaN   NaN   NaN  \n",
       "2  48.1  46.1  45.1  46.4  50.0  48.8  \n",
       "3  65.4  65.7  68.3  70.4  66.0  67.9  \n",
       "4  66.7  67.0  64.3  60.4  57.9  59.7  "
      ]
     },
     "execution_count": 80,
     "metadata": {},
     "output_type": "execute_result"
    }
   ],
   "source": [
    "happiness_score.head() #Happiness score has null values on every column, the best way tohandle this data is not by removal"
   ]
  },
  {
   "cell_type": "code",
   "execution_count": null,
   "id": "2d5a2575",
   "metadata": {},
   "outputs": [],
   "source": [
    "#Data Visualization, Analysis and Interpretation"
   ]
  },
  {
   "cell_type": "code",
   "execution_count": 82,
   "id": "8ebc59bc",
   "metadata": {},
   "outputs": [
    {
     "data": {
      "text/plain": [
       "<Figure size 2400x800 with 0 Axes>"
      ]
     },
     "execution_count": 82,
     "metadata": {},
     "output_type": "execute_result"
    },
    {
     "data": {
      "text/plain": [
       "<Figure size 2400x800 with 0 Axes>"
      ]
     },
     "metadata": {},
     "output_type": "display_data"
    }
   ],
   "source": [
    "pl.figure(figsize=(24,8))"
   ]
  },
  {
   "cell_type": "code",
   "execution_count": 87,
   "id": "bf04f4b9",
   "metadata": {},
   "outputs": [
    {
     "ename": "TypeError",
     "evalue": "barplot() takes from 0 to 1 positional arguments but 2 were given",
     "output_type": "error",
     "traceback": [
      "\u001b[0;31m---------------------------------------------------------------------------\u001b[0m",
      "\u001b[0;31mTypeError\u001b[0m                                 Traceback (most recent call last)",
      "Cell \u001b[0;32mIn[87], line 2\u001b[0m\n\u001b[1;32m      1\u001b[0m pl\u001b[38;5;241m.\u001b[39msubplot(\u001b[38;5;241m1\u001b[39m,\u001b[38;5;241m3\u001b[39m,\u001b[38;5;241m1\u001b[39m)\n\u001b[0;32m----> 2\u001b[0m sns\u001b[38;5;241m.\u001b[39mbarplot(happiness_score[\u001b[38;5;124m'\u001b[39m\u001b[38;5;124m2019\u001b[39m\u001b[38;5;124m'\u001b[39m][\u001b[38;5;241m0\u001b[39m:\u001b[38;5;241m5\u001b[39m], continents[\u001b[38;5;124m'\u001b[39m\u001b[38;5;124mcountry\u001b[39m\u001b[38;5;124m'\u001b[39m][\u001b[38;5;241m0\u001b[39m:\u001b[38;5;241m5\u001b[39m])\n",
      "\u001b[0;31mTypeError\u001b[0m: barplot() takes from 0 to 1 positional arguments but 2 were given"
     ]
    },
    {
     "data": {
      "image/png": "[encoded data removed]",
      "text/plain": [
       "<Figure size 640x480 with 1 Axes>"
      ]
     },
     "metadata": {},
     "output_type": "display_data"
    }
   ],
   "source": [
    "pl.subplot(1,3,1)\n",
    "sns.barplot(happiness_score['2019'][0:5], continents['country'][0:5])"
   ]
  },
  {
   "cell_type": "code",
   "execution_count": 92,
   "id": "9845bfce",
   "metadata": {},
   "outputs": [
    {
     "ename": "ParserError",
     "evalue": "Error tokenizing data. C error: Expected 1 fields in line 9, saw 2\n",
     "output_type": "error",
     "traceback": [
      "\u001b[0;31m---------------------------------------------------------------------------\u001b[0m",
      "\u001b[0;31mParserError\u001b[0m                               Traceback (most recent call last)",
      "Cell \u001b[0;32mIn[92], line 1\u001b[0m\n\u001b[0;32m----> 1\u001b[0m inequality \u001b[38;5;241m=\u001b[39m pd\u001b[38;5;241m.\u001b[39mread_csv(\u001b[38;5;124m'\u001b[39m\u001b[38;5;124m/Users/comfortuji/Desktop/happiness_analysis_data/income_ineql.xlsx\u001b[39m\u001b[38;5;124m'\u001b[39m, encoding\u001b[38;5;241m=\u001b[39m\u001b[38;5;124m'\u001b[39m\u001b[38;5;124mlatin-1\u001b[39m\u001b[38;5;124m'\u001b[39m)\n",
      "File \u001b[0;32m~/anaconda3/lib/python3.11/site-packages/pandas/util/_decorators.py:211\u001b[0m, in \u001b[0;36mdeprecate_kwarg.<locals>._deprecate_kwarg.<locals>.wrapper\u001b[0;34m(*args, **kwargs)\u001b[0m\n\u001b[1;32m    209\u001b[0m     \u001b[38;5;28;01melse\u001b[39;00m:\n\u001b[1;32m    210\u001b[0m         kwargs[new_arg_name] \u001b[38;5;241m=\u001b[39m new_arg_value\n\u001b[0;32m--> 211\u001b[0m \u001b[38;5;28;01mreturn\u001b[39;00m func(\u001b[38;5;241m*\u001b[39margs, \u001b[38;5;241m*\u001b[39m\u001b[38;5;241m*\u001b[39mkwargs)\n",
      "File \u001b[0;32m~/anaconda3/lib/python3.11/site-packages/pandas/util/_decorators.py:331\u001b[0m, in \u001b[0;36mdeprecate_nonkeyword_arguments.<locals>.decorate.<locals>.wrapper\u001b[0;34m(*args, **kwargs)\u001b[0m\n\u001b[1;32m    325\u001b[0m \u001b[38;5;28;01mif\u001b[39;00m \u001b[38;5;28mlen\u001b[39m(args) \u001b[38;5;241m>\u001b[39m num_allow_args:\n\u001b[1;32m    326\u001b[0m     warnings\u001b[38;5;241m.\u001b[39mwarn(\n\u001b[1;32m    327\u001b[0m         msg\u001b[38;5;241m.\u001b[39mformat(arguments\u001b[38;5;241m=\u001b[39m_format_argument_list(allow_args)),\n\u001b[1;32m    328\u001b[0m         \u001b[38;5;167;01mFutureWarning\u001b[39;00m,\n\u001b[1;32m    329\u001b[0m         stacklevel\u001b[38;5;241m=\u001b[39mfind_stack_level(),\n\u001b[1;32m    330\u001b[0m     )\n\u001b[0;32m--> 331\u001b[0m \u001b[38;5;28;01mreturn\u001b[39;00m func(\u001b[38;5;241m*\u001b[39margs, \u001b[38;5;241m*\u001b[39m\u001b[38;5;241m*\u001b[39mkwargs)\n",
      "File \u001b[0;32m~/anaconda3/lib/python3.11/site-packages/pandas/io/parsers/readers.py:950\u001b[0m, in \u001b[0;36mread_csv\u001b[0;34m(filepath_or_buffer, sep, delimiter, header, names, index_col, usecols, squeeze, prefix, mangle_dupe_cols, dtype, engine, converters, true_values, false_values, skipinitialspace, skiprows, skipfooter, nrows, na_values, keep_default_na, na_filter, verbose, skip_blank_lines, parse_dates, infer_datetime_format, keep_date_col, date_parser, dayfirst, cache_dates, iterator, chunksize, compression, thousands, decimal, lineterminator, quotechar, quoting, doublequote, escapechar, comment, encoding, encoding_errors, dialect, error_bad_lines, warn_bad_lines, on_bad_lines, delim_whitespace, low_memory, memory_map, float_precision, storage_options)\u001b[0m\n\u001b[1;32m    935\u001b[0m kwds_defaults \u001b[38;5;241m=\u001b[39m _refine_defaults_read(\n\u001b[1;32m    936\u001b[0m     dialect,\n\u001b[1;32m    937\u001b[0m     delimiter,\n\u001b[0;32m   (...)\u001b[0m\n\u001b[1;32m    946\u001b[0m     defaults\u001b[38;5;241m=\u001b[39m{\u001b[38;5;124m\"\u001b[39m\u001b[38;5;124mdelimiter\u001b[39m\u001b[38;5;124m\"\u001b[39m: \u001b[38;5;124m\"\u001b[39m\u001b[38;5;124m,\u001b[39m\u001b[38;5;124m\"\u001b[39m},\n\u001b[1;32m    947\u001b[0m )\n\u001b[1;32m    948\u001b[0m kwds\u001b[38;5;241m.\u001b[39mupdate(kwds_defaults)\n\u001b[0;32m--> 950\u001b[0m \u001b[38;5;28;01mreturn\u001b[39;00m _read(filepath_or_buffer, kwds)\n",
      "File \u001b[0;32m~/anaconda3/lib/python3.11/site-packages/pandas/io/parsers/readers.py:611\u001b[0m, in \u001b[0;36m_read\u001b[0;34m(filepath_or_buffer, kwds)\u001b[0m\n\u001b[1;32m    608\u001b[0m     \u001b[38;5;28;01mreturn\u001b[39;00m parser\n\u001b[1;32m    610\u001b[0m \u001b[38;5;28;01mwith\u001b[39;00m parser:\n\u001b[0;32m--> 611\u001b[0m     \u001b[38;5;28;01mreturn\u001b[39;00m parser\u001b[38;5;241m.\u001b[39mread(nrows)\n",
      "File \u001b[0;32m~/anaconda3/lib/python3.11/site-packages/pandas/io/parsers/readers.py:1778\u001b[0m, in \u001b[0;36mTextFileReader.read\u001b[0;34m(self, nrows)\u001b[0m\n\u001b[1;32m   1771\u001b[0m nrows \u001b[38;5;241m=\u001b[39m validate_integer(\u001b[38;5;124m\"\u001b[39m\u001b[38;5;124mnrows\u001b[39m\u001b[38;5;124m\"\u001b[39m, nrows)\n\u001b[1;32m   1772\u001b[0m \u001b[38;5;28;01mtry\u001b[39;00m:\n\u001b[1;32m   1773\u001b[0m     \u001b[38;5;66;03m# error: \"ParserBase\" has no attribute \"read\"\u001b[39;00m\n\u001b[1;32m   1774\u001b[0m     (\n\u001b[1;32m   1775\u001b[0m         index,\n\u001b[1;32m   1776\u001b[0m         columns,\n\u001b[1;32m   1777\u001b[0m         col_dict,\n\u001b[0;32m-> 1778\u001b[0m     ) \u001b[38;5;241m=\u001b[39m \u001b[38;5;28mself\u001b[39m\u001b[38;5;241m.\u001b[39m_engine\u001b[38;5;241m.\u001b[39mread(  \u001b[38;5;66;03m# type: ignore[attr-defined]\u001b[39;00m\n\u001b[1;32m   1779\u001b[0m         nrows\n\u001b[1;32m   1780\u001b[0m     )\n\u001b[1;32m   1781\u001b[0m \u001b[38;5;28;01mexcept\u001b[39;00m \u001b[38;5;167;01mException\u001b[39;00m:\n\u001b[1;32m   1782\u001b[0m     \u001b[38;5;28mself\u001b[39m\u001b[38;5;241m.\u001b[39mclose()\n",
      "File \u001b[0;32m~/anaconda3/lib/python3.11/site-packages/pandas/io/parsers/c_parser_wrapper.py:230\u001b[0m, in \u001b[0;36mCParserWrapper.read\u001b[0;34m(self, nrows)\u001b[0m\n\u001b[1;32m    228\u001b[0m \u001b[38;5;28;01mtry\u001b[39;00m:\n\u001b[1;32m    229\u001b[0m     \u001b[38;5;28;01mif\u001b[39;00m \u001b[38;5;28mself\u001b[39m\u001b[38;5;241m.\u001b[39mlow_memory:\n\u001b[0;32m--> 230\u001b[0m         chunks \u001b[38;5;241m=\u001b[39m \u001b[38;5;28mself\u001b[39m\u001b[38;5;241m.\u001b[39m_reader\u001b[38;5;241m.\u001b[39mread_low_memory(nrows)\n\u001b[1;32m    231\u001b[0m         \u001b[38;5;66;03m# destructive to chunks\u001b[39;00m\n\u001b[1;32m    232\u001b[0m         data \u001b[38;5;241m=\u001b[39m _concatenate_chunks(chunks)\n",
      "File \u001b[0;32m~/anaconda3/lib/python3.11/site-packages/pandas/_libs/parsers.pyx:808\u001b[0m, in \u001b[0;36mpandas._libs.parsers.TextReader.read_low_memory\u001b[0;34m()\u001b[0m\n",
      "File \u001b[0;32m~/anaconda3/lib/python3.11/site-packages/pandas/_libs/parsers.pyx:866\u001b[0m, in \u001b[0;36mpandas._libs.parsers.TextReader._read_rows\u001b[0;34m()\u001b[0m\n",
      "File \u001b[0;32m~/anaconda3/lib/python3.11/site-packages/pandas/_libs/parsers.pyx:852\u001b[0m, in \u001b[0;36mpandas._libs.parsers.TextReader._tokenize_rows\u001b[0;34m()\u001b[0m\n",
      "File \u001b[0;32m~/anaconda3/lib/python3.11/site-packages/pandas/_libs/parsers.pyx:1973\u001b[0m, in \u001b[0;36mpandas._libs.parsers.raise_parser_error\u001b[0;34m()\u001b[0m\n",
      "\u001b[0;31mParserError\u001b[0m: Error tokenizing data. C error: Expected 1 fields in line 9, saw 2\n"
     ]
    }
   ],
   "source": [
    "inequality = pd.read_csv('/Users/comfortuji/Desktop/happiness_analysis_data/income_ineql.xlsx', encoding='latin-1')"
   ]
  },
  {
   "cell_type": "code",
   "execution_count": 94,
   "id": "dde71d7b",
   "metadata": {},
   "outputs": [],
   "source": [
    "inequality = pd.read_csv('/Users/comfortuji/Desktop/happiness_analysis_data/income-inequality.csv')"
   ]
  },
  {
   "cell_type": "code",
   "execution_count": 95,
   "id": "fa2c8603",
   "metadata": {},
   "outputs": [
    {
     "data": {
      "text/html": [
       "<div>\n",
       "<style scoped>\n",
       "    .dataframe tbody tr th:only-of-type {\n",
       "        vertical-align: middle;\n",
       "    }\n",
       "\n",
       "    .dataframe tbody tr th {\n",
       "        vertical-align: top;\n",
       "    }\n",
       "\n",
       "    .dataframe thead th {\n",
       "        text-align: right;\n",
       "    }\n",
       "</style>\n",
       "<table border=\"1\" class=\"dataframe\">\n",
       "  <thead>\n",
       "    <tr style=\"text-align: right;\">\n",
       "      <th></th>\n",
       "      <th>country;1800;1801;1802;1803;1804;1805;1806;1807;1808;1809;1810;1811;1812;1813;1814;1815;1816;1817;1818;1819;1820;1821;1822;1823;1824;1825;1826;1827;1828;1829;1830;1831;1832;1833;1834;1835;1836;1837;1838;1839;1840;1841;1842;1843;1844;1845;1846;1847;1848;1849;1850;1851;1852;1853;1854;1855;1856;1857;1858;1859;1860;1861;1862;1863;1864;1865;1866;1867;1868;1869;1870;1871;1872;1873;1874;1875;1876;1877;1878;1879;1880;1881;1882;1883;1884;1885;1886;1887;1888;1889;1890;1891;1892;1893;1894;1895;1896;1897;1898;1899;1900;1901;1902;1903;1904;1905;1906;1907;1908;1909;1910;1911;1912;1913;1914;1915;1916;1917;1918;1919;1920;1921;1922;1923;1924;1925;1926;1927;1928;1929;1930;1931;1932;1933;1934;1935;1936;1937;1938;1939;1940;1941;1942;1943;1944;1945;1946;1947;1948;1949;1950;1951;1952;1953;1954;1955;1956;1957;1958;1959;1960;1961;1962;1963;1964;1965;1966;1967;1968;1969;1970;1971;1972;1973;1974;1975;1976;1977;1978;1979;1980;1981;1982;1983;1984;1985;1986;1987;1988;1989;1990;1991;1992;1993;1994;1995;1996;1997;1998;1999;2000;2001;2002;2003;2004;2005;2006;2007;2008;2009;2010;2011;2012;2013;2014;2015;2016;2017;2018;2019;2020;2021</th>\n",
       "      <th>Unnamed: 1</th>\n",
       "    </tr>\n",
       "  </thead>\n",
       "  <tbody>\n",
       "    <tr>\n",
       "      <th>0</th>\n",
       "      <td>Afghanistan;30.5;30.5;30.5;30.5;30.5;30.5;30.5...</td>\n",
       "      <td>NaN</td>\n",
       "    </tr>\n",
       "    <tr>\n",
       "      <th>1</th>\n",
       "      <td>Angola;57.7;57.7;57.7;57.7;57.7;57.7;57.7;57.7...</td>\n",
       "      <td>NaN</td>\n",
       "    </tr>\n",
       "    <tr>\n",
       "      <th>2</th>\n",
       "      <td>Albania;39.9;39.9;39.9;39.9;39.9;39.9;39.9;39....</td>\n",
       "      <td>NaN</td>\n",
       "    </tr>\n",
       "    <tr>\n",
       "      <th>3</th>\n",
       "      <td>Andorra;42.5;42.5;42.5;42.5;42.5;42.5;42.5;42....</td>\n",
       "      <td>NaN</td>\n",
       "    </tr>\n",
       "    <tr>\n",
       "      <th>4</th>\n",
       "      <td>United Arab Emirates;39.8;39.8;39.8;39.8;39.8;...</td>\n",
       "      <td>NaN</td>\n",
       "    </tr>\n",
       "  </tbody>\n",
       "</table>\n",
       "</div>"
      ],
      "text/plain": [
       "  country;1800;1801;1802;1803;1804;1805;1806;1807;1808;1809;1810;1811;1812;1813;1814;1815;1816;1817;1818;1819;1820;1821;1822;1823;1824;1825;1826;1827;1828;1829;1830;1831;1832;1833;1834;1835;1836;1837;1838;1839;1840;1841;1842;1843;1844;1845;1846;1847;1848;1849;1850;1851;1852;1853;1854;1855;1856;1857;1858;1859;1860;1861;1862;1863;1864;1865;1866;1867;1868;1869;1870;1871;1872;1873;1874;1875;1876;1877;1878;1879;1880;1881;1882;1883;1884;1885;1886;1887;1888;1889;1890;1891;1892;1893;1894;1895;1896;1897;1898;1899;1900;1901;1902;1903;1904;1905;1906;1907;1908;1909;1910;1911;1912;1913;1914;1915;1916;1917;1918;1919;1920;1921;1922;1923;1924;1925;1926;1927;1928;1929;1930;1931;1932;1933;1934;1935;1936;1937;1938;1939;1940;1941;1942;1943;1944;1945;1946;1947;1948;1949;1950;1951;1952;1953;1954;1955;1956;1957;1958;1959;1960;1961;1962;1963;1964;1965;1966;1967;1968;1969;1970;1971;1972;1973;1974;1975;1976;1977;1978;1979;1980;1981;1982;1983;1984;1985;1986;1987;1988;1989;1990;1991;1992;1993;1994;1995;1996;1997;1998;1999;2000;2001;2002;2003;2004;2005;2006;2007;2008;2009;2010;2011;2012;2013;2014;2015;2016;2017;2018;2019;2020;2021  \\\n",
       "0  Afghanistan;30.5;30.5;30.5;30.5;30.5;30.5;30.5...                                                                                                                                                                                                                                                                                                                                                                                                                                                                                                                                                                                                                                                                                                                                                                                                                                                                                                                                                                                                                                                                                                              \n",
       "1  Angola;57.7;57.7;57.7;57.7;57.7;57.7;57.7;57.7...                                                                                                                                                                                                                                                                                                                                                                                                                                                                                                                                                                                                                                                                                                                                                                                                                                                                                                                                                                                                                                                                                                              \n",
       "2  Albania;39.9;39.9;39.9;39.9;39.9;39.9;39.9;39....                                                                                                                                                                                                                                                                                                                                                                                                                                                                                                                                                                                                                                                                                                                                                                                                                                                                                                                                                                                                                                                                                                              \n",
       "3  Andorra;42.5;42.5;42.5;42.5;42.5;42.5;42.5;42....                                                                                                                                                                                                                                                                                                                                                                                                                                                                                                                                                                                                                                                                                                                                                                                                                                                                                                                                                                                                                                                                                                              \n",
       "4  United Arab Emirates;39.8;39.8;39.8;39.8;39.8;...                                                                                                                                                                                                                                                                                                                                                                                                                                                                                                                                                                                                                                                                                                                                                                                                                                                                                                                                                                                                                                                                                                              \n",
       "\n",
       "  Unnamed: 1  \n",
       "0        NaN  \n",
       "1        NaN  \n",
       "2        NaN  \n",
       "3        NaN  \n",
       "4        NaN  "
      ]
     },
     "execution_count": 95,
     "metadata": {},
     "output_type": "execute_result"
    }
   ],
   "source": [
    "inequality.head()"
   ]
  },
  {
   "cell_type": "code",
   "execution_count": 96,
   "id": "4d7eb610",
   "metadata": {},
   "outputs": [
    {
     "data": {
      "text/html": [
       "<div>\n",
       "<style scoped>\n",
       "    .dataframe tbody tr th:only-of-type {\n",
       "        vertical-align: middle;\n",
       "    }\n",
       "\n",
       "    .dataframe tbody tr th {\n",
       "        vertical-align: top;\n",
       "    }\n",
       "\n",
       "    .dataframe thead th {\n",
       "        text-align: right;\n",
       "    }\n",
       "</style>\n",
       "<table border=\"1\" class=\"dataframe\">\n",
       "  <thead>\n",
       "    <tr style=\"text-align: right;\">\n",
       "      <th></th>\n",
       "      <th>continent</th>\n",
       "      <th>country</th>\n",
       "    </tr>\n",
       "  </thead>\n",
       "  <tbody>\n",
       "    <tr>\n",
       "      <th>0</th>\n",
       "      <td>Africa</td>\n",
       "      <td>Algeria</td>\n",
       "    </tr>\n",
       "    <tr>\n",
       "      <th>1</th>\n",
       "      <td>Africa</td>\n",
       "      <td>Angola</td>\n",
       "    </tr>\n",
       "    <tr>\n",
       "      <th>2</th>\n",
       "      <td>Africa</td>\n",
       "      <td>Benin</td>\n",
       "    </tr>\n",
       "    <tr>\n",
       "      <th>3</th>\n",
       "      <td>Africa</td>\n",
       "      <td>Botswana</td>\n",
       "    </tr>\n",
       "    <tr>\n",
       "      <th>4</th>\n",
       "      <td>Africa</td>\n",
       "      <td>Burkina</td>\n",
       "    </tr>\n",
       "  </tbody>\n",
       "</table>\n",
       "</div>"
      ],
      "text/plain": [
       "  continent   country\n",
       "0    Africa   Algeria\n",
       "1    Africa    Angola\n",
       "2    Africa     Benin\n",
       "3    Africa  Botswana\n",
       "4    Africa   Burkina"
      ]
     },
     "execution_count": 96,
     "metadata": {},
     "output_type": "execute_result"
    }
   ],
   "source": [
    "continents.head()"
   ]
  },
  {
   "cell_type": "code",
   "execution_count": 97,
   "id": "9cec5df2",
   "metadata": {},
   "outputs": [
    {
     "name": "stdout",
     "output_type": "stream",
     "text": [
      "continents are: 0             Africa\n",
      "1             Africa\n",
      "2             Africa\n",
      "3             Africa\n",
      "4             Africa\n",
      "           ...      \n",
      "189    South America\n",
      "190    South America\n",
      "191    South America\n",
      "192    South America\n",
      "193    South America\n",
      "Name: continent, Length: 194, dtype: object\n"
     ]
    }
   ],
   "source": [
    "print(\"continents are:\", continents['continent'])"
   ]
  },
  {
   "cell_type": "code",
   "execution_count": 98,
   "id": "0e593a44",
   "metadata": {},
   "outputs": [],
   "source": [
    "ave_inc = pd.read_csv('/Users/comfortuji/Desktop/happiness_analysis_data/average_incomes.csv')"
   ]
  },
  {
   "cell_type": "code",
   "execution_count": 99,
   "id": "ab9f0903",
   "metadata": {},
   "outputs": [
    {
     "data": {
      "text/html": [
       "<div>\n",
       "<style scoped>\n",
       "    .dataframe tbody tr th:only-of-type {\n",
       "        vertical-align: middle;\n",
       "    }\n",
       "\n",
       "    .dataframe tbody tr th {\n",
       "        vertical-align: top;\n",
       "    }\n",
       "\n",
       "    .dataframe thead th {\n",
       "        text-align: right;\n",
       "    }\n",
       "</style>\n",
       "<table border=\"1\" class=\"dataframe\">\n",
       "  <thead>\n",
       "    <tr style=\"text-align: right;\">\n",
       "      <th></th>\n",
       "      <th>country</th>\n",
       "      <th>1800</th>\n",
       "      <th>1801</th>\n",
       "      <th>1802</th>\n",
       "      <th>1803</th>\n",
       "      <th>1804</th>\n",
       "      <th>1805</th>\n",
       "      <th>1806</th>\n",
       "      <th>1807</th>\n",
       "      <th>1808</th>\n",
       "      <th>...</th>\n",
       "      <th>2012</th>\n",
       "      <th>2013</th>\n",
       "      <th>2014</th>\n",
       "      <th>2015</th>\n",
       "      <th>2016</th>\n",
       "      <th>2017</th>\n",
       "      <th>2018</th>\n",
       "      <th>2019</th>\n",
       "      <th>2020</th>\n",
       "      <th>2021</th>\n",
       "    </tr>\n",
       "  </thead>\n",
       "  <tbody>\n",
       "    <tr>\n",
       "      <th>0</th>\n",
       "      <td>Afghanistan</td>\n",
       "      <td>919.00</td>\n",
       "      <td>919.00</td>\n",
       "      <td>919.00</td>\n",
       "      <td>919.00</td>\n",
       "      <td>919.00</td>\n",
       "      <td>919.00</td>\n",
       "      <td>919.00</td>\n",
       "      <td>919.00</td>\n",
       "      <td>919.00</td>\n",
       "      <td>...</td>\n",
       "      <td>2.83</td>\n",
       "      <td>2.89</td>\n",
       "      <td>2.87</td>\n",
       "      <td>2.82</td>\n",
       "      <td>2.81</td>\n",
       "      <td>2.81</td>\n",
       "      <td>2.77</td>\n",
       "      <td>2.82</td>\n",
       "      <td>2.62</td>\n",
       "      <td>2.66</td>\n",
       "    </tr>\n",
       "    <tr>\n",
       "      <th>1</th>\n",
       "      <td>Angola</td>\n",
       "      <td>2.27</td>\n",
       "      <td>2.27</td>\n",
       "      <td>2.28</td>\n",
       "      <td>2.29</td>\n",
       "      <td>2.30</td>\n",
       "      <td>2.31</td>\n",
       "      <td>2.32</td>\n",
       "      <td>2.33</td>\n",
       "      <td>2.35</td>\n",
       "      <td>...</td>\n",
       "      <td>3.73</td>\n",
       "      <td>3.76</td>\n",
       "      <td>3.78</td>\n",
       "      <td>3.67</td>\n",
       "      <td>3.55</td>\n",
       "      <td>3.37</td>\n",
       "      <td>3.12</td>\n",
       "      <td>2.99</td>\n",
       "      <td>2.79</td>\n",
       "      <td>2.72</td>\n",
       "    </tr>\n",
       "    <tr>\n",
       "      <th>2</th>\n",
       "      <td>Albania</td>\n",
       "      <td>1.22</td>\n",
       "      <td>1.22</td>\n",
       "      <td>1.22</td>\n",
       "      <td>1.22</td>\n",
       "      <td>1.22</td>\n",
       "      <td>1.22</td>\n",
       "      <td>1.22</td>\n",
       "      <td>1.22</td>\n",
       "      <td>1.22</td>\n",
       "      <td>...</td>\n",
       "      <td>7.99</td>\n",
       "      <td>8.20</td>\n",
       "      <td>8.52</td>\n",
       "      <td>8.62</td>\n",
       "      <td>8.79</td>\n",
       "      <td>8.73</td>\n",
       "      <td>9.04</td>\n",
       "      <td>9.35</td>\n",
       "      <td>9.04</td>\n",
       "      <td>9.50</td>\n",
       "    </tr>\n",
       "    <tr>\n",
       "      <th>3</th>\n",
       "      <td>Andorra</td>\n",
       "      <td>1.48</td>\n",
       "      <td>1.49</td>\n",
       "      <td>1.49</td>\n",
       "      <td>1.49</td>\n",
       "      <td>1.49</td>\n",
       "      <td>1.50</td>\n",
       "      <td>1.50</td>\n",
       "      <td>1.50</td>\n",
       "      <td>1.51</td>\n",
       "      <td>...</td>\n",
       "      <td>52.00</td>\n",
       "      <td>54.20</td>\n",
       "      <td>55.70</td>\n",
       "      <td>57.70</td>\n",
       "      <td>59.70</td>\n",
       "      <td>61.70</td>\n",
       "      <td>63.80</td>\n",
       "      <td>66.00</td>\n",
       "      <td>68.30</td>\n",
       "      <td>70.60</td>\n",
       "    </tr>\n",
       "    <tr>\n",
       "      <th>4</th>\n",
       "      <td>United Arab Emirates</td>\n",
       "      <td>2.90</td>\n",
       "      <td>2.91</td>\n",
       "      <td>2.92</td>\n",
       "      <td>2.93</td>\n",
       "      <td>2.94</td>\n",
       "      <td>2.95</td>\n",
       "      <td>2.96</td>\n",
       "      <td>2.97</td>\n",
       "      <td>2.98</td>\n",
       "      <td>...</td>\n",
       "      <td>70.40</td>\n",
       "      <td>73.60</td>\n",
       "      <td>83.70</td>\n",
       "      <td>69.10</td>\n",
       "      <td>71.20</td>\n",
       "      <td>78.70</td>\n",
       "      <td>84.10</td>\n",
       "      <td>94.00</td>\n",
       "      <td>85.80</td>\n",
       "      <td>85.80</td>\n",
       "    </tr>\n",
       "  </tbody>\n",
       "</table>\n",
       "<p>5 rows × 223 columns</p>\n",
       "</div>"
      ],
      "text/plain": [
       "                country    1800    1801    1802    1803    1804    1805  \\\n",
       "0           Afghanistan  919.00  919.00  919.00  919.00  919.00  919.00   \n",
       "1                Angola    2.27    2.27    2.28    2.29    2.30    2.31   \n",
       "2               Albania    1.22    1.22    1.22    1.22    1.22    1.22   \n",
       "3               Andorra    1.48    1.49    1.49    1.49    1.49    1.50   \n",
       "4  United Arab Emirates    2.90    2.91    2.92    2.93    2.94    2.95   \n",
       "\n",
       "     1806    1807    1808  ...   2012   2013   2014   2015   2016   2017  \\\n",
       "0  919.00  919.00  919.00  ...   2.83   2.89   2.87   2.82   2.81   2.81   \n",
       "1    2.32    2.33    2.35  ...   3.73   3.76   3.78   3.67   3.55   3.37   \n",
       "2    1.22    1.22    1.22  ...   7.99   8.20   8.52   8.62   8.79   8.73   \n",
       "3    1.50    1.50    1.51  ...  52.00  54.20  55.70  57.70  59.70  61.70   \n",
       "4    2.96    2.97    2.98  ...  70.40  73.60  83.70  69.10  71.20  78.70   \n",
       "\n",
       "    2018   2019   2020   2021  \n",
       "0   2.77   2.82   2.62   2.66  \n",
       "1   3.12   2.99   2.79   2.72  \n",
       "2   9.04   9.35   9.04   9.50  \n",
       "3  63.80  66.00  68.30  70.60  \n",
       "4  84.10  94.00  85.80  85.80  \n",
       "\n",
       "[5 rows x 223 columns]"
      ]
     },
     "execution_count": 99,
     "metadata": {},
     "output_type": "execute_result"
    }
   ],
   "source": [
    "ave_inc.head()"
   ]
  },
  {
   "cell_type": "code",
   "execution_count": 100,
   "id": "cc376981",
   "metadata": {},
   "outputs": [],
   "source": [
    "populace = pd.read_csv('/Users/comfortuji/Desktop/happiness_analysis_data/population_WB.csv')"
   ]
  },
  {
   "cell_type": "code",
   "execution_count": 101,
   "id": "ffedd9d6",
   "metadata": {},
   "outputs": [
    {
     "data": {
      "text/html": [
       "<div>\n",
       "<style scoped>\n",
       "    .dataframe tbody tr th:only-of-type {\n",
       "        vertical-align: middle;\n",
       "    }\n",
       "\n",
       "    .dataframe tbody tr th {\n",
       "        vertical-align: top;\n",
       "    }\n",
       "\n",
       "    .dataframe thead th {\n",
       "        text-align: right;\n",
       "    }\n",
       "</style>\n",
       "<table border=\"1\" class=\"dataframe\">\n",
       "  <thead>\n",
       "    <tr style=\"text-align: right;\">\n",
       "      <th></th>\n",
       "      <th>Country Name</th>\n",
       "      <th>Country Code</th>\n",
       "      <th>1960</th>\n",
       "      <th>1961</th>\n",
       "      <th>1962</th>\n",
       "      <th>1963</th>\n",
       "      <th>1964</th>\n",
       "      <th>1965</th>\n",
       "      <th>1966</th>\n",
       "      <th>1967</th>\n",
       "      <th>...</th>\n",
       "      <th>2011</th>\n",
       "      <th>2012</th>\n",
       "      <th>2013</th>\n",
       "      <th>2014</th>\n",
       "      <th>2015</th>\n",
       "      <th>2016</th>\n",
       "      <th>2017</th>\n",
       "      <th>2018</th>\n",
       "      <th>2019</th>\n",
       "      <th>2020</th>\n",
       "    </tr>\n",
       "  </thead>\n",
       "  <tbody>\n",
       "    <tr>\n",
       "      <th>0</th>\n",
       "      <td>Aruba</td>\n",
       "      <td>ABW</td>\n",
       "      <td>54208.0</td>\n",
       "      <td>55434.0</td>\n",
       "      <td>56234.0</td>\n",
       "      <td>56699.0</td>\n",
       "      <td>57029.0</td>\n",
       "      <td>57357.0</td>\n",
       "      <td>57702.0</td>\n",
       "      <td>58044.0</td>\n",
       "      <td>...</td>\n",
       "      <td>102050.0</td>\n",
       "      <td>102565.0</td>\n",
       "      <td>103165.0</td>\n",
       "      <td>103776.0</td>\n",
       "      <td>104339.0</td>\n",
       "      <td>104865.0</td>\n",
       "      <td>105361.0</td>\n",
       "      <td>105846.0</td>\n",
       "      <td>106310.0</td>\n",
       "      <td>106766.0</td>\n",
       "    </tr>\n",
       "    <tr>\n",
       "      <th>1</th>\n",
       "      <td>Africa Eastern and Southern</td>\n",
       "      <td>AFE</td>\n",
       "      <td>130836765.0</td>\n",
       "      <td>134159786.0</td>\n",
       "      <td>137614644.0</td>\n",
       "      <td>141202036.0</td>\n",
       "      <td>144920186.0</td>\n",
       "      <td>148769974.0</td>\n",
       "      <td>152752671.0</td>\n",
       "      <td>156876454.0</td>\n",
       "      <td>...</td>\n",
       "      <td>532760424.0</td>\n",
       "      <td>547482863.0</td>\n",
       "      <td>562601578.0</td>\n",
       "      <td>578075373.0</td>\n",
       "      <td>593871847.0</td>\n",
       "      <td>609978946.0</td>\n",
       "      <td>626392880.0</td>\n",
       "      <td>643090131.0</td>\n",
       "      <td>660046272.0</td>\n",
       "      <td>677243299.0</td>\n",
       "    </tr>\n",
       "    <tr>\n",
       "      <th>2</th>\n",
       "      <td>Afghanistan</td>\n",
       "      <td>AFG</td>\n",
       "      <td>8996967.0</td>\n",
       "      <td>9169406.0</td>\n",
       "      <td>9351442.0</td>\n",
       "      <td>9543200.0</td>\n",
       "      <td>9744772.0</td>\n",
       "      <td>9956318.0</td>\n",
       "      <td>10174840.0</td>\n",
       "      <td>10399936.0</td>\n",
       "      <td>...</td>\n",
       "      <td>30117411.0</td>\n",
       "      <td>31161378.0</td>\n",
       "      <td>32269592.0</td>\n",
       "      <td>33370804.0</td>\n",
       "      <td>34413603.0</td>\n",
       "      <td>35383028.0</td>\n",
       "      <td>36296111.0</td>\n",
       "      <td>37171922.0</td>\n",
       "      <td>38041757.0</td>\n",
       "      <td>38928341.0</td>\n",
       "    </tr>\n",
       "    <tr>\n",
       "      <th>3</th>\n",
       "      <td>Africa Western and Central</td>\n",
       "      <td>AFW</td>\n",
       "      <td>96396419.0</td>\n",
       "      <td>98407221.0</td>\n",
       "      <td>100506960.0</td>\n",
       "      <td>102691339.0</td>\n",
       "      <td>104953470.0</td>\n",
       "      <td>107289875.0</td>\n",
       "      <td>109701811.0</td>\n",
       "      <td>112195950.0</td>\n",
       "      <td>...</td>\n",
       "      <td>360285439.0</td>\n",
       "      <td>370243017.0</td>\n",
       "      <td>380437896.0</td>\n",
       "      <td>390882979.0</td>\n",
       "      <td>401586651.0</td>\n",
       "      <td>412551299.0</td>\n",
       "      <td>423769930.0</td>\n",
       "      <td>435229381.0</td>\n",
       "      <td>446911598.0</td>\n",
       "      <td>458803476.0</td>\n",
       "    </tr>\n",
       "    <tr>\n",
       "      <th>4</th>\n",
       "      <td>Angola</td>\n",
       "      <td>AGO</td>\n",
       "      <td>5454938.0</td>\n",
       "      <td>5531451.0</td>\n",
       "      <td>5608499.0</td>\n",
       "      <td>5679409.0</td>\n",
       "      <td>5734995.0</td>\n",
       "      <td>5770573.0</td>\n",
       "      <td>5781305.0</td>\n",
       "      <td>5774440.0</td>\n",
       "      <td>...</td>\n",
       "      <td>24220660.0</td>\n",
       "      <td>25107925.0</td>\n",
       "      <td>26015786.0</td>\n",
       "      <td>26941773.0</td>\n",
       "      <td>27884380.0</td>\n",
       "      <td>28842482.0</td>\n",
       "      <td>29816769.0</td>\n",
       "      <td>30809787.0</td>\n",
       "      <td>31825299.0</td>\n",
       "      <td>32866268.0</td>\n",
       "    </tr>\n",
       "  </tbody>\n",
       "</table>\n",
       "<p>5 rows × 63 columns</p>\n",
       "</div>"
      ],
      "text/plain": [
       "                  Country Name Country Code         1960         1961  \\\n",
       "0                        Aruba          ABW      54208.0      55434.0   \n",
       "1  Africa Eastern and Southern          AFE  130836765.0  134159786.0   \n",
       "2                  Afghanistan          AFG    8996967.0    9169406.0   \n",
       "3   Africa Western and Central          AFW   96396419.0   98407221.0   \n",
       "4                       Angola          AGO    5454938.0    5531451.0   \n",
       "\n",
       "          1962         1963         1964         1965         1966  \\\n",
       "0      56234.0      56699.0      57029.0      57357.0      57702.0   \n",
       "1  137614644.0  141202036.0  144920186.0  148769974.0  152752671.0   \n",
       "2    9351442.0    9543200.0    9744772.0    9956318.0   10174840.0   \n",
       "3  100506960.0  102691339.0  104953470.0  107289875.0  109701811.0   \n",
       "4    5608499.0    5679409.0    5734995.0    5770573.0    5781305.0   \n",
       "\n",
       "          1967  ...         2011         2012         2013         2014  \\\n",
       "0      58044.0  ...     102050.0     102565.0     103165.0     103776.0   \n",
       "1  156876454.0  ...  532760424.0  547482863.0  562601578.0  578075373.0   \n",
       "2   10399936.0  ...   30117411.0   31161378.0   32269592.0   33370804.0   \n",
       "3  112195950.0  ...  360285439.0  370243017.0  380437896.0  390882979.0   \n",
       "4    5774440.0  ...   24220660.0   25107925.0   26015786.0   26941773.0   \n",
       "\n",
       "          2015         2016         2017         2018         2019  \\\n",
       "0     104339.0     104865.0     105361.0     105846.0     106310.0   \n",
       "1  593871847.0  609978946.0  626392880.0  643090131.0  660046272.0   \n",
       "2   34413603.0   35383028.0   36296111.0   37171922.0   38041757.0   \n",
       "3  401586651.0  412551299.0  423769930.0  435229381.0  446911598.0   \n",
       "4   27884380.0   28842482.0   29816769.0   30809787.0   31825299.0   \n",
       "\n",
       "          2020  \n",
       "0     106766.0  \n",
       "1  677243299.0  \n",
       "2   38928341.0  \n",
       "3  458803476.0  \n",
       "4   32866268.0  \n",
       "\n",
       "[5 rows x 63 columns]"
      ]
     },
     "execution_count": 101,
     "metadata": {},
     "output_type": "execute_result"
    }
   ],
   "source": [
    "populace.head()"
   ]
  },
  {
   "cell_type": "code",
   "execution_count": 102,
   "id": "12b09345",
   "metadata": {},
   "outputs": [],
   "source": [
    "women = pd.read_csv('/Users/comfortuji/Desktop/happiness_analysis_data/women_in_parliament.csv')"
   ]
  },
  {
   "cell_type": "code",
   "execution_count": 103,
   "id": "ea7932ec",
   "metadata": {},
   "outputs": [
    {
     "data": {
      "text/html": [
       "<div>\n",
       "<style scoped>\n",
       "    .dataframe tbody tr th:only-of-type {\n",
       "        vertical-align: middle;\n",
       "    }\n",
       "\n",
       "    .dataframe tbody tr th {\n",
       "        vertical-align: top;\n",
       "    }\n",
       "\n",
       "    .dataframe thead th {\n",
       "        text-align: right;\n",
       "    }\n",
       "</style>\n",
       "<table border=\"1\" class=\"dataframe\">\n",
       "  <thead>\n",
       "    <tr style=\"text-align: right;\">\n",
       "      <th></th>\n",
       "      <th>country</th>\n",
       "      <th>1945</th>\n",
       "      <th>1946</th>\n",
       "      <th>1947</th>\n",
       "      <th>1948</th>\n",
       "      <th>1949</th>\n",
       "      <th>1950</th>\n",
       "      <th>1951</th>\n",
       "      <th>1952</th>\n",
       "      <th>1953</th>\n",
       "      <th>...</th>\n",
       "      <th>2011</th>\n",
       "      <th>2012</th>\n",
       "      <th>2013</th>\n",
       "      <th>2014</th>\n",
       "      <th>2015</th>\n",
       "      <th>2016</th>\n",
       "      <th>2017</th>\n",
       "      <th>2018</th>\n",
       "      <th>2019</th>\n",
       "      <th>2020</th>\n",
       "    </tr>\n",
       "  </thead>\n",
       "  <tbody>\n",
       "    <tr>\n",
       "      <th>0</th>\n",
       "      <td>Afghanistan</td>\n",
       "      <td>NaN</td>\n",
       "      <td>NaN</td>\n",
       "      <td>NaN</td>\n",
       "      <td>NaN</td>\n",
       "      <td>NaN</td>\n",
       "      <td>NaN</td>\n",
       "      <td>NaN</td>\n",
       "      <td>NaN</td>\n",
       "      <td>NaN</td>\n",
       "      <td>...</td>\n",
       "      <td>27.4</td>\n",
       "      <td>27.4</td>\n",
       "      <td>27.4</td>\n",
       "      <td>27.4</td>\n",
       "      <td>27.4</td>\n",
       "      <td>27.7</td>\n",
       "      <td>27.8</td>\n",
       "      <td>27.9</td>\n",
       "      <td>27.2</td>\n",
       "      <td>27.2</td>\n",
       "    </tr>\n",
       "    <tr>\n",
       "      <th>1</th>\n",
       "      <td>Angola</td>\n",
       "      <td>NaN</td>\n",
       "      <td>NaN</td>\n",
       "      <td>NaN</td>\n",
       "      <td>NaN</td>\n",
       "      <td>NaN</td>\n",
       "      <td>NaN</td>\n",
       "      <td>NaN</td>\n",
       "      <td>NaN</td>\n",
       "      <td>NaN</td>\n",
       "      <td>...</td>\n",
       "      <td>34.9</td>\n",
       "      <td>34.1</td>\n",
       "      <td>33.5</td>\n",
       "      <td>32.8</td>\n",
       "      <td>32.2</td>\n",
       "      <td>31.6</td>\n",
       "      <td>30.9</td>\n",
       "      <td>30.4</td>\n",
       "      <td>30.0</td>\n",
       "      <td>30.0</td>\n",
       "    </tr>\n",
       "    <tr>\n",
       "      <th>2</th>\n",
       "      <td>Albania</td>\n",
       "      <td>3.66</td>\n",
       "      <td>6.46</td>\n",
       "      <td>8.81</td>\n",
       "      <td>10.8</td>\n",
       "      <td>12.5</td>\n",
       "      <td>14.1</td>\n",
       "      <td>13.5</td>\n",
       "      <td>12.9</td>\n",
       "      <td>12.4</td>\n",
       "      <td>...</td>\n",
       "      <td>16.1</td>\n",
       "      <td>15.9</td>\n",
       "      <td>15.7</td>\n",
       "      <td>18.8</td>\n",
       "      <td>21.8</td>\n",
       "      <td>24.8</td>\n",
       "      <td>27.9</td>\n",
       "      <td>28.6</td>\n",
       "      <td>29.5</td>\n",
       "      <td>29.5</td>\n",
       "    </tr>\n",
       "    <tr>\n",
       "      <th>3</th>\n",
       "      <td>Andorra</td>\n",
       "      <td>NaN</td>\n",
       "      <td>NaN</td>\n",
       "      <td>NaN</td>\n",
       "      <td>NaN</td>\n",
       "      <td>NaN</td>\n",
       "      <td>NaN</td>\n",
       "      <td>NaN</td>\n",
       "      <td>NaN</td>\n",
       "      <td>NaN</td>\n",
       "      <td>...</td>\n",
       "      <td>51.8</td>\n",
       "      <td>50.0</td>\n",
       "      <td>47.6</td>\n",
       "      <td>44.3</td>\n",
       "      <td>39.3</td>\n",
       "      <td>41.1</td>\n",
       "      <td>42.9</td>\n",
       "      <td>44.6</td>\n",
       "      <td>46.4</td>\n",
       "      <td>46.4</td>\n",
       "    </tr>\n",
       "    <tr>\n",
       "      <th>4</th>\n",
       "      <td>United Arab Emirates</td>\n",
       "      <td>NaN</td>\n",
       "      <td>NaN</td>\n",
       "      <td>NaN</td>\n",
       "      <td>NaN</td>\n",
       "      <td>NaN</td>\n",
       "      <td>NaN</td>\n",
       "      <td>NaN</td>\n",
       "      <td>NaN</td>\n",
       "      <td>NaN</td>\n",
       "      <td>...</td>\n",
       "      <td>5.0</td>\n",
       "      <td>17.5</td>\n",
       "      <td>19.2</td>\n",
       "      <td>20.8</td>\n",
       "      <td>22.5</td>\n",
       "      <td>29.4</td>\n",
       "      <td>36.3</td>\n",
       "      <td>43.1</td>\n",
       "      <td>50.0</td>\n",
       "      <td>50.0</td>\n",
       "    </tr>\n",
       "  </tbody>\n",
       "</table>\n",
       "<p>5 rows × 77 columns</p>\n",
       "</div>"
      ],
      "text/plain": [
       "                country  1945  1946  1947  1948  1949  1950  1951  1952  1953  \\\n",
       "0           Afghanistan   NaN   NaN   NaN   NaN   NaN   NaN   NaN   NaN   NaN   \n",
       "1                Angola   NaN   NaN   NaN   NaN   NaN   NaN   NaN   NaN   NaN   \n",
       "2               Albania  3.66  6.46  8.81  10.8  12.5  14.1  13.5  12.9  12.4   \n",
       "3               Andorra   NaN   NaN   NaN   NaN   NaN   NaN   NaN   NaN   NaN   \n",
       "4  United Arab Emirates   NaN   NaN   NaN   NaN   NaN   NaN   NaN   NaN   NaN   \n",
       "\n",
       "   ...  2011  2012  2013  2014  2015  2016  2017  2018  2019  2020  \n",
       "0  ...  27.4  27.4  27.4  27.4  27.4  27.7  27.8  27.9  27.2  27.2  \n",
       "1  ...  34.9  34.1  33.5  32.8  32.2  31.6  30.9  30.4  30.0  30.0  \n",
       "2  ...  16.1  15.9  15.7  18.8  21.8  24.8  27.9  28.6  29.5  29.5  \n",
       "3  ...  51.8  50.0  47.6  44.3  39.3  41.1  42.9  44.6  46.4  46.4  \n",
       "4  ...   5.0  17.5  19.2  20.8  22.5  29.4  36.3  43.1  50.0  50.0  \n",
       "\n",
       "[5 rows x 77 columns]"
      ]
     },
     "execution_count": 103,
     "metadata": {},
     "output_type": "execute_result"
    }
   ],
   "source": [
    "women.head()"
   ]
  },
  {
   "cell_type": "code",
   "execution_count": 104,
   "id": "9f9dad12",
   "metadata": {},
   "outputs": [],
   "source": [
    "women[[\"1945\",\"1946\"]] = women[[\"1945\",\"1946\"]].fillna(0)"
   ]
  },
  {
   "cell_type": "code",
   "execution_count": 105,
   "id": "9dcd9470",
   "metadata": {},
   "outputs": [
    {
     "data": {
      "text/html": [
       "<div>\n",
       "<style scoped>\n",
       "    .dataframe tbody tr th:only-of-type {\n",
       "        vertical-align: middle;\n",
       "    }\n",
       "\n",
       "    .dataframe tbody tr th {\n",
       "        vertical-align: top;\n",
       "    }\n",
       "\n",
       "    .dataframe thead th {\n",
       "        text-align: right;\n",
       "    }\n",
       "</style>\n",
       "<table border=\"1\" class=\"dataframe\">\n",
       "  <thead>\n",
       "    <tr style=\"text-align: right;\">\n",
       "      <th></th>\n",
       "      <th>country</th>\n",
       "      <th>1945</th>\n",
       "      <th>1946</th>\n",
       "      <th>1947</th>\n",
       "      <th>1948</th>\n",
       "      <th>1949</th>\n",
       "      <th>1950</th>\n",
       "      <th>1951</th>\n",
       "      <th>1952</th>\n",
       "      <th>1953</th>\n",
       "      <th>...</th>\n",
       "      <th>2011</th>\n",
       "      <th>2012</th>\n",
       "      <th>2013</th>\n",
       "      <th>2014</th>\n",
       "      <th>2015</th>\n",
       "      <th>2016</th>\n",
       "      <th>2017</th>\n",
       "      <th>2018</th>\n",
       "      <th>2019</th>\n",
       "      <th>2020</th>\n",
       "    </tr>\n",
       "  </thead>\n",
       "  <tbody>\n",
       "    <tr>\n",
       "      <th>0</th>\n",
       "      <td>Afghanistan</td>\n",
       "      <td>0.00</td>\n",
       "      <td>0.00</td>\n",
       "      <td>NaN</td>\n",
       "      <td>NaN</td>\n",
       "      <td>NaN</td>\n",
       "      <td>NaN</td>\n",
       "      <td>NaN</td>\n",
       "      <td>NaN</td>\n",
       "      <td>NaN</td>\n",
       "      <td>...</td>\n",
       "      <td>27.4</td>\n",
       "      <td>27.4</td>\n",
       "      <td>27.4</td>\n",
       "      <td>27.4</td>\n",
       "      <td>27.4</td>\n",
       "      <td>27.7</td>\n",
       "      <td>27.8</td>\n",
       "      <td>27.9</td>\n",
       "      <td>27.2</td>\n",
       "      <td>27.2</td>\n",
       "    </tr>\n",
       "    <tr>\n",
       "      <th>1</th>\n",
       "      <td>Angola</td>\n",
       "      <td>0.00</td>\n",
       "      <td>0.00</td>\n",
       "      <td>NaN</td>\n",
       "      <td>NaN</td>\n",
       "      <td>NaN</td>\n",
       "      <td>NaN</td>\n",
       "      <td>NaN</td>\n",
       "      <td>NaN</td>\n",
       "      <td>NaN</td>\n",
       "      <td>...</td>\n",
       "      <td>34.9</td>\n",
       "      <td>34.1</td>\n",
       "      <td>33.5</td>\n",
       "      <td>32.8</td>\n",
       "      <td>32.2</td>\n",
       "      <td>31.6</td>\n",
       "      <td>30.9</td>\n",
       "      <td>30.4</td>\n",
       "      <td>30.0</td>\n",
       "      <td>30.0</td>\n",
       "    </tr>\n",
       "    <tr>\n",
       "      <th>2</th>\n",
       "      <td>Albania</td>\n",
       "      <td>3.66</td>\n",
       "      <td>6.46</td>\n",
       "      <td>8.81</td>\n",
       "      <td>10.8</td>\n",
       "      <td>12.5</td>\n",
       "      <td>14.1</td>\n",
       "      <td>13.5</td>\n",
       "      <td>12.9</td>\n",
       "      <td>12.4</td>\n",
       "      <td>...</td>\n",
       "      <td>16.1</td>\n",
       "      <td>15.9</td>\n",
       "      <td>15.7</td>\n",
       "      <td>18.8</td>\n",
       "      <td>21.8</td>\n",
       "      <td>24.8</td>\n",
       "      <td>27.9</td>\n",
       "      <td>28.6</td>\n",
       "      <td>29.5</td>\n",
       "      <td>29.5</td>\n",
       "    </tr>\n",
       "    <tr>\n",
       "      <th>3</th>\n",
       "      <td>Andorra</td>\n",
       "      <td>0.00</td>\n",
       "      <td>0.00</td>\n",
       "      <td>NaN</td>\n",
       "      <td>NaN</td>\n",
       "      <td>NaN</td>\n",
       "      <td>NaN</td>\n",
       "      <td>NaN</td>\n",
       "      <td>NaN</td>\n",
       "      <td>NaN</td>\n",
       "      <td>...</td>\n",
       "      <td>51.8</td>\n",
       "      <td>50.0</td>\n",
       "      <td>47.6</td>\n",
       "      <td>44.3</td>\n",
       "      <td>39.3</td>\n",
       "      <td>41.1</td>\n",
       "      <td>42.9</td>\n",
       "      <td>44.6</td>\n",
       "      <td>46.4</td>\n",
       "      <td>46.4</td>\n",
       "    </tr>\n",
       "    <tr>\n",
       "      <th>4</th>\n",
       "      <td>United Arab Emirates</td>\n",
       "      <td>0.00</td>\n",
       "      <td>0.00</td>\n",
       "      <td>NaN</td>\n",
       "      <td>NaN</td>\n",
       "      <td>NaN</td>\n",
       "      <td>NaN</td>\n",
       "      <td>NaN</td>\n",
       "      <td>NaN</td>\n",
       "      <td>NaN</td>\n",
       "      <td>...</td>\n",
       "      <td>5.0</td>\n",
       "      <td>17.5</td>\n",
       "      <td>19.2</td>\n",
       "      <td>20.8</td>\n",
       "      <td>22.5</td>\n",
       "      <td>29.4</td>\n",
       "      <td>36.3</td>\n",
       "      <td>43.1</td>\n",
       "      <td>50.0</td>\n",
       "      <td>50.0</td>\n",
       "    </tr>\n",
       "  </tbody>\n",
       "</table>\n",
       "<p>5 rows × 77 columns</p>\n",
       "</div>"
      ],
      "text/plain": [
       "                country  1945  1946  1947  1948  1949  1950  1951  1952  1953  \\\n",
       "0           Afghanistan  0.00  0.00   NaN   NaN   NaN   NaN   NaN   NaN   NaN   \n",
       "1                Angola  0.00  0.00   NaN   NaN   NaN   NaN   NaN   NaN   NaN   \n",
       "2               Albania  3.66  6.46  8.81  10.8  12.5  14.1  13.5  12.9  12.4   \n",
       "3               Andorra  0.00  0.00   NaN   NaN   NaN   NaN   NaN   NaN   NaN   \n",
       "4  United Arab Emirates  0.00  0.00   NaN   NaN   NaN   NaN   NaN   NaN   NaN   \n",
       "\n",
       "   ...  2011  2012  2013  2014  2015  2016  2017  2018  2019  2020  \n",
       "0  ...  27.4  27.4  27.4  27.4  27.4  27.7  27.8  27.9  27.2  27.2  \n",
       "1  ...  34.9  34.1  33.5  32.8  32.2  31.6  30.9  30.4  30.0  30.0  \n",
       "2  ...  16.1  15.9  15.7  18.8  21.8  24.8  27.9  28.6  29.5  29.5  \n",
       "3  ...  51.8  50.0  47.6  44.3  39.3  41.1  42.9  44.6  46.4  46.4  \n",
       "4  ...   5.0  17.5  19.2  20.8  22.5  29.4  36.3  43.1  50.0  50.0  \n",
       "\n",
       "[5 rows x 77 columns]"
      ]
     },
     "execution_count": 105,
     "metadata": {},
     "output_type": "execute_result"
    }
   ],
   "source": [
    "women.head()"
   ]
  },
  {
   "cell_type": "code",
   "execution_count": 106,
   "id": "dfaa2620",
   "metadata": {},
   "outputs": [],
   "source": [
    "women[[\"1947\",\"1948\",\"1949\",\"1950\",\"1951\",\"1952\",\"1953\"]] = women[[\"1947\",\"1948\",\"1949\",\"1950\",\"1951\",\"1952\",\"1953\"]].fillna(0)"
   ]
  },
  {
   "cell_type": "code",
   "execution_count": 107,
   "id": "2d8f938d",
   "metadata": {},
   "outputs": [
    {
     "data": {
      "text/html": [
       "<div>\n",
       "<style scoped>\n",
       "    .dataframe tbody tr th:only-of-type {\n",
       "        vertical-align: middle;\n",
       "    }\n",
       "\n",
       "    .dataframe tbody tr th {\n",
       "        vertical-align: top;\n",
       "    }\n",
       "\n",
       "    .dataframe thead th {\n",
       "        text-align: right;\n",
       "    }\n",
       "</style>\n",
       "<table border=\"1\" class=\"dataframe\">\n",
       "  <thead>\n",
       "    <tr style=\"text-align: right;\">\n",
       "      <th></th>\n",
       "      <th>country</th>\n",
       "      <th>1945</th>\n",
       "      <th>1946</th>\n",
       "      <th>1947</th>\n",
       "      <th>1948</th>\n",
       "      <th>1949</th>\n",
       "      <th>1950</th>\n",
       "      <th>1951</th>\n",
       "      <th>1952</th>\n",
       "      <th>1953</th>\n",
       "      <th>...</th>\n",
       "      <th>2011</th>\n",
       "      <th>2012</th>\n",
       "      <th>2013</th>\n",
       "      <th>2014</th>\n",
       "      <th>2015</th>\n",
       "      <th>2016</th>\n",
       "      <th>2017</th>\n",
       "      <th>2018</th>\n",
       "      <th>2019</th>\n",
       "      <th>2020</th>\n",
       "    </tr>\n",
       "  </thead>\n",
       "  <tbody>\n",
       "    <tr>\n",
       "      <th>0</th>\n",
       "      <td>Afghanistan</td>\n",
       "      <td>0.00</td>\n",
       "      <td>0.00</td>\n",
       "      <td>0.00</td>\n",
       "      <td>0.0</td>\n",
       "      <td>0.0</td>\n",
       "      <td>0.0</td>\n",
       "      <td>0.0</td>\n",
       "      <td>0.0</td>\n",
       "      <td>0.0</td>\n",
       "      <td>...</td>\n",
       "      <td>27.4</td>\n",
       "      <td>27.4</td>\n",
       "      <td>27.4</td>\n",
       "      <td>27.4</td>\n",
       "      <td>27.4</td>\n",
       "      <td>27.7</td>\n",
       "      <td>27.8</td>\n",
       "      <td>27.9</td>\n",
       "      <td>27.2</td>\n",
       "      <td>27.2</td>\n",
       "    </tr>\n",
       "    <tr>\n",
       "      <th>1</th>\n",
       "      <td>Angola</td>\n",
       "      <td>0.00</td>\n",
       "      <td>0.00</td>\n",
       "      <td>0.00</td>\n",
       "      <td>0.0</td>\n",
       "      <td>0.0</td>\n",
       "      <td>0.0</td>\n",
       "      <td>0.0</td>\n",
       "      <td>0.0</td>\n",
       "      <td>0.0</td>\n",
       "      <td>...</td>\n",
       "      <td>34.9</td>\n",
       "      <td>34.1</td>\n",
       "      <td>33.5</td>\n",
       "      <td>32.8</td>\n",
       "      <td>32.2</td>\n",
       "      <td>31.6</td>\n",
       "      <td>30.9</td>\n",
       "      <td>30.4</td>\n",
       "      <td>30.0</td>\n",
       "      <td>30.0</td>\n",
       "    </tr>\n",
       "    <tr>\n",
       "      <th>2</th>\n",
       "      <td>Albania</td>\n",
       "      <td>3.66</td>\n",
       "      <td>6.46</td>\n",
       "      <td>8.81</td>\n",
       "      <td>10.8</td>\n",
       "      <td>12.5</td>\n",
       "      <td>14.1</td>\n",
       "      <td>13.5</td>\n",
       "      <td>12.9</td>\n",
       "      <td>12.4</td>\n",
       "      <td>...</td>\n",
       "      <td>16.1</td>\n",
       "      <td>15.9</td>\n",
       "      <td>15.7</td>\n",
       "      <td>18.8</td>\n",
       "      <td>21.8</td>\n",
       "      <td>24.8</td>\n",
       "      <td>27.9</td>\n",
       "      <td>28.6</td>\n",
       "      <td>29.5</td>\n",
       "      <td>29.5</td>\n",
       "    </tr>\n",
       "    <tr>\n",
       "      <th>3</th>\n",
       "      <td>Andorra</td>\n",
       "      <td>0.00</td>\n",
       "      <td>0.00</td>\n",
       "      <td>0.00</td>\n",
       "      <td>0.0</td>\n",
       "      <td>0.0</td>\n",
       "      <td>0.0</td>\n",
       "      <td>0.0</td>\n",
       "      <td>0.0</td>\n",
       "      <td>0.0</td>\n",
       "      <td>...</td>\n",
       "      <td>51.8</td>\n",
       "      <td>50.0</td>\n",
       "      <td>47.6</td>\n",
       "      <td>44.3</td>\n",
       "      <td>39.3</td>\n",
       "      <td>41.1</td>\n",
       "      <td>42.9</td>\n",
       "      <td>44.6</td>\n",
       "      <td>46.4</td>\n",
       "      <td>46.4</td>\n",
       "    </tr>\n",
       "    <tr>\n",
       "      <th>4</th>\n",
       "      <td>United Arab Emirates</td>\n",
       "      <td>0.00</td>\n",
       "      <td>0.00</td>\n",
       "      <td>0.00</td>\n",
       "      <td>0.0</td>\n",
       "      <td>0.0</td>\n",
       "      <td>0.0</td>\n",
       "      <td>0.0</td>\n",
       "      <td>0.0</td>\n",
       "      <td>0.0</td>\n",
       "      <td>...</td>\n",
       "      <td>5.0</td>\n",
       "      <td>17.5</td>\n",
       "      <td>19.2</td>\n",
       "      <td>20.8</td>\n",
       "      <td>22.5</td>\n",
       "      <td>29.4</td>\n",
       "      <td>36.3</td>\n",
       "      <td>43.1</td>\n",
       "      <td>50.0</td>\n",
       "      <td>50.0</td>\n",
       "    </tr>\n",
       "  </tbody>\n",
       "</table>\n",
       "<p>5 rows × 77 columns</p>\n",
       "</div>"
      ],
      "text/plain": [
       "                country  1945  1946  1947  1948  1949  1950  1951  1952  1953  \\\n",
       "0           Afghanistan  0.00  0.00  0.00   0.0   0.0   0.0   0.0   0.0   0.0   \n",
       "1                Angola  0.00  0.00  0.00   0.0   0.0   0.0   0.0   0.0   0.0   \n",
       "2               Albania  3.66  6.46  8.81  10.8  12.5  14.1  13.5  12.9  12.4   \n",
       "3               Andorra  0.00  0.00  0.00   0.0   0.0   0.0   0.0   0.0   0.0   \n",
       "4  United Arab Emirates  0.00  0.00  0.00   0.0   0.0   0.0   0.0   0.0   0.0   \n",
       "\n",
       "   ...  2011  2012  2013  2014  2015  2016  2017  2018  2019  2020  \n",
       "0  ...  27.4  27.4  27.4  27.4  27.4  27.7  27.8  27.9  27.2  27.2  \n",
       "1  ...  34.9  34.1  33.5  32.8  32.2  31.6  30.9  30.4  30.0  30.0  \n",
       "2  ...  16.1  15.9  15.7  18.8  21.8  24.8  27.9  28.6  29.5  29.5  \n",
       "3  ...  51.8  50.0  47.6  44.3  39.3  41.1  42.9  44.6  46.4  46.4  \n",
       "4  ...   5.0  17.5  19.2  20.8  22.5  29.4  36.3  43.1  50.0  50.0  \n",
       "\n",
       "[5 rows x 77 columns]"
      ]
     },
     "execution_count": 107,
     "metadata": {},
     "output_type": "execute_result"
    }
   ],
   "source": [
    "women.head()"
   ]
  },
  {
   "cell_type": "code",
   "execution_count": 108,
   "id": "4ab03eac",
   "metadata": {},
   "outputs": [
    {
     "name": "stdout",
     "output_type": "stream",
     "text": [
      "Missing values in women: 3304\n"
     ]
    }
   ],
   "source": [
    "print(\"Missing values in women:\",women.isnull().sum().sum())"
   ]
  },
  {
   "cell_type": "code",
   "execution_count": 110,
   "id": "e9ba6940",
   "metadata": {},
   "outputs": [
    {
     "data": {
      "text/html": [
       "<div>\n",
       "<style scoped>\n",
       "    .dataframe tbody tr th:only-of-type {\n",
       "        vertical-align: middle;\n",
       "    }\n",
       "\n",
       "    .dataframe tbody tr th {\n",
       "        vertical-align: top;\n",
       "    }\n",
       "\n",
       "    .dataframe thead th {\n",
       "        text-align: right;\n",
       "    }\n",
       "</style>\n",
       "<table border=\"1\" class=\"dataframe\">\n",
       "  <thead>\n",
       "    <tr style=\"text-align: right;\">\n",
       "      <th></th>\n",
       "      <th>country</th>\n",
       "      <th>1945</th>\n",
       "      <th>1946</th>\n",
       "      <th>1947</th>\n",
       "      <th>1948</th>\n",
       "      <th>1949</th>\n",
       "      <th>1950</th>\n",
       "      <th>1951</th>\n",
       "      <th>1952</th>\n",
       "      <th>1953</th>\n",
       "      <th>...</th>\n",
       "      <th>2011</th>\n",
       "      <th>2012</th>\n",
       "      <th>2013</th>\n",
       "      <th>2014</th>\n",
       "      <th>2015</th>\n",
       "      <th>2016</th>\n",
       "      <th>2017</th>\n",
       "      <th>2018</th>\n",
       "      <th>2019</th>\n",
       "      <th>2020</th>\n",
       "    </tr>\n",
       "  </thead>\n",
       "  <tbody>\n",
       "    <tr>\n",
       "      <th>0</th>\n",
       "      <td>Afghanistan</td>\n",
       "      <td>0.00</td>\n",
       "      <td>0.00</td>\n",
       "      <td>0.00</td>\n",
       "      <td>0.00</td>\n",
       "      <td>0.00</td>\n",
       "      <td>0.00</td>\n",
       "      <td>0.00</td>\n",
       "      <td>0.00</td>\n",
       "      <td>0.00</td>\n",
       "      <td>...</td>\n",
       "      <td>27.40</td>\n",
       "      <td>27.40</td>\n",
       "      <td>27.40</td>\n",
       "      <td>27.40</td>\n",
       "      <td>27.40</td>\n",
       "      <td>27.70</td>\n",
       "      <td>27.80</td>\n",
       "      <td>27.90</td>\n",
       "      <td>27.20</td>\n",
       "      <td>27.20</td>\n",
       "    </tr>\n",
       "    <tr>\n",
       "      <th>1</th>\n",
       "      <td>Angola</td>\n",
       "      <td>0.00</td>\n",
       "      <td>0.00</td>\n",
       "      <td>0.00</td>\n",
       "      <td>0.00</td>\n",
       "      <td>0.00</td>\n",
       "      <td>0.00</td>\n",
       "      <td>0.00</td>\n",
       "      <td>0.00</td>\n",
       "      <td>0.00</td>\n",
       "      <td>...</td>\n",
       "      <td>34.90</td>\n",
       "      <td>34.10</td>\n",
       "      <td>33.50</td>\n",
       "      <td>32.80</td>\n",
       "      <td>32.20</td>\n",
       "      <td>31.60</td>\n",
       "      <td>30.90</td>\n",
       "      <td>30.40</td>\n",
       "      <td>30.00</td>\n",
       "      <td>30.00</td>\n",
       "    </tr>\n",
       "    <tr>\n",
       "      <th>2</th>\n",
       "      <td>Albania</td>\n",
       "      <td>3.66</td>\n",
       "      <td>6.46</td>\n",
       "      <td>8.81</td>\n",
       "      <td>10.80</td>\n",
       "      <td>12.50</td>\n",
       "      <td>14.10</td>\n",
       "      <td>13.50</td>\n",
       "      <td>12.90</td>\n",
       "      <td>12.40</td>\n",
       "      <td>...</td>\n",
       "      <td>16.10</td>\n",
       "      <td>15.90</td>\n",
       "      <td>15.70</td>\n",
       "      <td>18.80</td>\n",
       "      <td>21.80</td>\n",
       "      <td>24.80</td>\n",
       "      <td>27.90</td>\n",
       "      <td>28.60</td>\n",
       "      <td>29.50</td>\n",
       "      <td>29.50</td>\n",
       "    </tr>\n",
       "    <tr>\n",
       "      <th>3</th>\n",
       "      <td>Andorra</td>\n",
       "      <td>0.00</td>\n",
       "      <td>0.00</td>\n",
       "      <td>0.00</td>\n",
       "      <td>0.00</td>\n",
       "      <td>0.00</td>\n",
       "      <td>0.00</td>\n",
       "      <td>0.00</td>\n",
       "      <td>0.00</td>\n",
       "      <td>0.00</td>\n",
       "      <td>...</td>\n",
       "      <td>51.80</td>\n",
       "      <td>50.00</td>\n",
       "      <td>47.60</td>\n",
       "      <td>44.30</td>\n",
       "      <td>39.30</td>\n",
       "      <td>41.10</td>\n",
       "      <td>42.90</td>\n",
       "      <td>44.60</td>\n",
       "      <td>46.40</td>\n",
       "      <td>46.40</td>\n",
       "    </tr>\n",
       "    <tr>\n",
       "      <th>4</th>\n",
       "      <td>United Arab Emirates</td>\n",
       "      <td>0.00</td>\n",
       "      <td>0.00</td>\n",
       "      <td>0.00</td>\n",
       "      <td>0.00</td>\n",
       "      <td>0.00</td>\n",
       "      <td>0.00</td>\n",
       "      <td>0.00</td>\n",
       "      <td>0.00</td>\n",
       "      <td>0.00</td>\n",
       "      <td>...</td>\n",
       "      <td>5.00</td>\n",
       "      <td>17.50</td>\n",
       "      <td>19.20</td>\n",
       "      <td>20.80</td>\n",
       "      <td>22.50</td>\n",
       "      <td>29.40</td>\n",
       "      <td>36.30</td>\n",
       "      <td>43.10</td>\n",
       "      <td>50.00</td>\n",
       "      <td>50.00</td>\n",
       "    </tr>\n",
       "    <tr>\n",
       "      <th>...</th>\n",
       "      <td>...</td>\n",
       "      <td>...</td>\n",
       "      <td>...</td>\n",
       "      <td>...</td>\n",
       "      <td>...</td>\n",
       "      <td>...</td>\n",
       "      <td>...</td>\n",
       "      <td>...</td>\n",
       "      <td>...</td>\n",
       "      <td>...</td>\n",
       "      <td>...</td>\n",
       "      <td>...</td>\n",
       "      <td>...</td>\n",
       "      <td>...</td>\n",
       "      <td>...</td>\n",
       "      <td>...</td>\n",
       "      <td>...</td>\n",
       "      <td>...</td>\n",
       "      <td>...</td>\n",
       "      <td>...</td>\n",
       "      <td>...</td>\n",
       "    </tr>\n",
       "    <tr>\n",
       "      <th>188</th>\n",
       "      <td>Samoa</td>\n",
       "      <td>0.00</td>\n",
       "      <td>0.00</td>\n",
       "      <td>0.00</td>\n",
       "      <td>0.00</td>\n",
       "      <td>0.00</td>\n",
       "      <td>0.00</td>\n",
       "      <td>0.00</td>\n",
       "      <td>0.00</td>\n",
       "      <td>0.00</td>\n",
       "      <td>...</td>\n",
       "      <td>4.08</td>\n",
       "      <td>5.28</td>\n",
       "      <td>6.48</td>\n",
       "      <td>7.66</td>\n",
       "      <td>8.84</td>\n",
       "      <td>10.00</td>\n",
       "      <td>10.00</td>\n",
       "      <td>10.00</td>\n",
       "      <td>10.00</td>\n",
       "      <td>10.00</td>\n",
       "    </tr>\n",
       "    <tr>\n",
       "      <th>189</th>\n",
       "      <td>Yemen</td>\n",
       "      <td>0.00</td>\n",
       "      <td>0.00</td>\n",
       "      <td>0.00</td>\n",
       "      <td>0.00</td>\n",
       "      <td>0.00</td>\n",
       "      <td>0.00</td>\n",
       "      <td>0.00</td>\n",
       "      <td>0.00</td>\n",
       "      <td>0.00</td>\n",
       "      <td>...</td>\n",
       "      <td>0.70</td>\n",
       "      <td>0.74</td>\n",
       "      <td>0.78</td>\n",
       "      <td>0.81</td>\n",
       "      <td>0.85</td>\n",
       "      <td>0.88</td>\n",
       "      <td>0.91</td>\n",
       "      <td>0.94</td>\n",
       "      <td>0.97</td>\n",
       "      <td>0.97</td>\n",
       "    </tr>\n",
       "    <tr>\n",
       "      <th>190</th>\n",
       "      <td>South Africa</td>\n",
       "      <td>0.00</td>\n",
       "      <td>0.00</td>\n",
       "      <td>0.00</td>\n",
       "      <td>1.31</td>\n",
       "      <td>1.43</td>\n",
       "      <td>1.54</td>\n",
       "      <td>1.66</td>\n",
       "      <td>1.77</td>\n",
       "      <td>1.89</td>\n",
       "      <td>...</td>\n",
       "      <td>42.10</td>\n",
       "      <td>41.70</td>\n",
       "      <td>41.20</td>\n",
       "      <td>40.80</td>\n",
       "      <td>41.30</td>\n",
       "      <td>41.90</td>\n",
       "      <td>42.80</td>\n",
       "      <td>43.90</td>\n",
       "      <td>45.30</td>\n",
       "      <td>45.40</td>\n",
       "    </tr>\n",
       "    <tr>\n",
       "      <th>191</th>\n",
       "      <td>Zambia</td>\n",
       "      <td>0.00</td>\n",
       "      <td>0.00</td>\n",
       "      <td>0.00</td>\n",
       "      <td>0.00</td>\n",
       "      <td>0.00</td>\n",
       "      <td>0.00</td>\n",
       "      <td>0.00</td>\n",
       "      <td>0.00</td>\n",
       "      <td>0.00</td>\n",
       "      <td>...</td>\n",
       "      <td>11.00</td>\n",
       "      <td>12.50</td>\n",
       "      <td>13.50</td>\n",
       "      <td>14.30</td>\n",
       "      <td>14.90</td>\n",
       "      <td>15.40</td>\n",
       "      <td>15.90</td>\n",
       "      <td>16.70</td>\n",
       "      <td>18.00</td>\n",
       "      <td>16.80</td>\n",
       "    </tr>\n",
       "    <tr>\n",
       "      <th>192</th>\n",
       "      <td>Zimbabwe</td>\n",
       "      <td>0.00</td>\n",
       "      <td>0.00</td>\n",
       "      <td>0.00</td>\n",
       "      <td>0.00</td>\n",
       "      <td>0.00</td>\n",
       "      <td>0.00</td>\n",
       "      <td>0.00</td>\n",
       "      <td>0.00</td>\n",
       "      <td>0.00</td>\n",
       "      <td>...</td>\n",
       "      <td>29.00</td>\n",
       "      <td>32.20</td>\n",
       "      <td>35.10</td>\n",
       "      <td>35.00</td>\n",
       "      <td>34.80</td>\n",
       "      <td>34.60</td>\n",
       "      <td>34.50</td>\n",
       "      <td>34.30</td>\n",
       "      <td>34.60</td>\n",
       "      <td>34.60</td>\n",
       "    </tr>\n",
       "  </tbody>\n",
       "</table>\n",
       "<p>193 rows × 77 columns</p>\n",
       "</div>"
      ],
      "text/plain": [
       "                  country  1945  1946  1947   1948   1949   1950   1951  \\\n",
       "0             Afghanistan  0.00  0.00  0.00   0.00   0.00   0.00   0.00   \n",
       "1                  Angola  0.00  0.00  0.00   0.00   0.00   0.00   0.00   \n",
       "2                 Albania  3.66  6.46  8.81  10.80  12.50  14.10  13.50   \n",
       "3                 Andorra  0.00  0.00  0.00   0.00   0.00   0.00   0.00   \n",
       "4    United Arab Emirates  0.00  0.00  0.00   0.00   0.00   0.00   0.00   \n",
       "..                    ...   ...   ...   ...    ...    ...    ...    ...   \n",
       "188                 Samoa  0.00  0.00  0.00   0.00   0.00   0.00   0.00   \n",
       "189                 Yemen  0.00  0.00  0.00   0.00   0.00   0.00   0.00   \n",
       "190          South Africa  0.00  0.00  0.00   1.31   1.43   1.54   1.66   \n",
       "191                Zambia  0.00  0.00  0.00   0.00   0.00   0.00   0.00   \n",
       "192              Zimbabwe  0.00  0.00  0.00   0.00   0.00   0.00   0.00   \n",
       "\n",
       "      1952   1953  ...   2011   2012   2013   2014   2015   2016   2017  \\\n",
       "0     0.00   0.00  ...  27.40  27.40  27.40  27.40  27.40  27.70  27.80   \n",
       "1     0.00   0.00  ...  34.90  34.10  33.50  32.80  32.20  31.60  30.90   \n",
       "2    12.90  12.40  ...  16.10  15.90  15.70  18.80  21.80  24.80  27.90   \n",
       "3     0.00   0.00  ...  51.80  50.00  47.60  44.30  39.30  41.10  42.90   \n",
       "4     0.00   0.00  ...   5.00  17.50  19.20  20.80  22.50  29.40  36.30   \n",
       "..     ...    ...  ...    ...    ...    ...    ...    ...    ...    ...   \n",
       "188   0.00   0.00  ...   4.08   5.28   6.48   7.66   8.84  10.00  10.00   \n",
       "189   0.00   0.00  ...   0.70   0.74   0.78   0.81   0.85   0.88   0.91   \n",
       "190   1.77   1.89  ...  42.10  41.70  41.20  40.80  41.30  41.90  42.80   \n",
       "191   0.00   0.00  ...  11.00  12.50  13.50  14.30  14.90  15.40  15.90   \n",
       "192   0.00   0.00  ...  29.00  32.20  35.10  35.00  34.80  34.60  34.50   \n",
       "\n",
       "      2018   2019   2020  \n",
       "0    27.90  27.20  27.20  \n",
       "1    30.40  30.00  30.00  \n",
       "2    28.60  29.50  29.50  \n",
       "3    44.60  46.40  46.40  \n",
       "4    43.10  50.00  50.00  \n",
       "..     ...    ...    ...  \n",
       "188  10.00  10.00  10.00  \n",
       "189   0.94   0.97   0.97  \n",
       "190  43.90  45.30  45.40  \n",
       "191  16.70  18.00  16.80  \n",
       "192  34.30  34.60  34.60  \n",
       "\n",
       "[193 rows x 77 columns]"
      ]
     },
     "execution_count": 110,
     "metadata": {},
     "output_type": "execute_result"
    }
   ],
   "source": [
    "women.fillna(0)"
   ]
  },
  {
   "cell_type": "code",
   "execution_count": 111,
   "id": "2652e849",
   "metadata": {},
   "outputs": [
    {
     "name": "stdout",
     "output_type": "stream",
     "text": [
      "Missing values in women: 3304\n"
     ]
    }
   ],
   "source": [
    "print(\"Missing values in women:\",women.isnull().sum().sum())"
   ]
  },
  {
   "cell_type": "code",
   "execution_count": 112,
   "id": "909015bf",
   "metadata": {},
   "outputs": [],
   "source": [
    "functioning_gov = pd.read_csv('/Users/comfortuji/Desktop/happiness_analysis_data/functioning_government.csv')"
   ]
  },
  {
   "cell_type": "code",
   "execution_count": 113,
   "id": "fd52603a",
   "metadata": {},
   "outputs": [
    {
     "data": {
      "text/html": [
       "<div>\n",
       "<style scoped>\n",
       "    .dataframe tbody tr th:only-of-type {\n",
       "        vertical-align: middle;\n",
       "    }\n",
       "\n",
       "    .dataframe tbody tr th {\n",
       "        vertical-align: top;\n",
       "    }\n",
       "\n",
       "    .dataframe thead th {\n",
       "        text-align: right;\n",
       "    }\n",
       "</style>\n",
       "<table border=\"1\" class=\"dataframe\">\n",
       "  <thead>\n",
       "    <tr style=\"text-align: right;\">\n",
       "      <th></th>\n",
       "      <th>country</th>\n",
       "      <th>2006</th>\n",
       "      <th>2007</th>\n",
       "      <th>2008</th>\n",
       "      <th>2009</th>\n",
       "      <th>2010</th>\n",
       "      <th>2011</th>\n",
       "      <th>2012</th>\n",
       "      <th>2013</th>\n",
       "      <th>2014</th>\n",
       "      <th>2015</th>\n",
       "      <th>2016</th>\n",
       "      <th>2017</th>\n",
       "      <th>2018</th>\n",
       "      <th>2019</th>\n",
       "      <th>2020</th>\n",
       "    </tr>\n",
       "  </thead>\n",
       "  <tbody>\n",
       "    <tr>\n",
       "      <th>0</th>\n",
       "      <td>Afghanistan</td>\n",
       "      <td>0.0</td>\n",
       "      <td>3.95</td>\n",
       "      <td>7.9</td>\n",
       "      <td>7.9</td>\n",
       "      <td>7.9</td>\n",
       "      <td>7.9</td>\n",
       "      <td>7.9</td>\n",
       "      <td>7.9</td>\n",
       "      <td>11.4</td>\n",
       "      <td>11.4</td>\n",
       "      <td>11.4</td>\n",
       "      <td>11.4</td>\n",
       "      <td>11.4</td>\n",
       "      <td>6.4</td>\n",
       "      <td>6.4</td>\n",
       "    </tr>\n",
       "    <tr>\n",
       "      <th>1</th>\n",
       "      <td>Angola</td>\n",
       "      <td>21.4</td>\n",
       "      <td>26.80</td>\n",
       "      <td>32.1</td>\n",
       "      <td>32.1</td>\n",
       "      <td>32.1</td>\n",
       "      <td>32.1</td>\n",
       "      <td>32.1</td>\n",
       "      <td>32.1</td>\n",
       "      <td>32.1</td>\n",
       "      <td>32.1</td>\n",
       "      <td>32.1</td>\n",
       "      <td>28.6</td>\n",
       "      <td>28.6</td>\n",
       "      <td>28.6</td>\n",
       "      <td>28.6</td>\n",
       "    </tr>\n",
       "    <tr>\n",
       "      <th>2</th>\n",
       "      <td>Albania</td>\n",
       "      <td>50.7</td>\n",
       "      <td>50.70</td>\n",
       "      <td>50.7</td>\n",
       "      <td>50.7</td>\n",
       "      <td>50.7</td>\n",
       "      <td>47.1</td>\n",
       "      <td>40.0</td>\n",
       "      <td>40.0</td>\n",
       "      <td>40.0</td>\n",
       "      <td>43.6</td>\n",
       "      <td>43.6</td>\n",
       "      <td>47.1</td>\n",
       "      <td>47.1</td>\n",
       "      <td>53.6</td>\n",
       "      <td>53.6</td>\n",
       "    </tr>\n",
       "    <tr>\n",
       "      <th>3</th>\n",
       "      <td>United Arab Emirates</td>\n",
       "      <td>30.7</td>\n",
       "      <td>35.00</td>\n",
       "      <td>39.3</td>\n",
       "      <td>37.5</td>\n",
       "      <td>35.7</td>\n",
       "      <td>35.7</td>\n",
       "      <td>35.7</td>\n",
       "      <td>35.7</td>\n",
       "      <td>35.7</td>\n",
       "      <td>35.7</td>\n",
       "      <td>35.7</td>\n",
       "      <td>35.7</td>\n",
       "      <td>39.3</td>\n",
       "      <td>39.3</td>\n",
       "      <td>39.3</td>\n",
       "    </tr>\n",
       "    <tr>\n",
       "      <th>4</th>\n",
       "      <td>Argentina</td>\n",
       "      <td>50.0</td>\n",
       "      <td>50.00</td>\n",
       "      <td>50.0</td>\n",
       "      <td>53.5</td>\n",
       "      <td>57.1</td>\n",
       "      <td>57.1</td>\n",
       "      <td>57.1</td>\n",
       "      <td>57.1</td>\n",
       "      <td>57.1</td>\n",
       "      <td>50.0</td>\n",
       "      <td>50.0</td>\n",
       "      <td>50.0</td>\n",
       "      <td>53.6</td>\n",
       "      <td>53.6</td>\n",
       "      <td>53.6</td>\n",
       "    </tr>\n",
       "  </tbody>\n",
       "</table>\n",
       "</div>"
      ],
      "text/plain": [
       "                country  2006   2007  2008  2009  2010  2011  2012  2013  \\\n",
       "0           Afghanistan   0.0   3.95   7.9   7.9   7.9   7.9   7.9   7.9   \n",
       "1                Angola  21.4  26.80  32.1  32.1  32.1  32.1  32.1  32.1   \n",
       "2               Albania  50.7  50.70  50.7  50.7  50.7  47.1  40.0  40.0   \n",
       "3  United Arab Emirates  30.7  35.00  39.3  37.5  35.7  35.7  35.7  35.7   \n",
       "4             Argentina  50.0  50.00  50.0  53.5  57.1  57.1  57.1  57.1   \n",
       "\n",
       "   2014  2015  2016  2017  2018  2019  2020  \n",
       "0  11.4  11.4  11.4  11.4  11.4   6.4   6.4  \n",
       "1  32.1  32.1  32.1  28.6  28.6  28.6  28.6  \n",
       "2  40.0  43.6  43.6  47.1  47.1  53.6  53.6  \n",
       "3  35.7  35.7  35.7  35.7  39.3  39.3  39.3  \n",
       "4  57.1  50.0  50.0  50.0  53.6  53.6  53.6  "
      ]
     },
     "execution_count": 113,
     "metadata": {},
     "output_type": "execute_result"
    }
   ],
   "source": [
    "functioning_gov.head()"
   ]
  },
  {
   "cell_type": "code",
   "execution_count": 114,
   "id": "abc75ac0",
   "metadata": {},
   "outputs": [],
   "source": [
    "democrats = pd.read_csv('/Users/comfortuji/Desktop/happiness_analysis_data/democracy.csv')"
   ]
  },
  {
   "cell_type": "code",
   "execution_count": 115,
   "id": "95f70eef",
   "metadata": {},
   "outputs": [
    {
     "data": {
      "text/html": [
       "<div>\n",
       "<style scoped>\n",
       "    .dataframe tbody tr th:only-of-type {\n",
       "        vertical-align: middle;\n",
       "    }\n",
       "\n",
       "    .dataframe tbody tr th {\n",
       "        vertical-align: top;\n",
       "    }\n",
       "\n",
       "    .dataframe thead th {\n",
       "        text-align: right;\n",
       "    }\n",
       "</style>\n",
       "<table border=\"1\" class=\"dataframe\">\n",
       "  <thead>\n",
       "    <tr style=\"text-align: right;\">\n",
       "      <th></th>\n",
       "      <th>country</th>\n",
       "      <th>2006</th>\n",
       "      <th>2007</th>\n",
       "      <th>2008</th>\n",
       "      <th>2009</th>\n",
       "      <th>2010</th>\n",
       "      <th>2011</th>\n",
       "      <th>2012</th>\n",
       "      <th>2013</th>\n",
       "      <th>2014</th>\n",
       "      <th>2015</th>\n",
       "      <th>2016</th>\n",
       "      <th>2017</th>\n",
       "      <th>2018</th>\n",
       "      <th>2019</th>\n",
       "      <th>2020</th>\n",
       "    </tr>\n",
       "  </thead>\n",
       "  <tbody>\n",
       "    <tr>\n",
       "      <th>0</th>\n",
       "      <td>Afghanistan</td>\n",
       "      <td>30.6</td>\n",
       "      <td>30.4</td>\n",
       "      <td>30.2</td>\n",
       "      <td>27.5</td>\n",
       "      <td>24.8</td>\n",
       "      <td>24.8</td>\n",
       "      <td>24.8</td>\n",
       "      <td>24.8</td>\n",
       "      <td>27.7</td>\n",
       "      <td>27.7</td>\n",
       "      <td>25.5</td>\n",
       "      <td>25.5</td>\n",
       "      <td>29.7</td>\n",
       "      <td>28.5</td>\n",
       "      <td>28.5</td>\n",
       "    </tr>\n",
       "    <tr>\n",
       "      <th>1</th>\n",
       "      <td>Angola</td>\n",
       "      <td>24.1</td>\n",
       "      <td>28.8</td>\n",
       "      <td>33.5</td>\n",
       "      <td>33.4</td>\n",
       "      <td>33.2</td>\n",
       "      <td>33.2</td>\n",
       "      <td>33.5</td>\n",
       "      <td>33.5</td>\n",
       "      <td>33.5</td>\n",
       "      <td>33.5</td>\n",
       "      <td>34.0</td>\n",
       "      <td>36.2</td>\n",
       "      <td>36.2</td>\n",
       "      <td>37.2</td>\n",
       "      <td>36.6</td>\n",
       "    </tr>\n",
       "    <tr>\n",
       "      <th>2</th>\n",
       "      <td>Albania</td>\n",
       "      <td>59.1</td>\n",
       "      <td>59.1</td>\n",
       "      <td>59.1</td>\n",
       "      <td>58.9</td>\n",
       "      <td>58.6</td>\n",
       "      <td>58.1</td>\n",
       "      <td>56.7</td>\n",
       "      <td>56.7</td>\n",
       "      <td>56.7</td>\n",
       "      <td>59.1</td>\n",
       "      <td>59.1</td>\n",
       "      <td>59.8</td>\n",
       "      <td>59.8</td>\n",
       "      <td>58.9</td>\n",
       "      <td>60.8</td>\n",
       "    </tr>\n",
       "    <tr>\n",
       "      <th>3</th>\n",
       "      <td>United Arab Emirates</td>\n",
       "      <td>24.2</td>\n",
       "      <td>25.1</td>\n",
       "      <td>26.0</td>\n",
       "      <td>25.6</td>\n",
       "      <td>25.2</td>\n",
       "      <td>25.8</td>\n",
       "      <td>25.8</td>\n",
       "      <td>25.2</td>\n",
       "      <td>26.4</td>\n",
       "      <td>27.5</td>\n",
       "      <td>27.5</td>\n",
       "      <td>26.9</td>\n",
       "      <td>27.6</td>\n",
       "      <td>27.6</td>\n",
       "      <td>27.0</td>\n",
       "    </tr>\n",
       "    <tr>\n",
       "      <th>4</th>\n",
       "      <td>Argentina</td>\n",
       "      <td>66.3</td>\n",
       "      <td>66.3</td>\n",
       "      <td>66.3</td>\n",
       "      <td>67.3</td>\n",
       "      <td>68.4</td>\n",
       "      <td>68.4</td>\n",
       "      <td>68.4</td>\n",
       "      <td>68.4</td>\n",
       "      <td>68.4</td>\n",
       "      <td>70.2</td>\n",
       "      <td>69.6</td>\n",
       "      <td>69.6</td>\n",
       "      <td>70.2</td>\n",
       "      <td>70.2</td>\n",
       "      <td>69.5</td>\n",
       "    </tr>\n",
       "  </tbody>\n",
       "</table>\n",
       "</div>"
      ],
      "text/plain": [
       "                country  2006  2007  2008  2009  2010  2011  2012  2013  2014  \\\n",
       "0           Afghanistan  30.6  30.4  30.2  27.5  24.8  24.8  24.8  24.8  27.7   \n",
       "1                Angola  24.1  28.8  33.5  33.4  33.2  33.2  33.5  33.5  33.5   \n",
       "2               Albania  59.1  59.1  59.1  58.9  58.6  58.1  56.7  56.7  56.7   \n",
       "3  United Arab Emirates  24.2  25.1  26.0  25.6  25.2  25.8  25.8  25.2  26.4   \n",
       "4             Argentina  66.3  66.3  66.3  67.3  68.4  68.4  68.4  68.4  68.4   \n",
       "\n",
       "   2015  2016  2017  2018  2019  2020  \n",
       "0  27.7  25.5  25.5  29.7  28.5  28.5  \n",
       "1  33.5  34.0  36.2  36.2  37.2  36.6  \n",
       "2  59.1  59.1  59.8  59.8  58.9  60.8  \n",
       "3  27.5  27.5  26.9  27.6  27.6  27.0  \n",
       "4  70.2  69.6  69.6  70.2  70.2  69.5  "
      ]
     },
     "execution_count": 115,
     "metadata": {},
     "output_type": "execute_result"
    }
   ],
   "source": [
    "democrats.head()"
   ]
  },
  {
   "cell_type": "code",
   "execution_count": 116,
   "id": "444987c9",
   "metadata": {},
   "outputs": [],
   "source": [
    "happiness = pd.read_csv('/Users/comfortuji/Desktop/happiness_analysis_data/happiness_score_whr.csv')"
   ]
  },
  {
   "cell_type": "code",
   "execution_count": 117,
   "id": "d72919e0",
   "metadata": {},
   "outputs": [
    {
     "data": {
      "text/html": [
       "<div>\n",
       "<style scoped>\n",
       "    .dataframe tbody tr th:only-of-type {\n",
       "        vertical-align: middle;\n",
       "    }\n",
       "\n",
       "    .dataframe tbody tr th {\n",
       "        vertical-align: top;\n",
       "    }\n",
       "\n",
       "    .dataframe thead th {\n",
       "        text-align: right;\n",
       "    }\n",
       "</style>\n",
       "<table border=\"1\" class=\"dataframe\">\n",
       "  <thead>\n",
       "    <tr style=\"text-align: right;\">\n",
       "      <th></th>\n",
       "      <th>country</th>\n",
       "      <th>2005</th>\n",
       "      <th>2006</th>\n",
       "      <th>2007</th>\n",
       "      <th>2008</th>\n",
       "      <th>2009</th>\n",
       "      <th>2010</th>\n",
       "      <th>2011</th>\n",
       "      <th>2012</th>\n",
       "      <th>2013</th>\n",
       "      <th>2014</th>\n",
       "      <th>2015</th>\n",
       "      <th>2016</th>\n",
       "      <th>2017</th>\n",
       "      <th>2018</th>\n",
       "      <th>2019</th>\n",
       "    </tr>\n",
       "  </thead>\n",
       "  <tbody>\n",
       "    <tr>\n",
       "      <th>0</th>\n",
       "      <td>Afghanistan</td>\n",
       "      <td>NaN</td>\n",
       "      <td>NaN</td>\n",
       "      <td>NaN</td>\n",
       "      <td>37.2</td>\n",
       "      <td>44.0</td>\n",
       "      <td>47.6</td>\n",
       "      <td>38.3</td>\n",
       "      <td>37.8</td>\n",
       "      <td>35.7</td>\n",
       "      <td>31.3</td>\n",
       "      <td>39.8</td>\n",
       "      <td>42.2</td>\n",
       "      <td>26.6</td>\n",
       "      <td>26.9</td>\n",
       "      <td>25.7</td>\n",
       "    </tr>\n",
       "    <tr>\n",
       "      <th>1</th>\n",
       "      <td>Angola</td>\n",
       "      <td>NaN</td>\n",
       "      <td>NaN</td>\n",
       "      <td>NaN</td>\n",
       "      <td>NaN</td>\n",
       "      <td>NaN</td>\n",
       "      <td>NaN</td>\n",
       "      <td>55.9</td>\n",
       "      <td>43.6</td>\n",
       "      <td>39.4</td>\n",
       "      <td>37.9</td>\n",
       "      <td>NaN</td>\n",
       "      <td>NaN</td>\n",
       "      <td>NaN</td>\n",
       "      <td>NaN</td>\n",
       "      <td>NaN</td>\n",
       "    </tr>\n",
       "    <tr>\n",
       "      <th>2</th>\n",
       "      <td>Albania</td>\n",
       "      <td>NaN</td>\n",
       "      <td>NaN</td>\n",
       "      <td>46.3</td>\n",
       "      <td>NaN</td>\n",
       "      <td>54.9</td>\n",
       "      <td>52.7</td>\n",
       "      <td>58.7</td>\n",
       "      <td>55.1</td>\n",
       "      <td>45.5</td>\n",
       "      <td>48.1</td>\n",
       "      <td>46.1</td>\n",
       "      <td>45.1</td>\n",
       "      <td>46.4</td>\n",
       "      <td>50.0</td>\n",
       "      <td>48.8</td>\n",
       "    </tr>\n",
       "    <tr>\n",
       "      <th>3</th>\n",
       "      <td>United Arab Emirates</td>\n",
       "      <td>NaN</td>\n",
       "      <td>67.3</td>\n",
       "      <td>NaN</td>\n",
       "      <td>NaN</td>\n",
       "      <td>68.7</td>\n",
       "      <td>71.0</td>\n",
       "      <td>71.2</td>\n",
       "      <td>72.2</td>\n",
       "      <td>66.2</td>\n",
       "      <td>65.4</td>\n",
       "      <td>65.7</td>\n",
       "      <td>68.3</td>\n",
       "      <td>70.4</td>\n",
       "      <td>66.0</td>\n",
       "      <td>67.9</td>\n",
       "    </tr>\n",
       "    <tr>\n",
       "      <th>4</th>\n",
       "      <td>Argentina</td>\n",
       "      <td>NaN</td>\n",
       "      <td>63.1</td>\n",
       "      <td>60.7</td>\n",
       "      <td>59.6</td>\n",
       "      <td>64.2</td>\n",
       "      <td>64.4</td>\n",
       "      <td>67.8</td>\n",
       "      <td>64.7</td>\n",
       "      <td>65.8</td>\n",
       "      <td>66.7</td>\n",
       "      <td>67.0</td>\n",
       "      <td>64.3</td>\n",
       "      <td>60.4</td>\n",
       "      <td>57.9</td>\n",
       "      <td>59.7</td>\n",
       "    </tr>\n",
       "  </tbody>\n",
       "</table>\n",
       "</div>"
      ],
      "text/plain": [
       "                country  2005  2006  2007  2008  2009  2010  2011  2012  2013  \\\n",
       "0           Afghanistan   NaN   NaN   NaN  37.2  44.0  47.6  38.3  37.8  35.7   \n",
       "1                Angola   NaN   NaN   NaN   NaN   NaN   NaN  55.9  43.6  39.4   \n",
       "2               Albania   NaN   NaN  46.3   NaN  54.9  52.7  58.7  55.1  45.5   \n",
       "3  United Arab Emirates   NaN  67.3   NaN   NaN  68.7  71.0  71.2  72.2  66.2   \n",
       "4             Argentina   NaN  63.1  60.7  59.6  64.2  64.4  67.8  64.7  65.8   \n",
       "\n",
       "   2014  2015  2016  2017  2018  2019  \n",
       "0  31.3  39.8  42.2  26.6  26.9  25.7  \n",
       "1  37.9   NaN   NaN   NaN   NaN   NaN  \n",
       "2  48.1  46.1  45.1  46.4  50.0  48.8  \n",
       "3  65.4  65.7  68.3  70.4  66.0  67.9  \n",
       "4  66.7  67.0  64.3  60.4  57.9  59.7  "
      ]
     },
     "execution_count": 117,
     "metadata": {},
     "output_type": "execute_result"
    }
   ],
   "source": [
    "happiness.head()"
   ]
  },
  {
   "cell_type": "code",
   "execution_count": 118,
   "id": "d739f3a1",
   "metadata": {},
   "outputs": [
    {
     "data": {
      "text/html": [
       "<div>\n",
       "<style scoped>\n",
       "    .dataframe tbody tr th:only-of-type {\n",
       "        vertical-align: middle;\n",
       "    }\n",
       "\n",
       "    .dataframe tbody tr th {\n",
       "        vertical-align: top;\n",
       "    }\n",
       "\n",
       "    .dataframe thead th {\n",
       "        text-align: right;\n",
       "    }\n",
       "</style>\n",
       "<table border=\"1\" class=\"dataframe\">\n",
       "  <thead>\n",
       "    <tr style=\"text-align: right;\">\n",
       "      <th></th>\n",
       "      <th>country</th>\n",
       "      <th>2005</th>\n",
       "      <th>2006</th>\n",
       "      <th>2007</th>\n",
       "      <th>2008</th>\n",
       "      <th>2009</th>\n",
       "      <th>2010</th>\n",
       "      <th>2011</th>\n",
       "      <th>2012</th>\n",
       "      <th>2013</th>\n",
       "      <th>2014</th>\n",
       "      <th>2015</th>\n",
       "      <th>2016</th>\n",
       "      <th>2017</th>\n",
       "      <th>2018</th>\n",
       "      <th>2019</th>\n",
       "    </tr>\n",
       "  </thead>\n",
       "  <tbody>\n",
       "    <tr>\n",
       "      <th>0</th>\n",
       "      <td>Afghanistan</td>\n",
       "      <td>0.0</td>\n",
       "      <td>0.0</td>\n",
       "      <td>0.0</td>\n",
       "      <td>37.2</td>\n",
       "      <td>44.0</td>\n",
       "      <td>47.6</td>\n",
       "      <td>38.3</td>\n",
       "      <td>37.8</td>\n",
       "      <td>35.7</td>\n",
       "      <td>31.3</td>\n",
       "      <td>39.8</td>\n",
       "      <td>42.2</td>\n",
       "      <td>26.6</td>\n",
       "      <td>26.9</td>\n",
       "      <td>25.7</td>\n",
       "    </tr>\n",
       "    <tr>\n",
       "      <th>1</th>\n",
       "      <td>Angola</td>\n",
       "      <td>0.0</td>\n",
       "      <td>0.0</td>\n",
       "      <td>0.0</td>\n",
       "      <td>0.0</td>\n",
       "      <td>0.0</td>\n",
       "      <td>0.0</td>\n",
       "      <td>55.9</td>\n",
       "      <td>43.6</td>\n",
       "      <td>39.4</td>\n",
       "      <td>37.9</td>\n",
       "      <td>0.0</td>\n",
       "      <td>0.0</td>\n",
       "      <td>0.0</td>\n",
       "      <td>0.0</td>\n",
       "      <td>0.0</td>\n",
       "    </tr>\n",
       "    <tr>\n",
       "      <th>2</th>\n",
       "      <td>Albania</td>\n",
       "      <td>0.0</td>\n",
       "      <td>0.0</td>\n",
       "      <td>46.3</td>\n",
       "      <td>0.0</td>\n",
       "      <td>54.9</td>\n",
       "      <td>52.7</td>\n",
       "      <td>58.7</td>\n",
       "      <td>55.1</td>\n",
       "      <td>45.5</td>\n",
       "      <td>48.1</td>\n",
       "      <td>46.1</td>\n",
       "      <td>45.1</td>\n",
       "      <td>46.4</td>\n",
       "      <td>50.0</td>\n",
       "      <td>48.8</td>\n",
       "    </tr>\n",
       "    <tr>\n",
       "      <th>3</th>\n",
       "      <td>United Arab Emirates</td>\n",
       "      <td>0.0</td>\n",
       "      <td>67.3</td>\n",
       "      <td>0.0</td>\n",
       "      <td>0.0</td>\n",
       "      <td>68.7</td>\n",
       "      <td>71.0</td>\n",
       "      <td>71.2</td>\n",
       "      <td>72.2</td>\n",
       "      <td>66.2</td>\n",
       "      <td>65.4</td>\n",
       "      <td>65.7</td>\n",
       "      <td>68.3</td>\n",
       "      <td>70.4</td>\n",
       "      <td>66.0</td>\n",
       "      <td>67.9</td>\n",
       "    </tr>\n",
       "    <tr>\n",
       "      <th>4</th>\n",
       "      <td>Argentina</td>\n",
       "      <td>0.0</td>\n",
       "      <td>63.1</td>\n",
       "      <td>60.7</td>\n",
       "      <td>59.6</td>\n",
       "      <td>64.2</td>\n",
       "      <td>64.4</td>\n",
       "      <td>67.8</td>\n",
       "      <td>64.7</td>\n",
       "      <td>65.8</td>\n",
       "      <td>66.7</td>\n",
       "      <td>67.0</td>\n",
       "      <td>64.3</td>\n",
       "      <td>60.4</td>\n",
       "      <td>57.9</td>\n",
       "      <td>59.7</td>\n",
       "    </tr>\n",
       "    <tr>\n",
       "      <th>...</th>\n",
       "      <td>...</td>\n",
       "      <td>...</td>\n",
       "      <td>...</td>\n",
       "      <td>...</td>\n",
       "      <td>...</td>\n",
       "      <td>...</td>\n",
       "      <td>...</td>\n",
       "      <td>...</td>\n",
       "      <td>...</td>\n",
       "      <td>...</td>\n",
       "      <td>...</td>\n",
       "      <td>...</td>\n",
       "      <td>...</td>\n",
       "      <td>...</td>\n",
       "      <td>...</td>\n",
       "      <td>...</td>\n",
       "    </tr>\n",
       "    <tr>\n",
       "      <th>158</th>\n",
       "      <td>Vietnam</td>\n",
       "      <td>0.0</td>\n",
       "      <td>52.9</td>\n",
       "      <td>54.2</td>\n",
       "      <td>54.8</td>\n",
       "      <td>53.0</td>\n",
       "      <td>53.0</td>\n",
       "      <td>57.7</td>\n",
       "      <td>55.3</td>\n",
       "      <td>50.2</td>\n",
       "      <td>50.8</td>\n",
       "      <td>50.8</td>\n",
       "      <td>50.6</td>\n",
       "      <td>51.8</td>\n",
       "      <td>53.0</td>\n",
       "      <td>53.5</td>\n",
       "    </tr>\n",
       "    <tr>\n",
       "      <th>159</th>\n",
       "      <td>Yemen</td>\n",
       "      <td>0.0</td>\n",
       "      <td>0.0</td>\n",
       "      <td>44.8</td>\n",
       "      <td>0.0</td>\n",
       "      <td>48.1</td>\n",
       "      <td>43.5</td>\n",
       "      <td>37.5</td>\n",
       "      <td>40.6</td>\n",
       "      <td>42.2</td>\n",
       "      <td>39.7</td>\n",
       "      <td>29.8</td>\n",
       "      <td>38.3</td>\n",
       "      <td>32.5</td>\n",
       "      <td>30.6</td>\n",
       "      <td>35.3</td>\n",
       "    </tr>\n",
       "    <tr>\n",
       "      <th>160</th>\n",
       "      <td>South Africa</td>\n",
       "      <td>0.0</td>\n",
       "      <td>50.8</td>\n",
       "      <td>52.0</td>\n",
       "      <td>53.5</td>\n",
       "      <td>52.2</td>\n",
       "      <td>46.5</td>\n",
       "      <td>49.3</td>\n",
       "      <td>51.3</td>\n",
       "      <td>36.6</td>\n",
       "      <td>48.3</td>\n",
       "      <td>48.9</td>\n",
       "      <td>47.7</td>\n",
       "      <td>45.1</td>\n",
       "      <td>48.8</td>\n",
       "      <td>48.1</td>\n",
       "    </tr>\n",
       "    <tr>\n",
       "      <th>161</th>\n",
       "      <td>Zambia</td>\n",
       "      <td>0.0</td>\n",
       "      <td>48.2</td>\n",
       "      <td>40.0</td>\n",
       "      <td>47.3</td>\n",
       "      <td>52.6</td>\n",
       "      <td>0.0</td>\n",
       "      <td>50.0</td>\n",
       "      <td>50.1</td>\n",
       "      <td>52.4</td>\n",
       "      <td>43.5</td>\n",
       "      <td>48.4</td>\n",
       "      <td>43.5</td>\n",
       "      <td>39.3</td>\n",
       "      <td>40.4</td>\n",
       "      <td>37.6</td>\n",
       "    </tr>\n",
       "    <tr>\n",
       "      <th>162</th>\n",
       "      <td>Zimbabwe</td>\n",
       "      <td>0.0</td>\n",
       "      <td>38.3</td>\n",
       "      <td>32.8</td>\n",
       "      <td>31.7</td>\n",
       "      <td>40.6</td>\n",
       "      <td>46.8</td>\n",
       "      <td>48.5</td>\n",
       "      <td>49.6</td>\n",
       "      <td>46.9</td>\n",
       "      <td>41.8</td>\n",
       "      <td>37.0</td>\n",
       "      <td>37.4</td>\n",
       "      <td>36.4</td>\n",
       "      <td>36.2</td>\n",
       "      <td>33.0</td>\n",
       "    </tr>\n",
       "  </tbody>\n",
       "</table>\n",
       "<p>163 rows × 16 columns</p>\n",
       "</div>"
      ],
      "text/plain": [
       "                  country  2005  2006  2007  2008  2009  2010  2011  2012  \\\n",
       "0             Afghanistan   0.0   0.0   0.0  37.2  44.0  47.6  38.3  37.8   \n",
       "1                  Angola   0.0   0.0   0.0   0.0   0.0   0.0  55.9  43.6   \n",
       "2                 Albania   0.0   0.0  46.3   0.0  54.9  52.7  58.7  55.1   \n",
       "3    United Arab Emirates   0.0  67.3   0.0   0.0  68.7  71.0  71.2  72.2   \n",
       "4               Argentina   0.0  63.1  60.7  59.6  64.2  64.4  67.8  64.7   \n",
       "..                    ...   ...   ...   ...   ...   ...   ...   ...   ...   \n",
       "158               Vietnam   0.0  52.9  54.2  54.8  53.0  53.0  57.7  55.3   \n",
       "159                 Yemen   0.0   0.0  44.8   0.0  48.1  43.5  37.5  40.6   \n",
       "160          South Africa   0.0  50.8  52.0  53.5  52.2  46.5  49.3  51.3   \n",
       "161                Zambia   0.0  48.2  40.0  47.3  52.6   0.0  50.0  50.1   \n",
       "162              Zimbabwe   0.0  38.3  32.8  31.7  40.6  46.8  48.5  49.6   \n",
       "\n",
       "     2013  2014  2015  2016  2017  2018  2019  \n",
       "0    35.7  31.3  39.8  42.2  26.6  26.9  25.7  \n",
       "1    39.4  37.9   0.0   0.0   0.0   0.0   0.0  \n",
       "2    45.5  48.1  46.1  45.1  46.4  50.0  48.8  \n",
       "3    66.2  65.4  65.7  68.3  70.4  66.0  67.9  \n",
       "4    65.8  66.7  67.0  64.3  60.4  57.9  59.7  \n",
       "..    ...   ...   ...   ...   ...   ...   ...  \n",
       "158  50.2  50.8  50.8  50.6  51.8  53.0  53.5  \n",
       "159  42.2  39.7  29.8  38.3  32.5  30.6  35.3  \n",
       "160  36.6  48.3  48.9  47.7  45.1  48.8  48.1  \n",
       "161  52.4  43.5  48.4  43.5  39.3  40.4  37.6  \n",
       "162  46.9  41.8  37.0  37.4  36.4  36.2  33.0  \n",
       "\n",
       "[163 rows x 16 columns]"
      ]
     },
     "execution_count": 118,
     "metadata": {},
     "output_type": "execute_result"
    }
   ],
   "source": [
    "happiness.fillna(0)"
   ]
  },
  {
   "cell_type": "code",
   "execution_count": 123,
   "id": "4b34be1e",
   "metadata": {},
   "outputs": [],
   "source": [
    "income = pd.read_csv('/Users/comfortuji/Desktop/happiness_analysis_data/income_inequal.csv')"
   ]
  },
  {
   "cell_type": "code",
   "execution_count": 124,
   "id": "de38dce9",
   "metadata": {},
   "outputs": [
    {
     "data": {
      "text/html": [
       "<div>\n",
       "<style scoped>\n",
       "    .dataframe tbody tr th:only-of-type {\n",
       "        vertical-align: middle;\n",
       "    }\n",
       "\n",
       "    .dataframe tbody tr th {\n",
       "        vertical-align: top;\n",
       "    }\n",
       "\n",
       "    .dataframe thead th {\n",
       "        text-align: right;\n",
       "    }\n",
       "</style>\n",
       "<table border=\"1\" class=\"dataframe\">\n",
       "  <thead>\n",
       "    <tr style=\"text-align: right;\">\n",
       "      <th></th>\n",
       "      <th>country</th>\n",
       "      <th>1800</th>\n",
       "      <th>1801</th>\n",
       "      <th>1802</th>\n",
       "      <th>1803</th>\n",
       "      <th>1804</th>\n",
       "      <th>1805</th>\n",
       "      <th>1806</th>\n",
       "      <th>1807</th>\n",
       "      <th>1808</th>\n",
       "      <th>...</th>\n",
       "      <th>2012</th>\n",
       "      <th>2013</th>\n",
       "      <th>2014</th>\n",
       "      <th>2015</th>\n",
       "      <th>2016</th>\n",
       "      <th>2017</th>\n",
       "      <th>2018</th>\n",
       "      <th>2019</th>\n",
       "      <th>2020</th>\n",
       "      <th>2021,</th>\n",
       "    </tr>\n",
       "  </thead>\n",
       "  <tbody>\n",
       "    <tr>\n",
       "      <th>0</th>\n",
       "      <td>Afghanistan</td>\n",
       "      <td>30.5</td>\n",
       "      <td>30.5</td>\n",
       "      <td>30.5</td>\n",
       "      <td>30.5</td>\n",
       "      <td>30.5</td>\n",
       "      <td>30.5</td>\n",
       "      <td>30.5</td>\n",
       "      <td>30.5</td>\n",
       "      <td>30.5</td>\n",
       "      <td>...</td>\n",
       "      <td>37.7</td>\n",
       "      <td>37.7</td>\n",
       "      <td>37.7</td>\n",
       "      <td>37.7</td>\n",
       "      <td>37.7</td>\n",
       "      <td>37.7</td>\n",
       "      <td>37.7</td>\n",
       "      <td>37.7</td>\n",
       "      <td>38.3</td>\n",
       "      <td>39,</td>\n",
       "    </tr>\n",
       "    <tr>\n",
       "      <th>1</th>\n",
       "      <td>Angola</td>\n",
       "      <td>57.7</td>\n",
       "      <td>57.7</td>\n",
       "      <td>57.7</td>\n",
       "      <td>57.7</td>\n",
       "      <td>57.7</td>\n",
       "      <td>57.7</td>\n",
       "      <td>57.7</td>\n",
       "      <td>57.7</td>\n",
       "      <td>57.7</td>\n",
       "      <td>...</td>\n",
       "      <td>46.0</td>\n",
       "      <td>46.8</td>\n",
       "      <td>47.7</td>\n",
       "      <td>48.5</td>\n",
       "      <td>49.4</td>\n",
       "      <td>50.3</td>\n",
       "      <td>51.3</td>\n",
       "      <td>51.3</td>\n",
       "      <td>52.1</td>\n",
       "      <td>53,</td>\n",
       "    </tr>\n",
       "    <tr>\n",
       "      <th>2</th>\n",
       "      <td>Albania</td>\n",
       "      <td>39.9</td>\n",
       "      <td>39.9</td>\n",
       "      <td>39.9</td>\n",
       "      <td>39.9</td>\n",
       "      <td>39.9</td>\n",
       "      <td>39.9</td>\n",
       "      <td>39.9</td>\n",
       "      <td>39.9</td>\n",
       "      <td>39.9</td>\n",
       "      <td>...</td>\n",
       "      <td>29.0</td>\n",
       "      <td>31.6</td>\n",
       "      <td>34.6</td>\n",
       "      <td>32.9</td>\n",
       "      <td>33.7</td>\n",
       "      <td>33.2</td>\n",
       "      <td>33.2</td>\n",
       "      <td>33.2</td>\n",
       "      <td>33.8</td>\n",
       "      <td>34.5,</td>\n",
       "    </tr>\n",
       "    <tr>\n",
       "      <th>3</th>\n",
       "      <td>Andorra</td>\n",
       "      <td>42.5</td>\n",
       "      <td>42.5</td>\n",
       "      <td>42.5</td>\n",
       "      <td>42.5</td>\n",
       "      <td>42.5</td>\n",
       "      <td>42.5</td>\n",
       "      <td>42.5</td>\n",
       "      <td>42.5</td>\n",
       "      <td>42.5</td>\n",
       "      <td>...</td>\n",
       "      <td>35.5</td>\n",
       "      <td>35.4</td>\n",
       "      <td>35.4</td>\n",
       "      <td>35.3</td>\n",
       "      <td>35.2</td>\n",
       "      <td>35.2</td>\n",
       "      <td>35.1</td>\n",
       "      <td>35.0</td>\n",
       "      <td>35.0</td>\n",
       "      <td>35,</td>\n",
       "    </tr>\n",
       "    <tr>\n",
       "      <th>4</th>\n",
       "      <td>United Arab Emirates</td>\n",
       "      <td>39.8</td>\n",
       "      <td>39.8</td>\n",
       "      <td>39.8</td>\n",
       "      <td>39.8</td>\n",
       "      <td>39.8</td>\n",
       "      <td>39.8</td>\n",
       "      <td>39.8</td>\n",
       "      <td>39.7</td>\n",
       "      <td>39.7</td>\n",
       "      <td>...</td>\n",
       "      <td>32.6</td>\n",
       "      <td>32.5</td>\n",
       "      <td>31.1</td>\n",
       "      <td>29.7</td>\n",
       "      <td>28.4</td>\n",
       "      <td>27.2</td>\n",
       "      <td>26.0</td>\n",
       "      <td>26.0</td>\n",
       "      <td>26.0</td>\n",
       "      <td>26.7,</td>\n",
       "    </tr>\n",
       "  </tbody>\n",
       "</table>\n",
       "<p>5 rows × 223 columns</p>\n",
       "</div>"
      ],
      "text/plain": [
       "                country  1800  1801  1802  1803  1804  1805  1806  1807  1808  \\\n",
       "0           Afghanistan  30.5  30.5  30.5  30.5  30.5  30.5  30.5  30.5  30.5   \n",
       "1                Angola  57.7  57.7  57.7  57.7  57.7  57.7  57.7  57.7  57.7   \n",
       "2               Albania  39.9  39.9  39.9  39.9  39.9  39.9  39.9  39.9  39.9   \n",
       "3               Andorra  42.5  42.5  42.5  42.5  42.5  42.5  42.5  42.5  42.5   \n",
       "4  United Arab Emirates  39.8  39.8  39.8  39.8  39.8  39.8  39.8  39.7  39.7   \n",
       "\n",
       "   ...  2012  2013  2014  2015  2016  2017  2018  2019  2020  2021,  \n",
       "0  ...  37.7  37.7  37.7  37.7  37.7  37.7  37.7  37.7  38.3    39,  \n",
       "1  ...  46.0  46.8  47.7  48.5  49.4  50.3  51.3  51.3  52.1    53,  \n",
       "2  ...  29.0  31.6  34.6  32.9  33.7  33.2  33.2  33.2  33.8  34.5,  \n",
       "3  ...  35.5  35.4  35.4  35.3  35.2  35.2  35.1  35.0  35.0    35,  \n",
       "4  ...  32.6  32.5  31.1  29.7  28.4  27.2  26.0  26.0  26.0  26.7,  \n",
       "\n",
       "[5 rows x 223 columns]"
      ]
     },
     "execution_count": 124,
     "metadata": {},
     "output_type": "execute_result"
    }
   ],
   "source": [
    "income.head()"
   ]
  },
  {
   "cell_type": "code",
   "execution_count": 125,
   "id": "a79348c4",
   "metadata": {},
   "outputs": [],
   "source": [
    "df1 = income[['country','2008']]"
   ]
  },
  {
   "cell_type": "code",
   "execution_count": 126,
   "id": "dc5d7713",
   "metadata": {},
   "outputs": [
    {
     "name": "stdout",
     "output_type": "stream",
     "text": [
      "                  country  2008\n",
      "0             Afghanistan  37.7\n",
      "1                  Angola  42.7\n",
      "2                 Albania  30.0\n",
      "3                 Andorra  35.5\n",
      "4    United Arab Emirates  32.3\n",
      "..                    ...   ...\n",
      "192                 Samoa  42.0\n",
      "193                 Yemen  35.4\n",
      "194          South Africa  63.0\n",
      "195                Zambia  55.1\n",
      "196              Zimbabwe  43.1\n",
      "\n",
      "[197 rows x 2 columns]\n"
     ]
    }
   ],
   "source": [
    "print(df1)"
   ]
  },
  {
   "cell_type": "code",
   "execution_count": 127,
   "id": "c161d8ed",
   "metadata": {},
   "outputs": [
    {
     "data": {
      "text/html": [
       "<div>\n",
       "<style scoped>\n",
       "    .dataframe tbody tr th:only-of-type {\n",
       "        vertical-align: middle;\n",
       "    }\n",
       "\n",
       "    .dataframe tbody tr th {\n",
       "        vertical-align: top;\n",
       "    }\n",
       "\n",
       "    .dataframe thead th {\n",
       "        text-align: right;\n",
       "    }\n",
       "</style>\n",
       "<table border=\"1\" class=\"dataframe\">\n",
       "  <thead>\n",
       "    <tr style=\"text-align: right;\">\n",
       "      <th></th>\n",
       "      <th>country</th>\n",
       "      <th>2008</th>\n",
       "    </tr>\n",
       "  </thead>\n",
       "  <tbody>\n",
       "    <tr>\n",
       "      <th>0</th>\n",
       "      <td>Afghanistan</td>\n",
       "      <td>37.7</td>\n",
       "    </tr>\n",
       "    <tr>\n",
       "      <th>1</th>\n",
       "      <td>Angola</td>\n",
       "      <td>42.7</td>\n",
       "    </tr>\n",
       "    <tr>\n",
       "      <th>2</th>\n",
       "      <td>Albania</td>\n",
       "      <td>30.0</td>\n",
       "    </tr>\n",
       "    <tr>\n",
       "      <th>3</th>\n",
       "      <td>Andorra</td>\n",
       "      <td>35.5</td>\n",
       "    </tr>\n",
       "    <tr>\n",
       "      <th>4</th>\n",
       "      <td>United Arab Emirates</td>\n",
       "      <td>32.3</td>\n",
       "    </tr>\n",
       "  </tbody>\n",
       "</table>\n",
       "</div>"
      ],
      "text/plain": [
       "                country  2008\n",
       "0           Afghanistan  37.7\n",
       "1                Angola  42.7\n",
       "2               Albania  30.0\n",
       "3               Andorra  35.5\n",
       "4  United Arab Emirates  32.3"
      ]
     },
     "execution_count": 127,
     "metadata": {},
     "output_type": "execute_result"
    }
   ],
   "source": [
    "df1.head()"
   ]
  },
  {
   "cell_type": "code",
   "execution_count": 128,
   "id": "6e3d3586",
   "metadata": {},
   "outputs": [],
   "source": [
    "df2 = ave_inc[['country','2008']]"
   ]
  },
  {
   "cell_type": "code",
   "execution_count": 129,
   "id": "1777ec7c",
   "metadata": {},
   "outputs": [
    {
     "data": {
      "text/html": [
       "<div>\n",
       "<style scoped>\n",
       "    .dataframe tbody tr th:only-of-type {\n",
       "        vertical-align: middle;\n",
       "    }\n",
       "\n",
       "    .dataframe tbody tr th {\n",
       "        vertical-align: top;\n",
       "    }\n",
       "\n",
       "    .dataframe thead th {\n",
       "        text-align: right;\n",
       "    }\n",
       "</style>\n",
       "<table border=\"1\" class=\"dataframe\">\n",
       "  <thead>\n",
       "    <tr style=\"text-align: right;\">\n",
       "      <th></th>\n",
       "      <th>country</th>\n",
       "      <th>2008</th>\n",
       "    </tr>\n",
       "  </thead>\n",
       "  <tbody>\n",
       "    <tr>\n",
       "      <th>0</th>\n",
       "      <td>Afghanistan</td>\n",
       "      <td>2.02</td>\n",
       "    </tr>\n",
       "    <tr>\n",
       "      <th>1</th>\n",
       "      <td>Angola</td>\n",
       "      <td>3.92</td>\n",
       "    </tr>\n",
       "    <tr>\n",
       "      <th>2</th>\n",
       "      <td>Albania</td>\n",
       "      <td>8.43</td>\n",
       "    </tr>\n",
       "    <tr>\n",
       "      <th>3</th>\n",
       "      <td>Andorra</td>\n",
       "      <td>51.30</td>\n",
       "    </tr>\n",
       "    <tr>\n",
       "      <th>4</th>\n",
       "      <td>United Arab Emirates</td>\n",
       "      <td>175.00</td>\n",
       "    </tr>\n",
       "  </tbody>\n",
       "</table>\n",
       "</div>"
      ],
      "text/plain": [
       "                country    2008\n",
       "0           Afghanistan    2.02\n",
       "1                Angola    3.92\n",
       "2               Albania    8.43\n",
       "3               Andorra   51.30\n",
       "4  United Arab Emirates  175.00"
      ]
     },
     "execution_count": 129,
     "metadata": {},
     "output_type": "execute_result"
    }
   ],
   "source": [
    "df2.head()"
   ]
  },
  {
   "cell_type": "code",
   "execution_count": 130,
   "id": "7adce5a1",
   "metadata": {},
   "outputs": [],
   "source": [
    "df3 = happiness[['country','2008']]"
   ]
  },
  {
   "cell_type": "code",
   "execution_count": 132,
   "id": "bba1f08a",
   "metadata": {},
   "outputs": [
    {
     "data": {
      "text/html": [
       "<div>\n",
       "<style scoped>\n",
       "    .dataframe tbody tr th:only-of-type {\n",
       "        vertical-align: middle;\n",
       "    }\n",
       "\n",
       "    .dataframe tbody tr th {\n",
       "        vertical-align: top;\n",
       "    }\n",
       "\n",
       "    .dataframe thead th {\n",
       "        text-align: right;\n",
       "    }\n",
       "</style>\n",
       "<table border=\"1\" class=\"dataframe\">\n",
       "  <thead>\n",
       "    <tr style=\"text-align: right;\">\n",
       "      <th></th>\n",
       "      <th>country</th>\n",
       "      <th>2008</th>\n",
       "    </tr>\n",
       "  </thead>\n",
       "  <tbody>\n",
       "    <tr>\n",
       "      <th>0</th>\n",
       "      <td>Afghanistan</td>\n",
       "      <td>37.2</td>\n",
       "    </tr>\n",
       "    <tr>\n",
       "      <th>1</th>\n",
       "      <td>Angola</td>\n",
       "      <td>NaN</td>\n",
       "    </tr>\n",
       "    <tr>\n",
       "      <th>2</th>\n",
       "      <td>Albania</td>\n",
       "      <td>NaN</td>\n",
       "    </tr>\n",
       "    <tr>\n",
       "      <th>3</th>\n",
       "      <td>United Arab Emirates</td>\n",
       "      <td>NaN</td>\n",
       "    </tr>\n",
       "    <tr>\n",
       "      <th>4</th>\n",
       "      <td>Argentina</td>\n",
       "      <td>59.6</td>\n",
       "    </tr>\n",
       "  </tbody>\n",
       "</table>\n",
       "</div>"
      ],
      "text/plain": [
       "                country  2008\n",
       "0           Afghanistan  37.2\n",
       "1                Angola   NaN\n",
       "2               Albania   NaN\n",
       "3  United Arab Emirates   NaN\n",
       "4             Argentina  59.6"
      ]
     },
     "execution_count": 132,
     "metadata": {},
     "output_type": "execute_result"
    }
   ],
   "source": [
    "df3.head()"
   ]
  },
  {
   "cell_type": "code",
   "execution_count": 133,
   "id": "789f1026",
   "metadata": {},
   "outputs": [
    {
     "data": {
      "text/html": [
       "<div>\n",
       "<style scoped>\n",
       "    .dataframe tbody tr th:only-of-type {\n",
       "        vertical-align: middle;\n",
       "    }\n",
       "\n",
       "    .dataframe tbody tr th {\n",
       "        vertical-align: top;\n",
       "    }\n",
       "\n",
       "    .dataframe thead th {\n",
       "        text-align: right;\n",
       "    }\n",
       "</style>\n",
       "<table border=\"1\" class=\"dataframe\">\n",
       "  <thead>\n",
       "    <tr style=\"text-align: right;\">\n",
       "      <th></th>\n",
       "      <th>country</th>\n",
       "      <th>2008</th>\n",
       "    </tr>\n",
       "  </thead>\n",
       "  <tbody>\n",
       "    <tr>\n",
       "      <th>0</th>\n",
       "      <td>Afghanistan</td>\n",
       "      <td>37.2</td>\n",
       "    </tr>\n",
       "    <tr>\n",
       "      <th>1</th>\n",
       "      <td>Angola</td>\n",
       "      <td>0.0</td>\n",
       "    </tr>\n",
       "    <tr>\n",
       "      <th>2</th>\n",
       "      <td>Albania</td>\n",
       "      <td>0.0</td>\n",
       "    </tr>\n",
       "    <tr>\n",
       "      <th>3</th>\n",
       "      <td>United Arab Emirates</td>\n",
       "      <td>0.0</td>\n",
       "    </tr>\n",
       "    <tr>\n",
       "      <th>4</th>\n",
       "      <td>Argentina</td>\n",
       "      <td>59.6</td>\n",
       "    </tr>\n",
       "    <tr>\n",
       "      <th>...</th>\n",
       "      <td>...</td>\n",
       "      <td>...</td>\n",
       "    </tr>\n",
       "    <tr>\n",
       "      <th>158</th>\n",
       "      <td>Vietnam</td>\n",
       "      <td>54.8</td>\n",
       "    </tr>\n",
       "    <tr>\n",
       "      <th>159</th>\n",
       "      <td>Yemen</td>\n",
       "      <td>0.0</td>\n",
       "    </tr>\n",
       "    <tr>\n",
       "      <th>160</th>\n",
       "      <td>South Africa</td>\n",
       "      <td>53.5</td>\n",
       "    </tr>\n",
       "    <tr>\n",
       "      <th>161</th>\n",
       "      <td>Zambia</td>\n",
       "      <td>47.3</td>\n",
       "    </tr>\n",
       "    <tr>\n",
       "      <th>162</th>\n",
       "      <td>Zimbabwe</td>\n",
       "      <td>31.7</td>\n",
       "    </tr>\n",
       "  </tbody>\n",
       "</table>\n",
       "<p>163 rows × 2 columns</p>\n",
       "</div>"
      ],
      "text/plain": [
       "                  country  2008\n",
       "0             Afghanistan  37.2\n",
       "1                  Angola   0.0\n",
       "2                 Albania   0.0\n",
       "3    United Arab Emirates   0.0\n",
       "4               Argentina  59.6\n",
       "..                    ...   ...\n",
       "158               Vietnam  54.8\n",
       "159                 Yemen   0.0\n",
       "160          South Africa  53.5\n",
       "161                Zambia  47.3\n",
       "162              Zimbabwe  31.7\n",
       "\n",
       "[163 rows x 2 columns]"
      ]
     },
     "execution_count": 133,
     "metadata": {},
     "output_type": "execute_result"
    }
   ],
   "source": [
    "df3.fillna(0)"
   ]
  },
  {
   "cell_type": "code",
   "execution_count": 190,
   "id": "1bd826c5",
   "metadata": {},
   "outputs": [],
   "source": [
    "df4 = populace[['country','2008']]"
   ]
  },
  {
   "cell_type": "code",
   "execution_count": 191,
   "id": "843834ae",
   "metadata": {},
   "outputs": [
    {
     "data": {
      "text/html": [
       "<div>\n",
       "<style scoped>\n",
       "    .dataframe tbody tr th:only-of-type {\n",
       "        vertical-align: middle;\n",
       "    }\n",
       "\n",
       "    .dataframe tbody tr th {\n",
       "        vertical-align: top;\n",
       "    }\n",
       "\n",
       "    .dataframe thead th {\n",
       "        text-align: right;\n",
       "    }\n",
       "</style>\n",
       "<table border=\"1\" class=\"dataframe\">\n",
       "  <thead>\n",
       "    <tr style=\"text-align: right;\">\n",
       "      <th></th>\n",
       "      <th>country</th>\n",
       "      <th>2008</th>\n",
       "    </tr>\n",
       "  </thead>\n",
       "  <tbody>\n",
       "    <tr>\n",
       "      <th>0</th>\n",
       "      <td>Aruba</td>\n",
       "      <td>101362.0</td>\n",
       "    </tr>\n",
       "    <tr>\n",
       "      <th>1</th>\n",
       "      <td>Africa Eastern and Southern</td>\n",
       "      <td>491173160.0</td>\n",
       "    </tr>\n",
       "    <tr>\n",
       "      <th>2</th>\n",
       "      <td>Afghanistan</td>\n",
       "      <td>27722281.0</td>\n",
       "    </tr>\n",
       "    <tr>\n",
       "      <th>3</th>\n",
       "      <td>Africa Western and Central</td>\n",
       "      <td>331772330.0</td>\n",
       "    </tr>\n",
       "    <tr>\n",
       "      <th>4</th>\n",
       "      <td>Angola</td>\n",
       "      <td>21695636.0</td>\n",
       "    </tr>\n",
       "  </tbody>\n",
       "</table>\n",
       "</div>"
      ],
      "text/plain": [
       "                       country         2008\n",
       "0                        Aruba     101362.0\n",
       "1  Africa Eastern and Southern  491173160.0\n",
       "2                  Afghanistan   27722281.0\n",
       "3   Africa Western and Central  331772330.0\n",
       "4                       Angola   21695636.0"
      ]
     },
     "execution_count": 191,
     "metadata": {},
     "output_type": "execute_result"
    }
   ],
   "source": [
    "df4.head()"
   ]
  },
  {
   "cell_type": "code",
   "execution_count": 139,
   "id": "0e553a00",
   "metadata": {},
   "outputs": [],
   "source": [
    "df5 = functioning_gov[['country','2008']]"
   ]
  },
  {
   "cell_type": "code",
   "execution_count": 140,
   "id": "d724b536",
   "metadata": {},
   "outputs": [
    {
     "data": {
      "text/html": [
       "<div>\n",
       "<style scoped>\n",
       "    .dataframe tbody tr th:only-of-type {\n",
       "        vertical-align: middle;\n",
       "    }\n",
       "\n",
       "    .dataframe tbody tr th {\n",
       "        vertical-align: top;\n",
       "    }\n",
       "\n",
       "    .dataframe thead th {\n",
       "        text-align: right;\n",
       "    }\n",
       "</style>\n",
       "<table border=\"1\" class=\"dataframe\">\n",
       "  <thead>\n",
       "    <tr style=\"text-align: right;\">\n",
       "      <th></th>\n",
       "      <th>country</th>\n",
       "      <th>2008</th>\n",
       "    </tr>\n",
       "  </thead>\n",
       "  <tbody>\n",
       "    <tr>\n",
       "      <th>0</th>\n",
       "      <td>Afghanistan</td>\n",
       "      <td>7.9</td>\n",
       "    </tr>\n",
       "    <tr>\n",
       "      <th>1</th>\n",
       "      <td>Angola</td>\n",
       "      <td>32.1</td>\n",
       "    </tr>\n",
       "    <tr>\n",
       "      <th>2</th>\n",
       "      <td>Albania</td>\n",
       "      <td>50.7</td>\n",
       "    </tr>\n",
       "    <tr>\n",
       "      <th>3</th>\n",
       "      <td>United Arab Emirates</td>\n",
       "      <td>39.3</td>\n",
       "    </tr>\n",
       "    <tr>\n",
       "      <th>4</th>\n",
       "      <td>Argentina</td>\n",
       "      <td>50.0</td>\n",
       "    </tr>\n",
       "  </tbody>\n",
       "</table>\n",
       "</div>"
      ],
      "text/plain": [
       "                country  2008\n",
       "0           Afghanistan   7.9\n",
       "1                Angola  32.1\n",
       "2               Albania  50.7\n",
       "3  United Arab Emirates  39.3\n",
       "4             Argentina  50.0"
      ]
     },
     "execution_count": 140,
     "metadata": {},
     "output_type": "execute_result"
    }
   ],
   "source": [
    "df5.head()"
   ]
  },
  {
   "cell_type": "code",
   "execution_count": 141,
   "id": "3c627d10",
   "metadata": {},
   "outputs": [],
   "source": [
    "df6 = women[['country','2008']]"
   ]
  },
  {
   "cell_type": "code",
   "execution_count": 142,
   "id": "ad4ededc",
   "metadata": {},
   "outputs": [
    {
     "data": {
      "text/html": [
       "<div>\n",
       "<style scoped>\n",
       "    .dataframe tbody tr th:only-of-type {\n",
       "        vertical-align: middle;\n",
       "    }\n",
       "\n",
       "    .dataframe tbody tr th {\n",
       "        vertical-align: top;\n",
       "    }\n",
       "\n",
       "    .dataframe thead th {\n",
       "        text-align: right;\n",
       "    }\n",
       "</style>\n",
       "<table border=\"1\" class=\"dataframe\">\n",
       "  <thead>\n",
       "    <tr style=\"text-align: right;\">\n",
       "      <th></th>\n",
       "      <th>country</th>\n",
       "      <th>2008</th>\n",
       "    </tr>\n",
       "  </thead>\n",
       "  <tbody>\n",
       "    <tr>\n",
       "      <th>0</th>\n",
       "      <td>Afghanistan</td>\n",
       "      <td>26.9</td>\n",
       "    </tr>\n",
       "    <tr>\n",
       "      <th>1</th>\n",
       "      <td>Angola</td>\n",
       "      <td>37.3</td>\n",
       "    </tr>\n",
       "    <tr>\n",
       "      <th>2</th>\n",
       "      <td>Albania</td>\n",
       "      <td>14.1</td>\n",
       "    </tr>\n",
       "    <tr>\n",
       "      <th>3</th>\n",
       "      <td>Andorra</td>\n",
       "      <td>33.7</td>\n",
       "    </tr>\n",
       "    <tr>\n",
       "      <th>4</th>\n",
       "      <td>United Arab Emirates</td>\n",
       "      <td>5.0</td>\n",
       "    </tr>\n",
       "  </tbody>\n",
       "</table>\n",
       "</div>"
      ],
      "text/plain": [
       "                country  2008\n",
       "0           Afghanistan  26.9\n",
       "1                Angola  37.3\n",
       "2               Albania  14.1\n",
       "3               Andorra  33.7\n",
       "4  United Arab Emirates   5.0"
      ]
     },
     "execution_count": 142,
     "metadata": {},
     "output_type": "execute_result"
    }
   ],
   "source": [
    "df6.head()"
   ]
  },
  {
   "cell_type": "code",
   "execution_count": 143,
   "id": "6ad085e4",
   "metadata": {},
   "outputs": [],
   "source": [
    "df7 = democrats[['country','2008']]"
   ]
  },
  {
   "cell_type": "code",
   "execution_count": 144,
   "id": "6e2b404d",
   "metadata": {},
   "outputs": [
    {
     "data": {
      "text/html": [
       "<div>\n",
       "<style scoped>\n",
       "    .dataframe tbody tr th:only-of-type {\n",
       "        vertical-align: middle;\n",
       "    }\n",
       "\n",
       "    .dataframe tbody tr th {\n",
       "        vertical-align: top;\n",
       "    }\n",
       "\n",
       "    .dataframe thead th {\n",
       "        text-align: right;\n",
       "    }\n",
       "</style>\n",
       "<table border=\"1\" class=\"dataframe\">\n",
       "  <thead>\n",
       "    <tr style=\"text-align: right;\">\n",
       "      <th></th>\n",
       "      <th>country</th>\n",
       "      <th>2008</th>\n",
       "    </tr>\n",
       "  </thead>\n",
       "  <tbody>\n",
       "    <tr>\n",
       "      <th>0</th>\n",
       "      <td>Afghanistan</td>\n",
       "      <td>30.2</td>\n",
       "    </tr>\n",
       "    <tr>\n",
       "      <th>1</th>\n",
       "      <td>Angola</td>\n",
       "      <td>33.5</td>\n",
       "    </tr>\n",
       "    <tr>\n",
       "      <th>2</th>\n",
       "      <td>Albania</td>\n",
       "      <td>59.1</td>\n",
       "    </tr>\n",
       "    <tr>\n",
       "      <th>3</th>\n",
       "      <td>United Arab Emirates</td>\n",
       "      <td>26.0</td>\n",
       "    </tr>\n",
       "    <tr>\n",
       "      <th>4</th>\n",
       "      <td>Argentina</td>\n",
       "      <td>66.3</td>\n",
       "    </tr>\n",
       "  </tbody>\n",
       "</table>\n",
       "</div>"
      ],
      "text/plain": [
       "                country  2008\n",
       "0           Afghanistan  30.2\n",
       "1                Angola  33.5\n",
       "2               Albania  59.1\n",
       "3  United Arab Emirates  26.0\n",
       "4             Argentina  66.3"
      ]
     },
     "execution_count": 144,
     "metadata": {},
     "output_type": "execute_result"
    }
   ],
   "source": [
    "df7.head()"
   ]
  },
  {
   "cell_type": "code",
   "execution_count": 154,
   "id": "12e75fae",
   "metadata": {},
   "outputs": [],
   "source": [
    "frame = [income, women]"
   ]
  },
  {
   "cell_type": "code",
   "execution_count": 158,
   "id": "261a64a8",
   "metadata": {},
   "outputs": [],
   "source": [
    "result = pd.concat([df1, df3], axis=1, join='inner')"
   ]
  },
  {
   "cell_type": "code",
   "execution_count": 159,
   "id": "8b8c0bd3",
   "metadata": {},
   "outputs": [
    {
     "name": "stdout",
     "output_type": "stream",
     "text": [
      "                   country  2008               country  2008\n",
      "0              Afghanistan  37.7           Afghanistan  37.2\n",
      "1                   Angola  42.7                Angola   NaN\n",
      "2                  Albania  30.0               Albania   NaN\n",
      "3                  Andorra  35.5  United Arab Emirates   NaN\n",
      "4     United Arab Emirates  32.3             Argentina  59.6\n",
      "..                     ...   ...                   ...   ...\n",
      "158             San Marino  34.3               Vietnam  54.8\n",
      "159                Somalia  36.7                 Yemen   NaN\n",
      "160                 Serbia  27.6          South Africa  53.5\n",
      "161            South Sudan  46.4                Zambia  47.3\n",
      "162  Sao Tome and Principe  31.1              Zimbabwe  31.7\n",
      "\n",
      "[163 rows x 4 columns]\n"
     ]
    }
   ],
   "source": [
    "print(result)"
   ]
  },
  {
   "cell_type": "code",
   "execution_count": 160,
   "id": "cb456d6d",
   "metadata": {},
   "outputs": [
    {
     "data": {
      "text/html": [
       "<div>\n",
       "<style scoped>\n",
       "    .dataframe tbody tr th:only-of-type {\n",
       "        vertical-align: middle;\n",
       "    }\n",
       "\n",
       "    .dataframe tbody tr th {\n",
       "        vertical-align: top;\n",
       "    }\n",
       "\n",
       "    .dataframe thead th {\n",
       "        text-align: right;\n",
       "    }\n",
       "</style>\n",
       "<table border=\"1\" class=\"dataframe\">\n",
       "  <thead>\n",
       "    <tr style=\"text-align: right;\">\n",
       "      <th></th>\n",
       "      <th>country</th>\n",
       "      <th>2008</th>\n",
       "      <th>country</th>\n",
       "      <th>2008</th>\n",
       "    </tr>\n",
       "  </thead>\n",
       "  <tbody>\n",
       "    <tr>\n",
       "      <th>0</th>\n",
       "      <td>Afghanistan</td>\n",
       "      <td>37.7</td>\n",
       "      <td>Afghanistan</td>\n",
       "      <td>37.2</td>\n",
       "    </tr>\n",
       "    <tr>\n",
       "      <th>1</th>\n",
       "      <td>Angola</td>\n",
       "      <td>42.7</td>\n",
       "      <td>Angola</td>\n",
       "      <td>NaN</td>\n",
       "    </tr>\n",
       "    <tr>\n",
       "      <th>2</th>\n",
       "      <td>Albania</td>\n",
       "      <td>30.0</td>\n",
       "      <td>Albania</td>\n",
       "      <td>NaN</td>\n",
       "    </tr>\n",
       "    <tr>\n",
       "      <th>3</th>\n",
       "      <td>Andorra</td>\n",
       "      <td>35.5</td>\n",
       "      <td>United Arab Emirates</td>\n",
       "      <td>NaN</td>\n",
       "    </tr>\n",
       "    <tr>\n",
       "      <th>4</th>\n",
       "      <td>United Arab Emirates</td>\n",
       "      <td>32.3</td>\n",
       "      <td>Argentina</td>\n",
       "      <td>59.6</td>\n",
       "    </tr>\n",
       "  </tbody>\n",
       "</table>\n",
       "</div>"
      ],
      "text/plain": [
       "                country  2008               country  2008\n",
       "0           Afghanistan  37.7           Afghanistan  37.2\n",
       "1                Angola  42.7                Angola   NaN\n",
       "2               Albania  30.0               Albania   NaN\n",
       "3               Andorra  35.5  United Arab Emirates   NaN\n",
       "4  United Arab Emirates  32.3             Argentina  59.6"
      ]
     },
     "execution_count": 160,
     "metadata": {},
     "output_type": "execute_result"
    }
   ],
   "source": [
    "result.head()"
   ]
  },
  {
   "cell_type": "code",
   "execution_count": 162,
   "id": "7f6ff89d",
   "metadata": {},
   "outputs": [
    {
     "name": "stderr",
     "output_type": "stream",
     "text": [
      "/tmp/ipykernel_67533/2457379633.py:1: SettingWithCopyWarning: \n",
      "A value is trying to be set on a copy of a slice from a DataFrame\n",
      "\n",
      "See the caveats in the documentation: https://pandas.pydata.org/pandas-docs/stable/user_guide/indexing.html#returning-a-view-versus-a-copy\n",
      "  df1.rename(columns = {'2008':'inquality'}, inplace = True)\n"
     ]
    }
   ],
   "source": [
    "df1.rename(columns = {'2008':'inquality'}, inplace = True)"
   ]
  },
  {
   "cell_type": "code",
   "execution_count": 163,
   "id": "fd29c8c4",
   "metadata": {},
   "outputs": [
    {
     "name": "stderr",
     "output_type": "stream",
     "text": [
      "/tmp/ipykernel_67533/1868244778.py:1: SettingWithCopyWarning: \n",
      "A value is trying to be set on a copy of a slice from a DataFrame\n",
      "\n",
      "See the caveats in the documentation: https://pandas.pydata.org/pandas-docs/stable/user_guide/indexing.html#returning-a-view-versus-a-copy\n",
      "  df3.rename(columns = {'2008':'score'}, inplace = True)\n"
     ]
    }
   ],
   "source": [
    "df3.rename(columns = {'2008':'score'}, inplace = True)"
   ]
  },
  {
   "cell_type": "code",
   "execution_count": 164,
   "id": "f97f18fd",
   "metadata": {},
   "outputs": [
    {
     "data": {
      "text/html": [
       "<div>\n",
       "<style scoped>\n",
       "    .dataframe tbody tr th:only-of-type {\n",
       "        vertical-align: middle;\n",
       "    }\n",
       "\n",
       "    .dataframe tbody tr th {\n",
       "        vertical-align: top;\n",
       "    }\n",
       "\n",
       "    .dataframe thead th {\n",
       "        text-align: right;\n",
       "    }\n",
       "</style>\n",
       "<table border=\"1\" class=\"dataframe\">\n",
       "  <thead>\n",
       "    <tr style=\"text-align: right;\">\n",
       "      <th></th>\n",
       "      <th>country</th>\n",
       "      <th>score</th>\n",
       "    </tr>\n",
       "  </thead>\n",
       "  <tbody>\n",
       "    <tr>\n",
       "      <th>0</th>\n",
       "      <td>Afghanistan</td>\n",
       "      <td>37.2</td>\n",
       "    </tr>\n",
       "    <tr>\n",
       "      <th>1</th>\n",
       "      <td>Angola</td>\n",
       "      <td>NaN</td>\n",
       "    </tr>\n",
       "    <tr>\n",
       "      <th>2</th>\n",
       "      <td>Albania</td>\n",
       "      <td>NaN</td>\n",
       "    </tr>\n",
       "    <tr>\n",
       "      <th>3</th>\n",
       "      <td>United Arab Emirates</td>\n",
       "      <td>NaN</td>\n",
       "    </tr>\n",
       "    <tr>\n",
       "      <th>4</th>\n",
       "      <td>Argentina</td>\n",
       "      <td>59.6</td>\n",
       "    </tr>\n",
       "  </tbody>\n",
       "</table>\n",
       "</div>"
      ],
      "text/plain": [
       "                country  score\n",
       "0           Afghanistan   37.2\n",
       "1                Angola    NaN\n",
       "2               Albania    NaN\n",
       "3  United Arab Emirates    NaN\n",
       "4             Argentina   59.6"
      ]
     },
     "execution_count": 164,
     "metadata": {},
     "output_type": "execute_result"
    }
   ],
   "source": [
    "df3.head()"
   ]
  },
  {
   "cell_type": "code",
   "execution_count": 165,
   "id": "4e1d0e0c",
   "metadata": {},
   "outputs": [
    {
     "data": {
      "text/html": [
       "<div>\n",
       "<style scoped>\n",
       "    .dataframe tbody tr th:only-of-type {\n",
       "        vertical-align: middle;\n",
       "    }\n",
       "\n",
       "    .dataframe tbody tr th {\n",
       "        vertical-align: top;\n",
       "    }\n",
       "\n",
       "    .dataframe thead th {\n",
       "        text-align: right;\n",
       "    }\n",
       "</style>\n",
       "<table border=\"1\" class=\"dataframe\">\n",
       "  <thead>\n",
       "    <tr style=\"text-align: right;\">\n",
       "      <th></th>\n",
       "      <th>country</th>\n",
       "      <th>inquality</th>\n",
       "    </tr>\n",
       "  </thead>\n",
       "  <tbody>\n",
       "    <tr>\n",
       "      <th>0</th>\n",
       "      <td>Afghanistan</td>\n",
       "      <td>37.7</td>\n",
       "    </tr>\n",
       "    <tr>\n",
       "      <th>1</th>\n",
       "      <td>Angola</td>\n",
       "      <td>42.7</td>\n",
       "    </tr>\n",
       "    <tr>\n",
       "      <th>2</th>\n",
       "      <td>Albania</td>\n",
       "      <td>30.0</td>\n",
       "    </tr>\n",
       "    <tr>\n",
       "      <th>3</th>\n",
       "      <td>Andorra</td>\n",
       "      <td>35.5</td>\n",
       "    </tr>\n",
       "    <tr>\n",
       "      <th>4</th>\n",
       "      <td>United Arab Emirates</td>\n",
       "      <td>32.3</td>\n",
       "    </tr>\n",
       "  </tbody>\n",
       "</table>\n",
       "</div>"
      ],
      "text/plain": [
       "                country  inquality\n",
       "0           Afghanistan       37.7\n",
       "1                Angola       42.7\n",
       "2               Albania       30.0\n",
       "3               Andorra       35.5\n",
       "4  United Arab Emirates       32.3"
      ]
     },
     "execution_count": 165,
     "metadata": {},
     "output_type": "execute_result"
    }
   ],
   "source": [
    "df1.head()"
   ]
  },
  {
   "cell_type": "code",
   "execution_count": 166,
   "id": "1d8f0e98",
   "metadata": {},
   "outputs": [],
   "source": [
    "result = pd.concat([df1, df3], axis=1, join='inner')"
   ]
  },
  {
   "cell_type": "code",
   "execution_count": 167,
   "id": "aee9ea1b",
   "metadata": {},
   "outputs": [
    {
     "data": {
      "text/html": [
       "<div>\n",
       "<style scoped>\n",
       "    .dataframe tbody tr th:only-of-type {\n",
       "        vertical-align: middle;\n",
       "    }\n",
       "\n",
       "    .dataframe tbody tr th {\n",
       "        vertical-align: top;\n",
       "    }\n",
       "\n",
       "    .dataframe thead th {\n",
       "        text-align: right;\n",
       "    }\n",
       "</style>\n",
       "<table border=\"1\" class=\"dataframe\">\n",
       "  <thead>\n",
       "    <tr style=\"text-align: right;\">\n",
       "      <th></th>\n",
       "      <th>country</th>\n",
       "      <th>inquality</th>\n",
       "      <th>country</th>\n",
       "      <th>score</th>\n",
       "    </tr>\n",
       "  </thead>\n",
       "  <tbody>\n",
       "    <tr>\n",
       "      <th>0</th>\n",
       "      <td>Afghanistan</td>\n",
       "      <td>37.7</td>\n",
       "      <td>Afghanistan</td>\n",
       "      <td>37.2</td>\n",
       "    </tr>\n",
       "    <tr>\n",
       "      <th>1</th>\n",
       "      <td>Angola</td>\n",
       "      <td>42.7</td>\n",
       "      <td>Angola</td>\n",
       "      <td>NaN</td>\n",
       "    </tr>\n",
       "    <tr>\n",
       "      <th>2</th>\n",
       "      <td>Albania</td>\n",
       "      <td>30.0</td>\n",
       "      <td>Albania</td>\n",
       "      <td>NaN</td>\n",
       "    </tr>\n",
       "    <tr>\n",
       "      <th>3</th>\n",
       "      <td>Andorra</td>\n",
       "      <td>35.5</td>\n",
       "      <td>United Arab Emirates</td>\n",
       "      <td>NaN</td>\n",
       "    </tr>\n",
       "    <tr>\n",
       "      <th>4</th>\n",
       "      <td>United Arab Emirates</td>\n",
       "      <td>32.3</td>\n",
       "      <td>Argentina</td>\n",
       "      <td>59.6</td>\n",
       "    </tr>\n",
       "  </tbody>\n",
       "</table>\n",
       "</div>"
      ],
      "text/plain": [
       "                country  inquality               country  score\n",
       "0           Afghanistan       37.7           Afghanistan   37.2\n",
       "1                Angola       42.7                Angola    NaN\n",
       "2               Albania       30.0               Albania    NaN\n",
       "3               Andorra       35.5  United Arab Emirates    NaN\n",
       "4  United Arab Emirates       32.3             Argentina   59.6"
      ]
     },
     "execution_count": 167,
     "metadata": {},
     "output_type": "execute_result"
    }
   ],
   "source": [
    "result.head()"
   ]
  },
  {
   "cell_type": "code",
   "execution_count": 168,
   "id": "befb688d",
   "metadata": {},
   "outputs": [],
   "source": [
    "frames = [df1,df3]"
   ]
  },
  {
   "cell_type": "code",
   "execution_count": 169,
   "id": "07d31b32",
   "metadata": {},
   "outputs": [],
   "source": [
    "result = pd.concat(frames)"
   ]
  },
  {
   "cell_type": "code",
   "execution_count": 170,
   "id": "f168acba",
   "metadata": {},
   "outputs": [
    {
     "data": {
      "text/html": [
       "<div>\n",
       "<style scoped>\n",
       "    .dataframe tbody tr th:only-of-type {\n",
       "        vertical-align: middle;\n",
       "    }\n",
       "\n",
       "    .dataframe tbody tr th {\n",
       "        vertical-align: top;\n",
       "    }\n",
       "\n",
       "    .dataframe thead th {\n",
       "        text-align: right;\n",
       "    }\n",
       "</style>\n",
       "<table border=\"1\" class=\"dataframe\">\n",
       "  <thead>\n",
       "    <tr style=\"text-align: right;\">\n",
       "      <th></th>\n",
       "      <th>country</th>\n",
       "      <th>inquality</th>\n",
       "      <th>score</th>\n",
       "    </tr>\n",
       "  </thead>\n",
       "  <tbody>\n",
       "    <tr>\n",
       "      <th>0</th>\n",
       "      <td>Afghanistan</td>\n",
       "      <td>37.7</td>\n",
       "      <td>NaN</td>\n",
       "    </tr>\n",
       "    <tr>\n",
       "      <th>1</th>\n",
       "      <td>Angola</td>\n",
       "      <td>42.7</td>\n",
       "      <td>NaN</td>\n",
       "    </tr>\n",
       "    <tr>\n",
       "      <th>2</th>\n",
       "      <td>Albania</td>\n",
       "      <td>30.0</td>\n",
       "      <td>NaN</td>\n",
       "    </tr>\n",
       "    <tr>\n",
       "      <th>3</th>\n",
       "      <td>Andorra</td>\n",
       "      <td>35.5</td>\n",
       "      <td>NaN</td>\n",
       "    </tr>\n",
       "    <tr>\n",
       "      <th>4</th>\n",
       "      <td>United Arab Emirates</td>\n",
       "      <td>32.3</td>\n",
       "      <td>NaN</td>\n",
       "    </tr>\n",
       "  </tbody>\n",
       "</table>\n",
       "</div>"
      ],
      "text/plain": [
       "                country  inquality  score\n",
       "0           Afghanistan       37.7    NaN\n",
       "1                Angola       42.7    NaN\n",
       "2               Albania       30.0    NaN\n",
       "3               Andorra       35.5    NaN\n",
       "4  United Arab Emirates       32.3    NaN"
      ]
     },
     "execution_count": 170,
     "metadata": {},
     "output_type": "execute_result"
    }
   ],
   "source": [
    "result.head()"
   ]
  },
  {
   "cell_type": "code",
   "execution_count": 171,
   "id": "90583e4b",
   "metadata": {},
   "outputs": [
    {
     "data": {
      "text/html": [
       "<div>\n",
       "<style scoped>\n",
       "    .dataframe tbody tr th:only-of-type {\n",
       "        vertical-align: middle;\n",
       "    }\n",
       "\n",
       "    .dataframe tbody tr th {\n",
       "        vertical-align: top;\n",
       "    }\n",
       "\n",
       "    .dataframe thead th {\n",
       "        text-align: right;\n",
       "    }\n",
       "</style>\n",
       "<table border=\"1\" class=\"dataframe\">\n",
       "  <thead>\n",
       "    <tr style=\"text-align: right;\">\n",
       "      <th></th>\n",
       "      <th>country</th>\n",
       "      <th>1800</th>\n",
       "      <th>1801</th>\n",
       "      <th>1802</th>\n",
       "      <th>1803</th>\n",
       "      <th>1804</th>\n",
       "      <th>1805</th>\n",
       "      <th>1806</th>\n",
       "      <th>1807</th>\n",
       "      <th>1808</th>\n",
       "      <th>...</th>\n",
       "      <th>2012</th>\n",
       "      <th>2013</th>\n",
       "      <th>2014</th>\n",
       "      <th>2015</th>\n",
       "      <th>2016</th>\n",
       "      <th>2017</th>\n",
       "      <th>2018</th>\n",
       "      <th>2019</th>\n",
       "      <th>2020</th>\n",
       "      <th>2021,</th>\n",
       "    </tr>\n",
       "  </thead>\n",
       "  <tbody>\n",
       "    <tr>\n",
       "      <th>0</th>\n",
       "      <td>Afghanistan</td>\n",
       "      <td>30.5</td>\n",
       "      <td>30.5</td>\n",
       "      <td>30.5</td>\n",
       "      <td>30.5</td>\n",
       "      <td>30.5</td>\n",
       "      <td>30.5</td>\n",
       "      <td>30.5</td>\n",
       "      <td>30.5</td>\n",
       "      <td>30.5</td>\n",
       "      <td>...</td>\n",
       "      <td>37.7</td>\n",
       "      <td>37.7</td>\n",
       "      <td>37.7</td>\n",
       "      <td>37.7</td>\n",
       "      <td>37.7</td>\n",
       "      <td>37.7</td>\n",
       "      <td>37.7</td>\n",
       "      <td>37.7</td>\n",
       "      <td>38.3</td>\n",
       "      <td>39,</td>\n",
       "    </tr>\n",
       "    <tr>\n",
       "      <th>1</th>\n",
       "      <td>Angola</td>\n",
       "      <td>57.7</td>\n",
       "      <td>57.7</td>\n",
       "      <td>57.7</td>\n",
       "      <td>57.7</td>\n",
       "      <td>57.7</td>\n",
       "      <td>57.7</td>\n",
       "      <td>57.7</td>\n",
       "      <td>57.7</td>\n",
       "      <td>57.7</td>\n",
       "      <td>...</td>\n",
       "      <td>46.0</td>\n",
       "      <td>46.8</td>\n",
       "      <td>47.7</td>\n",
       "      <td>48.5</td>\n",
       "      <td>49.4</td>\n",
       "      <td>50.3</td>\n",
       "      <td>51.3</td>\n",
       "      <td>51.3</td>\n",
       "      <td>52.1</td>\n",
       "      <td>53,</td>\n",
       "    </tr>\n",
       "    <tr>\n",
       "      <th>2</th>\n",
       "      <td>Albania</td>\n",
       "      <td>39.9</td>\n",
       "      <td>39.9</td>\n",
       "      <td>39.9</td>\n",
       "      <td>39.9</td>\n",
       "      <td>39.9</td>\n",
       "      <td>39.9</td>\n",
       "      <td>39.9</td>\n",
       "      <td>39.9</td>\n",
       "      <td>39.9</td>\n",
       "      <td>...</td>\n",
       "      <td>29.0</td>\n",
       "      <td>31.6</td>\n",
       "      <td>34.6</td>\n",
       "      <td>32.9</td>\n",
       "      <td>33.7</td>\n",
       "      <td>33.2</td>\n",
       "      <td>33.2</td>\n",
       "      <td>33.2</td>\n",
       "      <td>33.8</td>\n",
       "      <td>34.5,</td>\n",
       "    </tr>\n",
       "    <tr>\n",
       "      <th>3</th>\n",
       "      <td>Andorra</td>\n",
       "      <td>42.5</td>\n",
       "      <td>42.5</td>\n",
       "      <td>42.5</td>\n",
       "      <td>42.5</td>\n",
       "      <td>42.5</td>\n",
       "      <td>42.5</td>\n",
       "      <td>42.5</td>\n",
       "      <td>42.5</td>\n",
       "      <td>42.5</td>\n",
       "      <td>...</td>\n",
       "      <td>35.5</td>\n",
       "      <td>35.4</td>\n",
       "      <td>35.4</td>\n",
       "      <td>35.3</td>\n",
       "      <td>35.2</td>\n",
       "      <td>35.2</td>\n",
       "      <td>35.1</td>\n",
       "      <td>35.0</td>\n",
       "      <td>35.0</td>\n",
       "      <td>35,</td>\n",
       "    </tr>\n",
       "    <tr>\n",
       "      <th>4</th>\n",
       "      <td>United Arab Emirates</td>\n",
       "      <td>39.8</td>\n",
       "      <td>39.8</td>\n",
       "      <td>39.8</td>\n",
       "      <td>39.8</td>\n",
       "      <td>39.8</td>\n",
       "      <td>39.8</td>\n",
       "      <td>39.8</td>\n",
       "      <td>39.7</td>\n",
       "      <td>39.7</td>\n",
       "      <td>...</td>\n",
       "      <td>32.6</td>\n",
       "      <td>32.5</td>\n",
       "      <td>31.1</td>\n",
       "      <td>29.7</td>\n",
       "      <td>28.4</td>\n",
       "      <td>27.2</td>\n",
       "      <td>26.0</td>\n",
       "      <td>26.0</td>\n",
       "      <td>26.0</td>\n",
       "      <td>26.7,</td>\n",
       "    </tr>\n",
       "  </tbody>\n",
       "</table>\n",
       "<p>5 rows × 223 columns</p>\n",
       "</div>"
      ],
      "text/plain": [
       "                country  1800  1801  1802  1803  1804  1805  1806  1807  1808  \\\n",
       "0           Afghanistan  30.5  30.5  30.5  30.5  30.5  30.5  30.5  30.5  30.5   \n",
       "1                Angola  57.7  57.7  57.7  57.7  57.7  57.7  57.7  57.7  57.7   \n",
       "2               Albania  39.9  39.9  39.9  39.9  39.9  39.9  39.9  39.9  39.9   \n",
       "3               Andorra  42.5  42.5  42.5  42.5  42.5  42.5  42.5  42.5  42.5   \n",
       "4  United Arab Emirates  39.8  39.8  39.8  39.8  39.8  39.8  39.8  39.7  39.7   \n",
       "\n",
       "   ...  2012  2013  2014  2015  2016  2017  2018  2019  2020  2021,  \n",
       "0  ...  37.7  37.7  37.7  37.7  37.7  37.7  37.7  37.7  38.3    39,  \n",
       "1  ...  46.0  46.8  47.7  48.5  49.4  50.3  51.3  51.3  52.1    53,  \n",
       "2  ...  29.0  31.6  34.6  32.9  33.7  33.2  33.2  33.2  33.8  34.5,  \n",
       "3  ...  35.5  35.4  35.4  35.3  35.2  35.2  35.1  35.0  35.0    35,  \n",
       "4  ...  32.6  32.5  31.1  29.7  28.4  27.2  26.0  26.0  26.0  26.7,  \n",
       "\n",
       "[5 rows x 223 columns]"
      ]
     },
     "execution_count": 171,
     "metadata": {},
     "output_type": "execute_result"
    }
   ],
   "source": [
    "income.head()"
   ]
  },
  {
   "cell_type": "code",
   "execution_count": 172,
   "id": "1a84a328",
   "metadata": {},
   "outputs": [
    {
     "data": {
      "text/html": [
       "<div>\n",
       "<style scoped>\n",
       "    .dataframe tbody tr th:only-of-type {\n",
       "        vertical-align: middle;\n",
       "    }\n",
       "\n",
       "    .dataframe tbody tr th {\n",
       "        vertical-align: top;\n",
       "    }\n",
       "\n",
       "    .dataframe thead th {\n",
       "        text-align: right;\n",
       "    }\n",
       "</style>\n",
       "<table border=\"1\" class=\"dataframe\">\n",
       "  <thead>\n",
       "    <tr style=\"text-align: right;\">\n",
       "      <th></th>\n",
       "      <th>country</th>\n",
       "      <th>2005</th>\n",
       "      <th>2006</th>\n",
       "      <th>2007</th>\n",
       "      <th>2008</th>\n",
       "      <th>2009</th>\n",
       "      <th>2010</th>\n",
       "      <th>2011</th>\n",
       "      <th>2012</th>\n",
       "      <th>2013</th>\n",
       "      <th>2014</th>\n",
       "      <th>2015</th>\n",
       "      <th>2016</th>\n",
       "      <th>2017</th>\n",
       "      <th>2018</th>\n",
       "      <th>2019</th>\n",
       "    </tr>\n",
       "  </thead>\n",
       "  <tbody>\n",
       "    <tr>\n",
       "      <th>0</th>\n",
       "      <td>Afghanistan</td>\n",
       "      <td>NaN</td>\n",
       "      <td>NaN</td>\n",
       "      <td>NaN</td>\n",
       "      <td>37.2</td>\n",
       "      <td>44.0</td>\n",
       "      <td>47.6</td>\n",
       "      <td>38.3</td>\n",
       "      <td>37.8</td>\n",
       "      <td>35.7</td>\n",
       "      <td>31.3</td>\n",
       "      <td>39.8</td>\n",
       "      <td>42.2</td>\n",
       "      <td>26.6</td>\n",
       "      <td>26.9</td>\n",
       "      <td>25.7</td>\n",
       "    </tr>\n",
       "    <tr>\n",
       "      <th>1</th>\n",
       "      <td>Angola</td>\n",
       "      <td>NaN</td>\n",
       "      <td>NaN</td>\n",
       "      <td>NaN</td>\n",
       "      <td>NaN</td>\n",
       "      <td>NaN</td>\n",
       "      <td>NaN</td>\n",
       "      <td>55.9</td>\n",
       "      <td>43.6</td>\n",
       "      <td>39.4</td>\n",
       "      <td>37.9</td>\n",
       "      <td>NaN</td>\n",
       "      <td>NaN</td>\n",
       "      <td>NaN</td>\n",
       "      <td>NaN</td>\n",
       "      <td>NaN</td>\n",
       "    </tr>\n",
       "    <tr>\n",
       "      <th>2</th>\n",
       "      <td>Albania</td>\n",
       "      <td>NaN</td>\n",
       "      <td>NaN</td>\n",
       "      <td>46.3</td>\n",
       "      <td>NaN</td>\n",
       "      <td>54.9</td>\n",
       "      <td>52.7</td>\n",
       "      <td>58.7</td>\n",
       "      <td>55.1</td>\n",
       "      <td>45.5</td>\n",
       "      <td>48.1</td>\n",
       "      <td>46.1</td>\n",
       "      <td>45.1</td>\n",
       "      <td>46.4</td>\n",
       "      <td>50.0</td>\n",
       "      <td>48.8</td>\n",
       "    </tr>\n",
       "    <tr>\n",
       "      <th>3</th>\n",
       "      <td>United Arab Emirates</td>\n",
       "      <td>NaN</td>\n",
       "      <td>67.3</td>\n",
       "      <td>NaN</td>\n",
       "      <td>NaN</td>\n",
       "      <td>68.7</td>\n",
       "      <td>71.0</td>\n",
       "      <td>71.2</td>\n",
       "      <td>72.2</td>\n",
       "      <td>66.2</td>\n",
       "      <td>65.4</td>\n",
       "      <td>65.7</td>\n",
       "      <td>68.3</td>\n",
       "      <td>70.4</td>\n",
       "      <td>66.0</td>\n",
       "      <td>67.9</td>\n",
       "    </tr>\n",
       "    <tr>\n",
       "      <th>4</th>\n",
       "      <td>Argentina</td>\n",
       "      <td>NaN</td>\n",
       "      <td>63.1</td>\n",
       "      <td>60.7</td>\n",
       "      <td>59.6</td>\n",
       "      <td>64.2</td>\n",
       "      <td>64.4</td>\n",
       "      <td>67.8</td>\n",
       "      <td>64.7</td>\n",
       "      <td>65.8</td>\n",
       "      <td>66.7</td>\n",
       "      <td>67.0</td>\n",
       "      <td>64.3</td>\n",
       "      <td>60.4</td>\n",
       "      <td>57.9</td>\n",
       "      <td>59.7</td>\n",
       "    </tr>\n",
       "  </tbody>\n",
       "</table>\n",
       "</div>"
      ],
      "text/plain": [
       "                country  2005  2006  2007  2008  2009  2010  2011  2012  2013  \\\n",
       "0           Afghanistan   NaN   NaN   NaN  37.2  44.0  47.6  38.3  37.8  35.7   \n",
       "1                Angola   NaN   NaN   NaN   NaN   NaN   NaN  55.9  43.6  39.4   \n",
       "2               Albania   NaN   NaN  46.3   NaN  54.9  52.7  58.7  55.1  45.5   \n",
       "3  United Arab Emirates   NaN  67.3   NaN   NaN  68.7  71.0  71.2  72.2  66.2   \n",
       "4             Argentina   NaN  63.1  60.7  59.6  64.2  64.4  67.8  64.7  65.8   \n",
       "\n",
       "   2014  2015  2016  2017  2018  2019  \n",
       "0  31.3  39.8  42.2  26.6  26.9  25.7  \n",
       "1  37.9   NaN   NaN   NaN   NaN   NaN  \n",
       "2  48.1  46.1  45.1  46.4  50.0  48.8  \n",
       "3  65.4  65.7  68.3  70.4  66.0  67.9  \n",
       "4  66.7  67.0  64.3  60.4  57.9  59.7  "
      ]
     },
     "execution_count": 172,
     "metadata": {},
     "output_type": "execute_result"
    }
   ],
   "source": [
    "happiness.head()"
   ]
  },
  {
   "cell_type": "code",
   "execution_count": 176,
   "id": "7a6cf167",
   "metadata": {},
   "outputs": [
    {
     "data": {
      "text/html": [
       "<div>\n",
       "<style scoped>\n",
       "    .dataframe tbody tr th:only-of-type {\n",
       "        vertical-align: middle;\n",
       "    }\n",
       "\n",
       "    .dataframe tbody tr th {\n",
       "        vertical-align: top;\n",
       "    }\n",
       "\n",
       "    .dataframe thead th {\n",
       "        text-align: right;\n",
       "    }\n",
       "</style>\n",
       "<table border=\"1\" class=\"dataframe\">\n",
       "  <thead>\n",
       "    <tr style=\"text-align: right;\">\n",
       "      <th></th>\n",
       "      <th>country</th>\n",
       "      <th>inquality</th>\n",
       "      <th>score</th>\n",
       "    </tr>\n",
       "  </thead>\n",
       "  <tbody>\n",
       "    <tr>\n",
       "      <th>0</th>\n",
       "      <td>Afghanistan</td>\n",
       "      <td>37.7</td>\n",
       "      <td>37.2</td>\n",
       "    </tr>\n",
       "    <tr>\n",
       "      <th>1</th>\n",
       "      <td>Angola</td>\n",
       "      <td>42.7</td>\n",
       "      <td>NaN</td>\n",
       "    </tr>\n",
       "    <tr>\n",
       "      <th>2</th>\n",
       "      <td>Albania</td>\n",
       "      <td>30.0</td>\n",
       "      <td>NaN</td>\n",
       "    </tr>\n",
       "    <tr>\n",
       "      <th>3</th>\n",
       "      <td>Andorra</td>\n",
       "      <td>35.5</td>\n",
       "      <td>NaN</td>\n",
       "    </tr>\n",
       "    <tr>\n",
       "      <th>4</th>\n",
       "      <td>United Arab Emirates</td>\n",
       "      <td>32.3</td>\n",
       "      <td>NaN</td>\n",
       "    </tr>\n",
       "    <tr>\n",
       "      <th>...</th>\n",
       "      <td>...</td>\n",
       "      <td>...</td>\n",
       "      <td>...</td>\n",
       "    </tr>\n",
       "    <tr>\n",
       "      <th>193</th>\n",
       "      <td>Yemen</td>\n",
       "      <td>35.4</td>\n",
       "      <td>NaN</td>\n",
       "    </tr>\n",
       "    <tr>\n",
       "      <th>194</th>\n",
       "      <td>South Africa</td>\n",
       "      <td>63.0</td>\n",
       "      <td>53.5</td>\n",
       "    </tr>\n",
       "    <tr>\n",
       "      <th>195</th>\n",
       "      <td>Zambia</td>\n",
       "      <td>55.1</td>\n",
       "      <td>47.3</td>\n",
       "    </tr>\n",
       "    <tr>\n",
       "      <th>196</th>\n",
       "      <td>Zimbabwe</td>\n",
       "      <td>43.1</td>\n",
       "      <td>31.7</td>\n",
       "    </tr>\n",
       "    <tr>\n",
       "      <th>197</th>\n",
       "      <td>Congo, Dem. Rep.</td>\n",
       "      <td>NaN</td>\n",
       "      <td>NaN</td>\n",
       "    </tr>\n",
       "  </tbody>\n",
       "</table>\n",
       "<p>198 rows × 3 columns</p>\n",
       "</div>"
      ],
      "text/plain": [
       "                  country  inquality  score\n",
       "0             Afghanistan       37.7   37.2\n",
       "1                  Angola       42.7    NaN\n",
       "2                 Albania       30.0    NaN\n",
       "3                 Andorra       35.5    NaN\n",
       "4    United Arab Emirates       32.3    NaN\n",
       "..                    ...        ...    ...\n",
       "193                 Yemen       35.4    NaN\n",
       "194          South Africa       63.0   53.5\n",
       "195                Zambia       55.1   47.3\n",
       "196              Zimbabwe       43.1   31.7\n",
       "197      Congo, Dem. Rep.        NaN    NaN\n",
       "\n",
       "[198 rows x 3 columns]"
      ]
     },
     "execution_count": 176,
     "metadata": {},
     "output_type": "execute_result"
    }
   ],
   "source": [
    "result = pd.merge(left=df1, right=df3, how='outer',left_on='country', right_on='country')\n",
    "result"
   ]
  },
  {
   "cell_type": "code",
   "execution_count": 177,
   "id": "4ba183de",
   "metadata": {},
   "outputs": [
    {
     "name": "stderr",
     "output_type": "stream",
     "text": [
      "/tmp/ipykernel_67533/1605680545.py:1: SettingWithCopyWarning: \n",
      "A value is trying to be set on a copy of a slice from a DataFrame\n",
      "\n",
      "See the caveats in the documentation: https://pandas.pydata.org/pandas-docs/stable/user_guide/indexing.html#returning-a-view-versus-a-copy\n",
      "  df2.rename(columns = {'2008':'ave_income'}, inplace = True)\n",
      "/tmp/ipykernel_67533/1605680545.py:2: SettingWithCopyWarning: \n",
      "A value is trying to be set on a copy of a slice from a DataFrame\n",
      "\n",
      "See the caveats in the documentation: https://pandas.pydata.org/pandas-docs/stable/user_guide/indexing.html#returning-a-view-versus-a-copy\n",
      "  df5.rename(columns = {'2008':'func_govt'}, inplace = True)\n",
      "/tmp/ipykernel_67533/1605680545.py:3: SettingWithCopyWarning: \n",
      "A value is trying to be set on a copy of a slice from a DataFrame\n",
      "\n",
      "See the caveats in the documentation: https://pandas.pydata.org/pandas-docs/stable/user_guide/indexing.html#returning-a-view-versus-a-copy\n",
      "  df6.rename(columns = {'2008':'women_participation'}, inplace = True)\n",
      "/tmp/ipykernel_67533/1605680545.py:4: SettingWithCopyWarning: \n",
      "A value is trying to be set on a copy of a slice from a DataFrame\n",
      "\n",
      "See the caveats in the documentation: https://pandas.pydata.org/pandas-docs/stable/user_guide/indexing.html#returning-a-view-versus-a-copy\n",
      "  df7.rename(columns = {'2008':'democracy'}, inplace = True)\n"
     ]
    }
   ],
   "source": [
    "df2.rename(columns = {'2008':'ave_income'}, inplace = True)\n",
    "df5.rename(columns = {'2008':'func_govt'}, inplace = True)\n",
    "df6.rename(columns = {'2008':'women_participation'}, inplace = True)\n",
    "df7.rename(columns = {'2008':'democracy'}, inplace = True)"
   ]
  },
  {
   "cell_type": "code",
   "execution_count": 178,
   "id": "b57bc6ae",
   "metadata": {},
   "outputs": [
    {
     "data": {
      "text/html": [
       "<div>\n",
       "<style scoped>\n",
       "    .dataframe tbody tr th:only-of-type {\n",
       "        vertical-align: middle;\n",
       "    }\n",
       "\n",
       "    .dataframe tbody tr th {\n",
       "        vertical-align: top;\n",
       "    }\n",
       "\n",
       "    .dataframe thead th {\n",
       "        text-align: right;\n",
       "    }\n",
       "</style>\n",
       "<table border=\"1\" class=\"dataframe\">\n",
       "  <thead>\n",
       "    <tr style=\"text-align: right;\">\n",
       "      <th></th>\n",
       "      <th>country</th>\n",
       "      <th>ave_income</th>\n",
       "    </tr>\n",
       "  </thead>\n",
       "  <tbody>\n",
       "    <tr>\n",
       "      <th>0</th>\n",
       "      <td>Afghanistan</td>\n",
       "      <td>2.02</td>\n",
       "    </tr>\n",
       "    <tr>\n",
       "      <th>1</th>\n",
       "      <td>Angola</td>\n",
       "      <td>3.92</td>\n",
       "    </tr>\n",
       "    <tr>\n",
       "      <th>2</th>\n",
       "      <td>Albania</td>\n",
       "      <td>8.43</td>\n",
       "    </tr>\n",
       "    <tr>\n",
       "      <th>3</th>\n",
       "      <td>Andorra</td>\n",
       "      <td>51.30</td>\n",
       "    </tr>\n",
       "    <tr>\n",
       "      <th>4</th>\n",
       "      <td>United Arab Emirates</td>\n",
       "      <td>175.00</td>\n",
       "    </tr>\n",
       "  </tbody>\n",
       "</table>\n",
       "</div>"
      ],
      "text/plain": [
       "                country  ave_income\n",
       "0           Afghanistan        2.02\n",
       "1                Angola        3.92\n",
       "2               Albania        8.43\n",
       "3               Andorra       51.30\n",
       "4  United Arab Emirates      175.00"
      ]
     },
     "execution_count": 178,
     "metadata": {},
     "output_type": "execute_result"
    }
   ],
   "source": [
    "df2.head()"
   ]
  },
  {
   "cell_type": "code",
   "execution_count": 181,
   "id": "0f22cf7f",
   "metadata": {},
   "outputs": [
    {
     "name": "stderr",
     "output_type": "stream",
     "text": [
      "/tmp/ipykernel_67533/633834834.py:1: SettingWithCopyWarning: \n",
      "A value is trying to be set on a copy of a slice from a DataFrame\n",
      "\n",
      "See the caveats in the documentation: https://pandas.pydata.org/pandas-docs/stable/user_guide/indexing.html#returning-a-view-versus-a-copy\n",
      "  df3.rename(columns = {'score':'happiness'}, inplace = True)\n"
     ]
    }
   ],
   "source": [
    "df3.rename(columns = {'score':'happiness'}, inplace = True)"
   ]
  },
  {
   "cell_type": "code",
   "execution_count": 182,
   "id": "040db8d4",
   "metadata": {},
   "outputs": [
    {
     "data": {
      "text/html": [
       "<div>\n",
       "<style scoped>\n",
       "    .dataframe tbody tr th:only-of-type {\n",
       "        vertical-align: middle;\n",
       "    }\n",
       "\n",
       "    .dataframe tbody tr th {\n",
       "        vertical-align: top;\n",
       "    }\n",
       "\n",
       "    .dataframe thead th {\n",
       "        text-align: right;\n",
       "    }\n",
       "</style>\n",
       "<table border=\"1\" class=\"dataframe\">\n",
       "  <thead>\n",
       "    <tr style=\"text-align: right;\">\n",
       "      <th></th>\n",
       "      <th>country</th>\n",
       "      <th>happiness</th>\n",
       "    </tr>\n",
       "  </thead>\n",
       "  <tbody>\n",
       "    <tr>\n",
       "      <th>0</th>\n",
       "      <td>Afghanistan</td>\n",
       "      <td>37.2</td>\n",
       "    </tr>\n",
       "    <tr>\n",
       "      <th>1</th>\n",
       "      <td>Angola</td>\n",
       "      <td>NaN</td>\n",
       "    </tr>\n",
       "    <tr>\n",
       "      <th>2</th>\n",
       "      <td>Albania</td>\n",
       "      <td>NaN</td>\n",
       "    </tr>\n",
       "    <tr>\n",
       "      <th>3</th>\n",
       "      <td>United Arab Emirates</td>\n",
       "      <td>NaN</td>\n",
       "    </tr>\n",
       "    <tr>\n",
       "      <th>4</th>\n",
       "      <td>Argentina</td>\n",
       "      <td>59.6</td>\n",
       "    </tr>\n",
       "  </tbody>\n",
       "</table>\n",
       "</div>"
      ],
      "text/plain": [
       "                country  happiness\n",
       "0           Afghanistan       37.2\n",
       "1                Angola        NaN\n",
       "2               Albania        NaN\n",
       "3  United Arab Emirates        NaN\n",
       "4             Argentina       59.6"
      ]
     },
     "execution_count": 182,
     "metadata": {},
     "output_type": "execute_result"
    }
   ],
   "source": [
    "df3.head()"
   ]
  },
  {
   "cell_type": "code",
   "execution_count": 183,
   "id": "30b8edd2",
   "metadata": {},
   "outputs": [
    {
     "data": {
      "text/html": [
       "<div>\n",
       "<style scoped>\n",
       "    .dataframe tbody tr th:only-of-type {\n",
       "        vertical-align: middle;\n",
       "    }\n",
       "\n",
       "    .dataframe tbody tr th {\n",
       "        vertical-align: top;\n",
       "    }\n",
       "\n",
       "    .dataframe thead th {\n",
       "        text-align: right;\n",
       "    }\n",
       "</style>\n",
       "<table border=\"1\" class=\"dataframe\">\n",
       "  <thead>\n",
       "    <tr style=\"text-align: right;\">\n",
       "      <th></th>\n",
       "      <th>country</th>\n",
       "      <th>inquality</th>\n",
       "      <th>score</th>\n",
       "    </tr>\n",
       "  </thead>\n",
       "  <tbody>\n",
       "    <tr>\n",
       "      <th>0</th>\n",
       "      <td>Afghanistan</td>\n",
       "      <td>37.7</td>\n",
       "      <td>37.2</td>\n",
       "    </tr>\n",
       "    <tr>\n",
       "      <th>1</th>\n",
       "      <td>Angola</td>\n",
       "      <td>42.7</td>\n",
       "      <td>NaN</td>\n",
       "    </tr>\n",
       "    <tr>\n",
       "      <th>2</th>\n",
       "      <td>Albania</td>\n",
       "      <td>30.0</td>\n",
       "      <td>NaN</td>\n",
       "    </tr>\n",
       "    <tr>\n",
       "      <th>3</th>\n",
       "      <td>Andorra</td>\n",
       "      <td>35.5</td>\n",
       "      <td>NaN</td>\n",
       "    </tr>\n",
       "    <tr>\n",
       "      <th>4</th>\n",
       "      <td>United Arab Emirates</td>\n",
       "      <td>32.3</td>\n",
       "      <td>NaN</td>\n",
       "    </tr>\n",
       "    <tr>\n",
       "      <th>...</th>\n",
       "      <td>...</td>\n",
       "      <td>...</td>\n",
       "      <td>...</td>\n",
       "    </tr>\n",
       "    <tr>\n",
       "      <th>193</th>\n",
       "      <td>Yemen</td>\n",
       "      <td>35.4</td>\n",
       "      <td>NaN</td>\n",
       "    </tr>\n",
       "    <tr>\n",
       "      <th>194</th>\n",
       "      <td>South Africa</td>\n",
       "      <td>63.0</td>\n",
       "      <td>53.5</td>\n",
       "    </tr>\n",
       "    <tr>\n",
       "      <th>195</th>\n",
       "      <td>Zambia</td>\n",
       "      <td>55.1</td>\n",
       "      <td>47.3</td>\n",
       "    </tr>\n",
       "    <tr>\n",
       "      <th>196</th>\n",
       "      <td>Zimbabwe</td>\n",
       "      <td>43.1</td>\n",
       "      <td>31.7</td>\n",
       "    </tr>\n",
       "    <tr>\n",
       "      <th>197</th>\n",
       "      <td>Congo, Dem. Rep.</td>\n",
       "      <td>NaN</td>\n",
       "      <td>NaN</td>\n",
       "    </tr>\n",
       "  </tbody>\n",
       "</table>\n",
       "<p>198 rows × 3 columns</p>\n",
       "</div>"
      ],
      "text/plain": [
       "                  country  inquality  score\n",
       "0             Afghanistan       37.7   37.2\n",
       "1                  Angola       42.7    NaN\n",
       "2                 Albania       30.0    NaN\n",
       "3                 Andorra       35.5    NaN\n",
       "4    United Arab Emirates       32.3    NaN\n",
       "..                    ...        ...    ...\n",
       "193                 Yemen       35.4    NaN\n",
       "194          South Africa       63.0   53.5\n",
       "195                Zambia       55.1   47.3\n",
       "196              Zimbabwe       43.1   31.7\n",
       "197      Congo, Dem. Rep.        NaN    NaN\n",
       "\n",
       "[198 rows x 3 columns]"
      ]
     },
     "execution_count": 183,
     "metadata": {},
     "output_type": "execute_result"
    }
   ],
   "source": [
    "result"
   ]
  },
  {
   "cell_type": "code",
   "execution_count": 184,
   "id": "352238a4",
   "metadata": {},
   "outputs": [
    {
     "data": {
      "text/html": [
       "<div>\n",
       "<style scoped>\n",
       "    .dataframe tbody tr th:only-of-type {\n",
       "        vertical-align: middle;\n",
       "    }\n",
       "\n",
       "    .dataframe tbody tr th {\n",
       "        vertical-align: top;\n",
       "    }\n",
       "\n",
       "    .dataframe thead th {\n",
       "        text-align: right;\n",
       "    }\n",
       "</style>\n",
       "<table border=\"1\" class=\"dataframe\">\n",
       "  <thead>\n",
       "    <tr style=\"text-align: right;\">\n",
       "      <th></th>\n",
       "      <th>country</th>\n",
       "      <th>ave_income</th>\n",
       "      <th>func_govt</th>\n",
       "    </tr>\n",
       "  </thead>\n",
       "  <tbody>\n",
       "    <tr>\n",
       "      <th>0</th>\n",
       "      <td>Afghanistan</td>\n",
       "      <td>2.02</td>\n",
       "      <td>7.9</td>\n",
       "    </tr>\n",
       "    <tr>\n",
       "      <th>1</th>\n",
       "      <td>Angola</td>\n",
       "      <td>3.92</td>\n",
       "      <td>32.1</td>\n",
       "    </tr>\n",
       "    <tr>\n",
       "      <th>2</th>\n",
       "      <td>Albania</td>\n",
       "      <td>8.43</td>\n",
       "      <td>50.7</td>\n",
       "    </tr>\n",
       "    <tr>\n",
       "      <th>3</th>\n",
       "      <td>Andorra</td>\n",
       "      <td>51.30</td>\n",
       "      <td>NaN</td>\n",
       "    </tr>\n",
       "    <tr>\n",
       "      <th>4</th>\n",
       "      <td>United Arab Emirates</td>\n",
       "      <td>175.00</td>\n",
       "      <td>39.3</td>\n",
       "    </tr>\n",
       "    <tr>\n",
       "      <th>...</th>\n",
       "      <td>...</td>\n",
       "      <td>...</td>\n",
       "      <td>...</td>\n",
       "    </tr>\n",
       "    <tr>\n",
       "      <th>190</th>\n",
       "      <td>Samoa</td>\n",
       "      <td>10.00</td>\n",
       "      <td>NaN</td>\n",
       "    </tr>\n",
       "    <tr>\n",
       "      <th>191</th>\n",
       "      <td>Yemen</td>\n",
       "      <td>4.85</td>\n",
       "      <td>25.0</td>\n",
       "    </tr>\n",
       "    <tr>\n",
       "      <th>192</th>\n",
       "      <td>South Africa</td>\n",
       "      <td>11.30</td>\n",
       "      <td>78.6</td>\n",
       "    </tr>\n",
       "    <tr>\n",
       "      <th>193</th>\n",
       "      <td>Zambia</td>\n",
       "      <td>2.54</td>\n",
       "      <td>46.4</td>\n",
       "    </tr>\n",
       "    <tr>\n",
       "      <th>194</th>\n",
       "      <td>Zimbabwe</td>\n",
       "      <td>3.35</td>\n",
       "      <td>7.9</td>\n",
       "    </tr>\n",
       "  </tbody>\n",
       "</table>\n",
       "<p>195 rows × 3 columns</p>\n",
       "</div>"
      ],
      "text/plain": [
       "                  country  ave_income  func_govt\n",
       "0             Afghanistan        2.02        7.9\n",
       "1                  Angola        3.92       32.1\n",
       "2                 Albania        8.43       50.7\n",
       "3                 Andorra       51.30        NaN\n",
       "4    United Arab Emirates      175.00       39.3\n",
       "..                    ...         ...        ...\n",
       "190                 Samoa       10.00        NaN\n",
       "191                 Yemen        4.85       25.0\n",
       "192          South Africa       11.30       78.6\n",
       "193                Zambia        2.54       46.4\n",
       "194              Zimbabwe        3.35        7.9\n",
       "\n",
       "[195 rows x 3 columns]"
      ]
     },
     "execution_count": 184,
     "metadata": {},
     "output_type": "execute_result"
    }
   ],
   "source": [
    "result2 = pd.merge(left=df2, right=df5, how='outer',left_on='country', right_on='country')\n",
    "result2"
   ]
  },
  {
   "cell_type": "code",
   "execution_count": 185,
   "id": "9738afbd",
   "metadata": {},
   "outputs": [
    {
     "data": {
      "text/html": [
       "<div>\n",
       "<style scoped>\n",
       "    .dataframe tbody tr th:only-of-type {\n",
       "        vertical-align: middle;\n",
       "    }\n",
       "\n",
       "    .dataframe tbody tr th {\n",
       "        vertical-align: top;\n",
       "    }\n",
       "\n",
       "    .dataframe thead th {\n",
       "        text-align: right;\n",
       "    }\n",
       "</style>\n",
       "<table border=\"1\" class=\"dataframe\">\n",
       "  <thead>\n",
       "    <tr style=\"text-align: right;\">\n",
       "      <th></th>\n",
       "      <th>country</th>\n",
       "      <th>women_participation</th>\n",
       "      <th>democracy</th>\n",
       "    </tr>\n",
       "  </thead>\n",
       "  <tbody>\n",
       "    <tr>\n",
       "      <th>0</th>\n",
       "      <td>Afghanistan</td>\n",
       "      <td>26.9</td>\n",
       "      <td>30.2</td>\n",
       "    </tr>\n",
       "    <tr>\n",
       "      <th>1</th>\n",
       "      <td>Angola</td>\n",
       "      <td>37.3</td>\n",
       "      <td>33.5</td>\n",
       "    </tr>\n",
       "    <tr>\n",
       "      <th>2</th>\n",
       "      <td>Albania</td>\n",
       "      <td>14.1</td>\n",
       "      <td>59.1</td>\n",
       "    </tr>\n",
       "    <tr>\n",
       "      <th>3</th>\n",
       "      <td>Andorra</td>\n",
       "      <td>33.7</td>\n",
       "      <td>NaN</td>\n",
       "    </tr>\n",
       "    <tr>\n",
       "      <th>4</th>\n",
       "      <td>United Arab Emirates</td>\n",
       "      <td>5.0</td>\n",
       "      <td>26.0</td>\n",
       "    </tr>\n",
       "    <tr>\n",
       "      <th>...</th>\n",
       "      <td>...</td>\n",
       "      <td>...</td>\n",
       "      <td>...</td>\n",
       "    </tr>\n",
       "    <tr>\n",
       "      <th>191</th>\n",
       "      <td>Zambia</td>\n",
       "      <td>13.2</td>\n",
       "      <td>52.5</td>\n",
       "    </tr>\n",
       "    <tr>\n",
       "      <th>192</th>\n",
       "      <td>Zimbabwe</td>\n",
       "      <td>18.3</td>\n",
       "      <td>25.3</td>\n",
       "    </tr>\n",
       "    <tr>\n",
       "      <th>193</th>\n",
       "      <td>Hong Kong, China</td>\n",
       "      <td>NaN</td>\n",
       "      <td>58.5</td>\n",
       "    </tr>\n",
       "    <tr>\n",
       "      <th>194</th>\n",
       "      <td>Palestine</td>\n",
       "      <td>NaN</td>\n",
       "      <td>58.3</td>\n",
       "    </tr>\n",
       "    <tr>\n",
       "      <th>195</th>\n",
       "      <td>Taiwan</td>\n",
       "      <td>NaN</td>\n",
       "      <td>78.2</td>\n",
       "    </tr>\n",
       "  </tbody>\n",
       "</table>\n",
       "<p>196 rows × 3 columns</p>\n",
       "</div>"
      ],
      "text/plain": [
       "                  country  women_participation  democracy\n",
       "0             Afghanistan                 26.9       30.2\n",
       "1                  Angola                 37.3       33.5\n",
       "2                 Albania                 14.1       59.1\n",
       "3                 Andorra                 33.7        NaN\n",
       "4    United Arab Emirates                  5.0       26.0\n",
       "..                    ...                  ...        ...\n",
       "191                Zambia                 13.2       52.5\n",
       "192              Zimbabwe                 18.3       25.3\n",
       "193      Hong Kong, China                  NaN       58.5\n",
       "194             Palestine                  NaN       58.3\n",
       "195                Taiwan                  NaN       78.2\n",
       "\n",
       "[196 rows x 3 columns]"
      ]
     },
     "execution_count": 185,
     "metadata": {},
     "output_type": "execute_result"
    }
   ],
   "source": [
    "result3 = pd.merge(left=df6, right=df7, how='outer',left_on='country', right_on='country')\n",
    "result3"
   ]
  },
  {
   "cell_type": "code",
   "execution_count": 186,
   "id": "14a0599c",
   "metadata": {},
   "outputs": [
    {
     "data": {
      "text/html": [
       "<div>\n",
       "<style scoped>\n",
       "    .dataframe tbody tr th:only-of-type {\n",
       "        vertical-align: middle;\n",
       "    }\n",
       "\n",
       "    .dataframe tbody tr th {\n",
       "        vertical-align: top;\n",
       "    }\n",
       "\n",
       "    .dataframe thead th {\n",
       "        text-align: right;\n",
       "    }\n",
       "</style>\n",
       "<table border=\"1\" class=\"dataframe\">\n",
       "  <thead>\n",
       "    <tr style=\"text-align: right;\">\n",
       "      <th></th>\n",
       "      <th>country</th>\n",
       "      <th>inquality</th>\n",
       "      <th>score</th>\n",
       "      <th>ave_income</th>\n",
       "      <th>func_govt</th>\n",
       "    </tr>\n",
       "  </thead>\n",
       "  <tbody>\n",
       "    <tr>\n",
       "      <th>0</th>\n",
       "      <td>Afghanistan</td>\n",
       "      <td>37.7</td>\n",
       "      <td>37.2</td>\n",
       "      <td>2.02</td>\n",
       "      <td>7.9</td>\n",
       "    </tr>\n",
       "    <tr>\n",
       "      <th>1</th>\n",
       "      <td>Angola</td>\n",
       "      <td>42.7</td>\n",
       "      <td>NaN</td>\n",
       "      <td>3.92</td>\n",
       "      <td>32.1</td>\n",
       "    </tr>\n",
       "    <tr>\n",
       "      <th>2</th>\n",
       "      <td>Albania</td>\n",
       "      <td>30.0</td>\n",
       "      <td>NaN</td>\n",
       "      <td>8.43</td>\n",
       "      <td>50.7</td>\n",
       "    </tr>\n",
       "    <tr>\n",
       "      <th>3</th>\n",
       "      <td>Andorra</td>\n",
       "      <td>35.5</td>\n",
       "      <td>NaN</td>\n",
       "      <td>51.30</td>\n",
       "      <td>NaN</td>\n",
       "    </tr>\n",
       "    <tr>\n",
       "      <th>4</th>\n",
       "      <td>United Arab Emirates</td>\n",
       "      <td>32.3</td>\n",
       "      <td>NaN</td>\n",
       "      <td>175.00</td>\n",
       "      <td>39.3</td>\n",
       "    </tr>\n",
       "    <tr>\n",
       "      <th>...</th>\n",
       "      <td>...</td>\n",
       "      <td>...</td>\n",
       "      <td>...</td>\n",
       "      <td>...</td>\n",
       "      <td>...</td>\n",
       "    </tr>\n",
       "    <tr>\n",
       "      <th>193</th>\n",
       "      <td>Yemen</td>\n",
       "      <td>35.4</td>\n",
       "      <td>NaN</td>\n",
       "      <td>4.85</td>\n",
       "      <td>25.0</td>\n",
       "    </tr>\n",
       "    <tr>\n",
       "      <th>194</th>\n",
       "      <td>South Africa</td>\n",
       "      <td>63.0</td>\n",
       "      <td>53.5</td>\n",
       "      <td>11.30</td>\n",
       "      <td>78.6</td>\n",
       "    </tr>\n",
       "    <tr>\n",
       "      <th>195</th>\n",
       "      <td>Zambia</td>\n",
       "      <td>55.1</td>\n",
       "      <td>47.3</td>\n",
       "      <td>2.54</td>\n",
       "      <td>46.4</td>\n",
       "    </tr>\n",
       "    <tr>\n",
       "      <th>196</th>\n",
       "      <td>Zimbabwe</td>\n",
       "      <td>43.1</td>\n",
       "      <td>31.7</td>\n",
       "      <td>3.35</td>\n",
       "      <td>7.9</td>\n",
       "    </tr>\n",
       "    <tr>\n",
       "      <th>197</th>\n",
       "      <td>Congo, Dem. Rep.</td>\n",
       "      <td>NaN</td>\n",
       "      <td>NaN</td>\n",
       "      <td>1.04</td>\n",
       "      <td>7.1</td>\n",
       "    </tr>\n",
       "  </tbody>\n",
       "</table>\n",
       "<p>198 rows × 5 columns</p>\n",
       "</div>"
      ],
      "text/plain": [
       "                  country  inquality  score  ave_income  func_govt\n",
       "0             Afghanistan       37.7   37.2        2.02        7.9\n",
       "1                  Angola       42.7    NaN        3.92       32.1\n",
       "2                 Albania       30.0    NaN        8.43       50.7\n",
       "3                 Andorra       35.5    NaN       51.30        NaN\n",
       "4    United Arab Emirates       32.3    NaN      175.00       39.3\n",
       "..                    ...        ...    ...         ...        ...\n",
       "193                 Yemen       35.4    NaN        4.85       25.0\n",
       "194          South Africa       63.0   53.5       11.30       78.6\n",
       "195                Zambia       55.1   47.3        2.54       46.4\n",
       "196              Zimbabwe       43.1   31.7        3.35        7.9\n",
       "197      Congo, Dem. Rep.        NaN    NaN        1.04        7.1\n",
       "\n",
       "[198 rows x 5 columns]"
      ]
     },
     "execution_count": 186,
     "metadata": {},
     "output_type": "execute_result"
    }
   ],
   "source": [
    "result4 = pd.merge(left=result, right=result2, how='outer',left_on='country', right_on='country')\n",
    "result4"
   ]
  },
  {
   "cell_type": "code",
   "execution_count": 187,
   "id": "d27ba214",
   "metadata": {},
   "outputs": [
    {
     "data": {
      "text/html": [
       "<div>\n",
       "<style scoped>\n",
       "    .dataframe tbody tr th:only-of-type {\n",
       "        vertical-align: middle;\n",
       "    }\n",
       "\n",
       "    .dataframe tbody tr th {\n",
       "        vertical-align: top;\n",
       "    }\n",
       "\n",
       "    .dataframe thead th {\n",
       "        text-align: right;\n",
       "    }\n",
       "</style>\n",
       "<table border=\"1\" class=\"dataframe\">\n",
       "  <thead>\n",
       "    <tr style=\"text-align: right;\">\n",
       "      <th></th>\n",
       "      <th>country</th>\n",
       "      <th>inquality</th>\n",
       "      <th>score</th>\n",
       "      <th>ave_income</th>\n",
       "      <th>func_govt</th>\n",
       "      <th>women_participation</th>\n",
       "      <th>democracy</th>\n",
       "    </tr>\n",
       "  </thead>\n",
       "  <tbody>\n",
       "    <tr>\n",
       "      <th>0</th>\n",
       "      <td>Afghanistan</td>\n",
       "      <td>37.7</td>\n",
       "      <td>37.2</td>\n",
       "      <td>2.02</td>\n",
       "      <td>7.9</td>\n",
       "      <td>26.90</td>\n",
       "      <td>30.2</td>\n",
       "    </tr>\n",
       "    <tr>\n",
       "      <th>1</th>\n",
       "      <td>Angola</td>\n",
       "      <td>42.7</td>\n",
       "      <td>NaN</td>\n",
       "      <td>3.92</td>\n",
       "      <td>32.1</td>\n",
       "      <td>37.30</td>\n",
       "      <td>33.5</td>\n",
       "    </tr>\n",
       "    <tr>\n",
       "      <th>2</th>\n",
       "      <td>Albania</td>\n",
       "      <td>30.0</td>\n",
       "      <td>NaN</td>\n",
       "      <td>8.43</td>\n",
       "      <td>50.7</td>\n",
       "      <td>14.10</td>\n",
       "      <td>59.1</td>\n",
       "    </tr>\n",
       "    <tr>\n",
       "      <th>3</th>\n",
       "      <td>Andorra</td>\n",
       "      <td>35.5</td>\n",
       "      <td>NaN</td>\n",
       "      <td>51.30</td>\n",
       "      <td>NaN</td>\n",
       "      <td>33.70</td>\n",
       "      <td>NaN</td>\n",
       "    </tr>\n",
       "    <tr>\n",
       "      <th>4</th>\n",
       "      <td>United Arab Emirates</td>\n",
       "      <td>32.3</td>\n",
       "      <td>NaN</td>\n",
       "      <td>175.00</td>\n",
       "      <td>39.3</td>\n",
       "      <td>5.00</td>\n",
       "      <td>26.0</td>\n",
       "    </tr>\n",
       "    <tr>\n",
       "      <th>...</th>\n",
       "      <td>...</td>\n",
       "      <td>...</td>\n",
       "      <td>...</td>\n",
       "      <td>...</td>\n",
       "      <td>...</td>\n",
       "      <td>...</td>\n",
       "      <td>...</td>\n",
       "    </tr>\n",
       "    <tr>\n",
       "      <th>193</th>\n",
       "      <td>Yemen</td>\n",
       "      <td>35.4</td>\n",
       "      <td>NaN</td>\n",
       "      <td>4.85</td>\n",
       "      <td>25.0</td>\n",
       "      <td>0.58</td>\n",
       "      <td>29.5</td>\n",
       "    </tr>\n",
       "    <tr>\n",
       "      <th>194</th>\n",
       "      <td>South Africa</td>\n",
       "      <td>63.0</td>\n",
       "      <td>53.5</td>\n",
       "      <td>11.30</td>\n",
       "      <td>78.6</td>\n",
       "      <td>40.20</td>\n",
       "      <td>79.1</td>\n",
       "    </tr>\n",
       "    <tr>\n",
       "      <th>195</th>\n",
       "      <td>Zambia</td>\n",
       "      <td>55.1</td>\n",
       "      <td>47.3</td>\n",
       "      <td>2.54</td>\n",
       "      <td>46.4</td>\n",
       "      <td>13.20</td>\n",
       "      <td>52.5</td>\n",
       "    </tr>\n",
       "    <tr>\n",
       "      <th>196</th>\n",
       "      <td>Zimbabwe</td>\n",
       "      <td>43.1</td>\n",
       "      <td>31.7</td>\n",
       "      <td>3.35</td>\n",
       "      <td>7.9</td>\n",
       "      <td>18.30</td>\n",
       "      <td>25.3</td>\n",
       "    </tr>\n",
       "    <tr>\n",
       "      <th>197</th>\n",
       "      <td>Congo, Dem. Rep.</td>\n",
       "      <td>NaN</td>\n",
       "      <td>NaN</td>\n",
       "      <td>1.04</td>\n",
       "      <td>7.1</td>\n",
       "      <td>7.23</td>\n",
       "      <td>22.8</td>\n",
       "    </tr>\n",
       "  </tbody>\n",
       "</table>\n",
       "<p>198 rows × 7 columns</p>\n",
       "</div>"
      ],
      "text/plain": [
       "                  country  inquality  score  ave_income  func_govt  \\\n",
       "0             Afghanistan       37.7   37.2        2.02        7.9   \n",
       "1                  Angola       42.7    NaN        3.92       32.1   \n",
       "2                 Albania       30.0    NaN        8.43       50.7   \n",
       "3                 Andorra       35.5    NaN       51.30        NaN   \n",
       "4    United Arab Emirates       32.3    NaN      175.00       39.3   \n",
       "..                    ...        ...    ...         ...        ...   \n",
       "193                 Yemen       35.4    NaN        4.85       25.0   \n",
       "194          South Africa       63.0   53.5       11.30       78.6   \n",
       "195                Zambia       55.1   47.3        2.54       46.4   \n",
       "196              Zimbabwe       43.1   31.7        3.35        7.9   \n",
       "197      Congo, Dem. Rep.        NaN    NaN        1.04        7.1   \n",
       "\n",
       "     women_participation  democracy  \n",
       "0                  26.90       30.2  \n",
       "1                  37.30       33.5  \n",
       "2                  14.10       59.1  \n",
       "3                  33.70        NaN  \n",
       "4                   5.00       26.0  \n",
       "..                   ...        ...  \n",
       "193                 0.58       29.5  \n",
       "194                40.20       79.1  \n",
       "195                13.20       52.5  \n",
       "196                18.30       25.3  \n",
       "197                 7.23       22.8  \n",
       "\n",
       "[198 rows x 7 columns]"
      ]
     },
     "execution_count": 187,
     "metadata": {},
     "output_type": "execute_result"
    }
   ],
   "source": [
    "year2008 = pd.merge(left=result4, right=result3, how='outer',left_on='country', right_on='country')\n",
    "year2008"
   ]
  },
  {
   "cell_type": "code",
   "execution_count": 188,
   "id": "d5aaa8d6",
   "metadata": {},
   "outputs": [],
   "source": [
    "populace.rename(columns = {'Country Name':'country'}, inplace = True)"
   ]
  },
  {
   "cell_type": "code",
   "execution_count": 189,
   "id": "e42a8760",
   "metadata": {},
   "outputs": [
    {
     "data": {
      "text/html": [
       "<div>\n",
       "<style scoped>\n",
       "    .dataframe tbody tr th:only-of-type {\n",
       "        vertical-align: middle;\n",
       "    }\n",
       "\n",
       "    .dataframe tbody tr th {\n",
       "        vertical-align: top;\n",
       "    }\n",
       "\n",
       "    .dataframe thead th {\n",
       "        text-align: right;\n",
       "    }\n",
       "</style>\n",
       "<table border=\"1\" class=\"dataframe\">\n",
       "  <thead>\n",
       "    <tr style=\"text-align: right;\">\n",
       "      <th></th>\n",
       "      <th>country</th>\n",
       "      <th>Country Code</th>\n",
       "      <th>1960</th>\n",
       "      <th>1961</th>\n",
       "      <th>1962</th>\n",
       "      <th>1963</th>\n",
       "      <th>1964</th>\n",
       "      <th>1965</th>\n",
       "      <th>1966</th>\n",
       "      <th>1967</th>\n",
       "      <th>...</th>\n",
       "      <th>2011</th>\n",
       "      <th>2012</th>\n",
       "      <th>2013</th>\n",
       "      <th>2014</th>\n",
       "      <th>2015</th>\n",
       "      <th>2016</th>\n",
       "      <th>2017</th>\n",
       "      <th>2018</th>\n",
       "      <th>2019</th>\n",
       "      <th>2020</th>\n",
       "    </tr>\n",
       "  </thead>\n",
       "  <tbody>\n",
       "    <tr>\n",
       "      <th>0</th>\n",
       "      <td>Aruba</td>\n",
       "      <td>ABW</td>\n",
       "      <td>54208.0</td>\n",
       "      <td>55434.0</td>\n",
       "      <td>56234.0</td>\n",
       "      <td>56699.0</td>\n",
       "      <td>57029.0</td>\n",
       "      <td>57357.0</td>\n",
       "      <td>57702.0</td>\n",
       "      <td>58044.0</td>\n",
       "      <td>...</td>\n",
       "      <td>102050.0</td>\n",
       "      <td>102565.0</td>\n",
       "      <td>103165.0</td>\n",
       "      <td>103776.0</td>\n",
       "      <td>104339.0</td>\n",
       "      <td>104865.0</td>\n",
       "      <td>105361.0</td>\n",
       "      <td>105846.0</td>\n",
       "      <td>106310.0</td>\n",
       "      <td>106766.0</td>\n",
       "    </tr>\n",
       "    <tr>\n",
       "      <th>1</th>\n",
       "      <td>Africa Eastern and Southern</td>\n",
       "      <td>AFE</td>\n",
       "      <td>130836765.0</td>\n",
       "      <td>134159786.0</td>\n",
       "      <td>137614644.0</td>\n",
       "      <td>141202036.0</td>\n",
       "      <td>144920186.0</td>\n",
       "      <td>148769974.0</td>\n",
       "      <td>152752671.0</td>\n",
       "      <td>156876454.0</td>\n",
       "      <td>...</td>\n",
       "      <td>532760424.0</td>\n",
       "      <td>547482863.0</td>\n",
       "      <td>562601578.0</td>\n",
       "      <td>578075373.0</td>\n",
       "      <td>593871847.0</td>\n",
       "      <td>609978946.0</td>\n",
       "      <td>626392880.0</td>\n",
       "      <td>643090131.0</td>\n",
       "      <td>660046272.0</td>\n",
       "      <td>677243299.0</td>\n",
       "    </tr>\n",
       "    <tr>\n",
       "      <th>2</th>\n",
       "      <td>Afghanistan</td>\n",
       "      <td>AFG</td>\n",
       "      <td>8996967.0</td>\n",
       "      <td>9169406.0</td>\n",
       "      <td>9351442.0</td>\n",
       "      <td>9543200.0</td>\n",
       "      <td>9744772.0</td>\n",
       "      <td>9956318.0</td>\n",
       "      <td>10174840.0</td>\n",
       "      <td>10399936.0</td>\n",
       "      <td>...</td>\n",
       "      <td>30117411.0</td>\n",
       "      <td>31161378.0</td>\n",
       "      <td>32269592.0</td>\n",
       "      <td>33370804.0</td>\n",
       "      <td>34413603.0</td>\n",
       "      <td>35383028.0</td>\n",
       "      <td>36296111.0</td>\n",
       "      <td>37171922.0</td>\n",
       "      <td>38041757.0</td>\n",
       "      <td>38928341.0</td>\n",
       "    </tr>\n",
       "    <tr>\n",
       "      <th>3</th>\n",
       "      <td>Africa Western and Central</td>\n",
       "      <td>AFW</td>\n",
       "      <td>96396419.0</td>\n",
       "      <td>98407221.0</td>\n",
       "      <td>100506960.0</td>\n",
       "      <td>102691339.0</td>\n",
       "      <td>104953470.0</td>\n",
       "      <td>107289875.0</td>\n",
       "      <td>109701811.0</td>\n",
       "      <td>112195950.0</td>\n",
       "      <td>...</td>\n",
       "      <td>360285439.0</td>\n",
       "      <td>370243017.0</td>\n",
       "      <td>380437896.0</td>\n",
       "      <td>390882979.0</td>\n",
       "      <td>401586651.0</td>\n",
       "      <td>412551299.0</td>\n",
       "      <td>423769930.0</td>\n",
       "      <td>435229381.0</td>\n",
       "      <td>446911598.0</td>\n",
       "      <td>458803476.0</td>\n",
       "    </tr>\n",
       "    <tr>\n",
       "      <th>4</th>\n",
       "      <td>Angola</td>\n",
       "      <td>AGO</td>\n",
       "      <td>5454938.0</td>\n",
       "      <td>5531451.0</td>\n",
       "      <td>5608499.0</td>\n",
       "      <td>5679409.0</td>\n",
       "      <td>5734995.0</td>\n",
       "      <td>5770573.0</td>\n",
       "      <td>5781305.0</td>\n",
       "      <td>5774440.0</td>\n",
       "      <td>...</td>\n",
       "      <td>24220660.0</td>\n",
       "      <td>25107925.0</td>\n",
       "      <td>26015786.0</td>\n",
       "      <td>26941773.0</td>\n",
       "      <td>27884380.0</td>\n",
       "      <td>28842482.0</td>\n",
       "      <td>29816769.0</td>\n",
       "      <td>30809787.0</td>\n",
       "      <td>31825299.0</td>\n",
       "      <td>32866268.0</td>\n",
       "    </tr>\n",
       "  </tbody>\n",
       "</table>\n",
       "<p>5 rows × 63 columns</p>\n",
       "</div>"
      ],
      "text/plain": [
       "                       country Country Code         1960         1961  \\\n",
       "0                        Aruba          ABW      54208.0      55434.0   \n",
       "1  Africa Eastern and Southern          AFE  130836765.0  134159786.0   \n",
       "2                  Afghanistan          AFG    8996967.0    9169406.0   \n",
       "3   Africa Western and Central          AFW   96396419.0   98407221.0   \n",
       "4                       Angola          AGO    5454938.0    5531451.0   \n",
       "\n",
       "          1962         1963         1964         1965         1966  \\\n",
       "0      56234.0      56699.0      57029.0      57357.0      57702.0   \n",
       "1  137614644.0  141202036.0  144920186.0  148769974.0  152752671.0   \n",
       "2    9351442.0    9543200.0    9744772.0    9956318.0   10174840.0   \n",
       "3  100506960.0  102691339.0  104953470.0  107289875.0  109701811.0   \n",
       "4    5608499.0    5679409.0    5734995.0    5770573.0    5781305.0   \n",
       "\n",
       "          1967  ...         2011         2012         2013         2014  \\\n",
       "0      58044.0  ...     102050.0     102565.0     103165.0     103776.0   \n",
       "1  156876454.0  ...  532760424.0  547482863.0  562601578.0  578075373.0   \n",
       "2   10399936.0  ...   30117411.0   31161378.0   32269592.0   33370804.0   \n",
       "3  112195950.0  ...  360285439.0  370243017.0  380437896.0  390882979.0   \n",
       "4    5774440.0  ...   24220660.0   25107925.0   26015786.0   26941773.0   \n",
       "\n",
       "          2015         2016         2017         2018         2019  \\\n",
       "0     104339.0     104865.0     105361.0     105846.0     106310.0   \n",
       "1  593871847.0  609978946.0  626392880.0  643090131.0  660046272.0   \n",
       "2   34413603.0   35383028.0   36296111.0   37171922.0   38041757.0   \n",
       "3  401586651.0  412551299.0  423769930.0  435229381.0  446911598.0   \n",
       "4   27884380.0   28842482.0   29816769.0   30809787.0   31825299.0   \n",
       "\n",
       "          2020  \n",
       "0     106766.0  \n",
       "1  677243299.0  \n",
       "2   38928341.0  \n",
       "3  458803476.0  \n",
       "4   32866268.0  \n",
       "\n",
       "[5 rows x 63 columns]"
      ]
     },
     "execution_count": 189,
     "metadata": {},
     "output_type": "execute_result"
    }
   ],
   "source": [
    "populace.head()"
   ]
  },
  {
   "cell_type": "code",
   "execution_count": 192,
   "id": "b9098c8d",
   "metadata": {},
   "outputs": [
    {
     "data": {
      "text/html": [
       "<div>\n",
       "<style scoped>\n",
       "    .dataframe tbody tr th:only-of-type {\n",
       "        vertical-align: middle;\n",
       "    }\n",
       "\n",
       "    .dataframe tbody tr th {\n",
       "        vertical-align: top;\n",
       "    }\n",
       "\n",
       "    .dataframe thead th {\n",
       "        text-align: right;\n",
       "    }\n",
       "</style>\n",
       "<table border=\"1\" class=\"dataframe\">\n",
       "  <thead>\n",
       "    <tr style=\"text-align: right;\">\n",
       "      <th></th>\n",
       "      <th>country</th>\n",
       "      <th>inquality</th>\n",
       "      <th>score</th>\n",
       "      <th>ave_income</th>\n",
       "      <th>func_govt</th>\n",
       "      <th>women_participation</th>\n",
       "      <th>democracy</th>\n",
       "      <th>2008</th>\n",
       "    </tr>\n",
       "  </thead>\n",
       "  <tbody>\n",
       "    <tr>\n",
       "      <th>0</th>\n",
       "      <td>Afghanistan</td>\n",
       "      <td>37.7</td>\n",
       "      <td>37.2</td>\n",
       "      <td>2.02</td>\n",
       "      <td>7.9</td>\n",
       "      <td>26.9</td>\n",
       "      <td>30.2</td>\n",
       "      <td>2.772228e+07</td>\n",
       "    </tr>\n",
       "    <tr>\n",
       "      <th>1</th>\n",
       "      <td>Angola</td>\n",
       "      <td>42.7</td>\n",
       "      <td>NaN</td>\n",
       "      <td>3.92</td>\n",
       "      <td>32.1</td>\n",
       "      <td>37.3</td>\n",
       "      <td>33.5</td>\n",
       "      <td>2.169564e+07</td>\n",
       "    </tr>\n",
       "    <tr>\n",
       "      <th>2</th>\n",
       "      <td>Albania</td>\n",
       "      <td>30.0</td>\n",
       "      <td>NaN</td>\n",
       "      <td>8.43</td>\n",
       "      <td>50.7</td>\n",
       "      <td>14.1</td>\n",
       "      <td>59.1</td>\n",
       "      <td>2.947314e+06</td>\n",
       "    </tr>\n",
       "    <tr>\n",
       "      <th>3</th>\n",
       "      <td>Andorra</td>\n",
       "      <td>35.5</td>\n",
       "      <td>NaN</td>\n",
       "      <td>51.30</td>\n",
       "      <td>NaN</td>\n",
       "      <td>33.7</td>\n",
       "      <td>NaN</td>\n",
       "      <td>8.386000e+04</td>\n",
       "    </tr>\n",
       "    <tr>\n",
       "      <th>4</th>\n",
       "      <td>United Arab Emirates</td>\n",
       "      <td>32.3</td>\n",
       "      <td>NaN</td>\n",
       "      <td>175.00</td>\n",
       "      <td>39.3</td>\n",
       "      <td>5.0</td>\n",
       "      <td>26.0</td>\n",
       "      <td>7.089486e+06</td>\n",
       "    </tr>\n",
       "    <tr>\n",
       "      <th>...</th>\n",
       "      <td>...</td>\n",
       "      <td>...</td>\n",
       "      <td>...</td>\n",
       "      <td>...</td>\n",
       "      <td>...</td>\n",
       "      <td>...</td>\n",
       "      <td>...</td>\n",
       "      <td>...</td>\n",
       "    </tr>\n",
       "    <tr>\n",
       "      <th>279</th>\n",
       "      <td>British Virgin Islands</td>\n",
       "      <td>NaN</td>\n",
       "      <td>NaN</td>\n",
       "      <td>NaN</td>\n",
       "      <td>NaN</td>\n",
       "      <td>NaN</td>\n",
       "      <td>NaN</td>\n",
       "      <td>2.609600e+04</td>\n",
       "    </tr>\n",
       "    <tr>\n",
       "      <th>280</th>\n",
       "      <td>Virgin Islands (U.S.)</td>\n",
       "      <td>NaN</td>\n",
       "      <td>NaN</td>\n",
       "      <td>NaN</td>\n",
       "      <td>NaN</td>\n",
       "      <td>NaN</td>\n",
       "      <td>NaN</td>\n",
       "      <td>1.083970e+05</td>\n",
       "    </tr>\n",
       "    <tr>\n",
       "      <th>281</th>\n",
       "      <td>World</td>\n",
       "      <td>NaN</td>\n",
       "      <td>NaN</td>\n",
       "      <td>NaN</td>\n",
       "      <td>NaN</td>\n",
       "      <td>NaN</td>\n",
       "      <td>NaN</td>\n",
       "      <td>6.757000e+09</td>\n",
       "    </tr>\n",
       "    <tr>\n",
       "      <th>282</th>\n",
       "      <td>Kosovo</td>\n",
       "      <td>NaN</td>\n",
       "      <td>NaN</td>\n",
       "      <td>NaN</td>\n",
       "      <td>NaN</td>\n",
       "      <td>NaN</td>\n",
       "      <td>NaN</td>\n",
       "      <td>1.747383e+06</td>\n",
       "    </tr>\n",
       "    <tr>\n",
       "      <th>283</th>\n",
       "      <td>Yemen, Rep.</td>\n",
       "      <td>NaN</td>\n",
       "      <td>NaN</td>\n",
       "      <td>NaN</td>\n",
       "      <td>NaN</td>\n",
       "      <td>NaN</td>\n",
       "      <td>NaN</td>\n",
       "      <td>2.189215e+07</td>\n",
       "    </tr>\n",
       "  </tbody>\n",
       "</table>\n",
       "<p>284 rows × 8 columns</p>\n",
       "</div>"
      ],
      "text/plain": [
       "                    country  inquality  score  ave_income  func_govt  \\\n",
       "0               Afghanistan       37.7   37.2        2.02        7.9   \n",
       "1                    Angola       42.7    NaN        3.92       32.1   \n",
       "2                   Albania       30.0    NaN        8.43       50.7   \n",
       "3                   Andorra       35.5    NaN       51.30        NaN   \n",
       "4      United Arab Emirates       32.3    NaN      175.00       39.3   \n",
       "..                      ...        ...    ...         ...        ...   \n",
       "279  British Virgin Islands        NaN    NaN         NaN        NaN   \n",
       "280   Virgin Islands (U.S.)        NaN    NaN         NaN        NaN   \n",
       "281                   World        NaN    NaN         NaN        NaN   \n",
       "282                  Kosovo        NaN    NaN         NaN        NaN   \n",
       "283             Yemen, Rep.        NaN    NaN         NaN        NaN   \n",
       "\n",
       "     women_participation  democracy          2008  \n",
       "0                   26.9       30.2  2.772228e+07  \n",
       "1                   37.3       33.5  2.169564e+07  \n",
       "2                   14.1       59.1  2.947314e+06  \n",
       "3                   33.7        NaN  8.386000e+04  \n",
       "4                    5.0       26.0  7.089486e+06  \n",
       "..                   ...        ...           ...  \n",
       "279                  NaN        NaN  2.609600e+04  \n",
       "280                  NaN        NaN  1.083970e+05  \n",
       "281                  NaN        NaN  6.757000e+09  \n",
       "282                  NaN        NaN  1.747383e+06  \n",
       "283                  NaN        NaN  2.189215e+07  \n",
       "\n",
       "[284 rows x 8 columns]"
      ]
     },
     "execution_count": 192,
     "metadata": {},
     "output_type": "execute_result"
    }
   ],
   "source": [
    "yearof2008 = pd.merge(left=year2008, right=df4, how='outer',left_on='country', right_on='country')\n",
    "yearof2008"
   ]
  },
  {
   "cell_type": "code",
   "execution_count": 193,
   "id": "b6a687aa",
   "metadata": {},
   "outputs": [],
   "source": [
    "yearof2008.rename(columns = {'2008':'population'}, inplace = True)"
   ]
  },
  {
   "cell_type": "code",
   "execution_count": 194,
   "id": "156174a1",
   "metadata": {},
   "outputs": [
    {
     "data": {
      "text/html": [
       "<div>\n",
       "<style scoped>\n",
       "    .dataframe tbody tr th:only-of-type {\n",
       "        vertical-align: middle;\n",
       "    }\n",
       "\n",
       "    .dataframe tbody tr th {\n",
       "        vertical-align: top;\n",
       "    }\n",
       "\n",
       "    .dataframe thead th {\n",
       "        text-align: right;\n",
       "    }\n",
       "</style>\n",
       "<table border=\"1\" class=\"dataframe\">\n",
       "  <thead>\n",
       "    <tr style=\"text-align: right;\">\n",
       "      <th></th>\n",
       "      <th>country</th>\n",
       "      <th>inquality</th>\n",
       "      <th>score</th>\n",
       "      <th>ave_income</th>\n",
       "      <th>func_govt</th>\n",
       "      <th>women_participation</th>\n",
       "      <th>democracy</th>\n",
       "      <th>population</th>\n",
       "    </tr>\n",
       "  </thead>\n",
       "  <tbody>\n",
       "    <tr>\n",
       "      <th>0</th>\n",
       "      <td>Afghanistan</td>\n",
       "      <td>37.7</td>\n",
       "      <td>37.2</td>\n",
       "      <td>2.02</td>\n",
       "      <td>7.9</td>\n",
       "      <td>26.9</td>\n",
       "      <td>30.2</td>\n",
       "      <td>2.772228e+07</td>\n",
       "    </tr>\n",
       "    <tr>\n",
       "      <th>1</th>\n",
       "      <td>Angola</td>\n",
       "      <td>42.7</td>\n",
       "      <td>NaN</td>\n",
       "      <td>3.92</td>\n",
       "      <td>32.1</td>\n",
       "      <td>37.3</td>\n",
       "      <td>33.5</td>\n",
       "      <td>2.169564e+07</td>\n",
       "    </tr>\n",
       "    <tr>\n",
       "      <th>2</th>\n",
       "      <td>Albania</td>\n",
       "      <td>30.0</td>\n",
       "      <td>NaN</td>\n",
       "      <td>8.43</td>\n",
       "      <td>50.7</td>\n",
       "      <td>14.1</td>\n",
       "      <td>59.1</td>\n",
       "      <td>2.947314e+06</td>\n",
       "    </tr>\n",
       "    <tr>\n",
       "      <th>3</th>\n",
       "      <td>Andorra</td>\n",
       "      <td>35.5</td>\n",
       "      <td>NaN</td>\n",
       "      <td>51.30</td>\n",
       "      <td>NaN</td>\n",
       "      <td>33.7</td>\n",
       "      <td>NaN</td>\n",
       "      <td>8.386000e+04</td>\n",
       "    </tr>\n",
       "    <tr>\n",
       "      <th>4</th>\n",
       "      <td>United Arab Emirates</td>\n",
       "      <td>32.3</td>\n",
       "      <td>NaN</td>\n",
       "      <td>175.00</td>\n",
       "      <td>39.3</td>\n",
       "      <td>5.0</td>\n",
       "      <td>26.0</td>\n",
       "      <td>7.089486e+06</td>\n",
       "    </tr>\n",
       "    <tr>\n",
       "      <th>...</th>\n",
       "      <td>...</td>\n",
       "      <td>...</td>\n",
       "      <td>...</td>\n",
       "      <td>...</td>\n",
       "      <td>...</td>\n",
       "      <td>...</td>\n",
       "      <td>...</td>\n",
       "      <td>...</td>\n",
       "    </tr>\n",
       "    <tr>\n",
       "      <th>279</th>\n",
       "      <td>British Virgin Islands</td>\n",
       "      <td>NaN</td>\n",
       "      <td>NaN</td>\n",
       "      <td>NaN</td>\n",
       "      <td>NaN</td>\n",
       "      <td>NaN</td>\n",
       "      <td>NaN</td>\n",
       "      <td>2.609600e+04</td>\n",
       "    </tr>\n",
       "    <tr>\n",
       "      <th>280</th>\n",
       "      <td>Virgin Islands (U.S.)</td>\n",
       "      <td>NaN</td>\n",
       "      <td>NaN</td>\n",
       "      <td>NaN</td>\n",
       "      <td>NaN</td>\n",
       "      <td>NaN</td>\n",
       "      <td>NaN</td>\n",
       "      <td>1.083970e+05</td>\n",
       "    </tr>\n",
       "    <tr>\n",
       "      <th>281</th>\n",
       "      <td>World</td>\n",
       "      <td>NaN</td>\n",
       "      <td>NaN</td>\n",
       "      <td>NaN</td>\n",
       "      <td>NaN</td>\n",
       "      <td>NaN</td>\n",
       "      <td>NaN</td>\n",
       "      <td>6.757000e+09</td>\n",
       "    </tr>\n",
       "    <tr>\n",
       "      <th>282</th>\n",
       "      <td>Kosovo</td>\n",
       "      <td>NaN</td>\n",
       "      <td>NaN</td>\n",
       "      <td>NaN</td>\n",
       "      <td>NaN</td>\n",
       "      <td>NaN</td>\n",
       "      <td>NaN</td>\n",
       "      <td>1.747383e+06</td>\n",
       "    </tr>\n",
       "    <tr>\n",
       "      <th>283</th>\n",
       "      <td>Yemen, Rep.</td>\n",
       "      <td>NaN</td>\n",
       "      <td>NaN</td>\n",
       "      <td>NaN</td>\n",
       "      <td>NaN</td>\n",
       "      <td>NaN</td>\n",
       "      <td>NaN</td>\n",
       "      <td>2.189215e+07</td>\n",
       "    </tr>\n",
       "  </tbody>\n",
       "</table>\n",
       "<p>284 rows × 8 columns</p>\n",
       "</div>"
      ],
      "text/plain": [
       "                    country  inquality  score  ave_income  func_govt  \\\n",
       "0               Afghanistan       37.7   37.2        2.02        7.9   \n",
       "1                    Angola       42.7    NaN        3.92       32.1   \n",
       "2                   Albania       30.0    NaN        8.43       50.7   \n",
       "3                   Andorra       35.5    NaN       51.30        NaN   \n",
       "4      United Arab Emirates       32.3    NaN      175.00       39.3   \n",
       "..                      ...        ...    ...         ...        ...   \n",
       "279  British Virgin Islands        NaN    NaN         NaN        NaN   \n",
       "280   Virgin Islands (U.S.)        NaN    NaN         NaN        NaN   \n",
       "281                   World        NaN    NaN         NaN        NaN   \n",
       "282                  Kosovo        NaN    NaN         NaN        NaN   \n",
       "283             Yemen, Rep.        NaN    NaN         NaN        NaN   \n",
       "\n",
       "     women_participation  democracy    population  \n",
       "0                   26.9       30.2  2.772228e+07  \n",
       "1                   37.3       33.5  2.169564e+07  \n",
       "2                   14.1       59.1  2.947314e+06  \n",
       "3                   33.7        NaN  8.386000e+04  \n",
       "4                    5.0       26.0  7.089486e+06  \n",
       "..                   ...        ...           ...  \n",
       "279                  NaN        NaN  2.609600e+04  \n",
       "280                  NaN        NaN  1.083970e+05  \n",
       "281                  NaN        NaN  6.757000e+09  \n",
       "282                  NaN        NaN  1.747383e+06  \n",
       "283                  NaN        NaN  2.189215e+07  \n",
       "\n",
       "[284 rows x 8 columns]"
      ]
     },
     "execution_count": 194,
     "metadata": {},
     "output_type": "execute_result"
    }
   ],
   "source": [
    "yearof2008"
   ]
  },
  {
   "cell_type": "code",
   "execution_count": 195,
   "id": "7c35501b",
   "metadata": {},
   "outputs": [
    {
     "data": {
      "text/html": [
       "<div>\n",
       "<style scoped>\n",
       "    .dataframe tbody tr th:only-of-type {\n",
       "        vertical-align: middle;\n",
       "    }\n",
       "\n",
       "    .dataframe tbody tr th {\n",
       "        vertical-align: top;\n",
       "    }\n",
       "\n",
       "    .dataframe thead th {\n",
       "        text-align: right;\n",
       "    }\n",
       "</style>\n",
       "<table border=\"1\" class=\"dataframe\">\n",
       "  <thead>\n",
       "    <tr style=\"text-align: right;\">\n",
       "      <th></th>\n",
       "      <th>country</th>\n",
       "      <th>inquality</th>\n",
       "      <th>score</th>\n",
       "      <th>ave_income</th>\n",
       "      <th>func_govt</th>\n",
       "      <th>women_participation</th>\n",
       "      <th>democracy</th>\n",
       "      <th>population</th>\n",
       "    </tr>\n",
       "  </thead>\n",
       "  <tbody>\n",
       "    <tr>\n",
       "      <th>0</th>\n",
       "      <td>Afghanistan</td>\n",
       "      <td>37.7</td>\n",
       "      <td>37.2</td>\n",
       "      <td>2.02</td>\n",
       "      <td>7.9</td>\n",
       "      <td>26.90</td>\n",
       "      <td>30.2</td>\n",
       "      <td>27722281.0</td>\n",
       "    </tr>\n",
       "    <tr>\n",
       "      <th>1</th>\n",
       "      <td>Angola</td>\n",
       "      <td>42.7</td>\n",
       "      <td>NaN</td>\n",
       "      <td>3.92</td>\n",
       "      <td>32.1</td>\n",
       "      <td>37.30</td>\n",
       "      <td>33.5</td>\n",
       "      <td>21695636.0</td>\n",
       "    </tr>\n",
       "    <tr>\n",
       "      <th>2</th>\n",
       "      <td>Albania</td>\n",
       "      <td>30.0</td>\n",
       "      <td>NaN</td>\n",
       "      <td>8.43</td>\n",
       "      <td>50.7</td>\n",
       "      <td>14.10</td>\n",
       "      <td>59.1</td>\n",
       "      <td>2947314.0</td>\n",
       "    </tr>\n",
       "    <tr>\n",
       "      <th>3</th>\n",
       "      <td>Andorra</td>\n",
       "      <td>35.5</td>\n",
       "      <td>NaN</td>\n",
       "      <td>51.30</td>\n",
       "      <td>NaN</td>\n",
       "      <td>33.70</td>\n",
       "      <td>NaN</td>\n",
       "      <td>83860.0</td>\n",
       "    </tr>\n",
       "    <tr>\n",
       "      <th>4</th>\n",
       "      <td>United Arab Emirates</td>\n",
       "      <td>32.3</td>\n",
       "      <td>NaN</td>\n",
       "      <td>175.00</td>\n",
       "      <td>39.3</td>\n",
       "      <td>5.00</td>\n",
       "      <td>26.0</td>\n",
       "      <td>7089486.0</td>\n",
       "    </tr>\n",
       "    <tr>\n",
       "      <th>5</th>\n",
       "      <td>Argentina</td>\n",
       "      <td>44.9</td>\n",
       "      <td>59.6</td>\n",
       "      <td>18.30</td>\n",
       "      <td>50.0</td>\n",
       "      <td>39.40</td>\n",
       "      <td>66.3</td>\n",
       "      <td>40080159.0</td>\n",
       "    </tr>\n",
       "    <tr>\n",
       "      <th>6</th>\n",
       "      <td>Armenia</td>\n",
       "      <td>29.2</td>\n",
       "      <td>46.5</td>\n",
       "      <td>6.96</td>\n",
       "      <td>32.1</td>\n",
       "      <td>9.36</td>\n",
       "      <td>40.9</td>\n",
       "      <td>2907615.0</td>\n",
       "    </tr>\n",
       "    <tr>\n",
       "      <th>7</th>\n",
       "      <td>Antigua and Barbuda</td>\n",
       "      <td>36.9</td>\n",
       "      <td>NaN</td>\n",
       "      <td>24.10</td>\n",
       "      <td>NaN</td>\n",
       "      <td>18.30</td>\n",
       "      <td>NaN</td>\n",
       "      <td>85394.0</td>\n",
       "    </tr>\n",
       "    <tr>\n",
       "      <th>8</th>\n",
       "      <td>Australia</td>\n",
       "      <td>35.4</td>\n",
       "      <td>72.5</td>\n",
       "      <td>55.60</td>\n",
       "      <td>89.3</td>\n",
       "      <td>29.50</td>\n",
       "      <td>90.9</td>\n",
       "      <td>21249200.0</td>\n",
       "    </tr>\n",
       "    <tr>\n",
       "      <th>9</th>\n",
       "      <td>Austria</td>\n",
       "      <td>30.4</td>\n",
       "      <td>71.8</td>\n",
       "      <td>54.10</td>\n",
       "      <td>78.6</td>\n",
       "      <td>27.80</td>\n",
       "      <td>84.9</td>\n",
       "      <td>8321496.0</td>\n",
       "    </tr>\n",
       "  </tbody>\n",
       "</table>\n",
       "</div>"
      ],
      "text/plain": [
       "                country  inquality  score  ave_income  func_govt  \\\n",
       "0           Afghanistan       37.7   37.2        2.02        7.9   \n",
       "1                Angola       42.7    NaN        3.92       32.1   \n",
       "2               Albania       30.0    NaN        8.43       50.7   \n",
       "3               Andorra       35.5    NaN       51.30        NaN   \n",
       "4  United Arab Emirates       32.3    NaN      175.00       39.3   \n",
       "5             Argentina       44.9   59.6       18.30       50.0   \n",
       "6               Armenia       29.2   46.5        6.96       32.1   \n",
       "7   Antigua and Barbuda       36.9    NaN       24.10        NaN   \n",
       "8             Australia       35.4   72.5       55.60       89.3   \n",
       "9               Austria       30.4   71.8       54.10       78.6   \n",
       "\n",
       "   women_participation  democracy  population  \n",
       "0                26.90       30.2  27722281.0  \n",
       "1                37.30       33.5  21695636.0  \n",
       "2                14.10       59.1   2947314.0  \n",
       "3                33.70        NaN     83860.0  \n",
       "4                 5.00       26.0   7089486.0  \n",
       "5                39.40       66.3  40080159.0  \n",
       "6                 9.36       40.9   2907615.0  \n",
       "7                18.30        NaN     85394.0  \n",
       "8                29.50       90.9  21249200.0  \n",
       "9                27.80       84.9   8321496.0  "
      ]
     },
     "execution_count": 195,
     "metadata": {},
     "output_type": "execute_result"
    }
   ],
   "source": [
    "yearof2008.head(10)"
   ]
  },
  {
   "cell_type": "code",
   "execution_count": 196,
   "id": "3ecbab9e",
   "metadata": {},
   "outputs": [
    {
     "data": {
      "text/plain": [
       "<Figure size 2400x800 with 0 Axes>"
      ]
     },
     "execution_count": 196,
     "metadata": {},
     "output_type": "execute_result"
    },
    {
     "data": {
      "text/plain": [
       "<Figure size 2400x800 with 0 Axes>"
      ]
     },
     "metadata": {},
     "output_type": "display_data"
    }
   ],
   "source": [
    "pl.figure(figsize=(24,8))"
   ]
  },
  {
   "cell_type": "code",
   "execution_count": 197,
   "id": "23bc7149",
   "metadata": {},
   "outputs": [
    {
     "data": {
      "text/plain": [
       "<Axes: >"
      ]
     },
     "execution_count": 197,
     "metadata": {},
     "output_type": "execute_result"
    },
    {
     "data": {
      "image/png": "[encoded data removed]",
      "text/plain": [
       "<Figure size 640x480 with 1 Axes>"
      ]
     },
     "metadata": {},
     "output_type": "display_data"
    }
   ],
   "source": [
    "pl.subplot(1,3,1)"
   ]
  },
  {
   "cell_type": "code",
   "execution_count": 198,
   "id": "bafa3fe1",
   "metadata": {},
   "outputs": [
    {
     "ename": "NameError",
     "evalue": "name 'year0f2008' is not defined",
     "output_type": "error",
     "traceback": [
      "\u001b[0;31m---------------------------------------------------------------------------\u001b[0m",
      "\u001b[0;31mNameError\u001b[0m                                 Traceback (most recent call last)",
      "Cell \u001b[0;32mIn[198], line 1\u001b[0m\n\u001b[0;32m----> 1\u001b[0m sns\u001b[38;5;241m.\u001b[39mbarplot(year0f2008[\u001b[38;5;124m'\u001b[39m\u001b[38;5;124mcountry\u001b[39m\u001b[38;5;124m'\u001b[39m][\u001b[38;5;241m0\u001b[39m:\u001b[38;5;241m5\u001b[39m], yearof2008[\u001b[38;5;124m'\u001b[39m\u001b[38;5;124mscore\u001b[39m\u001b[38;5;124m'\u001b[39m][\u001b[38;5;241m0\u001b[39m:\u001b[38;5;241m5\u001b[39m])\n",
      "\u001b[0;31mNameError\u001b[0m: name 'year0f2008' is not defined"
     ]
    }
   ],
   "source": [
    "sns.barplot(year0f2008['country'][0:5], yearof2008['score'][0:5])"
   ]
  },
  {
   "cell_type": "code",
   "execution_count": 199,
   "id": "ca438f2c",
   "metadata": {},
   "outputs": [
    {
     "ename": "TypeError",
     "evalue": "barplot() takes from 0 to 1 positional arguments but 2 were given",
     "output_type": "error",
     "traceback": [
      "\u001b[0;31m---------------------------------------------------------------------------\u001b[0m",
      "\u001b[0;31mTypeError\u001b[0m                                 Traceback (most recent call last)",
      "Cell \u001b[0;32mIn[199], line 1\u001b[0m\n\u001b[0;32m----> 1\u001b[0m sns\u001b[38;5;241m.\u001b[39mbarplot(yearof2008[\u001b[38;5;124m'\u001b[39m\u001b[38;5;124mcountry\u001b[39m\u001b[38;5;124m'\u001b[39m][\u001b[38;5;241m0\u001b[39m:\u001b[38;5;241m5\u001b[39m], yearof2008[\u001b[38;5;124m'\u001b[39m\u001b[38;5;124mscore\u001b[39m\u001b[38;5;124m'\u001b[39m][\u001b[38;5;241m0\u001b[39m:\u001b[38;5;241m5\u001b[39m])\n",
      "\u001b[0;31mTypeError\u001b[0m: barplot() takes from 0 to 1 positional arguments but 2 were given"
     ]
    }
   ],
   "source": [
    "sns.barplot(yearof2008['country'][0:5], yearof2008['score'][0:5])"
   ]
  },
  {
   "cell_type": "code",
   "execution_count": 200,
   "id": "55cfa578",
   "metadata": {},
   "outputs": [
    {
     "name": "stdout",
     "output_type": "stream",
     "text": [
      "Most unphappiest Country in 2008:  Yemen, Rep. ( nan )\n"
     ]
    }
   ],
   "source": [
    "print(\"Most unphappiest Country in 2008: \", yearof2008['country'].iat[-1], \"(\", yearof2008['score'].iat[-1], ')')"
   ]
  },
  {
   "cell_type": "code",
   "execution_count": 203,
   "id": "56ae3da9",
   "metadata": {},
   "outputs": [
    {
     "data": {
      "text/html": [
       "        <script type=\"text/javascript\">\n",
       "        window.PlotlyConfig = {MathJaxConfig: 'local'};\n",
       "        if (window.MathJax && window.MathJax.Hub && window.MathJax.Hub.Config) {window.MathJax.Hub.Config({SVG: {font: \"STIX-Web\"}});}\n",
       "        if (typeof require !== 'undefined') {\n",
       "        require.undef(\"plotly\");\n",
       "        requirejs.config({\n",
       "            paths: {\n",
       "                'plotly': ['https://cdn.plot.ly/plotly-2.12.1.min']\n",
       "            }\n",
       "        });\n",
       "        require(['plotly'], function(Plotly) {\n",
       "            window._Plotly = Plotly;\n",
       "        });\n",
       "        }\n",
       "        </script>\n",
       "        "
      ]
     },
     "metadata": {},
     "output_type": "display_data"
    },
    {
     "data": {
      "application/vnd.plotly.v1+json": {
       "config": {
        "linkText": "Export to plot.ly",
        "plotlyServerURL": "https://plot.ly",
        "showLink": false
       },
       "data": [
        {
         "colorbar": {
          "title": {
           "text": "Happiness"
          }
         },
         "locationmode": "country names",
         "locations": [
          "Afghanistan",
          "Angola",
          "Albania",
          "Andorra",
          "United Arab Emirates",
          "Argentina",
          "Armenia",
          "Antigua and Barbuda",
          "Australia",
          "Austria",
          "Azerbaijan",
          "Burundi",
          "Belgium",
          "Benin",
          "Burkina Faso",
          "Bangladesh",
          "Bulgaria",
          "Bahrain",
          "Bahamas",
          "Bosnia and Herzegovina",
          "Belarus",
          "Belize",
          "Bolivia",
          "Brazil",
          "Barbados",
          "Brunei",
          "Bhutan",
          "Botswana",
          "Central African Republic",
          "Canada",
          "Switzerland",
          "Chile",
          "China",
          "Cote d'Ivoire",
          "Cameroon",
          "Congo Dem Rep",
          "Congo, Rep.",
          "Colombia",
          "Comoros",
          "Cape Verde",
          "Costa Rica",
          "Cuba",
          "Cyprus",
          "Czech Republic",
          "Germany",
          "Djibouti",
          "Dominica",
          "Denmark",
          "Dominican Republic",
          "Algeria",
          "Ecuador",
          "Egypt",
          "Eritrea",
          "Spain",
          "Estonia",
          "Ethiopia",
          "Finland",
          "Fiji",
          "France",
          "Micronesia, Fed. Sts.",
          "Gabon",
          "United Kingdom",
          "Georgia",
          "Ghana",
          "Guinea",
          "Gambia",
          "Guinea-Bissau",
          "Equatorial Guinea",
          "Greece",
          "Grenada",
          "Guatemala",
          "Guyana",
          "Hong Kong, China",
          "Honduras",
          "Holy See",
          "Croatia",
          "Haiti",
          "Hungary",
          "Indonesia",
          "India",
          "Ireland",
          "Iran",
          "Iraq",
          "Iceland",
          "Israel",
          "Italy",
          "Jamaica",
          "Jordan",
          "Japan",
          "Kazakhstan",
          "Kenya",
          "Kyrgyz Republic",
          "Cambodia",
          "Kiribati",
          "St. Kitts and Nevis",
          "South Korea",
          "Kuwait",
          "Lao",
          "Lebanon",
          "Liberia",
          "Libya",
          "St. Lucia",
          "Liechtenstein",
          "Sri Lanka",
          "Lesotho",
          "Lithuania",
          "Luxembourg",
          "Latvia",
          "Morocco",
          "Monaco",
          "Moldova",
          "Madagascar",
          "Maldives",
          "Mexico",
          "Marshall Islands",
          "North Macedonia",
          "Mali",
          "Malta",
          "Myanmar",
          "Montenegro",
          "Mongolia",
          "Mozambique",
          "Mauritania",
          "Mauritius",
          "Malawi",
          "Malaysia",
          "Namibia",
          "Niger",
          "Nigeria",
          "Nicaragua",
          "Netherlands",
          "Norway",
          "Nepal",
          "Nauru",
          "New Zealand",
          "Oman",
          "Pakistan",
          "Panama",
          "Peru",
          "Philippines",
          "Palau",
          "Papua New Guinea",
          "Poland",
          "North Korea",
          "Portugal",
          "Paraguay",
          "Palestine",
          "Qatar",
          "Romania",
          "Russia",
          "Rwanda",
          "Saudi Arabia",
          "Sudan",
          "Senegal",
          "Singapore",
          "Solomon Islands",
          "Sierra Leone",
          "El Salvador",
          "San Marino",
          "Somalia",
          "Serbia",
          "South Sudan",
          "Sao Tome and Principe",
          "Suriname",
          "Slovak Republic",
          "Slovenia",
          "Sweden",
          "Eswatini",
          "Seychelles",
          "Syria",
          "Chad",
          "Togo",
          "Thailand",
          "Tajikistan",
          "Turkmenistan",
          "Timor-Leste",
          "Tonga",
          "Trinidad and Tobago",
          "Tunisia",
          "Turkey",
          "Tuvalu",
          "Taiwan",
          "Tanzania",
          "Uganda",
          "Ukraine",
          "Uruguay",
          "United States",
          "Uzbekistan",
          "St. Vincent and the Grenadines",
          "Venezuela",
          "Vietnam",
          "Vanuatu",
          "Samoa",
          "Yemen",
          "South Africa",
          "Zambia",
          "Zimbabwe",
          "Congo, Dem. Rep.",
          "Aruba",
          "Africa Eastern and Southern",
          "Africa Western and Central",
          "Arab World",
          "American Samoa",
          "Bahamas, The",
          "Bermuda",
          "Brunei Darussalam",
          "Central Europe and the Baltics",
          "Channel Islands",
          "Cabo Verde",
          "Caribbean small states",
          "Curacao",
          "Cayman Islands",
          "East Asia & Pacific (excluding high income)",
          "Early-demographic dividend",
          "East Asia & Pacific",
          "Europe & Central Asia (excluding high income)",
          "Europe & Central Asia",
          "Egypt, Arab Rep.",
          "Euro area",
          "European Union",
          "Fragile and conflict affected situations",
          "Faroe Islands",
          "Gibraltar",
          "Gambia, The",
          "Greenland",
          "Guam",
          "High income",
          "Hong Kong SAR, China",
          "Heavily indebted poor countries (HIPC)",
          "IBRD only",
          "IDA & IBRD total",
          "IDA total",
          "IDA blend",
          "IDA only",
          "Isle of Man",
          "Not classified",
          "Iran, Islamic Rep.",
          "Korea, Rep.",
          "Latin America & Caribbean (excluding high income)",
          "Lao PDR",
          "Latin America & Caribbean",
          "Least developed countries: UN classification",
          "Low income",
          "Lower middle income",
          "Low & middle income",
          "Late-demographic dividend",
          "Macao SAR, China",
          "St. Martin (French part)",
          "Middle East & North Africa",
          "Middle income",
          "Middle East & North Africa (excluding high income)",
          "Northern Mariana Islands",
          "North America",
          "New Caledonia",
          "OECD members",
          "Other small states",
          "Pre-demographic dividend",
          "Puerto Rico",
          "Korea, Dem. People's Rep.",
          "West Bank and Gaza",
          "Pacific island small states",
          "Post-demographic dividend",
          "French Polynesia",
          "Russian Federation",
          "South Asia",
          "Sub-Saharan Africa (excluding high income)",
          "Sub-Saharan Africa",
          "Small states",
          "Sint Maarten (Dutch part)",
          "Syrian Arab Republic",
          "Turks and Caicos Islands",
          "East Asia & Pacific (IDA & IBRD countries)",
          "Europe & Central Asia (IDA & IBRD countries)",
          "Latin America & the Caribbean (IDA & IBRD countries)",
          "Middle East & North Africa (IDA & IBRD countries)",
          "South Asia (IDA & IBRD)",
          "Sub-Saharan Africa (IDA & IBRD countries)",
          "Upper middle income",
          "Venezuela, RB",
          "British Virgin Islands",
          "Virgin Islands (U.S.)",
          "World",
          "Kosovo",
          "Yemen, Rep."
         ],
         "text": [
          "Afghanistan",
          "Angola",
          "Albania",
          "Andorra",
          "United Arab Emirates",
          "Argentina",
          "Armenia",
          "Antigua and Barbuda",
          "Australia",
          "Austria",
          "Azerbaijan",
          "Burundi",
          "Belgium",
          "Benin",
          "Burkina Faso",
          "Bangladesh",
          "Bulgaria",
          "Bahrain",
          "Bahamas",
          "Bosnia and Herzegovina",
          "Belarus",
          "Belize",
          "Bolivia",
          "Brazil",
          "Barbados",
          "Brunei",
          "Bhutan",
          "Botswana",
          "Central African Republic",
          "Canada",
          "Switzerland",
          "Chile",
          "China",
          "Cote d'Ivoire",
          "Cameroon",
          "Congo Dem Rep",
          "Congo, Rep.",
          "Colombia",
          "Comoros",
          "Cape Verde",
          "Costa Rica",
          "Cuba",
          "Cyprus",
          "Czech Republic",
          "Germany",
          "Djibouti",
          "Dominica",
          "Denmark",
          "Dominican Republic",
          "Algeria",
          "Ecuador",
          "Egypt",
          "Eritrea",
          "Spain",
          "Estonia",
          "Ethiopia",
          "Finland",
          "Fiji",
          "France",
          "Micronesia, Fed. Sts.",
          "Gabon",
          "United Kingdom",
          "Georgia",
          "Ghana",
          "Guinea",
          "Gambia",
          "Guinea-Bissau",
          "Equatorial Guinea",
          "Greece",
          "Grenada",
          "Guatemala",
          "Guyana",
          "Hong Kong, China",
          "Honduras",
          "Holy See",
          "Croatia",
          "Haiti",
          "Hungary",
          "Indonesia",
          "India",
          "Ireland",
          "Iran",
          "Iraq",
          "Iceland",
          "Israel",
          "Italy",
          "Jamaica",
          "Jordan",
          "Japan",
          "Kazakhstan",
          "Kenya",
          "Kyrgyz Republic",
          "Cambodia",
          "Kiribati",
          "St. Kitts and Nevis",
          "South Korea",
          "Kuwait",
          "Lao",
          "Lebanon",
          "Liberia",
          "Libya",
          "St. Lucia",
          "Liechtenstein",
          "Sri Lanka",
          "Lesotho",
          "Lithuania",
          "Luxembourg",
          "Latvia",
          "Morocco",
          "Monaco",
          "Moldova",
          "Madagascar",
          "Maldives",
          "Mexico",
          "Marshall Islands",
          "North Macedonia",
          "Mali",
          "Malta",
          "Myanmar",
          "Montenegro",
          "Mongolia",
          "Mozambique",
          "Mauritania",
          "Mauritius",
          "Malawi",
          "Malaysia",
          "Namibia",
          "Niger",
          "Nigeria",
          "Nicaragua",
          "Netherlands",
          "Norway",
          "Nepal",
          "Nauru",
          "New Zealand",
          "Oman",
          "Pakistan",
          "Panama",
          "Peru",
          "Philippines",
          "Palau",
          "Papua New Guinea",
          "Poland",
          "North Korea",
          "Portugal",
          "Paraguay",
          "Palestine",
          "Qatar",
          "Romania",
          "Russia",
          "Rwanda",
          "Saudi Arabia",
          "Sudan",
          "Senegal",
          "Singapore",
          "Solomon Islands",
          "Sierra Leone",
          "El Salvador",
          "San Marino",
          "Somalia",
          "Serbia",
          "South Sudan",
          "Sao Tome and Principe",
          "Suriname",
          "Slovak Republic",
          "Slovenia",
          "Sweden",
          "Eswatini",
          "Seychelles",
          "Syria",
          "Chad",
          "Togo",
          "Thailand",
          "Tajikistan",
          "Turkmenistan",
          "Timor-Leste",
          "Tonga",
          "Trinidad and Tobago",
          "Tunisia",
          "Turkey",
          "Tuvalu",
          "Taiwan",
          "Tanzania",
          "Uganda",
          "Ukraine",
          "Uruguay",
          "United States",
          "Uzbekistan",
          "St. Vincent and the Grenadines",
          "Venezuela",
          "Vietnam",
          "Vanuatu",
          "Samoa",
          "Yemen",
          "South Africa",
          "Zambia",
          "Zimbabwe",
          "Congo, Dem. Rep.",
          "Aruba",
          "Africa Eastern and Southern",
          "Africa Western and Central",
          "Arab World",
          "American Samoa",
          "Bahamas, The",
          "Bermuda",
          "Brunei Darussalam",
          "Central Europe and the Baltics",
          "Channel Islands",
          "Cabo Verde",
          "Caribbean small states",
          "Curacao",
          "Cayman Islands",
          "East Asia & Pacific (excluding high income)",
          "Early-demographic dividend",
          "East Asia & Pacific",
          "Europe & Central Asia (excluding high income)",
          "Europe & Central Asia",
          "Egypt, Arab Rep.",
          "Euro area",
          "European Union",
          "Fragile and conflict affected situations",
          "Faroe Islands",
          "Gibraltar",
          "Gambia, The",
          "Greenland",
          "Guam",
          "High income",
          "Hong Kong SAR, China",
          "Heavily indebted poor countries (HIPC)",
          "IBRD only",
          "IDA & IBRD total",
          "IDA total",
          "IDA blend",
          "IDA only",
          "Isle of Man",
          "Not classified",
          "Iran, Islamic Rep.",
          "Korea, Rep.",
          "Latin America & Caribbean (excluding high income)",
          "Lao PDR",
          "Latin America & Caribbean",
          "Least developed countries: UN classification",
          "Low income",
          "Lower middle income",
          "Low & middle income",
          "Late-demographic dividend",
          "Macao SAR, China",
          "St. Martin (French part)",
          "Middle East & North Africa",
          "Middle income",
          "Middle East & North Africa (excluding high income)",
          "Northern Mariana Islands",
          "North America",
          "New Caledonia",
          "OECD members",
          "Other small states",
          "Pre-demographic dividend",
          "Puerto Rico",
          "Korea, Dem. People's Rep.",
          "West Bank and Gaza",
          "Pacific island small states",
          "Post-demographic dividend",
          "French Polynesia",
          "Russian Federation",
          "South Asia",
          "Sub-Saharan Africa (excluding high income)",
          "Sub-Saharan Africa",
          "Small states",
          "Sint Maarten (Dutch part)",
          "Syrian Arab Republic",
          "Turks and Caicos Islands",
          "East Asia & Pacific (IDA & IBRD countries)",
          "Europe & Central Asia (IDA & IBRD countries)",
          "Latin America & the Caribbean (IDA & IBRD countries)",
          "Middle East & North Africa (IDA & IBRD countries)",
          "South Asia (IDA & IBRD)",
          "Sub-Saharan Africa (IDA & IBRD countries)",
          "Upper middle income",
          "Venezuela, RB",
          "British Virgin Islands",
          "Virgin Islands (U.S.)",
          "World",
          "Kosovo",
          "Yemen, Rep."
         ],
         "type": "choropleth",
         "z": [
          37.2,
          null,
          null,
          null,
          null,
          59.6,
          46.5,
          null,
          72.5,
          71.8,
          48.2,
          35.6,
          71.2,
          36.7,
          38.5,
          50.5,
          null,
          null,
          null,
          null,
          54.6,
          null,
          53,
          66.9,
          null,
          null,
          null,
          54.5,
          null,
          74.9,
          null,
          57.9,
          48.5,
          null,
          42.9,
          null,
          38.2,
          61.7,
          null,
          null,
          68.5,
          null,
          null,
          null,
          65.2,
          50.1,
          null,
          79.7,
          48.4,
          null,
          53,
          46.3,
          null,
          72.9,
          54.5,
          null,
          76.7,
          null,
          70.1,
          null,
          null,
          69.9,
          41.6,
          49.7,
          null,
          null,
          null,
          null,
          null,
          null,
          64.1,
          null,
          51.4,
          54.2,
          null,
          null,
          38.5,
          null,
          48.2,
          51.5,
          75.7,
          51.3,
          45.9,
          68.9,
          72.6,
          67.8,
          null,
          49.3,
          59.1,
          58.9,
          40.2,
          47.4,
          44.6,
          null,
          null,
          53.9,
          null,
          50.4,
          45.9,
          42.2,
          null,
          null,
          null,
          44.3,
          null,
          55.5,
          null,
          51.5,
          null,
          null,
          55,
          46.4,
          null,
          68.3,
          null,
          null,
          41.1,
          null,
          null,
          null,
          44.9,
          46.5,
          42.5,
          null,
          null,
          58.1,
          null,
          42.4,
          49.4,
          51,
          76.3,
          76.3,
          44.4,
          null,
          73.8,
          null,
          44.1,
          69.3,
          51.3,
          45.9,
          null,
          null,
          null,
          null,
          57.2,
          55.7,
          43.9,
          null,
          null,
          56.2,
          43.6,
          68.1,
          null,
          46.8,
          66.4,
          null,
          30,
          51.9,
          null,
          null,
          null,
          null,
          null,
          null,
          null,
          null,
          75.2,
          null,
          null,
          53.2,
          46.3,
          28.1,
          56.4,
          50.6,
          null,
          null,
          null,
          67,
          null,
          51.2,
          null,
          55.5,
          43.8,
          45.7,
          51.7,
          56.6,
          72.8,
          53.1,
          null,
          62.6,
          54.8,
          null,
          null,
          null,
          53.5,
          47.3,
          31.7,
          null,
          null,
          null,
          null,
          null,
          null,
          null,
          null,
          null,
          null,
          null,
          null,
          null,
          null,
          null,
          null,
          null,
          null,
          null,
          null,
          null,
          null,
          null,
          null,
          null,
          null,
          null,
          null,
          null,
          null,
          null,
          null,
          null,
          null,
          null,
          null,
          null,
          null,
          null,
          null,
          null,
          null,
          null,
          null,
          null,
          null,
          null,
          null,
          null,
          null,
          null,
          null,
          null,
          null,
          null,
          null,
          null,
          null,
          null,
          null,
          null,
          null,
          null,
          null,
          null,
          null,
          null,
          null,
          null,
          null,
          null,
          null,
          null,
          null,
          null,
          null,
          null,
          null,
          null,
          null,
          null,
          null,
          null,
          null,
          null,
          null,
          null
         ]
        }
       ],
       "layout": {
        "geo": {
         "showframe": false
        },
        "template": {
         "data": {
          "bar": [
           {
            "error_x": {
             "color": "#2a3f5f"
            },
            "error_y": {
             "color": "#2a3f5f"
            },
            "marker": {
             "line": {
              "color": "#E5ECF6",
              "width": 0.5
             },
             "pattern": {
              "fillmode": "overlay",
              "size": 10,
              "solidity": 0.2
             }
            },
            "type": "bar"
           }
          ],
          "barpolar": [
           {
            "marker": {
             "line": {
              "color": "#E5ECF6",
              "width": 0.5
             },
             "pattern": {
              "fillmode": "overlay",
              "size": 10,
              "solidity": 0.2
             }
            },
            "type": "barpolar"
           }
          ],
          "carpet": [
           {
            "aaxis": {
             "endlinecolor": "#2a3f5f",
             "gridcolor": "white",
             "linecolor": "white",
             "minorgridcolor": "white",
             "startlinecolor": "#2a3f5f"
            },
            "baxis": {
             "endlinecolor": "#2a3f5f",
             "gridcolor": "white",
             "linecolor": "white",
             "minorgridcolor": "white",
             "startlinecolor": "#2a3f5f"
            },
            "type": "carpet"
           }
          ],
          "choropleth": [
           {
            "colorbar": {
             "outlinewidth": 0,
             "ticks": ""
            },
            "type": "choropleth"
           }
          ],
          "contour": [
           {
            "colorbar": {
             "outlinewidth": 0,
             "ticks": ""
            },
            "colorscale": [
             [
              0,
              "#0d0887"
             ],
             [
              0.1111111111111111,
              "#46039f"
             ],
             [
              0.2222222222222222,
              "#7201a8"
             ],
             [
              0.3333333333333333,
              "#9c179e"
             ],
             [
              0.4444444444444444,
              "#bd3786"
             ],
             [
              0.5555555555555556,
              "#d8576b"
             ],
             [
              0.6666666666666666,
              "#ed7953"
             ],
             [
              0.7777777777777778,
              "#fb9f3a"
             ],
             [
              0.8888888888888888,
              "#fdca26"
             ],
             [
              1,
              "#f0f921"
             ]
            ],
            "type": "contour"
           }
          ],
          "contourcarpet": [
           {
            "colorbar": {
             "outlinewidth": 0,
             "ticks": ""
            },
            "type": "contourcarpet"
           }
          ],
          "heatmap": [
           {
            "colorbar": {
             "outlinewidth": 0,
             "ticks": ""
            },
            "colorscale": [
             [
              0,
              "#0d0887"
             ],
             [
              0.1111111111111111,
              "#46039f"
             ],
             [
              0.2222222222222222,
              "#7201a8"
             ],
             [
              0.3333333333333333,
              "#9c179e"
             ],
             [
              0.4444444444444444,
              "#bd3786"
             ],
             [
              0.5555555555555556,
              "#d8576b"
             ],
             [
              0.6666666666666666,
              "#ed7953"
             ],
             [
              0.7777777777777778,
              "#fb9f3a"
             ],
             [
              0.8888888888888888,
              "#fdca26"
             ],
             [
              1,
              "#f0f921"
             ]
            ],
            "type": "heatmap"
           }
          ],
          "heatmapgl": [
           {
            "colorbar": {
             "outlinewidth": 0,
             "ticks": ""
            },
            "colorscale": [
             [
              0,
              "#0d0887"
             ],
             [
              0.1111111111111111,
              "#46039f"
             ],
             [
              0.2222222222222222,
              "#7201a8"
             ],
             [
              0.3333333333333333,
              "#9c179e"
             ],
             [
              0.4444444444444444,
              "#bd3786"
             ],
             [
              0.5555555555555556,
              "#d8576b"
             ],
             [
              0.6666666666666666,
              "#ed7953"
             ],
             [
              0.7777777777777778,
              "#fb9f3a"
             ],
             [
              0.8888888888888888,
              "#fdca26"
             ],
             [
              1,
              "#f0f921"
             ]
            ],
            "type": "heatmapgl"
           }
          ],
          "histogram": [
           {
            "marker": {
             "pattern": {
              "fillmode": "overlay",
              "size": 10,
              "solidity": 0.2
             }
            },
            "type": "histogram"
           }
          ],
          "histogram2d": [
           {
            "colorbar": {
             "outlinewidth": 0,
             "ticks": ""
            },
            "colorscale": [
             [
              0,
              "#0d0887"
             ],
             [
              0.1111111111111111,
              "#46039f"
             ],
             [
              0.2222222222222222,
              "#7201a8"
             ],
             [
              0.3333333333333333,
              "#9c179e"
             ],
             [
              0.4444444444444444,
              "#bd3786"
             ],
             [
              0.5555555555555556,
              "#d8576b"
             ],
             [
              0.6666666666666666,
              "#ed7953"
             ],
             [
              0.7777777777777778,
              "#fb9f3a"
             ],
             [
              0.8888888888888888,
              "#fdca26"
             ],
             [
              1,
              "#f0f921"
             ]
            ],
            "type": "histogram2d"
           }
          ],
          "histogram2dcontour": [
           {
            "colorbar": {
             "outlinewidth": 0,
             "ticks": ""
            },
            "colorscale": [
             [
              0,
              "#0d0887"
             ],
             [
              0.1111111111111111,
              "#46039f"
             ],
             [
              0.2222222222222222,
              "#7201a8"
             ],
             [
              0.3333333333333333,
              "#9c179e"
             ],
             [
              0.4444444444444444,
              "#bd3786"
             ],
             [
              0.5555555555555556,
              "#d8576b"
             ],
             [
              0.6666666666666666,
              "#ed7953"
             ],
             [
              0.7777777777777778,
              "#fb9f3a"
             ],
             [
              0.8888888888888888,
              "#fdca26"
             ],
             [
              1,
              "#f0f921"
             ]
            ],
            "type": "histogram2dcontour"
           }
          ],
          "mesh3d": [
           {
            "colorbar": {
             "outlinewidth": 0,
             "ticks": ""
            },
            "type": "mesh3d"
           }
          ],
          "parcoords": [
           {
            "line": {
             "colorbar": {
              "outlinewidth": 0,
              "ticks": ""
             }
            },
            "type": "parcoords"
           }
          ],
          "pie": [
           {
            "automargin": true,
            "type": "pie"
           }
          ],
          "scatter": [
           {
            "fillpattern": {
             "fillmode": "overlay",
             "size": 10,
             "solidity": 0.2
            },
            "type": "scatter"
           }
          ],
          "scatter3d": [
           {
            "line": {
             "colorbar": {
              "outlinewidth": 0,
              "ticks": ""
             }
            },
            "marker": {
             "colorbar": {
              "outlinewidth": 0,
              "ticks": ""
             }
            },
            "type": "scatter3d"
           }
          ],
          "scattercarpet": [
           {
            "marker": {
             "colorbar": {
              "outlinewidth": 0,
              "ticks": ""
             }
            },
            "type": "scattercarpet"
           }
          ],
          "scattergeo": [
           {
            "marker": {
             "colorbar": {
              "outlinewidth": 0,
              "ticks": ""
             }
            },
            "type": "scattergeo"
           }
          ],
          "scattergl": [
           {
            "marker": {
             "colorbar": {
              "outlinewidth": 0,
              "ticks": ""
             }
            },
            "type": "scattergl"
           }
          ],
          "scattermapbox": [
           {
            "marker": {
             "colorbar": {
              "outlinewidth": 0,
              "ticks": ""
             }
            },
            "type": "scattermapbox"
           }
          ],
          "scatterpolar": [
           {
            "marker": {
             "colorbar": {
              "outlinewidth": 0,
              "ticks": ""
             }
            },
            "type": "scatterpolar"
           }
          ],
          "scatterpolargl": [
           {
            "marker": {
             "colorbar": {
              "outlinewidth": 0,
              "ticks": ""
             }
            },
            "type": "scatterpolargl"
           }
          ],
          "scatterternary": [
           {
            "marker": {
             "colorbar": {
              "outlinewidth": 0,
              "ticks": ""
             }
            },
            "type": "scatterternary"
           }
          ],
          "surface": [
           {
            "colorbar": {
             "outlinewidth": 0,
             "ticks": ""
            },
            "colorscale": [
             [
              0,
              "#0d0887"
             ],
             [
              0.1111111111111111,
              "#46039f"
             ],
             [
              0.2222222222222222,
              "#7201a8"
             ],
             [
              0.3333333333333333,
              "#9c179e"
             ],
             [
              0.4444444444444444,
              "#bd3786"
             ],
             [
              0.5555555555555556,
              "#d8576b"
             ],
             [
              0.6666666666666666,
              "#ed7953"
             ],
             [
              0.7777777777777778,
              "#fb9f3a"
             ],
             [
              0.8888888888888888,
              "#fdca26"
             ],
             [
              1,
              "#f0f921"
             ]
            ],
            "type": "surface"
           }
          ],
          "table": [
           {
            "cells": {
             "fill": {
              "color": "#EBF0F8"
             },
             "line": {
              "color": "white"
             }
            },
            "header": {
             "fill": {
              "color": "#C8D4E3"
             },
             "line": {
              "color": "white"
             }
            },
            "type": "table"
           }
          ]
         },
         "layout": {
          "annotationdefaults": {
           "arrowcolor": "#2a3f5f",
           "arrowhead": 0,
           "arrowwidth": 1
          },
          "autotypenumbers": "strict",
          "coloraxis": {
           "colorbar": {
            "outlinewidth": 0,
            "ticks": ""
           }
          },
          "colorscale": {
           "diverging": [
            [
             0,
             "#8e0152"
            ],
            [
             0.1,
             "#c51b7d"
            ],
            [
             0.2,
             "#de77ae"
            ],
            [
             0.3,
             "#f1b6da"
            ],
            [
             0.4,
             "#fde0ef"
            ],
            [
             0.5,
             "#f7f7f7"
            ],
            [
             0.6,
             "#e6f5d0"
            ],
            [
             0.7,
             "#b8e186"
            ],
            [
             0.8,
             "#7fbc41"
            ],
            [
             0.9,
             "#4d9221"
            ],
            [
             1,
             "#276419"
            ]
           ],
           "sequential": [
            [
             0,
             "#0d0887"
            ],
            [
             0.1111111111111111,
             "#46039f"
            ],
            [
             0.2222222222222222,
             "#7201a8"
            ],
            [
             0.3333333333333333,
             "#9c179e"
            ],
            [
             0.4444444444444444,
             "#bd3786"
            ],
            [
             0.5555555555555556,
             "#d8576b"
            ],
            [
             0.6666666666666666,
             "#ed7953"
            ],
            [
             0.7777777777777778,
             "#fb9f3a"
            ],
            [
             0.8888888888888888,
             "#fdca26"
            ],
            [
             1,
             "#f0f921"
            ]
           ],
           "sequentialminus": [
            [
             0,
             "#0d0887"
            ],
            [
             0.1111111111111111,
             "#46039f"
            ],
            [
             0.2222222222222222,
             "#7201a8"
            ],
            [
             0.3333333333333333,
             "#9c179e"
            ],
            [
             0.4444444444444444,
             "#bd3786"
            ],
            [
             0.5555555555555556,
             "#d8576b"
            ],
            [
             0.6666666666666666,
             "#ed7953"
            ],
            [
             0.7777777777777778,
             "#fb9f3a"
            ],
            [
             0.8888888888888888,
             "#fdca26"
            ],
            [
             1,
             "#f0f921"
            ]
           ]
          },
          "colorway": [
           "#636efa",
           "#EF553B",
           "#00cc96",
           "#ab63fa",
           "#FFA15A",
           "#19d3f3",
           "#FF6692",
           "#B6E880",
           "#FF97FF",
           "#FECB52"
          ],
          "font": {
           "color": "#2a3f5f"
          },
          "geo": {
           "bgcolor": "white",
           "lakecolor": "white",
           "landcolor": "#E5ECF6",
           "showlakes": true,
           "showland": true,
           "subunitcolor": "white"
          },
          "hoverlabel": {
           "align": "left"
          },
          "hovermode": "closest",
          "mapbox": {
           "style": "light"
          },
          "paper_bgcolor": "white",
          "plot_bgcolor": "#E5ECF6",
          "polar": {
           "angularaxis": {
            "gridcolor": "white",
            "linecolor": "white",
            "ticks": ""
           },
           "bgcolor": "#E5ECF6",
           "radialaxis": {
            "gridcolor": "white",
            "linecolor": "white",
            "ticks": ""
           }
          },
          "scene": {
           "xaxis": {
            "backgroundcolor": "#E5ECF6",
            "gridcolor": "white",
            "gridwidth": 2,
            "linecolor": "white",
            "showbackground": true,
            "ticks": "",
            "zerolinecolor": "white"
           },
           "yaxis": {
            "backgroundcolor": "#E5ECF6",
            "gridcolor": "white",
            "gridwidth": 2,
            "linecolor": "white",
            "showbackground": true,
            "ticks": "",
            "zerolinecolor": "white"
           },
           "zaxis": {
            "backgroundcolor": "#E5ECF6",
            "gridcolor": "white",
            "gridwidth": 2,
            "linecolor": "white",
            "showbackground": true,
            "ticks": "",
            "zerolinecolor": "white"
           }
          },
          "shapedefaults": {
           "line": {
            "color": "#2a3f5f"
           }
          },
          "ternary": {
           "aaxis": {
            "gridcolor": "white",
            "linecolor": "white",
            "ticks": ""
           },
           "baxis": {
            "gridcolor": "white",
            "linecolor": "white",
            "ticks": ""
           },
           "bgcolor": "#E5ECF6",
           "caxis": {
            "gridcolor": "white",
            "linecolor": "white",
            "ticks": ""
           }
          },
          "title": {
           "x": 0.05
          },
          "xaxis": {
           "automargin": true,
           "gridcolor": "white",
           "linecolor": "white",
           "ticks": "",
           "title": {
            "standoff": 15
           },
           "zerolinecolor": "white",
           "zerolinewidth": 2
          },
          "yaxis": {
           "automargin": true,
           "gridcolor": "white",
           "linecolor": "white",
           "ticks": "",
           "title": {
            "standoff": 15
           },
           "zerolinecolor": "white",
           "zerolinewidth": 2
          }
         }
        },
        "title": {
         "text": "Global Happiness 2008"
        }
       }
      },
      "text/html": [
       "<div>                            <div id=\"c96773dd-ba36-415d-abb7-578e931f6990\" class=\"plotly-graph-div\" style=\"height:525px; width:100%;\"></div>            <script type=\"text/javascript\">                require([\"plotly\"], function(Plotly) {                    window.PLOTLYENV=window.PLOTLYENV || {};                                    if (document.getElementById(\"c96773dd-ba36-415d-abb7-578e931f6990\")) {                    Plotly.newPlot(                        \"c96773dd-ba36-415d-abb7-578e931f6990\",                        [{\"colorbar\":{\"title\":{\"text\":\"Happiness\"}},\"locationmode\":\"country names\",\"locations\":[\"Afghanistan\",\"Angola\",\"Albania\",\"Andorra\",\"United Arab Emirates\",\"Argentina\",\"Armenia\",\"Antigua and Barbuda\",\"Australia\",\"Austria\",\"Azerbaijan\",\"Burundi\",\"Belgium\",\"Benin\",\"Burkina Faso\",\"Bangladesh\",\"Bulgaria\",\"Bahrain\",\"Bahamas\",\"Bosnia and Herzegovina\",\"Belarus\",\"Belize\",\"Bolivia\",\"Brazil\",\"Barbados\",\"Brunei\",\"Bhutan\",\"Botswana\",\"Central African Republic\",\"Canada\",\"Switzerland\",\"Chile\",\"China\",\"Cote d'Ivoire\",\"Cameroon\",\"Congo Dem Rep\",\"Congo, Rep.\",\"Colombia\",\"Comoros\",\"Cape Verde\",\"Costa Rica\",\"Cuba\",\"Cyprus\",\"Czech Republic\",\"Germany\",\"Djibouti\",\"Dominica\",\"Denmark\",\"Dominican Republic\",\"Algeria\",\"Ecuador\",\"Egypt\",\"Eritrea\",\"Spain\",\"Estonia\",\"Ethiopia\",\"Finland\",\"Fiji\",\"France\",\"Micronesia, Fed. Sts.\",\"Gabon\",\"United Kingdom\",\"Georgia\",\"Ghana\",\"Guinea\",\"Gambia\",\"Guinea-Bissau\",\"Equatorial Guinea\",\"Greece\",\"Grenada\",\"Guatemala\",\"Guyana\",\"Hong Kong, China\",\"Honduras\",\"Holy See\",\"Croatia\",\"Haiti\",\"Hungary\",\"Indonesia\",\"India\",\"Ireland\",\"Iran\",\"Iraq\",\"Iceland\",\"Israel\",\"Italy\",\"Jamaica\",\"Jordan\",\"Japan\",\"Kazakhstan\",\"Kenya\",\"Kyrgyz Republic\",\"Cambodia\",\"Kiribati\",\"St. Kitts and Nevis\",\"South Korea\",\"Kuwait\",\"Lao\",\"Lebanon\",\"Liberia\",\"Libya\",\"St. Lucia\",\"Liechtenstein\",\"Sri Lanka\",\"Lesotho\",\"Lithuania\",\"Luxembourg\",\"Latvia\",\"Morocco\",\"Monaco\",\"Moldova\",\"Madagascar\",\"Maldives\",\"Mexico\",\"Marshall Islands\",\"North Macedonia\",\"Mali\",\"Malta\",\"Myanmar\",\"Montenegro\",\"Mongolia\",\"Mozambique\",\"Mauritania\",\"Mauritius\",\"Malawi\",\"Malaysia\",\"Namibia\",\"Niger\",\"Nigeria\",\"Nicaragua\",\"Netherlands\",\"Norway\",\"Nepal\",\"Nauru\",\"New Zealand\",\"Oman\",\"Pakistan\",\"Panama\",\"Peru\",\"Philippines\",\"Palau\",\"Papua New Guinea\",\"Poland\",\"North Korea\",\"Portugal\",\"Paraguay\",\"Palestine\",\"Qatar\",\"Romania\",\"Russia\",\"Rwanda\",\"Saudi Arabia\",\"Sudan\",\"Senegal\",\"Singapore\",\"Solomon Islands\",\"Sierra Leone\",\"El Salvador\",\"San Marino\",\"Somalia\",\"Serbia\",\"South Sudan\",\"Sao Tome and Principe\",\"Suriname\",\"Slovak Republic\",\"Slovenia\",\"Sweden\",\"Eswatini\",\"Seychelles\",\"Syria\",\"Chad\",\"Togo\",\"Thailand\",\"Tajikistan\",\"Turkmenistan\",\"Timor-Leste\",\"Tonga\",\"Trinidad and Tobago\",\"Tunisia\",\"Turkey\",\"Tuvalu\",\"Taiwan\",\"Tanzania\",\"Uganda\",\"Ukraine\",\"Uruguay\",\"United States\",\"Uzbekistan\",\"St. Vincent and the Grenadines\",\"Venezuela\",\"Vietnam\",\"Vanuatu\",\"Samoa\",\"Yemen\",\"South Africa\",\"Zambia\",\"Zimbabwe\",\"Congo, Dem. Rep.\",\"Aruba\",\"Africa Eastern and Southern\",\"Africa Western and Central\",\"Arab World\",\"American Samoa\",\"Bahamas, The\",\"Bermuda\",\"Brunei Darussalam\",\"Central Europe and the Baltics\",\"Channel Islands\",\"Cabo Verde\",\"Caribbean small states\",\"Curacao\",\"Cayman Islands\",\"East Asia & Pacific (excluding high income)\",\"Early-demographic dividend\",\"East Asia & Pacific\",\"Europe & Central Asia (excluding high income)\",\"Europe & Central Asia\",\"Egypt, Arab Rep.\",\"Euro area\",\"European Union\",\"Fragile and conflict affected situations\",\"Faroe Islands\",\"Gibraltar\",\"Gambia, The\",\"Greenland\",\"Guam\",\"High income\",\"Hong Kong SAR, China\",\"Heavily indebted poor countries (HIPC)\",\"IBRD only\",\"IDA & IBRD total\",\"IDA total\",\"IDA blend\",\"IDA only\",\"Isle of Man\",\"Not classified\",\"Iran, Islamic Rep.\",\"Korea, Rep.\",\"Latin America & Caribbean (excluding high income)\",\"Lao PDR\",\"Latin America & Caribbean\",\"Least developed countries: UN classification\",\"Low income\",\"Lower middle income\",\"Low & middle income\",\"Late-demographic dividend\",\"Macao SAR, China\",\"St. Martin (French part)\",\"Middle East & North Africa\",\"Middle income\",\"Middle East & North Africa (excluding high income)\",\"Northern Mariana Islands\",\"North America\",\"New Caledonia\",\"OECD members\",\"Other small states\",\"Pre-demographic dividend\",\"Puerto Rico\",\"Korea, Dem. People's Rep.\",\"West Bank and Gaza\",\"Pacific island small states\",\"Post-demographic dividend\",\"French Polynesia\",\"Russian Federation\",\"South Asia\",\"Sub-Saharan Africa (excluding high income)\",\"Sub-Saharan Africa\",\"Small states\",\"Sint Maarten (Dutch part)\",\"Syrian Arab Republic\",\"Turks and Caicos Islands\",\"East Asia & Pacific (IDA & IBRD countries)\",\"Europe & Central Asia (IDA & IBRD countries)\",\"Latin America & the Caribbean (IDA & IBRD countries)\",\"Middle East & North Africa (IDA & IBRD countries)\",\"South Asia (IDA & IBRD)\",\"Sub-Saharan Africa (IDA & IBRD countries)\",\"Upper middle income\",\"Venezuela, RB\",\"British Virgin Islands\",\"Virgin Islands (U.S.)\",\"World\",\"Kosovo\",\"Yemen, Rep.\"],\"text\":[\"Afghanistan\",\"Angola\",\"Albania\",\"Andorra\",\"United Arab Emirates\",\"Argentina\",\"Armenia\",\"Antigua and Barbuda\",\"Australia\",\"Austria\",\"Azerbaijan\",\"Burundi\",\"Belgium\",\"Benin\",\"Burkina Faso\",\"Bangladesh\",\"Bulgaria\",\"Bahrain\",\"Bahamas\",\"Bosnia and Herzegovina\",\"Belarus\",\"Belize\",\"Bolivia\",\"Brazil\",\"Barbados\",\"Brunei\",\"Bhutan\",\"Botswana\",\"Central African Republic\",\"Canada\",\"Switzerland\",\"Chile\",\"China\",\"Cote d'Ivoire\",\"Cameroon\",\"Congo Dem Rep\",\"Congo, Rep.\",\"Colombia\",\"Comoros\",\"Cape Verde\",\"Costa Rica\",\"Cuba\",\"Cyprus\",\"Czech Republic\",\"Germany\",\"Djibouti\",\"Dominica\",\"Denmark\",\"Dominican Republic\",\"Algeria\",\"Ecuador\",\"Egypt\",\"Eritrea\",\"Spain\",\"Estonia\",\"Ethiopia\",\"Finland\",\"Fiji\",\"France\",\"Micronesia, Fed. Sts.\",\"Gabon\",\"United Kingdom\",\"Georgia\",\"Ghana\",\"Guinea\",\"Gambia\",\"Guinea-Bissau\",\"Equatorial Guinea\",\"Greece\",\"Grenada\",\"Guatemala\",\"Guyana\",\"Hong Kong, China\",\"Honduras\",\"Holy See\",\"Croatia\",\"Haiti\",\"Hungary\",\"Indonesia\",\"India\",\"Ireland\",\"Iran\",\"Iraq\",\"Iceland\",\"Israel\",\"Italy\",\"Jamaica\",\"Jordan\",\"Japan\",\"Kazakhstan\",\"Kenya\",\"Kyrgyz Republic\",\"Cambodia\",\"Kiribati\",\"St. Kitts and Nevis\",\"South Korea\",\"Kuwait\",\"Lao\",\"Lebanon\",\"Liberia\",\"Libya\",\"St. Lucia\",\"Liechtenstein\",\"Sri Lanka\",\"Lesotho\",\"Lithuania\",\"Luxembourg\",\"Latvia\",\"Morocco\",\"Monaco\",\"Moldova\",\"Madagascar\",\"Maldives\",\"Mexico\",\"Marshall Islands\",\"North Macedonia\",\"Mali\",\"Malta\",\"Myanmar\",\"Montenegro\",\"Mongolia\",\"Mozambique\",\"Mauritania\",\"Mauritius\",\"Malawi\",\"Malaysia\",\"Namibia\",\"Niger\",\"Nigeria\",\"Nicaragua\",\"Netherlands\",\"Norway\",\"Nepal\",\"Nauru\",\"New Zealand\",\"Oman\",\"Pakistan\",\"Panama\",\"Peru\",\"Philippines\",\"Palau\",\"Papua New Guinea\",\"Poland\",\"North Korea\",\"Portugal\",\"Paraguay\",\"Palestine\",\"Qatar\",\"Romania\",\"Russia\",\"Rwanda\",\"Saudi Arabia\",\"Sudan\",\"Senegal\",\"Singapore\",\"Solomon Islands\",\"Sierra Leone\",\"El Salvador\",\"San Marino\",\"Somalia\",\"Serbia\",\"South Sudan\",\"Sao Tome and Principe\",\"Suriname\",\"Slovak Republic\",\"Slovenia\",\"Sweden\",\"Eswatini\",\"Seychelles\",\"Syria\",\"Chad\",\"Togo\",\"Thailand\",\"Tajikistan\",\"Turkmenistan\",\"Timor-Leste\",\"Tonga\",\"Trinidad and Tobago\",\"Tunisia\",\"Turkey\",\"Tuvalu\",\"Taiwan\",\"Tanzania\",\"Uganda\",\"Ukraine\",\"Uruguay\",\"United States\",\"Uzbekistan\",\"St. Vincent and the Grenadines\",\"Venezuela\",\"Vietnam\",\"Vanuatu\",\"Samoa\",\"Yemen\",\"South Africa\",\"Zambia\",\"Zimbabwe\",\"Congo, Dem. Rep.\",\"Aruba\",\"Africa Eastern and Southern\",\"Africa Western and Central\",\"Arab World\",\"American Samoa\",\"Bahamas, The\",\"Bermuda\",\"Brunei Darussalam\",\"Central Europe and the Baltics\",\"Channel Islands\",\"Cabo Verde\",\"Caribbean small states\",\"Curacao\",\"Cayman Islands\",\"East Asia & Pacific (excluding high income)\",\"Early-demographic dividend\",\"East Asia & Pacific\",\"Europe & Central Asia (excluding high income)\",\"Europe & Central Asia\",\"Egypt, Arab Rep.\",\"Euro area\",\"European Union\",\"Fragile and conflict affected situations\",\"Faroe Islands\",\"Gibraltar\",\"Gambia, The\",\"Greenland\",\"Guam\",\"High income\",\"Hong Kong SAR, China\",\"Heavily indebted poor countries (HIPC)\",\"IBRD only\",\"IDA & IBRD total\",\"IDA total\",\"IDA blend\",\"IDA only\",\"Isle of Man\",\"Not classified\",\"Iran, Islamic Rep.\",\"Korea, Rep.\",\"Latin America & Caribbean (excluding high income)\",\"Lao PDR\",\"Latin America & Caribbean\",\"Least developed countries: UN classification\",\"Low income\",\"Lower middle income\",\"Low & middle income\",\"Late-demographic dividend\",\"Macao SAR, China\",\"St. Martin (French part)\",\"Middle East & North Africa\",\"Middle income\",\"Middle East & North Africa (excluding high income)\",\"Northern Mariana Islands\",\"North America\",\"New Caledonia\",\"OECD members\",\"Other small states\",\"Pre-demographic dividend\",\"Puerto Rico\",\"Korea, Dem. People's Rep.\",\"West Bank and Gaza\",\"Pacific island small states\",\"Post-demographic dividend\",\"French Polynesia\",\"Russian Federation\",\"South Asia\",\"Sub-Saharan Africa (excluding high income)\",\"Sub-Saharan Africa\",\"Small states\",\"Sint Maarten (Dutch part)\",\"Syrian Arab Republic\",\"Turks and Caicos Islands\",\"East Asia & Pacific (IDA & IBRD countries)\",\"Europe & Central Asia (IDA & IBRD countries)\",\"Latin America & the Caribbean (IDA & IBRD countries)\",\"Middle East & North Africa (IDA & IBRD countries)\",\"South Asia (IDA & IBRD)\",\"Sub-Saharan Africa (IDA & IBRD countries)\",\"Upper middle income\",\"Venezuela, RB\",\"British Virgin Islands\",\"Virgin Islands (U.S.)\",\"World\",\"Kosovo\",\"Yemen, Rep.\"],\"z\":[37.2,null,null,null,null,59.6,46.5,null,72.5,71.8,48.2,35.6,71.2,36.7,38.5,50.5,null,null,null,null,54.6,null,53.0,66.9,null,null,null,54.5,null,74.9,null,57.9,48.5,null,42.9,null,38.2,61.7,null,null,68.5,null,null,null,65.2,50.1,null,79.7,48.4,null,53.0,46.3,null,72.9,54.5,null,76.7,null,70.1,null,null,69.9,41.6,49.7,null,null,null,null,null,null,64.1,null,51.4,54.2,null,null,38.5,null,48.2,51.5,75.7,51.3,45.9,68.9,72.6,67.8,null,49.3,59.1,58.9,40.2,47.4,44.6,null,null,53.9,null,50.4,45.9,42.2,null,null,null,44.3,null,55.5,null,51.5,null,null,55.0,46.4,null,68.3,null,null,41.1,null,null,null,44.9,46.5,42.5,null,null,58.1,null,42.4,49.4,51.0,76.3,76.3,44.4,null,73.8,null,44.1,69.3,51.3,45.9,null,null,null,null,57.2,55.7,43.9,null,null,56.2,43.6,68.1,null,46.8,66.4,null,30.0,51.9,null,null,null,null,null,null,null,null,75.2,null,null,53.2,46.3,28.1,56.4,50.6,null,null,null,67.0,null,51.2,null,55.5,43.8,45.7,51.7,56.6,72.8,53.1,null,62.6,54.8,null,null,null,53.5,47.3,31.7,null,null,null,null,null,null,null,null,null,null,null,null,null,null,null,null,null,null,null,null,null,null,null,null,null,null,null,null,null,null,null,null,null,null,null,null,null,null,null,null,null,null,null,null,null,null,null,null,null,null,null,null,null,null,null,null,null,null,null,null,null,null,null,null,null,null,null,null,null,null,null,null,null,null,null,null,null,null,null,null,null,null,null,null,null,null,null],\"type\":\"choropleth\"}],                        {\"geo\":{\"showframe\":false},\"template\":{\"data\":{\"barpolar\":[{\"marker\":{\"line\":{\"color\":\"#E5ECF6\",\"width\":0.5},\"pattern\":{\"fillmode\":\"overlay\",\"size\":10,\"solidity\":0.2}},\"type\":\"barpolar\"}],\"bar\":[{\"error_x\":{\"color\":\"#2a3f5f\"},\"error_y\":{\"color\":\"#2a3f5f\"},\"marker\":{\"line\":{\"color\":\"#E5ECF6\",\"width\":0.5},\"pattern\":{\"fillmode\":\"overlay\",\"size\":10,\"solidity\":0.2}},\"type\":\"bar\"}],\"carpet\":[{\"aaxis\":{\"endlinecolor\":\"#2a3f5f\",\"gridcolor\":\"white\",\"linecolor\":\"white\",\"minorgridcolor\":\"white\",\"startlinecolor\":\"#2a3f5f\"},\"baxis\":{\"endlinecolor\":\"#2a3f5f\",\"gridcolor\":\"white\",\"linecolor\":\"white\",\"minorgridcolor\":\"white\",\"startlinecolor\":\"#2a3f5f\"},\"type\":\"carpet\"}],\"choropleth\":[{\"colorbar\":{\"outlinewidth\":0,\"ticks\":\"\"},\"type\":\"choropleth\"}],\"contourcarpet\":[{\"colorbar\":{\"outlinewidth\":0,\"ticks\":\"\"},\"type\":\"contourcarpet\"}],\"contour\":[{\"colorbar\":{\"outlinewidth\":0,\"ticks\":\"\"},\"colorscale\":[[0.0,\"#0d0887\"],[0.1111111111111111,\"#46039f\"],[0.2222222222222222,\"#7201a8\"],[0.3333333333333333,\"#9c179e\"],[0.4444444444444444,\"#bd3786\"],[0.5555555555555556,\"#d8576b\"],[0.6666666666666666,\"#ed7953\"],[0.7777777777777778,\"#fb9f3a\"],[0.8888888888888888,\"#fdca26\"],[1.0,\"#f0f921\"]],\"type\":\"contour\"}],\"heatmapgl\":[{\"colorbar\":{\"outlinewidth\":0,\"ticks\":\"\"},\"colorscale\":[[0.0,\"#0d0887\"],[0.1111111111111111,\"#46039f\"],[0.2222222222222222,\"#7201a8\"],[0.3333333333333333,\"#9c179e\"],[0.4444444444444444,\"#bd3786\"],[0.5555555555555556,\"#d8576b\"],[0.6666666666666666,\"#ed7953\"],[0.7777777777777778,\"#fb9f3a\"],[0.8888888888888888,\"#fdca26\"],[1.0,\"#f0f921\"]],\"type\":\"heatmapgl\"}],\"heatmap\":[{\"colorbar\":{\"outlinewidth\":0,\"ticks\":\"\"},\"colorscale\":[[0.0,\"#0d0887\"],[0.1111111111111111,\"#46039f\"],[0.2222222222222222,\"#7201a8\"],[0.3333333333333333,\"#9c179e\"],[0.4444444444444444,\"#bd3786\"],[0.5555555555555556,\"#d8576b\"],[0.6666666666666666,\"#ed7953\"],[0.7777777777777778,\"#fb9f3a\"],[0.8888888888888888,\"#fdca26\"],[1.0,\"#f0f921\"]],\"type\":\"heatmap\"}],\"histogram2dcontour\":[{\"colorbar\":{\"outlinewidth\":0,\"ticks\":\"\"},\"colorscale\":[[0.0,\"#0d0887\"],[0.1111111111111111,\"#46039f\"],[0.2222222222222222,\"#7201a8\"],[0.3333333333333333,\"#9c179e\"],[0.4444444444444444,\"#bd3786\"],[0.5555555555555556,\"#d8576b\"],[0.6666666666666666,\"#ed7953\"],[0.7777777777777778,\"#fb9f3a\"],[0.8888888888888888,\"#fdca26\"],[1.0,\"#f0f921\"]],\"type\":\"histogram2dcontour\"}],\"histogram2d\":[{\"colorbar\":{\"outlinewidth\":0,\"ticks\":\"\"},\"colorscale\":[[0.0,\"#0d0887\"],[0.1111111111111111,\"#46039f\"],[0.2222222222222222,\"#7201a8\"],[0.3333333333333333,\"#9c179e\"],[0.4444444444444444,\"#bd3786\"],[0.5555555555555556,\"#d8576b\"],[0.6666666666666666,\"#ed7953\"],[0.7777777777777778,\"#fb9f3a\"],[0.8888888888888888,\"#fdca26\"],[1.0,\"#f0f921\"]],\"type\":\"histogram2d\"}],\"histogram\":[{\"marker\":{\"pattern\":{\"fillmode\":\"overlay\",\"size\":10,\"solidity\":0.2}},\"type\":\"histogram\"}],\"mesh3d\":[{\"colorbar\":{\"outlinewidth\":0,\"ticks\":\"\"},\"type\":\"mesh3d\"}],\"parcoords\":[{\"line\":{\"colorbar\":{\"outlinewidth\":0,\"ticks\":\"\"}},\"type\":\"parcoords\"}],\"pie\":[{\"automargin\":true,\"type\":\"pie\"}],\"scatter3d\":[{\"line\":{\"colorbar\":{\"outlinewidth\":0,\"ticks\":\"\"}},\"marker\":{\"colorbar\":{\"outlinewidth\":0,\"ticks\":\"\"}},\"type\":\"scatter3d\"}],\"scattercarpet\":[{\"marker\":{\"colorbar\":{\"outlinewidth\":0,\"ticks\":\"\"}},\"type\":\"scattercarpet\"}],\"scattergeo\":[{\"marker\":{\"colorbar\":{\"outlinewidth\":0,\"ticks\":\"\"}},\"type\":\"scattergeo\"}],\"scattergl\":[{\"marker\":{\"colorbar\":{\"outlinewidth\":0,\"ticks\":\"\"}},\"type\":\"scattergl\"}],\"scattermapbox\":[{\"marker\":{\"colorbar\":{\"outlinewidth\":0,\"ticks\":\"\"}},\"type\":\"scattermapbox\"}],\"scatterpolargl\":[{\"marker\":{\"colorbar\":{\"outlinewidth\":0,\"ticks\":\"\"}},\"type\":\"scatterpolargl\"}],\"scatterpolar\":[{\"marker\":{\"colorbar\":{\"outlinewidth\":0,\"ticks\":\"\"}},\"type\":\"scatterpolar\"}],\"scatter\":[{\"fillpattern\":{\"fillmode\":\"overlay\",\"size\":10,\"solidity\":0.2},\"type\":\"scatter\"}],\"scatterternary\":[{\"marker\":{\"colorbar\":{\"outlinewidth\":0,\"ticks\":\"\"}},\"type\":\"scatterternary\"}],\"surface\":[{\"colorbar\":{\"outlinewidth\":0,\"ticks\":\"\"},\"colorscale\":[[0.0,\"#0d0887\"],[0.1111111111111111,\"#46039f\"],[0.2222222222222222,\"#7201a8\"],[0.3333333333333333,\"#9c179e\"],[0.4444444444444444,\"#bd3786\"],[0.5555555555555556,\"#d8576b\"],[0.6666666666666666,\"#ed7953\"],[0.7777777777777778,\"#fb9f3a\"],[0.8888888888888888,\"#fdca26\"],[1.0,\"#f0f921\"]],\"type\":\"surface\"}],\"table\":[{\"cells\":{\"fill\":{\"color\":\"#EBF0F8\"},\"line\":{\"color\":\"white\"}},\"header\":{\"fill\":{\"color\":\"#C8D4E3\"},\"line\":{\"color\":\"white\"}},\"type\":\"table\"}]},\"layout\":{\"annotationdefaults\":{\"arrowcolor\":\"#2a3f5f\",\"arrowhead\":0,\"arrowwidth\":1},\"autotypenumbers\":\"strict\",\"coloraxis\":{\"colorbar\":{\"outlinewidth\":0,\"ticks\":\"\"}},\"colorscale\":{\"diverging\":[[0,\"#8e0152\"],[0.1,\"#c51b7d\"],[0.2,\"#de77ae\"],[0.3,\"#f1b6da\"],[0.4,\"#fde0ef\"],[0.5,\"#f7f7f7\"],[0.6,\"#e6f5d0\"],[0.7,\"#b8e186\"],[0.8,\"#7fbc41\"],[0.9,\"#4d9221\"],[1,\"#276419\"]],\"sequential\":[[0.0,\"#0d0887\"],[0.1111111111111111,\"#46039f\"],[0.2222222222222222,\"#7201a8\"],[0.3333333333333333,\"#9c179e\"],[0.4444444444444444,\"#bd3786\"],[0.5555555555555556,\"#d8576b\"],[0.6666666666666666,\"#ed7953\"],[0.7777777777777778,\"#fb9f3a\"],[0.8888888888888888,\"#fdca26\"],[1.0,\"#f0f921\"]],\"sequentialminus\":[[0.0,\"#0d0887\"],[0.1111111111111111,\"#46039f\"],[0.2222222222222222,\"#7201a8\"],[0.3333333333333333,\"#9c179e\"],[0.4444444444444444,\"#bd3786\"],[0.5555555555555556,\"#d8576b\"],[0.6666666666666666,\"#ed7953\"],[0.7777777777777778,\"#fb9f3a\"],[0.8888888888888888,\"#fdca26\"],[1.0,\"#f0f921\"]]},\"colorway\":[\"#636efa\",\"#EF553B\",\"#00cc96\",\"#ab63fa\",\"#FFA15A\",\"#19d3f3\",\"#FF6692\",\"#B6E880\",\"#FF97FF\",\"#FECB52\"],\"font\":{\"color\":\"#2a3f5f\"},\"geo\":{\"bgcolor\":\"white\",\"lakecolor\":\"white\",\"landcolor\":\"#E5ECF6\",\"showlakes\":true,\"showland\":true,\"subunitcolor\":\"white\"},\"hoverlabel\":{\"align\":\"left\"},\"hovermode\":\"closest\",\"mapbox\":{\"style\":\"light\"},\"paper_bgcolor\":\"white\",\"plot_bgcolor\":\"#E5ECF6\",\"polar\":{\"angularaxis\":{\"gridcolor\":\"white\",\"linecolor\":\"white\",\"ticks\":\"\"},\"bgcolor\":\"#E5ECF6\",\"radialaxis\":{\"gridcolor\":\"white\",\"linecolor\":\"white\",\"ticks\":\"\"}},\"scene\":{\"xaxis\":{\"backgroundcolor\":\"#E5ECF6\",\"gridcolor\":\"white\",\"gridwidth\":2,\"linecolor\":\"white\",\"showbackground\":true,\"ticks\":\"\",\"zerolinecolor\":\"white\"},\"yaxis\":{\"backgroundcolor\":\"#E5ECF6\",\"gridcolor\":\"white\",\"gridwidth\":2,\"linecolor\":\"white\",\"showbackground\":true,\"ticks\":\"\",\"zerolinecolor\":\"white\"},\"zaxis\":{\"backgroundcolor\":\"#E5ECF6\",\"gridcolor\":\"white\",\"gridwidth\":2,\"linecolor\":\"white\",\"showbackground\":true,\"ticks\":\"\",\"zerolinecolor\":\"white\"}},\"shapedefaults\":{\"line\":{\"color\":\"#2a3f5f\"}},\"ternary\":{\"aaxis\":{\"gridcolor\":\"white\",\"linecolor\":\"white\",\"ticks\":\"\"},\"baxis\":{\"gridcolor\":\"white\",\"linecolor\":\"white\",\"ticks\":\"\"},\"bgcolor\":\"#E5ECF6\",\"caxis\":{\"gridcolor\":\"white\",\"linecolor\":\"white\",\"ticks\":\"\"}},\"title\":{\"x\":0.05},\"xaxis\":{\"automargin\":true,\"gridcolor\":\"white\",\"linecolor\":\"white\",\"ticks\":\"\",\"title\":{\"standoff\":15},\"zerolinecolor\":\"white\",\"zerolinewidth\":2},\"yaxis\":{\"automargin\":true,\"gridcolor\":\"white\",\"linecolor\":\"white\",\"ticks\":\"\",\"title\":{\"standoff\":15},\"zerolinecolor\":\"white\",\"zerolinewidth\":2}}},\"title\":{\"text\":\"Global Happiness 2008\"}},                        {\"responsive\": true}                    ).then(function(){\n",
       "                            \n",
       "var gd = document.getElementById('c96773dd-ba36-415d-abb7-578e931f6990');\n",
       "var x = new MutationObserver(function (mutations, observer) {{\n",
       "        var display = window.getComputedStyle(gd).display;\n",
       "        if (!display || display === 'none') {{\n",
       "            console.log([gd, 'removed!']);\n",
       "            Plotly.purge(gd);\n",
       "            observer.disconnect();\n",
       "        }}\n",
       "}});\n",
       "\n",
       "// Listen for the removal of the full notebook cells\n",
       "var notebookContainer = gd.closest('#notebook-container');\n",
       "if (notebookContainer) {{\n",
       "    x.observe(notebookContainer, {childList: true});\n",
       "}}\n",
       "\n",
       "// Listen for the clearing of the current output cell\n",
       "var outputEl = gd.closest('.output');\n",
       "if (outputEl) {{\n",
       "    x.observe(outputEl, {childList: true});\n",
       "}}\n",
       "\n",
       "                        })                };                });            </script>        </div>"
      ]
     },
     "metadata": {},
     "output_type": "display_data"
    }
   ],
   "source": [
    "import plotly.graph_objs as go\n",
    "from plotly.offline import download_plotlyjs, init_notebook_mode, plot, iplot \n",
    "init_notebook_mode(connected=True)\n",
    "data = dict(type = 'choropleth', \n",
    "           locations = yearof2008['country'],\n",
    "           locationmode = 'country names',\n",
    "           z = yearof2008['score'], \n",
    "           text = yearof2008['country'],\n",
    "           colorbar = {'title':'Happiness'})\n",
    "layout = dict(title = 'Global Happiness 2008', \n",
    "             geo = dict(showframe = False))\n",
    "choromap3 = go.Figure(data = [data], layout=layout)\n",
    "iplot(choromap3)"
   ]
  },
  {
   "cell_type": "code",
   "execution_count": null,
   "id": "d90ec6df",
   "metadata": {},
   "outputs": [],
   "source": []
  },
  {
   "cell_type": "code",
   "execution_count": 135,
   "id": "6f0d0058",
   "metadata": {},
   "outputs": [
    {
     "ename": "NameError",
     "evalue": "name 'df4' is not defined",
     "output_type": "error",
     "traceback": [
      "\u001b[0;31m---------------------------------------------------------------------------\u001b[0m",
      "\u001b[0;31mNameError\u001b[0m                                 Traceback (most recent call last)",
      "Cell \u001b[0;32mIn[135], line 1\u001b[0m\n\u001b[0;32m----> 1\u001b[0m df4\u001b[38;5;241m.\u001b[39mhead()\n",
      "\u001b[0;31mNameError\u001b[0m: name 'df4' is not defined"
     ]
    }
   ],
   "source": [
    "df4.head()"
   ]
  },
  {
   "cell_type": "code",
   "execution_count": 209,
   "id": "c505f8cc",
   "metadata": {},
   "outputs": [
    {
     "data": {
      "text/html": [
       "        <script type=\"text/javascript\">\n",
       "        window.PlotlyConfig = {MathJaxConfig: 'local'};\n",
       "        if (window.MathJax && window.MathJax.Hub && window.MathJax.Hub.Config) {window.MathJax.Hub.Config({SVG: {font: \"STIX-Web\"}});}\n",
       "        if (typeof require !== 'undefined') {\n",
       "        require.undef(\"plotly\");\n",
       "        requirejs.config({\n",
       "            paths: {\n",
       "                'plotly': ['https://cdn.plot.ly/plotly-2.12.1.min']\n",
       "            }\n",
       "        });\n",
       "        require(['plotly'], function(Plotly) {\n",
       "            window._Plotly = Plotly;\n",
       "        });\n",
       "        }\n",
       "        </script>\n",
       "        "
      ]
     },
     "metadata": {},
     "output_type": "display_data"
    },
    {
     "data": {
      "application/vnd.plotly.v1+json": {
       "config": {
        "linkText": "Export to plot.ly",
        "plotlyServerURL": "https://plot.ly",
        "showLink": false
       },
       "data": [
        {
         "colorbar": {
          "title": {
           "text": "Average Daily Income"
          }
         },
         "locationmode": "country names",
         "locations": [
          "Afghanistan",
          "Angola",
          "Albania",
          "Andorra",
          "United Arab Emirates",
          "Argentina",
          "Armenia",
          "Antigua and Barbuda",
          "Australia",
          "Austria",
          "Azerbaijan",
          "Burundi",
          "Belgium",
          "Benin",
          "Burkina Faso",
          "Bangladesh",
          "Bulgaria",
          "Bahrain",
          "Bahamas",
          "Bosnia and Herzegovina",
          "Belarus",
          "Belize",
          "Bolivia",
          "Brazil",
          "Barbados",
          "Brunei",
          "Bhutan",
          "Botswana",
          "Central African Republic",
          "Canada",
          "Switzerland",
          "Chile",
          "China",
          "Cote d'Ivoire",
          "Cameroon",
          "Congo Dem Rep",
          "Congo, Rep.",
          "Colombia",
          "Comoros",
          "Cape Verde",
          "Costa Rica",
          "Cuba",
          "Cyprus",
          "Czech Republic",
          "Germany",
          "Djibouti",
          "Dominica",
          "Denmark",
          "Dominican Republic",
          "Algeria",
          "Ecuador",
          "Egypt",
          "Eritrea",
          "Spain",
          "Estonia",
          "Ethiopia",
          "Finland",
          "Fiji",
          "France",
          "Micronesia, Fed. Sts.",
          "Gabon",
          "United Kingdom",
          "Georgia",
          "Ghana",
          "Guinea",
          "Gambia",
          "Guinea-Bissau",
          "Equatorial Guinea",
          "Greece",
          "Grenada",
          "Guatemala",
          "Guyana",
          "Hong Kong, China",
          "Honduras",
          "Holy See",
          "Croatia",
          "Haiti",
          "Hungary",
          "Indonesia",
          "India",
          "Ireland",
          "Iran",
          "Iraq",
          "Iceland",
          "Israel",
          "Italy",
          "Jamaica",
          "Jordan",
          "Japan",
          "Kazakhstan",
          "Kenya",
          "Kyrgyz Republic",
          "Cambodia",
          "Kiribati",
          "St. Kitts and Nevis",
          "South Korea",
          "Kuwait",
          "Lao",
          "Lebanon",
          "Liberia",
          "Libya",
          "St. Lucia",
          "Liechtenstein",
          "Sri Lanka",
          "Lesotho",
          "Lithuania",
          "Luxembourg",
          "Latvia",
          "Morocco",
          "Monaco",
          "Moldova",
          "Madagascar",
          "Maldives",
          "Mexico",
          "Marshall Islands",
          "North Macedonia",
          "Mali",
          "Malta",
          "Myanmar",
          "Montenegro",
          "Mongolia",
          "Mozambique",
          "Mauritania",
          "Mauritius",
          "Malawi",
          "Malaysia",
          "Namibia",
          "Niger",
          "Nigeria",
          "Nicaragua",
          "Netherlands",
          "Norway",
          "Nepal",
          "Nauru",
          "New Zealand",
          "Oman",
          "Pakistan",
          "Panama",
          "Peru",
          "Philippines",
          "Palau",
          "Papua New Guinea",
          "Poland",
          "North Korea",
          "Portugal",
          "Paraguay",
          "Palestine",
          "Qatar",
          "Romania",
          "Russia",
          "Rwanda",
          "Saudi Arabia",
          "Sudan",
          "Senegal",
          "Singapore",
          "Solomon Islands",
          "Sierra Leone",
          "El Salvador",
          "San Marino",
          "Somalia",
          "Serbia",
          "South Sudan",
          "Sao Tome and Principe",
          "Suriname",
          "Slovak Republic",
          "Slovenia",
          "Sweden",
          "Eswatini",
          "Seychelles",
          "Syria",
          "Chad",
          "Togo",
          "Thailand",
          "Tajikistan",
          "Turkmenistan",
          "Timor-Leste",
          "Tonga",
          "Trinidad and Tobago",
          "Tunisia",
          "Turkey",
          "Tuvalu",
          "Taiwan",
          "Tanzania",
          "Uganda",
          "Ukraine",
          "Uruguay",
          "United States",
          "Uzbekistan",
          "St. Vincent and the Grenadines",
          "Venezuela",
          "Vietnam",
          "Vanuatu",
          "Samoa",
          "Yemen",
          "South Africa",
          "Zambia",
          "Zimbabwe",
          "Congo, Dem. Rep.",
          "Aruba",
          "Africa Eastern and Southern",
          "Africa Western and Central",
          "Arab World",
          "American Samoa",
          "Bahamas, The",
          "Bermuda",
          "Brunei Darussalam",
          "Central Europe and the Baltics",
          "Channel Islands",
          "Cabo Verde",
          "Caribbean small states",
          "Curacao",
          "Cayman Islands",
          "East Asia & Pacific (excluding high income)",
          "Early-demographic dividend",
          "East Asia & Pacific",
          "Europe & Central Asia (excluding high income)",
          "Europe & Central Asia",
          "Egypt, Arab Rep.",
          "Euro area",
          "European Union",
          "Fragile and conflict affected situations",
          "Faroe Islands",
          "Gibraltar",
          "Gambia, The",
          "Greenland",
          "Guam",
          "High income",
          "Hong Kong SAR, China",
          "Heavily indebted poor countries (HIPC)",
          "IBRD only",
          "IDA & IBRD total",
          "IDA total",
          "IDA blend",
          "IDA only",
          "Isle of Man",
          "Not classified",
          "Iran, Islamic Rep.",
          "Korea, Rep.",
          "Latin America & Caribbean (excluding high income)",
          "Lao PDR",
          "Latin America & Caribbean",
          "Least developed countries: UN classification",
          "Low income",
          "Lower middle income",
          "Low & middle income",
          "Late-demographic dividend",
          "Macao SAR, China",
          "St. Martin (French part)",
          "Middle East & North Africa",
          "Middle income",
          "Middle East & North Africa (excluding high income)",
          "Northern Mariana Islands",
          "North America",
          "New Caledonia",
          "OECD members",
          "Other small states",
          "Pre-demographic dividend",
          "Puerto Rico",
          "Korea, Dem. People's Rep.",
          "West Bank and Gaza",
          "Pacific island small states",
          "Post-demographic dividend",
          "French Polynesia",
          "Russian Federation",
          "South Asia",
          "Sub-Saharan Africa (excluding high income)",
          "Sub-Saharan Africa",
          "Small states",
          "Sint Maarten (Dutch part)",
          "Syrian Arab Republic",
          "Turks and Caicos Islands",
          "East Asia & Pacific (IDA & IBRD countries)",
          "Europe & Central Asia (IDA & IBRD countries)",
          "Latin America & the Caribbean (IDA & IBRD countries)",
          "Middle East & North Africa (IDA & IBRD countries)",
          "South Asia (IDA & IBRD)",
          "Sub-Saharan Africa (IDA & IBRD countries)",
          "Upper middle income",
          "Venezuela, RB",
          "British Virgin Islands",
          "Virgin Islands (U.S.)",
          "World",
          "Kosovo",
          "Yemen, Rep."
         ],
         "text": [
          "Afghanistan",
          "Angola",
          "Albania",
          "Andorra",
          "United Arab Emirates",
          "Argentina",
          "Armenia",
          "Antigua and Barbuda",
          "Australia",
          "Austria",
          "Azerbaijan",
          "Burundi",
          "Belgium",
          "Benin",
          "Burkina Faso",
          "Bangladesh",
          "Bulgaria",
          "Bahrain",
          "Bahamas",
          "Bosnia and Herzegovina",
          "Belarus",
          "Belize",
          "Bolivia",
          "Brazil",
          "Barbados",
          "Brunei",
          "Bhutan",
          "Botswana",
          "Central African Republic",
          "Canada",
          "Switzerland",
          "Chile",
          "China",
          "Cote d'Ivoire",
          "Cameroon",
          "Congo Dem Rep",
          "Congo, Rep.",
          "Colombia",
          "Comoros",
          "Cape Verde",
          "Costa Rica",
          "Cuba",
          "Cyprus",
          "Czech Republic",
          "Germany",
          "Djibouti",
          "Dominica",
          "Denmark",
          "Dominican Republic",
          "Algeria",
          "Ecuador",
          "Egypt",
          "Eritrea",
          "Spain",
          "Estonia",
          "Ethiopia",
          "Finland",
          "Fiji",
          "France",
          "Micronesia, Fed. Sts.",
          "Gabon",
          "United Kingdom",
          "Georgia",
          "Ghana",
          "Guinea",
          "Gambia",
          "Guinea-Bissau",
          "Equatorial Guinea",
          "Greece",
          "Grenada",
          "Guatemala",
          "Guyana",
          "Hong Kong, China",
          "Honduras",
          "Holy See",
          "Croatia",
          "Haiti",
          "Hungary",
          "Indonesia",
          "India",
          "Ireland",
          "Iran",
          "Iraq",
          "Iceland",
          "Israel",
          "Italy",
          "Jamaica",
          "Jordan",
          "Japan",
          "Kazakhstan",
          "Kenya",
          "Kyrgyz Republic",
          "Cambodia",
          "Kiribati",
          "St. Kitts and Nevis",
          "South Korea",
          "Kuwait",
          "Lao",
          "Lebanon",
          "Liberia",
          "Libya",
          "St. Lucia",
          "Liechtenstein",
          "Sri Lanka",
          "Lesotho",
          "Lithuania",
          "Luxembourg",
          "Latvia",
          "Morocco",
          "Monaco",
          "Moldova",
          "Madagascar",
          "Maldives",
          "Mexico",
          "Marshall Islands",
          "North Macedonia",
          "Mali",
          "Malta",
          "Myanmar",
          "Montenegro",
          "Mongolia",
          "Mozambique",
          "Mauritania",
          "Mauritius",
          "Malawi",
          "Malaysia",
          "Namibia",
          "Niger",
          "Nigeria",
          "Nicaragua",
          "Netherlands",
          "Norway",
          "Nepal",
          "Nauru",
          "New Zealand",
          "Oman",
          "Pakistan",
          "Panama",
          "Peru",
          "Philippines",
          "Palau",
          "Papua New Guinea",
          "Poland",
          "North Korea",
          "Portugal",
          "Paraguay",
          "Palestine",
          "Qatar",
          "Romania",
          "Russia",
          "Rwanda",
          "Saudi Arabia",
          "Sudan",
          "Senegal",
          "Singapore",
          "Solomon Islands",
          "Sierra Leone",
          "El Salvador",
          "San Marino",
          "Somalia",
          "Serbia",
          "South Sudan",
          "Sao Tome and Principe",
          "Suriname",
          "Slovak Republic",
          "Slovenia",
          "Sweden",
          "Eswatini",
          "Seychelles",
          "Syria",
          "Chad",
          "Togo",
          "Thailand",
          "Tajikistan",
          "Turkmenistan",
          "Timor-Leste",
          "Tonga",
          "Trinidad and Tobago",
          "Tunisia",
          "Turkey",
          "Tuvalu",
          "Taiwan",
          "Tanzania",
          "Uganda",
          "Ukraine",
          "Uruguay",
          "United States",
          "Uzbekistan",
          "St. Vincent and the Grenadines",
          "Venezuela",
          "Vietnam",
          "Vanuatu",
          "Samoa",
          "Yemen",
          "South Africa",
          "Zambia",
          "Zimbabwe",
          "Congo, Dem. Rep.",
          "Aruba",
          "Africa Eastern and Southern",
          "Africa Western and Central",
          "Arab World",
          "American Samoa",
          "Bahamas, The",
          "Bermuda",
          "Brunei Darussalam",
          "Central Europe and the Baltics",
          "Channel Islands",
          "Cabo Verde",
          "Caribbean small states",
          "Curacao",
          "Cayman Islands",
          "East Asia & Pacific (excluding high income)",
          "Early-demographic dividend",
          "East Asia & Pacific",
          "Europe & Central Asia (excluding high income)",
          "Europe & Central Asia",
          "Egypt, Arab Rep.",
          "Euro area",
          "European Union",
          "Fragile and conflict affected situations",
          "Faroe Islands",
          "Gibraltar",
          "Gambia, The",
          "Greenland",
          "Guam",
          "High income",
          "Hong Kong SAR, China",
          "Heavily indebted poor countries (HIPC)",
          "IBRD only",
          "IDA & IBRD total",
          "IDA total",
          "IDA blend",
          "IDA only",
          "Isle of Man",
          "Not classified",
          "Iran, Islamic Rep.",
          "Korea, Rep.",
          "Latin America & Caribbean (excluding high income)",
          "Lao PDR",
          "Latin America & Caribbean",
          "Least developed countries: UN classification",
          "Low income",
          "Lower middle income",
          "Low & middle income",
          "Late-demographic dividend",
          "Macao SAR, China",
          "St. Martin (French part)",
          "Middle East & North Africa",
          "Middle income",
          "Middle East & North Africa (excluding high income)",
          "Northern Mariana Islands",
          "North America",
          "New Caledonia",
          "OECD members",
          "Other small states",
          "Pre-demographic dividend",
          "Puerto Rico",
          "Korea, Dem. People's Rep.",
          "West Bank and Gaza",
          "Pacific island small states",
          "Post-demographic dividend",
          "French Polynesia",
          "Russian Federation",
          "South Asia",
          "Sub-Saharan Africa (excluding high income)",
          "Sub-Saharan Africa",
          "Small states",
          "Sint Maarten (Dutch part)",
          "Syrian Arab Republic",
          "Turks and Caicos Islands",
          "East Asia & Pacific (IDA & IBRD countries)",
          "Europe & Central Asia (IDA & IBRD countries)",
          "Latin America & the Caribbean (IDA & IBRD countries)",
          "Middle East & North Africa (IDA & IBRD countries)",
          "South Asia (IDA & IBRD)",
          "Sub-Saharan Africa (IDA & IBRD countries)",
          "Upper middle income",
          "Venezuela, RB",
          "British Virgin Islands",
          "Virgin Islands (U.S.)",
          "World",
          "Kosovo",
          "Yemen, Rep."
         ],
         "type": "choropleth",
         "z": [
          2.02,
          3.92,
          8.43,
          51.3,
          175,
          18.3,
          6.96,
          24.1,
          55.6,
          54.1,
          17.6,
          1.6,
          48.4,
          2.72,
          2.47,
          3.54,
          15.8,
          53.5,
          36.8,
          20.7,
          14,
          8.91,
          11,
          16.2,
          18.6,
          76.3,
          5.72,
          10.9,
          2.48,
          56.3,
          67.8,
          17.4,
          6.19,
          3.83,
          4.01,
          null,
          2.94,
          11.8,
          6.79,
          8.4,
          19.1,
          9.59,
          47.9,
          27.7,
          52.2,
          5.05,
          12.4,
          49.9,
          11.8,
          7.57,
          11.3,
          4.8,
          3.95,
          42.1,
          25.4,
          2.75,
          48.3,
          9.33,
          52.8,
          6.13,
          7.15,
          45.8,
          6.06,
          5,
          2.4,
          3.78,
          2.22,
          41,
          35.5,
          11.8,
          10.8,
          9.12,
          55.5,
          9.49,
          null,
          28.2,
          3.06,
          20.1,
          3.97,
          3.05,
          46.6,
          17,
          6.1,
          61.3,
          30.5,
          44,
          12.6,
          10.1,
          41,
          9.7,
          3.26,
          5.96,
          3.17,
          4.93,
          17.9,
          37.2,
          81.9,
          3.67,
          22.6,
          1.84,
          20.5,
          13.6,
          null,
          6.55,
          3.35,
          18.7,
          74.4,
          20.5,
          8.72,
          76.5,
          8.98,
          1.86,
          8.79,
          12.5,
          5.89,
          16.4,
          2.44,
          36.4,
          3.81,
          17.1,
          8.53,
          1.92,
          5.32,
          11.5,
          1.87,
          18.3,
          7.69,
          2.21,
          2.35,
          8.1,
          52.5,
          61.9,
          3.37,
          4.69,
          41.3,
          25.5,
          3.82,
          18.2,
          10.7,
          5.83,
          14.5,
          2.89,
          16.8,
          3.04,
          28.7,
          13.5,
          10.3,
          61.6,
          10,
          19.8,
          2.35,
          49.7,
          4.51,
          3.2,
          47.6,
          3.27,
          2.06,
          9.51,
          96,
          1.87,
          12.6,
          3.1,
          2.95,
          12.5,
          18,
          35.1,
          48.1,
          3.83,
          17.1,
          9.76,
          3.06,
          2.41,
          12.7,
          5.36,
          5.34,
          2.44,
          10.5,
          26.9,
          8.87,
          14.9,
          8.55,
          42.9,
          2.3,
          2.95,
          12.2,
          21.2,
          64.6,
          2.88,
          13.9,
          13.2,
          4.43,
          4.94,
          10,
          4.85,
          11.3,
          2.54,
          3.35,
          1.04,
          null,
          null,
          null,
          null,
          null,
          null,
          null,
          null,
          null,
          null,
          null,
          null,
          null,
          null,
          null,
          null,
          null,
          null,
          null,
          null,
          null,
          null,
          null,
          null,
          null,
          null,
          null,
          null,
          null,
          null,
          null,
          null,
          null,
          null,
          null,
          null,
          null,
          null,
          null,
          null,
          null,
          null,
          null,
          null,
          null,
          null,
          null,
          null,
          null,
          null,
          null,
          null,
          null,
          null,
          null,
          null,
          null,
          null,
          null,
          null,
          null,
          null,
          null,
          null,
          null,
          null,
          null,
          null,
          null,
          null,
          null,
          null,
          null,
          null,
          null,
          null,
          null,
          null,
          null,
          null,
          null,
          null,
          null,
          null,
          null,
          null
         ]
        }
       ],
       "layout": {
        "geo": {
         "showframe": false
        },
        "template": {
         "data": {
          "bar": [
           {
            "error_x": {
             "color": "#2a3f5f"
            },
            "error_y": {
             "color": "#2a3f5f"
            },
            "marker": {
             "line": {
              "color": "#E5ECF6",
              "width": 0.5
             },
             "pattern": {
              "fillmode": "overlay",
              "size": 10,
              "solidity": 0.2
             }
            },
            "type": "bar"
           }
          ],
          "barpolar": [
           {
            "marker": {
             "line": {
              "color": "#E5ECF6",
              "width": 0.5
             },
             "pattern": {
              "fillmode": "overlay",
              "size": 10,
              "solidity": 0.2
             }
            },
            "type": "barpolar"
           }
          ],
          "carpet": [
           {
            "aaxis": {
             "endlinecolor": "#2a3f5f",
             "gridcolor": "white",
             "linecolor": "white",
             "minorgridcolor": "white",
             "startlinecolor": "#2a3f5f"
            },
            "baxis": {
             "endlinecolor": "#2a3f5f",
             "gridcolor": "white",
             "linecolor": "white",
             "minorgridcolor": "white",
             "startlinecolor": "#2a3f5f"
            },
            "type": "carpet"
           }
          ],
          "choropleth": [
           {
            "colorbar": {
             "outlinewidth": 0,
             "ticks": ""
            },
            "type": "choropleth"
           }
          ],
          "contour": [
           {
            "colorbar": {
             "outlinewidth": 0,
             "ticks": ""
            },
            "colorscale": [
             [
              0,
              "#0d0887"
             ],
             [
              0.1111111111111111,
              "#46039f"
             ],
             [
              0.2222222222222222,
              "#7201a8"
             ],
             [
              0.3333333333333333,
              "#9c179e"
             ],
             [
              0.4444444444444444,
              "#bd3786"
             ],
             [
              0.5555555555555556,
              "#d8576b"
             ],
             [
              0.6666666666666666,
              "#ed7953"
             ],
             [
              0.7777777777777778,
              "#fb9f3a"
             ],
             [
              0.8888888888888888,
              "#fdca26"
             ],
             [
              1,
              "#f0f921"
             ]
            ],
            "type": "contour"
           }
          ],
          "contourcarpet": [
           {
            "colorbar": {
             "outlinewidth": 0,
             "ticks": ""
            },
            "type": "contourcarpet"
           }
          ],
          "heatmap": [
           {
            "colorbar": {
             "outlinewidth": 0,
             "ticks": ""
            },
            "colorscale": [
             [
              0,
              "#0d0887"
             ],
             [
              0.1111111111111111,
              "#46039f"
             ],
             [
              0.2222222222222222,
              "#7201a8"
             ],
             [
              0.3333333333333333,
              "#9c179e"
             ],
             [
              0.4444444444444444,
              "#bd3786"
             ],
             [
              0.5555555555555556,
              "#d8576b"
             ],
             [
              0.6666666666666666,
              "#ed7953"
             ],
             [
              0.7777777777777778,
              "#fb9f3a"
             ],
             [
              0.8888888888888888,
              "#fdca26"
             ],
             [
              1,
              "#f0f921"
             ]
            ],
            "type": "heatmap"
           }
          ],
          "heatmapgl": [
           {
            "colorbar": {
             "outlinewidth": 0,
             "ticks": ""
            },
            "colorscale": [
             [
              0,
              "#0d0887"
             ],
             [
              0.1111111111111111,
              "#46039f"
             ],
             [
              0.2222222222222222,
              "#7201a8"
             ],
             [
              0.3333333333333333,
              "#9c179e"
             ],
             [
              0.4444444444444444,
              "#bd3786"
             ],
             [
              0.5555555555555556,
              "#d8576b"
             ],
             [
              0.6666666666666666,
              "#ed7953"
             ],
             [
              0.7777777777777778,
              "#fb9f3a"
             ],
             [
              0.8888888888888888,
              "#fdca26"
             ],
             [
              1,
              "#f0f921"
             ]
            ],
            "type": "heatmapgl"
           }
          ],
          "histogram": [
           {
            "marker": {
             "pattern": {
              "fillmode": "overlay",
              "size": 10,
              "solidity": 0.2
             }
            },
            "type": "histogram"
           }
          ],
          "histogram2d": [
           {
            "colorbar": {
             "outlinewidth": 0,
             "ticks": ""
            },
            "colorscale": [
             [
              0,
              "#0d0887"
             ],
             [
              0.1111111111111111,
              "#46039f"
             ],
             [
              0.2222222222222222,
              "#7201a8"
             ],
             [
              0.3333333333333333,
              "#9c179e"
             ],
             [
              0.4444444444444444,
              "#bd3786"
             ],
             [
              0.5555555555555556,
              "#d8576b"
             ],
             [
              0.6666666666666666,
              "#ed7953"
             ],
             [
              0.7777777777777778,
              "#fb9f3a"
             ],
             [
              0.8888888888888888,
              "#fdca26"
             ],
             [
              1,
              "#f0f921"
             ]
            ],
            "type": "histogram2d"
           }
          ],
          "histogram2dcontour": [
           {
            "colorbar": {
             "outlinewidth": 0,
             "ticks": ""
            },
            "colorscale": [
             [
              0,
              "#0d0887"
             ],
             [
              0.1111111111111111,
              "#46039f"
             ],
             [
              0.2222222222222222,
              "#7201a8"
             ],
             [
              0.3333333333333333,
              "#9c179e"
             ],
             [
              0.4444444444444444,
              "#bd3786"
             ],
             [
              0.5555555555555556,
              "#d8576b"
             ],
             [
              0.6666666666666666,
              "#ed7953"
             ],
             [
              0.7777777777777778,
              "#fb9f3a"
             ],
             [
              0.8888888888888888,
              "#fdca26"
             ],
             [
              1,
              "#f0f921"
             ]
            ],
            "type": "histogram2dcontour"
           }
          ],
          "mesh3d": [
           {
            "colorbar": {
             "outlinewidth": 0,
             "ticks": ""
            },
            "type": "mesh3d"
           }
          ],
          "parcoords": [
           {
            "line": {
             "colorbar": {
              "outlinewidth": 0,
              "ticks": ""
             }
            },
            "type": "parcoords"
           }
          ],
          "pie": [
           {
            "automargin": true,
            "type": "pie"
           }
          ],
          "scatter": [
           {
            "fillpattern": {
             "fillmode": "overlay",
             "size": 10,
             "solidity": 0.2
            },
            "type": "scatter"
           }
          ],
          "scatter3d": [
           {
            "line": {
             "colorbar": {
              "outlinewidth": 0,
              "ticks": ""
             }
            },
            "marker": {
             "colorbar": {
              "outlinewidth": 0,
              "ticks": ""
             }
            },
            "type": "scatter3d"
           }
          ],
          "scattercarpet": [
           {
            "marker": {
             "colorbar": {
              "outlinewidth": 0,
              "ticks": ""
             }
            },
            "type": "scattercarpet"
           }
          ],
          "scattergeo": [
           {
            "marker": {
             "colorbar": {
              "outlinewidth": 0,
              "ticks": ""
             }
            },
            "type": "scattergeo"
           }
          ],
          "scattergl": [
           {
            "marker": {
             "colorbar": {
              "outlinewidth": 0,
              "ticks": ""
             }
            },
            "type": "scattergl"
           }
          ],
          "scattermapbox": [
           {
            "marker": {
             "colorbar": {
              "outlinewidth": 0,
              "ticks": ""
             }
            },
            "type": "scattermapbox"
           }
          ],
          "scatterpolar": [
           {
            "marker": {
             "colorbar": {
              "outlinewidth": 0,
              "ticks": ""
             }
            },
            "type": "scatterpolar"
           }
          ],
          "scatterpolargl": [
           {
            "marker": {
             "colorbar": {
              "outlinewidth": 0,
              "ticks": ""
             }
            },
            "type": "scatterpolargl"
           }
          ],
          "scatterternary": [
           {
            "marker": {
             "colorbar": {
              "outlinewidth": 0,
              "ticks": ""
             }
            },
            "type": "scatterternary"
           }
          ],
          "surface": [
           {
            "colorbar": {
             "outlinewidth": 0,
             "ticks": ""
            },
            "colorscale": [
             [
              0,
              "#0d0887"
             ],
             [
              0.1111111111111111,
              "#46039f"
             ],
             [
              0.2222222222222222,
              "#7201a8"
             ],
             [
              0.3333333333333333,
              "#9c179e"
             ],
             [
              0.4444444444444444,
              "#bd3786"
             ],
             [
              0.5555555555555556,
              "#d8576b"
             ],
             [
              0.6666666666666666,
              "#ed7953"
             ],
             [
              0.7777777777777778,
              "#fb9f3a"
             ],
             [
              0.8888888888888888,
              "#fdca26"
             ],
             [
              1,
              "#f0f921"
             ]
            ],
            "type": "surface"
           }
          ],
          "table": [
           {
            "cells": {
             "fill": {
              "color": "#EBF0F8"
             },
             "line": {
              "color": "white"
             }
            },
            "header": {
             "fill": {
              "color": "#C8D4E3"
             },
             "line": {
              "color": "white"
             }
            },
            "type": "table"
           }
          ]
         },
         "layout": {
          "annotationdefaults": {
           "arrowcolor": "#2a3f5f",
           "arrowhead": 0,
           "arrowwidth": 1
          },
          "autotypenumbers": "strict",
          "coloraxis": {
           "colorbar": {
            "outlinewidth": 0,
            "ticks": ""
           }
          },
          "colorscale": {
           "diverging": [
            [
             0,
             "#8e0152"
            ],
            [
             0.1,
             "#c51b7d"
            ],
            [
             0.2,
             "#de77ae"
            ],
            [
             0.3,
             "#f1b6da"
            ],
            [
             0.4,
             "#fde0ef"
            ],
            [
             0.5,
             "#f7f7f7"
            ],
            [
             0.6,
             "#e6f5d0"
            ],
            [
             0.7,
             "#b8e186"
            ],
            [
             0.8,
             "#7fbc41"
            ],
            [
             0.9,
             "#4d9221"
            ],
            [
             1,
             "#276419"
            ]
           ],
           "sequential": [
            [
             0,
             "#0d0887"
            ],
            [
             0.1111111111111111,
             "#46039f"
            ],
            [
             0.2222222222222222,
             "#7201a8"
            ],
            [
             0.3333333333333333,
             "#9c179e"
            ],
            [
             0.4444444444444444,
             "#bd3786"
            ],
            [
             0.5555555555555556,
             "#d8576b"
            ],
            [
             0.6666666666666666,
             "#ed7953"
            ],
            [
             0.7777777777777778,
             "#fb9f3a"
            ],
            [
             0.8888888888888888,
             "#fdca26"
            ],
            [
             1,
             "#f0f921"
            ]
           ],
           "sequentialminus": [
            [
             0,
             "#0d0887"
            ],
            [
             0.1111111111111111,
             "#46039f"
            ],
            [
             0.2222222222222222,
             "#7201a8"
            ],
            [
             0.3333333333333333,
             "#9c179e"
            ],
            [
             0.4444444444444444,
             "#bd3786"
            ],
            [
             0.5555555555555556,
             "#d8576b"
            ],
            [
             0.6666666666666666,
             "#ed7953"
            ],
            [
             0.7777777777777778,
             "#fb9f3a"
            ],
            [
             0.8888888888888888,
             "#fdca26"
            ],
            [
             1,
             "#f0f921"
            ]
           ]
          },
          "colorway": [
           "#636efa",
           "#EF553B",
           "#00cc96",
           "#ab63fa",
           "#FFA15A",
           "#19d3f3",
           "#FF6692",
           "#B6E880",
           "#FF97FF",
           "#FECB52"
          ],
          "font": {
           "color": "#2a3f5f"
          },
          "geo": {
           "bgcolor": "white",
           "lakecolor": "white",
           "landcolor": "#E5ECF6",
           "showlakes": true,
           "showland": true,
           "subunitcolor": "white"
          },
          "hoverlabel": {
           "align": "left"
          },
          "hovermode": "closest",
          "mapbox": {
           "style": "light"
          },
          "paper_bgcolor": "white",
          "plot_bgcolor": "#E5ECF6",
          "polar": {
           "angularaxis": {
            "gridcolor": "white",
            "linecolor": "white",
            "ticks": ""
           },
           "bgcolor": "#E5ECF6",
           "radialaxis": {
            "gridcolor": "white",
            "linecolor": "white",
            "ticks": ""
           }
          },
          "scene": {
           "xaxis": {
            "backgroundcolor": "#E5ECF6",
            "gridcolor": "white",
            "gridwidth": 2,
            "linecolor": "white",
            "showbackground": true,
            "ticks": "",
            "zerolinecolor": "white"
           },
           "yaxis": {
            "backgroundcolor": "#E5ECF6",
            "gridcolor": "white",
            "gridwidth": 2,
            "linecolor": "white",
            "showbackground": true,
            "ticks": "",
            "zerolinecolor": "white"
           },
           "zaxis": {
            "backgroundcolor": "#E5ECF6",
            "gridcolor": "white",
            "gridwidth": 2,
            "linecolor": "white",
            "showbackground": true,
            "ticks": "",
            "zerolinecolor": "white"
           }
          },
          "shapedefaults": {
           "line": {
            "color": "#2a3f5f"
           }
          },
          "ternary": {
           "aaxis": {
            "gridcolor": "white",
            "linecolor": "white",
            "ticks": ""
           },
           "baxis": {
            "gridcolor": "white",
            "linecolor": "white",
            "ticks": ""
           },
           "bgcolor": "#E5ECF6",
           "caxis": {
            "gridcolor": "white",
            "linecolor": "white",
            "ticks": ""
           }
          },
          "title": {
           "x": 0.05
          },
          "xaxis": {
           "automargin": true,
           "gridcolor": "white",
           "linecolor": "white",
           "ticks": "",
           "title": {
            "standoff": 15
           },
           "zerolinecolor": "white",
           "zerolinewidth": 2
          },
          "yaxis": {
           "automargin": true,
           "gridcolor": "white",
           "linecolor": "white",
           "ticks": "",
           "title": {
            "standoff": 15
           },
           "zerolinecolor": "white",
           "zerolinewidth": 2
          }
         }
        },
        "title": {
         "text": "Global Average Daily Income in 2008"
        }
       }
      },
      "text/html": [
       "<div>                            <div id=\"4938b203-3e16-4fb4-afb7-18c113ed55d2\" class=\"plotly-graph-div\" style=\"height:525px; width:100%;\"></div>            <script type=\"text/javascript\">                require([\"plotly\"], function(Plotly) {                    window.PLOTLYENV=window.PLOTLYENV || {};                                    if (document.getElementById(\"4938b203-3e16-4fb4-afb7-18c113ed55d2\")) {                    Plotly.newPlot(                        \"4938b203-3e16-4fb4-afb7-18c113ed55d2\",                        [{\"colorbar\":{\"title\":{\"text\":\"Average Daily Income\"}},\"locationmode\":\"country names\",\"locations\":[\"Afghanistan\",\"Angola\",\"Albania\",\"Andorra\",\"United Arab Emirates\",\"Argentina\",\"Armenia\",\"Antigua and Barbuda\",\"Australia\",\"Austria\",\"Azerbaijan\",\"Burundi\",\"Belgium\",\"Benin\",\"Burkina Faso\",\"Bangladesh\",\"Bulgaria\",\"Bahrain\",\"Bahamas\",\"Bosnia and Herzegovina\",\"Belarus\",\"Belize\",\"Bolivia\",\"Brazil\",\"Barbados\",\"Brunei\",\"Bhutan\",\"Botswana\",\"Central African Republic\",\"Canada\",\"Switzerland\",\"Chile\",\"China\",\"Cote d'Ivoire\",\"Cameroon\",\"Congo Dem Rep\",\"Congo, Rep.\",\"Colombia\",\"Comoros\",\"Cape Verde\",\"Costa Rica\",\"Cuba\",\"Cyprus\",\"Czech Republic\",\"Germany\",\"Djibouti\",\"Dominica\",\"Denmark\",\"Dominican Republic\",\"Algeria\",\"Ecuador\",\"Egypt\",\"Eritrea\",\"Spain\",\"Estonia\",\"Ethiopia\",\"Finland\",\"Fiji\",\"France\",\"Micronesia, Fed. Sts.\",\"Gabon\",\"United Kingdom\",\"Georgia\",\"Ghana\",\"Guinea\",\"Gambia\",\"Guinea-Bissau\",\"Equatorial Guinea\",\"Greece\",\"Grenada\",\"Guatemala\",\"Guyana\",\"Hong Kong, China\",\"Honduras\",\"Holy See\",\"Croatia\",\"Haiti\",\"Hungary\",\"Indonesia\",\"India\",\"Ireland\",\"Iran\",\"Iraq\",\"Iceland\",\"Israel\",\"Italy\",\"Jamaica\",\"Jordan\",\"Japan\",\"Kazakhstan\",\"Kenya\",\"Kyrgyz Republic\",\"Cambodia\",\"Kiribati\",\"St. Kitts and Nevis\",\"South Korea\",\"Kuwait\",\"Lao\",\"Lebanon\",\"Liberia\",\"Libya\",\"St. Lucia\",\"Liechtenstein\",\"Sri Lanka\",\"Lesotho\",\"Lithuania\",\"Luxembourg\",\"Latvia\",\"Morocco\",\"Monaco\",\"Moldova\",\"Madagascar\",\"Maldives\",\"Mexico\",\"Marshall Islands\",\"North Macedonia\",\"Mali\",\"Malta\",\"Myanmar\",\"Montenegro\",\"Mongolia\",\"Mozambique\",\"Mauritania\",\"Mauritius\",\"Malawi\",\"Malaysia\",\"Namibia\",\"Niger\",\"Nigeria\",\"Nicaragua\",\"Netherlands\",\"Norway\",\"Nepal\",\"Nauru\",\"New Zealand\",\"Oman\",\"Pakistan\",\"Panama\",\"Peru\",\"Philippines\",\"Palau\",\"Papua New Guinea\",\"Poland\",\"North Korea\",\"Portugal\",\"Paraguay\",\"Palestine\",\"Qatar\",\"Romania\",\"Russia\",\"Rwanda\",\"Saudi Arabia\",\"Sudan\",\"Senegal\",\"Singapore\",\"Solomon Islands\",\"Sierra Leone\",\"El Salvador\",\"San Marino\",\"Somalia\",\"Serbia\",\"South Sudan\",\"Sao Tome and Principe\",\"Suriname\",\"Slovak Republic\",\"Slovenia\",\"Sweden\",\"Eswatini\",\"Seychelles\",\"Syria\",\"Chad\",\"Togo\",\"Thailand\",\"Tajikistan\",\"Turkmenistan\",\"Timor-Leste\",\"Tonga\",\"Trinidad and Tobago\",\"Tunisia\",\"Turkey\",\"Tuvalu\",\"Taiwan\",\"Tanzania\",\"Uganda\",\"Ukraine\",\"Uruguay\",\"United States\",\"Uzbekistan\",\"St. Vincent and the Grenadines\",\"Venezuela\",\"Vietnam\",\"Vanuatu\",\"Samoa\",\"Yemen\",\"South Africa\",\"Zambia\",\"Zimbabwe\",\"Congo, Dem. Rep.\",\"Aruba\",\"Africa Eastern and Southern\",\"Africa Western and Central\",\"Arab World\",\"American Samoa\",\"Bahamas, The\",\"Bermuda\",\"Brunei Darussalam\",\"Central Europe and the Baltics\",\"Channel Islands\",\"Cabo Verde\",\"Caribbean small states\",\"Curacao\",\"Cayman Islands\",\"East Asia & Pacific (excluding high income)\",\"Early-demographic dividend\",\"East Asia & Pacific\",\"Europe & Central Asia (excluding high income)\",\"Europe & Central Asia\",\"Egypt, Arab Rep.\",\"Euro area\",\"European Union\",\"Fragile and conflict affected situations\",\"Faroe Islands\",\"Gibraltar\",\"Gambia, The\",\"Greenland\",\"Guam\",\"High income\",\"Hong Kong SAR, China\",\"Heavily indebted poor countries (HIPC)\",\"IBRD only\",\"IDA & IBRD total\",\"IDA total\",\"IDA blend\",\"IDA only\",\"Isle of Man\",\"Not classified\",\"Iran, Islamic Rep.\",\"Korea, Rep.\",\"Latin America & Caribbean (excluding high income)\",\"Lao PDR\",\"Latin America & Caribbean\",\"Least developed countries: UN classification\",\"Low income\",\"Lower middle income\",\"Low & middle income\",\"Late-demographic dividend\",\"Macao SAR, China\",\"St. Martin (French part)\",\"Middle East & North Africa\",\"Middle income\",\"Middle East & North Africa (excluding high income)\",\"Northern Mariana Islands\",\"North America\",\"New Caledonia\",\"OECD members\",\"Other small states\",\"Pre-demographic dividend\",\"Puerto Rico\",\"Korea, Dem. People's Rep.\",\"West Bank and Gaza\",\"Pacific island small states\",\"Post-demographic dividend\",\"French Polynesia\",\"Russian Federation\",\"South Asia\",\"Sub-Saharan Africa (excluding high income)\",\"Sub-Saharan Africa\",\"Small states\",\"Sint Maarten (Dutch part)\",\"Syrian Arab Republic\",\"Turks and Caicos Islands\",\"East Asia & Pacific (IDA & IBRD countries)\",\"Europe & Central Asia (IDA & IBRD countries)\",\"Latin America & the Caribbean (IDA & IBRD countries)\",\"Middle East & North Africa (IDA & IBRD countries)\",\"South Asia (IDA & IBRD)\",\"Sub-Saharan Africa (IDA & IBRD countries)\",\"Upper middle income\",\"Venezuela, RB\",\"British Virgin Islands\",\"Virgin Islands (U.S.)\",\"World\",\"Kosovo\",\"Yemen, Rep.\"],\"text\":[\"Afghanistan\",\"Angola\",\"Albania\",\"Andorra\",\"United Arab Emirates\",\"Argentina\",\"Armenia\",\"Antigua and Barbuda\",\"Australia\",\"Austria\",\"Azerbaijan\",\"Burundi\",\"Belgium\",\"Benin\",\"Burkina Faso\",\"Bangladesh\",\"Bulgaria\",\"Bahrain\",\"Bahamas\",\"Bosnia and Herzegovina\",\"Belarus\",\"Belize\",\"Bolivia\",\"Brazil\",\"Barbados\",\"Brunei\",\"Bhutan\",\"Botswana\",\"Central African Republic\",\"Canada\",\"Switzerland\",\"Chile\",\"China\",\"Cote d'Ivoire\",\"Cameroon\",\"Congo Dem Rep\",\"Congo, Rep.\",\"Colombia\",\"Comoros\",\"Cape Verde\",\"Costa Rica\",\"Cuba\",\"Cyprus\",\"Czech Republic\",\"Germany\",\"Djibouti\",\"Dominica\",\"Denmark\",\"Dominican Republic\",\"Algeria\",\"Ecuador\",\"Egypt\",\"Eritrea\",\"Spain\",\"Estonia\",\"Ethiopia\",\"Finland\",\"Fiji\",\"France\",\"Micronesia, Fed. Sts.\",\"Gabon\",\"United Kingdom\",\"Georgia\",\"Ghana\",\"Guinea\",\"Gambia\",\"Guinea-Bissau\",\"Equatorial Guinea\",\"Greece\",\"Grenada\",\"Guatemala\",\"Guyana\",\"Hong Kong, China\",\"Honduras\",\"Holy See\",\"Croatia\",\"Haiti\",\"Hungary\",\"Indonesia\",\"India\",\"Ireland\",\"Iran\",\"Iraq\",\"Iceland\",\"Israel\",\"Italy\",\"Jamaica\",\"Jordan\",\"Japan\",\"Kazakhstan\",\"Kenya\",\"Kyrgyz Republic\",\"Cambodia\",\"Kiribati\",\"St. Kitts and Nevis\",\"South Korea\",\"Kuwait\",\"Lao\",\"Lebanon\",\"Liberia\",\"Libya\",\"St. Lucia\",\"Liechtenstein\",\"Sri Lanka\",\"Lesotho\",\"Lithuania\",\"Luxembourg\",\"Latvia\",\"Morocco\",\"Monaco\",\"Moldova\",\"Madagascar\",\"Maldives\",\"Mexico\",\"Marshall Islands\",\"North Macedonia\",\"Mali\",\"Malta\",\"Myanmar\",\"Montenegro\",\"Mongolia\",\"Mozambique\",\"Mauritania\",\"Mauritius\",\"Malawi\",\"Malaysia\",\"Namibia\",\"Niger\",\"Nigeria\",\"Nicaragua\",\"Netherlands\",\"Norway\",\"Nepal\",\"Nauru\",\"New Zealand\",\"Oman\",\"Pakistan\",\"Panama\",\"Peru\",\"Philippines\",\"Palau\",\"Papua New Guinea\",\"Poland\",\"North Korea\",\"Portugal\",\"Paraguay\",\"Palestine\",\"Qatar\",\"Romania\",\"Russia\",\"Rwanda\",\"Saudi Arabia\",\"Sudan\",\"Senegal\",\"Singapore\",\"Solomon Islands\",\"Sierra Leone\",\"El Salvador\",\"San Marino\",\"Somalia\",\"Serbia\",\"South Sudan\",\"Sao Tome and Principe\",\"Suriname\",\"Slovak Republic\",\"Slovenia\",\"Sweden\",\"Eswatini\",\"Seychelles\",\"Syria\",\"Chad\",\"Togo\",\"Thailand\",\"Tajikistan\",\"Turkmenistan\",\"Timor-Leste\",\"Tonga\",\"Trinidad and Tobago\",\"Tunisia\",\"Turkey\",\"Tuvalu\",\"Taiwan\",\"Tanzania\",\"Uganda\",\"Ukraine\",\"Uruguay\",\"United States\",\"Uzbekistan\",\"St. Vincent and the Grenadines\",\"Venezuela\",\"Vietnam\",\"Vanuatu\",\"Samoa\",\"Yemen\",\"South Africa\",\"Zambia\",\"Zimbabwe\",\"Congo, Dem. Rep.\",\"Aruba\",\"Africa Eastern and Southern\",\"Africa Western and Central\",\"Arab World\",\"American Samoa\",\"Bahamas, The\",\"Bermuda\",\"Brunei Darussalam\",\"Central Europe and the Baltics\",\"Channel Islands\",\"Cabo Verde\",\"Caribbean small states\",\"Curacao\",\"Cayman Islands\",\"East Asia & Pacific (excluding high income)\",\"Early-demographic dividend\",\"East Asia & Pacific\",\"Europe & Central Asia (excluding high income)\",\"Europe & Central Asia\",\"Egypt, Arab Rep.\",\"Euro area\",\"European Union\",\"Fragile and conflict affected situations\",\"Faroe Islands\",\"Gibraltar\",\"Gambia, The\",\"Greenland\",\"Guam\",\"High income\",\"Hong Kong SAR, China\",\"Heavily indebted poor countries (HIPC)\",\"IBRD only\",\"IDA & IBRD total\",\"IDA total\",\"IDA blend\",\"IDA only\",\"Isle of Man\",\"Not classified\",\"Iran, Islamic Rep.\",\"Korea, Rep.\",\"Latin America & Caribbean (excluding high income)\",\"Lao PDR\",\"Latin America & Caribbean\",\"Least developed countries: UN classification\",\"Low income\",\"Lower middle income\",\"Low & middle income\",\"Late-demographic dividend\",\"Macao SAR, China\",\"St. Martin (French part)\",\"Middle East & North Africa\",\"Middle income\",\"Middle East & North Africa (excluding high income)\",\"Northern Mariana Islands\",\"North America\",\"New Caledonia\",\"OECD members\",\"Other small states\",\"Pre-demographic dividend\",\"Puerto Rico\",\"Korea, Dem. People's Rep.\",\"West Bank and Gaza\",\"Pacific island small states\",\"Post-demographic dividend\",\"French Polynesia\",\"Russian Federation\",\"South Asia\",\"Sub-Saharan Africa (excluding high income)\",\"Sub-Saharan Africa\",\"Small states\",\"Sint Maarten (Dutch part)\",\"Syrian Arab Republic\",\"Turks and Caicos Islands\",\"East Asia & Pacific (IDA & IBRD countries)\",\"Europe & Central Asia (IDA & IBRD countries)\",\"Latin America & the Caribbean (IDA & IBRD countries)\",\"Middle East & North Africa (IDA & IBRD countries)\",\"South Asia (IDA & IBRD)\",\"Sub-Saharan Africa (IDA & IBRD countries)\",\"Upper middle income\",\"Venezuela, RB\",\"British Virgin Islands\",\"Virgin Islands (U.S.)\",\"World\",\"Kosovo\",\"Yemen, Rep.\"],\"z\":[2.02,3.92,8.43,51.3,175.0,18.3,6.96,24.1,55.6,54.1,17.6,1.6,48.4,2.72,2.47,3.54,15.8,53.5,36.8,20.7,14.0,8.91,11.0,16.2,18.6,76.3,5.72,10.9,2.48,56.3,67.8,17.4,6.19,3.83,4.01,null,2.94,11.8,6.79,8.4,19.1,9.59,47.9,27.7,52.2,5.05,12.4,49.9,11.8,7.57,11.3,4.8,3.95,42.1,25.4,2.75,48.3,9.33,52.8,6.13,7.15,45.8,6.06,5.0,2.4,3.78,2.22,41.0,35.5,11.8,10.8,9.12,55.5,9.49,null,28.2,3.06,20.1,3.97,3.05,46.6,17.0,6.1,61.3,30.5,44.0,12.6,10.1,41.0,9.7,3.26,5.96,3.17,4.93,17.9,37.2,81.9,3.67,22.6,1.84,20.5,13.6,null,6.55,3.35,18.7,74.4,20.5,8.72,76.5,8.98,1.86,8.79,12.5,5.89,16.4,2.44,36.4,3.81,17.1,8.53,1.92,5.32,11.5,1.87,18.3,7.69,2.21,2.35,8.1,52.5,61.9,3.37,4.69,41.3,25.5,3.82,18.2,10.7,5.83,14.5,2.89,16.8,3.04,28.7,13.5,10.3,61.6,10.0,19.8,2.35,49.7,4.51,3.2,47.6,3.27,2.06,9.51,96.0,1.87,12.6,3.1,2.95,12.5,18.0,35.1,48.1,3.83,17.1,9.76,3.06,2.41,12.7,5.36,5.34,2.44,10.5,26.9,8.87,14.9,8.55,42.9,2.3,2.95,12.2,21.2,64.6,2.88,13.9,13.2,4.43,4.94,10.0,4.85,11.3,2.54,3.35,1.04,null,null,null,null,null,null,null,null,null,null,null,null,null,null,null,null,null,null,null,null,null,null,null,null,null,null,null,null,null,null,null,null,null,null,null,null,null,null,null,null,null,null,null,null,null,null,null,null,null,null,null,null,null,null,null,null,null,null,null,null,null,null,null,null,null,null,null,null,null,null,null,null,null,null,null,null,null,null,null,null,null,null,null,null,null,null],\"type\":\"choropleth\"}],                        {\"geo\":{\"showframe\":false},\"template\":{\"data\":{\"barpolar\":[{\"marker\":{\"line\":{\"color\":\"#E5ECF6\",\"width\":0.5},\"pattern\":{\"fillmode\":\"overlay\",\"size\":10,\"solidity\":0.2}},\"type\":\"barpolar\"}],\"bar\":[{\"error_x\":{\"color\":\"#2a3f5f\"},\"error_y\":{\"color\":\"#2a3f5f\"},\"marker\":{\"line\":{\"color\":\"#E5ECF6\",\"width\":0.5},\"pattern\":{\"fillmode\":\"overlay\",\"size\":10,\"solidity\":0.2}},\"type\":\"bar\"}],\"carpet\":[{\"aaxis\":{\"endlinecolor\":\"#2a3f5f\",\"gridcolor\":\"white\",\"linecolor\":\"white\",\"minorgridcolor\":\"white\",\"startlinecolor\":\"#2a3f5f\"},\"baxis\":{\"endlinecolor\":\"#2a3f5f\",\"gridcolor\":\"white\",\"linecolor\":\"white\",\"minorgridcolor\":\"white\",\"startlinecolor\":\"#2a3f5f\"},\"type\":\"carpet\"}],\"choropleth\":[{\"colorbar\":{\"outlinewidth\":0,\"ticks\":\"\"},\"type\":\"choropleth\"}],\"contourcarpet\":[{\"colorbar\":{\"outlinewidth\":0,\"ticks\":\"\"},\"type\":\"contourcarpet\"}],\"contour\":[{\"colorbar\":{\"outlinewidth\":0,\"ticks\":\"\"},\"colorscale\":[[0.0,\"#0d0887\"],[0.1111111111111111,\"#46039f\"],[0.2222222222222222,\"#7201a8\"],[0.3333333333333333,\"#9c179e\"],[0.4444444444444444,\"#bd3786\"],[0.5555555555555556,\"#d8576b\"],[0.6666666666666666,\"#ed7953\"],[0.7777777777777778,\"#fb9f3a\"],[0.8888888888888888,\"#fdca26\"],[1.0,\"#f0f921\"]],\"type\":\"contour\"}],\"heatmapgl\":[{\"colorbar\":{\"outlinewidth\":0,\"ticks\":\"\"},\"colorscale\":[[0.0,\"#0d0887\"],[0.1111111111111111,\"#46039f\"],[0.2222222222222222,\"#7201a8\"],[0.3333333333333333,\"#9c179e\"],[0.4444444444444444,\"#bd3786\"],[0.5555555555555556,\"#d8576b\"],[0.6666666666666666,\"#ed7953\"],[0.7777777777777778,\"#fb9f3a\"],[0.8888888888888888,\"#fdca26\"],[1.0,\"#f0f921\"]],\"type\":\"heatmapgl\"}],\"heatmap\":[{\"colorbar\":{\"outlinewidth\":0,\"ticks\":\"\"},\"colorscale\":[[0.0,\"#0d0887\"],[0.1111111111111111,\"#46039f\"],[0.2222222222222222,\"#7201a8\"],[0.3333333333333333,\"#9c179e\"],[0.4444444444444444,\"#bd3786\"],[0.5555555555555556,\"#d8576b\"],[0.6666666666666666,\"#ed7953\"],[0.7777777777777778,\"#fb9f3a\"],[0.8888888888888888,\"#fdca26\"],[1.0,\"#f0f921\"]],\"type\":\"heatmap\"}],\"histogram2dcontour\":[{\"colorbar\":{\"outlinewidth\":0,\"ticks\":\"\"},\"colorscale\":[[0.0,\"#0d0887\"],[0.1111111111111111,\"#46039f\"],[0.2222222222222222,\"#7201a8\"],[0.3333333333333333,\"#9c179e\"],[0.4444444444444444,\"#bd3786\"],[0.5555555555555556,\"#d8576b\"],[0.6666666666666666,\"#ed7953\"],[0.7777777777777778,\"#fb9f3a\"],[0.8888888888888888,\"#fdca26\"],[1.0,\"#f0f921\"]],\"type\":\"histogram2dcontour\"}],\"histogram2d\":[{\"colorbar\":{\"outlinewidth\":0,\"ticks\":\"\"},\"colorscale\":[[0.0,\"#0d0887\"],[0.1111111111111111,\"#46039f\"],[0.2222222222222222,\"#7201a8\"],[0.3333333333333333,\"#9c179e\"],[0.4444444444444444,\"#bd3786\"],[0.5555555555555556,\"#d8576b\"],[0.6666666666666666,\"#ed7953\"],[0.7777777777777778,\"#fb9f3a\"],[0.8888888888888888,\"#fdca26\"],[1.0,\"#f0f921\"]],\"type\":\"histogram2d\"}],\"histogram\":[{\"marker\":{\"pattern\":{\"fillmode\":\"overlay\",\"size\":10,\"solidity\":0.2}},\"type\":\"histogram\"}],\"mesh3d\":[{\"colorbar\":{\"outlinewidth\":0,\"ticks\":\"\"},\"type\":\"mesh3d\"}],\"parcoords\":[{\"line\":{\"colorbar\":{\"outlinewidth\":0,\"ticks\":\"\"}},\"type\":\"parcoords\"}],\"pie\":[{\"automargin\":true,\"type\":\"pie\"}],\"scatter3d\":[{\"line\":{\"colorbar\":{\"outlinewidth\":0,\"ticks\":\"\"}},\"marker\":{\"colorbar\":{\"outlinewidth\":0,\"ticks\":\"\"}},\"type\":\"scatter3d\"}],\"scattercarpet\":[{\"marker\":{\"colorbar\":{\"outlinewidth\":0,\"ticks\":\"\"}},\"type\":\"scattercarpet\"}],\"scattergeo\":[{\"marker\":{\"colorbar\":{\"outlinewidth\":0,\"ticks\":\"\"}},\"type\":\"scattergeo\"}],\"scattergl\":[{\"marker\":{\"colorbar\":{\"outlinewidth\":0,\"ticks\":\"\"}},\"type\":\"scattergl\"}],\"scattermapbox\":[{\"marker\":{\"colorbar\":{\"outlinewidth\":0,\"ticks\":\"\"}},\"type\":\"scattermapbox\"}],\"scatterpolargl\":[{\"marker\":{\"colorbar\":{\"outlinewidth\":0,\"ticks\":\"\"}},\"type\":\"scatterpolargl\"}],\"scatterpolar\":[{\"marker\":{\"colorbar\":{\"outlinewidth\":0,\"ticks\":\"\"}},\"type\":\"scatterpolar\"}],\"scatter\":[{\"fillpattern\":{\"fillmode\":\"overlay\",\"size\":10,\"solidity\":0.2},\"type\":\"scatter\"}],\"scatterternary\":[{\"marker\":{\"colorbar\":{\"outlinewidth\":0,\"ticks\":\"\"}},\"type\":\"scatterternary\"}],\"surface\":[{\"colorbar\":{\"outlinewidth\":0,\"ticks\":\"\"},\"colorscale\":[[0.0,\"#0d0887\"],[0.1111111111111111,\"#46039f\"],[0.2222222222222222,\"#7201a8\"],[0.3333333333333333,\"#9c179e\"],[0.4444444444444444,\"#bd3786\"],[0.5555555555555556,\"#d8576b\"],[0.6666666666666666,\"#ed7953\"],[0.7777777777777778,\"#fb9f3a\"],[0.8888888888888888,\"#fdca26\"],[1.0,\"#f0f921\"]],\"type\":\"surface\"}],\"table\":[{\"cells\":{\"fill\":{\"color\":\"#EBF0F8\"},\"line\":{\"color\":\"white\"}},\"header\":{\"fill\":{\"color\":\"#C8D4E3\"},\"line\":{\"color\":\"white\"}},\"type\":\"table\"}]},\"layout\":{\"annotationdefaults\":{\"arrowcolor\":\"#2a3f5f\",\"arrowhead\":0,\"arrowwidth\":1},\"autotypenumbers\":\"strict\",\"coloraxis\":{\"colorbar\":{\"outlinewidth\":0,\"ticks\":\"\"}},\"colorscale\":{\"diverging\":[[0,\"#8e0152\"],[0.1,\"#c51b7d\"],[0.2,\"#de77ae\"],[0.3,\"#f1b6da\"],[0.4,\"#fde0ef\"],[0.5,\"#f7f7f7\"],[0.6,\"#e6f5d0\"],[0.7,\"#b8e186\"],[0.8,\"#7fbc41\"],[0.9,\"#4d9221\"],[1,\"#276419\"]],\"sequential\":[[0.0,\"#0d0887\"],[0.1111111111111111,\"#46039f\"],[0.2222222222222222,\"#7201a8\"],[0.3333333333333333,\"#9c179e\"],[0.4444444444444444,\"#bd3786\"],[0.5555555555555556,\"#d8576b\"],[0.6666666666666666,\"#ed7953\"],[0.7777777777777778,\"#fb9f3a\"],[0.8888888888888888,\"#fdca26\"],[1.0,\"#f0f921\"]],\"sequentialminus\":[[0.0,\"#0d0887\"],[0.1111111111111111,\"#46039f\"],[0.2222222222222222,\"#7201a8\"],[0.3333333333333333,\"#9c179e\"],[0.4444444444444444,\"#bd3786\"],[0.5555555555555556,\"#d8576b\"],[0.6666666666666666,\"#ed7953\"],[0.7777777777777778,\"#fb9f3a\"],[0.8888888888888888,\"#fdca26\"],[1.0,\"#f0f921\"]]},\"colorway\":[\"#636efa\",\"#EF553B\",\"#00cc96\",\"#ab63fa\",\"#FFA15A\",\"#19d3f3\",\"#FF6692\",\"#B6E880\",\"#FF97FF\",\"#FECB52\"],\"font\":{\"color\":\"#2a3f5f\"},\"geo\":{\"bgcolor\":\"white\",\"lakecolor\":\"white\",\"landcolor\":\"#E5ECF6\",\"showlakes\":true,\"showland\":true,\"subunitcolor\":\"white\"},\"hoverlabel\":{\"align\":\"left\"},\"hovermode\":\"closest\",\"mapbox\":{\"style\":\"light\"},\"paper_bgcolor\":\"white\",\"plot_bgcolor\":\"#E5ECF6\",\"polar\":{\"angularaxis\":{\"gridcolor\":\"white\",\"linecolor\":\"white\",\"ticks\":\"\"},\"bgcolor\":\"#E5ECF6\",\"radialaxis\":{\"gridcolor\":\"white\",\"linecolor\":\"white\",\"ticks\":\"\"}},\"scene\":{\"xaxis\":{\"backgroundcolor\":\"#E5ECF6\",\"gridcolor\":\"white\",\"gridwidth\":2,\"linecolor\":\"white\",\"showbackground\":true,\"ticks\":\"\",\"zerolinecolor\":\"white\"},\"yaxis\":{\"backgroundcolor\":\"#E5ECF6\",\"gridcolor\":\"white\",\"gridwidth\":2,\"linecolor\":\"white\",\"showbackground\":true,\"ticks\":\"\",\"zerolinecolor\":\"white\"},\"zaxis\":{\"backgroundcolor\":\"#E5ECF6\",\"gridcolor\":\"white\",\"gridwidth\":2,\"linecolor\":\"white\",\"showbackground\":true,\"ticks\":\"\",\"zerolinecolor\":\"white\"}},\"shapedefaults\":{\"line\":{\"color\":\"#2a3f5f\"}},\"ternary\":{\"aaxis\":{\"gridcolor\":\"white\",\"linecolor\":\"white\",\"ticks\":\"\"},\"baxis\":{\"gridcolor\":\"white\",\"linecolor\":\"white\",\"ticks\":\"\"},\"bgcolor\":\"#E5ECF6\",\"caxis\":{\"gridcolor\":\"white\",\"linecolor\":\"white\",\"ticks\":\"\"}},\"title\":{\"x\":0.05},\"xaxis\":{\"automargin\":true,\"gridcolor\":\"white\",\"linecolor\":\"white\",\"ticks\":\"\",\"title\":{\"standoff\":15},\"zerolinecolor\":\"white\",\"zerolinewidth\":2},\"yaxis\":{\"automargin\":true,\"gridcolor\":\"white\",\"linecolor\":\"white\",\"ticks\":\"\",\"title\":{\"standoff\":15},\"zerolinecolor\":\"white\",\"zerolinewidth\":2}}},\"title\":{\"text\":\"Global Average Daily Income in 2008\"}},                        {\"responsive\": true}                    ).then(function(){\n",
       "                            \n",
       "var gd = document.getElementById('4938b203-3e16-4fb4-afb7-18c113ed55d2');\n",
       "var x = new MutationObserver(function (mutations, observer) {{\n",
       "        var display = window.getComputedStyle(gd).display;\n",
       "        if (!display || display === 'none') {{\n",
       "            console.log([gd, 'removed!']);\n",
       "            Plotly.purge(gd);\n",
       "            observer.disconnect();\n",
       "        }}\n",
       "}});\n",
       "\n",
       "// Listen for the removal of the full notebook cells\n",
       "var notebookContainer = gd.closest('#notebook-container');\n",
       "if (notebookContainer) {{\n",
       "    x.observe(notebookContainer, {childList: true});\n",
       "}}\n",
       "\n",
       "// Listen for the clearing of the current output cell\n",
       "var outputEl = gd.closest('.output');\n",
       "if (outputEl) {{\n",
       "    x.observe(outputEl, {childList: true});\n",
       "}}\n",
       "\n",
       "                        })                };                });            </script>        </div>"
      ]
     },
     "metadata": {},
     "output_type": "display_data"
    }
   ],
   "source": [
    "import plotly.graph_objs as go\n",
    "from plotly.offline import download_plotlyjs, init_notebook_mode, plot, iplot \n",
    "init_notebook_mode(connected=True)\n",
    "data = dict(type = 'choropleth', \n",
    "           locations = yearof2008['country'],\n",
    "           locationmode = 'country names',\n",
    "           z = yearof2008['ave_income'], \n",
    "           text = yearof2008['country'],\n",
    "           colorbar = {'title':'Average Daily Income'})\n",
    "layout = dict(title = 'Global Average Daily Income in 2008', \n",
    "             geo = dict(showframe = False))\n",
    "choromap3 = go.Figure(data = [data], layout=layout)\n",
    "iplot(choromap3)"
   ]
  },
  {
   "cell_type": "code",
   "execution_count": 212,
   "id": "c6eabe49",
   "metadata": {},
   "outputs": [
    {
     "data": {
      "text/html": [
       "<div>\n",
       "<style scoped>\n",
       "    .dataframe tbody tr th:only-of-type {\n",
       "        vertical-align: middle;\n",
       "    }\n",
       "\n",
       "    .dataframe tbody tr th {\n",
       "        vertical-align: top;\n",
       "    }\n",
       "\n",
       "    .dataframe thead th {\n",
       "        text-align: right;\n",
       "    }\n",
       "</style>\n",
       "<table border=\"1\" class=\"dataframe\">\n",
       "  <thead>\n",
       "    <tr style=\"text-align: right;\">\n",
       "      <th></th>\n",
       "      <th>country</th>\n",
       "      <th>inquality</th>\n",
       "      <th>score</th>\n",
       "      <th>ave_income</th>\n",
       "      <th>func_govt</th>\n",
       "      <th>women_participation</th>\n",
       "      <th>democracy</th>\n",
       "      <th>population</th>\n",
       "    </tr>\n",
       "  </thead>\n",
       "  <tbody>\n",
       "    <tr>\n",
       "      <th>184</th>\n",
       "      <td>Ukraine</td>\n",
       "      <td>26.6</td>\n",
       "      <td>51.7</td>\n",
       "      <td>12.20</td>\n",
       "      <td>53.6</td>\n",
       "      <td>8.45</td>\n",
       "      <td>69.4</td>\n",
       "      <td>4.625819e+07</td>\n",
       "    </tr>\n",
       "    <tr>\n",
       "      <th>185</th>\n",
       "      <td>Uruguay</td>\n",
       "      <td>45.1</td>\n",
       "      <td>56.6</td>\n",
       "      <td>21.20</td>\n",
       "      <td>82.1</td>\n",
       "      <td>13.50</td>\n",
       "      <td>80.8</td>\n",
       "      <td>3.340221e+06</td>\n",
       "    </tr>\n",
       "    <tr>\n",
       "      <th>186</th>\n",
       "      <td>United States</td>\n",
       "      <td>40.8</td>\n",
       "      <td>72.8</td>\n",
       "      <td>64.60</td>\n",
       "      <td>78.6</td>\n",
       "      <td>17.30</td>\n",
       "      <td>82.2</td>\n",
       "      <td>3.040940e+08</td>\n",
       "    </tr>\n",
       "    <tr>\n",
       "      <th>187</th>\n",
       "      <td>Uzbekistan</td>\n",
       "      <td>35.0</td>\n",
       "      <td>53.1</td>\n",
       "      <td>2.88</td>\n",
       "      <td>7.9</td>\n",
       "      <td>20.70</td>\n",
       "      <td>17.4</td>\n",
       "      <td>2.730280e+07</td>\n",
       "    </tr>\n",
       "    <tr>\n",
       "      <th>188</th>\n",
       "      <td>St. Vincent and the Grenadines</td>\n",
       "      <td>38.2</td>\n",
       "      <td>NaN</td>\n",
       "      <td>13.90</td>\n",
       "      <td>NaN</td>\n",
       "      <td>15.90</td>\n",
       "      <td>NaN</td>\n",
       "      <td>1.084010e+05</td>\n",
       "    </tr>\n",
       "    <tr>\n",
       "      <th>...</th>\n",
       "      <td>...</td>\n",
       "      <td>...</td>\n",
       "      <td>...</td>\n",
       "      <td>...</td>\n",
       "      <td>...</td>\n",
       "      <td>...</td>\n",
       "      <td>...</td>\n",
       "      <td>...</td>\n",
       "    </tr>\n",
       "    <tr>\n",
       "      <th>279</th>\n",
       "      <td>British Virgin Islands</td>\n",
       "      <td>NaN</td>\n",
       "      <td>NaN</td>\n",
       "      <td>NaN</td>\n",
       "      <td>NaN</td>\n",
       "      <td>NaN</td>\n",
       "      <td>NaN</td>\n",
       "      <td>2.609600e+04</td>\n",
       "    </tr>\n",
       "    <tr>\n",
       "      <th>280</th>\n",
       "      <td>Virgin Islands (U.S.)</td>\n",
       "      <td>NaN</td>\n",
       "      <td>NaN</td>\n",
       "      <td>NaN</td>\n",
       "      <td>NaN</td>\n",
       "      <td>NaN</td>\n",
       "      <td>NaN</td>\n",
       "      <td>1.083970e+05</td>\n",
       "    </tr>\n",
       "    <tr>\n",
       "      <th>281</th>\n",
       "      <td>World</td>\n",
       "      <td>NaN</td>\n",
       "      <td>NaN</td>\n",
       "      <td>NaN</td>\n",
       "      <td>NaN</td>\n",
       "      <td>NaN</td>\n",
       "      <td>NaN</td>\n",
       "      <td>6.757000e+09</td>\n",
       "    </tr>\n",
       "    <tr>\n",
       "      <th>282</th>\n",
       "      <td>Kosovo</td>\n",
       "      <td>NaN</td>\n",
       "      <td>NaN</td>\n",
       "      <td>NaN</td>\n",
       "      <td>NaN</td>\n",
       "      <td>NaN</td>\n",
       "      <td>NaN</td>\n",
       "      <td>1.747383e+06</td>\n",
       "    </tr>\n",
       "    <tr>\n",
       "      <th>283</th>\n",
       "      <td>Yemen, Rep.</td>\n",
       "      <td>NaN</td>\n",
       "      <td>NaN</td>\n",
       "      <td>NaN</td>\n",
       "      <td>NaN</td>\n",
       "      <td>NaN</td>\n",
       "      <td>NaN</td>\n",
       "      <td>2.189215e+07</td>\n",
       "    </tr>\n",
       "  </tbody>\n",
       "</table>\n",
       "<p>100 rows × 8 columns</p>\n",
       "</div>"
      ],
      "text/plain": [
       "                            country  inquality  score  ave_income  func_govt  \\\n",
       "184                         Ukraine       26.6   51.7       12.20       53.6   \n",
       "185                         Uruguay       45.1   56.6       21.20       82.1   \n",
       "186                   United States       40.8   72.8       64.60       78.6   \n",
       "187                      Uzbekistan       35.0   53.1        2.88        7.9   \n",
       "188  St. Vincent and the Grenadines       38.2    NaN       13.90        NaN   \n",
       "..                              ...        ...    ...         ...        ...   \n",
       "279          British Virgin Islands        NaN    NaN         NaN        NaN   \n",
       "280           Virgin Islands (U.S.)        NaN    NaN         NaN        NaN   \n",
       "281                           World        NaN    NaN         NaN        NaN   \n",
       "282                          Kosovo        NaN    NaN         NaN        NaN   \n",
       "283                     Yemen, Rep.        NaN    NaN         NaN        NaN   \n",
       "\n",
       "     women_participation  democracy    population  \n",
       "184                 8.45       69.4  4.625819e+07  \n",
       "185                13.50       80.8  3.340221e+06  \n",
       "186                17.30       82.2  3.040940e+08  \n",
       "187                20.70       17.4  2.730280e+07  \n",
       "188                15.90        NaN  1.084010e+05  \n",
       "..                   ...        ...           ...  \n",
       "279                  NaN        NaN  2.609600e+04  \n",
       "280                  NaN        NaN  1.083970e+05  \n",
       "281                  NaN        NaN  6.757000e+09  \n",
       "282                  NaN        NaN  1.747383e+06  \n",
       "283                  NaN        NaN  2.189215e+07  \n",
       "\n",
       "[100 rows x 8 columns]"
      ]
     },
     "execution_count": 212,
     "metadata": {},
     "output_type": "execute_result"
    }
   ],
   "source": [
    "yearof2008.tail(100)"
   ]
  },
  {
   "cell_type": "code",
   "execution_count": 215,
   "id": "33929c61",
   "metadata": {},
   "outputs": [
    {
     "data": {
      "text/html": [
       "        <script type=\"text/javascript\">\n",
       "        window.PlotlyConfig = {MathJaxConfig: 'local'};\n",
       "        if (window.MathJax && window.MathJax.Hub && window.MathJax.Hub.Config) {window.MathJax.Hub.Config({SVG: {font: \"STIX-Web\"}});}\n",
       "        if (typeof require !== 'undefined') {\n",
       "        require.undef(\"plotly\");\n",
       "        requirejs.config({\n",
       "            paths: {\n",
       "                'plotly': ['https://cdn.plot.ly/plotly-2.12.1.min']\n",
       "            }\n",
       "        });\n",
       "        require(['plotly'], function(Plotly) {\n",
       "            window._Plotly = Plotly;\n",
       "        });\n",
       "        }\n",
       "        </script>\n",
       "        "
      ]
     },
     "metadata": {},
     "output_type": "display_data"
    },
    {
     "data": {
      "application/vnd.plotly.v1+json": {
       "config": {
        "linkText": "Export to plot.ly",
        "plotlyServerURL": "https://plot.ly",
        "showLink": false
       },
       "data": [
        {
         "colorbar": {
          "title": {
           "text": "Women in Parliament"
          }
         },
         "locationmode": "country names",
         "locations": [
          "Afghanistan",
          "Angola",
          "Albania",
          "Andorra",
          "United Arab Emirates",
          "Argentina",
          "Armenia",
          "Antigua and Barbuda",
          "Australia",
          "Austria",
          "Azerbaijan",
          "Burundi",
          "Belgium",
          "Benin",
          "Burkina Faso",
          "Bangladesh",
          "Bulgaria",
          "Bahrain",
          "Bahamas",
          "Bosnia and Herzegovina",
          "Belarus",
          "Belize",
          "Bolivia",
          "Brazil",
          "Barbados",
          "Brunei",
          "Bhutan",
          "Botswana",
          "Central African Republic",
          "Canada",
          "Switzerland",
          "Chile",
          "China",
          "Cote d'Ivoire",
          "Cameroon",
          "Congo Dem Rep",
          "Congo, Rep.",
          "Colombia",
          "Comoros",
          "Cape Verde",
          "Costa Rica",
          "Cuba",
          "Cyprus",
          "Czech Republic",
          "Germany",
          "Djibouti",
          "Dominica",
          "Denmark",
          "Dominican Republic",
          "Algeria",
          "Ecuador",
          "Egypt",
          "Eritrea",
          "Spain",
          "Estonia",
          "Ethiopia",
          "Finland",
          "Fiji",
          "France",
          "Micronesia, Fed. Sts.",
          "Gabon",
          "United Kingdom",
          "Georgia",
          "Ghana",
          "Guinea",
          "Gambia",
          "Guinea-Bissau",
          "Equatorial Guinea",
          "Greece",
          "Grenada",
          "Guatemala",
          "Guyana",
          "Hong Kong, China",
          "Honduras",
          "Holy See",
          "Croatia",
          "Haiti",
          "Hungary",
          "Indonesia",
          "India",
          "Ireland",
          "Iran",
          "Iraq",
          "Iceland",
          "Israel",
          "Italy",
          "Jamaica",
          "Jordan",
          "Japan",
          "Kazakhstan",
          "Kenya",
          "Kyrgyz Republic",
          "Cambodia",
          "Kiribati",
          "St. Kitts and Nevis",
          "South Korea",
          "Kuwait",
          "Lao",
          "Lebanon",
          "Liberia",
          "Libya",
          "St. Lucia",
          "Liechtenstein",
          "Sri Lanka",
          "Lesotho",
          "Lithuania",
          "Luxembourg",
          "Latvia",
          "Morocco",
          "Monaco",
          "Moldova",
          "Madagascar",
          "Maldives",
          "Mexico",
          "Marshall Islands",
          "North Macedonia",
          "Mali",
          "Malta",
          "Myanmar",
          "Montenegro",
          "Mongolia",
          "Mozambique",
          "Mauritania",
          "Mauritius",
          "Malawi",
          "Malaysia",
          "Namibia",
          "Niger",
          "Nigeria",
          "Nicaragua",
          "Netherlands",
          "Norway",
          "Nepal",
          "Nauru",
          "New Zealand",
          "Oman",
          "Pakistan",
          "Panama",
          "Peru",
          "Philippines",
          "Palau",
          "Papua New Guinea",
          "Poland",
          "North Korea",
          "Portugal",
          "Paraguay",
          "Palestine",
          "Qatar",
          "Romania",
          "Russia",
          "Rwanda",
          "Saudi Arabia",
          "Sudan",
          "Senegal",
          "Singapore",
          "Solomon Islands",
          "Sierra Leone",
          "El Salvador",
          "San Marino",
          "Somalia",
          "Serbia",
          "South Sudan",
          "Sao Tome and Principe",
          "Suriname",
          "Slovak Republic",
          "Slovenia",
          "Sweden",
          "Eswatini",
          "Seychelles",
          "Syria",
          "Chad",
          "Togo",
          "Thailand",
          "Tajikistan",
          "Turkmenistan",
          "Timor-Leste",
          "Tonga",
          "Trinidad and Tobago",
          "Tunisia",
          "Turkey",
          "Tuvalu",
          "Taiwan",
          "Tanzania",
          "Uganda",
          "Ukraine",
          "Uruguay",
          "United States",
          "Uzbekistan",
          "St. Vincent and the Grenadines",
          "Venezuela",
          "Vietnam",
          "Vanuatu",
          "Samoa",
          "Yemen",
          "South Africa",
          "Zambia",
          "Zimbabwe",
          "Congo, Dem. Rep.",
          "Aruba",
          "Africa Eastern and Southern",
          "Africa Western and Central",
          "Arab World",
          "American Samoa",
          "Bahamas, The",
          "Bermuda",
          "Brunei Darussalam",
          "Central Europe and the Baltics",
          "Channel Islands",
          "Cabo Verde",
          "Caribbean small states",
          "Curacao",
          "Cayman Islands",
          "East Asia & Pacific (excluding high income)",
          "Early-demographic dividend",
          "East Asia & Pacific",
          "Europe & Central Asia (excluding high income)",
          "Europe & Central Asia",
          "Egypt, Arab Rep.",
          "Euro area",
          "European Union",
          "Fragile and conflict affected situations",
          "Faroe Islands",
          "Gibraltar",
          "Gambia, The",
          "Greenland",
          "Guam",
          "High income",
          "Hong Kong SAR, China",
          "Heavily indebted poor countries (HIPC)",
          "IBRD only",
          "IDA & IBRD total",
          "IDA total",
          "IDA blend",
          "IDA only",
          "Isle of Man",
          "Not classified",
          "Iran, Islamic Rep.",
          "Korea, Rep.",
          "Latin America & Caribbean (excluding high income)",
          "Lao PDR",
          "Latin America & Caribbean",
          "Least developed countries: UN classification",
          "Low income",
          "Lower middle income",
          "Low & middle income",
          "Late-demographic dividend",
          "Macao SAR, China",
          "St. Martin (French part)",
          "Middle East & North Africa",
          "Middle income",
          "Middle East & North Africa (excluding high income)",
          "Northern Mariana Islands",
          "North America",
          "New Caledonia",
          "OECD members",
          "Other small states",
          "Pre-demographic dividend",
          "Puerto Rico",
          "Korea, Dem. People's Rep.",
          "West Bank and Gaza",
          "Pacific island small states",
          "Post-demographic dividend",
          "French Polynesia",
          "Russian Federation",
          "South Asia",
          "Sub-Saharan Africa (excluding high income)",
          "Sub-Saharan Africa",
          "Small states",
          "Sint Maarten (Dutch part)",
          "Syrian Arab Republic",
          "Turks and Caicos Islands",
          "East Asia & Pacific (IDA & IBRD countries)",
          "Europe & Central Asia (IDA & IBRD countries)",
          "Latin America & the Caribbean (IDA & IBRD countries)",
          "Middle East & North Africa (IDA & IBRD countries)",
          "South Asia (IDA & IBRD)",
          "Sub-Saharan Africa (IDA & IBRD countries)",
          "Upper middle income",
          "Venezuela, RB",
          "British Virgin Islands",
          "Virgin Islands (U.S.)",
          "World",
          "Kosovo",
          "Yemen, Rep."
         ],
         "text": [
          "Afghanistan",
          "Angola",
          "Albania",
          "Andorra",
          "United Arab Emirates",
          "Argentina",
          "Armenia",
          "Antigua and Barbuda",
          "Australia",
          "Austria",
          "Azerbaijan",
          "Burundi",
          "Belgium",
          "Benin",
          "Burkina Faso",
          "Bangladesh",
          "Bulgaria",
          "Bahrain",
          "Bahamas",
          "Bosnia and Herzegovina",
          "Belarus",
          "Belize",
          "Bolivia",
          "Brazil",
          "Barbados",
          "Brunei",
          "Bhutan",
          "Botswana",
          "Central African Republic",
          "Canada",
          "Switzerland",
          "Chile",
          "China",
          "Cote d'Ivoire",
          "Cameroon",
          "Congo Dem Rep",
          "Congo, Rep.",
          "Colombia",
          "Comoros",
          "Cape Verde",
          "Costa Rica",
          "Cuba",
          "Cyprus",
          "Czech Republic",
          "Germany",
          "Djibouti",
          "Dominica",
          "Denmark",
          "Dominican Republic",
          "Algeria",
          "Ecuador",
          "Egypt",
          "Eritrea",
          "Spain",
          "Estonia",
          "Ethiopia",
          "Finland",
          "Fiji",
          "France",
          "Micronesia, Fed. Sts.",
          "Gabon",
          "United Kingdom",
          "Georgia",
          "Ghana",
          "Guinea",
          "Gambia",
          "Guinea-Bissau",
          "Equatorial Guinea",
          "Greece",
          "Grenada",
          "Guatemala",
          "Guyana",
          "Hong Kong, China",
          "Honduras",
          "Holy See",
          "Croatia",
          "Haiti",
          "Hungary",
          "Indonesia",
          "India",
          "Ireland",
          "Iran",
          "Iraq",
          "Iceland",
          "Israel",
          "Italy",
          "Jamaica",
          "Jordan",
          "Japan",
          "Kazakhstan",
          "Kenya",
          "Kyrgyz Republic",
          "Cambodia",
          "Kiribati",
          "St. Kitts and Nevis",
          "South Korea",
          "Kuwait",
          "Lao",
          "Lebanon",
          "Liberia",
          "Libya",
          "St. Lucia",
          "Liechtenstein",
          "Sri Lanka",
          "Lesotho",
          "Lithuania",
          "Luxembourg",
          "Latvia",
          "Morocco",
          "Monaco",
          "Moldova",
          "Madagascar",
          "Maldives",
          "Mexico",
          "Marshall Islands",
          "North Macedonia",
          "Mali",
          "Malta",
          "Myanmar",
          "Montenegro",
          "Mongolia",
          "Mozambique",
          "Mauritania",
          "Mauritius",
          "Malawi",
          "Malaysia",
          "Namibia",
          "Niger",
          "Nigeria",
          "Nicaragua",
          "Netherlands",
          "Norway",
          "Nepal",
          "Nauru",
          "New Zealand",
          "Oman",
          "Pakistan",
          "Panama",
          "Peru",
          "Philippines",
          "Palau",
          "Papua New Guinea",
          "Poland",
          "North Korea",
          "Portugal",
          "Paraguay",
          "Palestine",
          "Qatar",
          "Romania",
          "Russia",
          "Rwanda",
          "Saudi Arabia",
          "Sudan",
          "Senegal",
          "Singapore",
          "Solomon Islands",
          "Sierra Leone",
          "El Salvador",
          "San Marino",
          "Somalia",
          "Serbia",
          "South Sudan",
          "Sao Tome and Principe",
          "Suriname",
          "Slovak Republic",
          "Slovenia",
          "Sweden",
          "Eswatini",
          "Seychelles",
          "Syria",
          "Chad",
          "Togo",
          "Thailand",
          "Tajikistan",
          "Turkmenistan",
          "Timor-Leste",
          "Tonga",
          "Trinidad and Tobago",
          "Tunisia",
          "Turkey",
          "Tuvalu",
          "Taiwan",
          "Tanzania",
          "Uganda",
          "Ukraine",
          "Uruguay",
          "United States",
          "Uzbekistan",
          "St. Vincent and the Grenadines",
          "Venezuela",
          "Vietnam",
          "Vanuatu",
          "Samoa",
          "Yemen",
          "South Africa",
          "Zambia",
          "Zimbabwe",
          "Congo, Dem. Rep.",
          "Aruba",
          "Africa Eastern and Southern",
          "Africa Western and Central",
          "Arab World",
          "American Samoa",
          "Bahamas, The",
          "Bermuda",
          "Brunei Darussalam",
          "Central Europe and the Baltics",
          "Channel Islands",
          "Cabo Verde",
          "Caribbean small states",
          "Curacao",
          "Cayman Islands",
          "East Asia & Pacific (excluding high income)",
          "Early-demographic dividend",
          "East Asia & Pacific",
          "Europe & Central Asia (excluding high income)",
          "Europe & Central Asia",
          "Egypt, Arab Rep.",
          "Euro area",
          "European Union",
          "Fragile and conflict affected situations",
          "Faroe Islands",
          "Gibraltar",
          "Gambia, The",
          "Greenland",
          "Guam",
          "High income",
          "Hong Kong SAR, China",
          "Heavily indebted poor countries (HIPC)",
          "IBRD only",
          "IDA & IBRD total",
          "IDA total",
          "IDA blend",
          "IDA only",
          "Isle of Man",
          "Not classified",
          "Iran, Islamic Rep.",
          "Korea, Rep.",
          "Latin America & Caribbean (excluding high income)",
          "Lao PDR",
          "Latin America & Caribbean",
          "Least developed countries: UN classification",
          "Low income",
          "Lower middle income",
          "Low & middle income",
          "Late-demographic dividend",
          "Macao SAR, China",
          "St. Martin (French part)",
          "Middle East & North Africa",
          "Middle income",
          "Middle East & North Africa (excluding high income)",
          "Northern Mariana Islands",
          "North America",
          "New Caledonia",
          "OECD members",
          "Other small states",
          "Pre-demographic dividend",
          "Puerto Rico",
          "Korea, Dem. People's Rep.",
          "West Bank and Gaza",
          "Pacific island small states",
          "Post-demographic dividend",
          "French Polynesia",
          "Russian Federation",
          "South Asia",
          "Sub-Saharan Africa (excluding high income)",
          "Sub-Saharan Africa",
          "Small states",
          "Sint Maarten (Dutch part)",
          "Syrian Arab Republic",
          "Turks and Caicos Islands",
          "East Asia & Pacific (IDA & IBRD countries)",
          "Europe & Central Asia (IDA & IBRD countries)",
          "Latin America & the Caribbean (IDA & IBRD countries)",
          "Middle East & North Africa (IDA & IBRD countries)",
          "South Asia (IDA & IBRD)",
          "Sub-Saharan Africa (IDA & IBRD countries)",
          "Upper middle income",
          "Venezuela, RB",
          "British Virgin Islands",
          "Virgin Islands (U.S.)",
          "World",
          "Kosovo",
          "Yemen, Rep."
         ],
         "type": "choropleth",
         "z": [
          26.9,
          37.3,
          14.1,
          33.7,
          5,
          39.4,
          9.36,
          18.3,
          29.5,
          27.8,
          null,
          33.4,
          36.3,
          10.2,
          15.4,
          null,
          20.8,
          null,
          null,
          15.3,
          32.5,
          17.4,
          23.7,
          9.77,
          null,
          null,
          13.9,
          8.57,
          null,
          25.3,
          27.1,
          null,
          null,
          10.4,
          14.6,
          null,
          7.3,
          11.8,
          0.61,
          17.5,
          38.6,
          43.2,
          12.9,
          18.1,
          32.5,
          13.8,
          12.6,
          37.9,
          18.1,
          7.11,
          30.2,
          9.12,
          21.6,
          32.1,
          21.9,
          23.1,
          41.9,
          13,
          21.9,
          0,
          13.9,
          19.7,
          6,
          7.89,
          20.7,
          9.06,
          10,
          6,
          16,
          21.4,
          12.3,
          29.9,
          null,
          19.3,
          null,
          21.6,
          4.72,
          9.72,
          16.6,
          10.8,
          16.1,
          2.76,
          27.5,
          36,
          16.4,
          20.1,
          13.4,
          9.8,
          14.5,
          3.8,
          10.3,
          24.7,
          16.3,
          5.43,
          4.44,
          13.7,
          3.08,
          25.1,
          3.52,
          12.2,
          9.24,
          23.5,
          24,
          5.19,
          24.8,
          17.7,
          24,
          19,
          6.72,
          25,
          24.2,
          13.6,
          7.47,
          25.7,
          3.03,
          30,
          10.1,
          8.7,
          3.96,
          8.64,
          5.13,
          38.3,
          16.3,
          18.2,
          19.6,
          14.6,
          25,
          10.3,
          6.23,
          25.2,
          37.7,
          39.2,
          33.2,
          0,
          33.6,
          9.22,
          22.5,
          10.2,
          26,
          21,
          15.4,
          1.28,
          19.2,
          13.7,
          26.2,
          13.6,
          null,
          0,
          9.77,
          5.2,
          56.3,
          17,
          19.9,
          31,
          21.6,
          0,
          13.4,
          18.3,
          15,
          9.14,
          21.6,
          null,
          12.7,
          16.1,
          15.7,
          13.3,
          46.1,
          18.1,
          31.5,
          12.3,
          null,
          9.49,
          16,
          18.4,
          16.8,
          29.6,
          3.13,
          31.5,
          15.2,
          10.4,
          0,
          null,
          33.9,
          21.5,
          8.45,
          13.5,
          17.3,
          20.7,
          15.9,
          17.1,
          25.4,
          3.85,
          6.53,
          0.58,
          40.2,
          13.2,
          18.3,
          7.23,
          null,
          null,
          null,
          null,
          null,
          null,
          null,
          null,
          null,
          null,
          null,
          null,
          null,
          null,
          null,
          null,
          null,
          null,
          null,
          null,
          null,
          null,
          null,
          null,
          null,
          null,
          null,
          null,
          null,
          null,
          null,
          null,
          null,
          null,
          null,
          null,
          null,
          null,
          null,
          null,
          null,
          null,
          null,
          null,
          null,
          null,
          null,
          null,
          null,
          null,
          null,
          null,
          null,
          null,
          null,
          null,
          null,
          null,
          null,
          null,
          null,
          null,
          null,
          null,
          null,
          null,
          null,
          null,
          null,
          null,
          null,
          null,
          null,
          null,
          null,
          null,
          null,
          null,
          null,
          null,
          null,
          null,
          null,
          null,
          null,
          null
         ]
        }
       ],
       "layout": {
        "geo": {
         "showframe": false
        },
        "template": {
         "data": {
          "bar": [
           {
            "error_x": {
             "color": "#2a3f5f"
            },
            "error_y": {
             "color": "#2a3f5f"
            },
            "marker": {
             "line": {
              "color": "#E5ECF6",
              "width": 0.5
             },
             "pattern": {
              "fillmode": "overlay",
              "size": 10,
              "solidity": 0.2
             }
            },
            "type": "bar"
           }
          ],
          "barpolar": [
           {
            "marker": {
             "line": {
              "color": "#E5ECF6",
              "width": 0.5
             },
             "pattern": {
              "fillmode": "overlay",
              "size": 10,
              "solidity": 0.2
             }
            },
            "type": "barpolar"
           }
          ],
          "carpet": [
           {
            "aaxis": {
             "endlinecolor": "#2a3f5f",
             "gridcolor": "white",
             "linecolor": "white",
             "minorgridcolor": "white",
             "startlinecolor": "#2a3f5f"
            },
            "baxis": {
             "endlinecolor": "#2a3f5f",
             "gridcolor": "white",
             "linecolor": "white",
             "minorgridcolor": "white",
             "startlinecolor": "#2a3f5f"
            },
            "type": "carpet"
           }
          ],
          "choropleth": [
           {
            "colorbar": {
             "outlinewidth": 0,
             "ticks": ""
            },
            "type": "choropleth"
           }
          ],
          "contour": [
           {
            "colorbar": {
             "outlinewidth": 0,
             "ticks": ""
            },
            "colorscale": [
             [
              0,
              "#0d0887"
             ],
             [
              0.1111111111111111,
              "#46039f"
             ],
             [
              0.2222222222222222,
              "#7201a8"
             ],
             [
              0.3333333333333333,
              "#9c179e"
             ],
             [
              0.4444444444444444,
              "#bd3786"
             ],
             [
              0.5555555555555556,
              "#d8576b"
             ],
             [
              0.6666666666666666,
              "#ed7953"
             ],
             [
              0.7777777777777778,
              "#fb9f3a"
             ],
             [
              0.8888888888888888,
              "#fdca26"
             ],
             [
              1,
              "#f0f921"
             ]
            ],
            "type": "contour"
           }
          ],
          "contourcarpet": [
           {
            "colorbar": {
             "outlinewidth": 0,
             "ticks": ""
            },
            "type": "contourcarpet"
           }
          ],
          "heatmap": [
           {
            "colorbar": {
             "outlinewidth": 0,
             "ticks": ""
            },
            "colorscale": [
             [
              0,
              "#0d0887"
             ],
             [
              0.1111111111111111,
              "#46039f"
             ],
             [
              0.2222222222222222,
              "#7201a8"
             ],
             [
              0.3333333333333333,
              "#9c179e"
             ],
             [
              0.4444444444444444,
              "#bd3786"
             ],
             [
              0.5555555555555556,
              "#d8576b"
             ],
             [
              0.6666666666666666,
              "#ed7953"
             ],
             [
              0.7777777777777778,
              "#fb9f3a"
             ],
             [
              0.8888888888888888,
              "#fdca26"
             ],
             [
              1,
              "#f0f921"
             ]
            ],
            "type": "heatmap"
           }
          ],
          "heatmapgl": [
           {
            "colorbar": {
             "outlinewidth": 0,
             "ticks": ""
            },
            "colorscale": [
             [
              0,
              "#0d0887"
             ],
             [
              0.1111111111111111,
              "#46039f"
             ],
             [
              0.2222222222222222,
              "#7201a8"
             ],
             [
              0.3333333333333333,
              "#9c179e"
             ],
             [
              0.4444444444444444,
              "#bd3786"
             ],
             [
              0.5555555555555556,
              "#d8576b"
             ],
             [
              0.6666666666666666,
              "#ed7953"
             ],
             [
              0.7777777777777778,
              "#fb9f3a"
             ],
             [
              0.8888888888888888,
              "#fdca26"
             ],
             [
              1,
              "#f0f921"
             ]
            ],
            "type": "heatmapgl"
           }
          ],
          "histogram": [
           {
            "marker": {
             "pattern": {
              "fillmode": "overlay",
              "size": 10,
              "solidity": 0.2
             }
            },
            "type": "histogram"
           }
          ],
          "histogram2d": [
           {
            "colorbar": {
             "outlinewidth": 0,
             "ticks": ""
            },
            "colorscale": [
             [
              0,
              "#0d0887"
             ],
             [
              0.1111111111111111,
              "#46039f"
             ],
             [
              0.2222222222222222,
              "#7201a8"
             ],
             [
              0.3333333333333333,
              "#9c179e"
             ],
             [
              0.4444444444444444,
              "#bd3786"
             ],
             [
              0.5555555555555556,
              "#d8576b"
             ],
             [
              0.6666666666666666,
              "#ed7953"
             ],
             [
              0.7777777777777778,
              "#fb9f3a"
             ],
             [
              0.8888888888888888,
              "#fdca26"
             ],
             [
              1,
              "#f0f921"
             ]
            ],
            "type": "histogram2d"
           }
          ],
          "histogram2dcontour": [
           {
            "colorbar": {
             "outlinewidth": 0,
             "ticks": ""
            },
            "colorscale": [
             [
              0,
              "#0d0887"
             ],
             [
              0.1111111111111111,
              "#46039f"
             ],
             [
              0.2222222222222222,
              "#7201a8"
             ],
             [
              0.3333333333333333,
              "#9c179e"
             ],
             [
              0.4444444444444444,
              "#bd3786"
             ],
             [
              0.5555555555555556,
              "#d8576b"
             ],
             [
              0.6666666666666666,
              "#ed7953"
             ],
             [
              0.7777777777777778,
              "#fb9f3a"
             ],
             [
              0.8888888888888888,
              "#fdca26"
             ],
             [
              1,
              "#f0f921"
             ]
            ],
            "type": "histogram2dcontour"
           }
          ],
          "mesh3d": [
           {
            "colorbar": {
             "outlinewidth": 0,
             "ticks": ""
            },
            "type": "mesh3d"
           }
          ],
          "parcoords": [
           {
            "line": {
             "colorbar": {
              "outlinewidth": 0,
              "ticks": ""
             }
            },
            "type": "parcoords"
           }
          ],
          "pie": [
           {
            "automargin": true,
            "type": "pie"
           }
          ],
          "scatter": [
           {
            "fillpattern": {
             "fillmode": "overlay",
             "size": 10,
             "solidity": 0.2
            },
            "type": "scatter"
           }
          ],
          "scatter3d": [
           {
            "line": {
             "colorbar": {
              "outlinewidth": 0,
              "ticks": ""
             }
            },
            "marker": {
             "colorbar": {
              "outlinewidth": 0,
              "ticks": ""
             }
            },
            "type": "scatter3d"
           }
          ],
          "scattercarpet": [
           {
            "marker": {
             "colorbar": {
              "outlinewidth": 0,
              "ticks": ""
             }
            },
            "type": "scattercarpet"
           }
          ],
          "scattergeo": [
           {
            "marker": {
             "colorbar": {
              "outlinewidth": 0,
              "ticks": ""
             }
            },
            "type": "scattergeo"
           }
          ],
          "scattergl": [
           {
            "marker": {
             "colorbar": {
              "outlinewidth": 0,
              "ticks": ""
             }
            },
            "type": "scattergl"
           }
          ],
          "scattermapbox": [
           {
            "marker": {
             "colorbar": {
              "outlinewidth": 0,
              "ticks": ""
             }
            },
            "type": "scattermapbox"
           }
          ],
          "scatterpolar": [
           {
            "marker": {
             "colorbar": {
              "outlinewidth": 0,
              "ticks": ""
             }
            },
            "type": "scatterpolar"
           }
          ],
          "scatterpolargl": [
           {
            "marker": {
             "colorbar": {
              "outlinewidth": 0,
              "ticks": ""
             }
            },
            "type": "scatterpolargl"
           }
          ],
          "scatterternary": [
           {
            "marker": {
             "colorbar": {
              "outlinewidth": 0,
              "ticks": ""
             }
            },
            "type": "scatterternary"
           }
          ],
          "surface": [
           {
            "colorbar": {
             "outlinewidth": 0,
             "ticks": ""
            },
            "colorscale": [
             [
              0,
              "#0d0887"
             ],
             [
              0.1111111111111111,
              "#46039f"
             ],
             [
              0.2222222222222222,
              "#7201a8"
             ],
             [
              0.3333333333333333,
              "#9c179e"
             ],
             [
              0.4444444444444444,
              "#bd3786"
             ],
             [
              0.5555555555555556,
              "#d8576b"
             ],
             [
              0.6666666666666666,
              "#ed7953"
             ],
             [
              0.7777777777777778,
              "#fb9f3a"
             ],
             [
              0.8888888888888888,
              "#fdca26"
             ],
             [
              1,
              "#f0f921"
             ]
            ],
            "type": "surface"
           }
          ],
          "table": [
           {
            "cells": {
             "fill": {
              "color": "#EBF0F8"
             },
             "line": {
              "color": "white"
             }
            },
            "header": {
             "fill": {
              "color": "#C8D4E3"
             },
             "line": {
              "color": "white"
             }
            },
            "type": "table"
           }
          ]
         },
         "layout": {
          "annotationdefaults": {
           "arrowcolor": "#2a3f5f",
           "arrowhead": 0,
           "arrowwidth": 1
          },
          "autotypenumbers": "strict",
          "coloraxis": {
           "colorbar": {
            "outlinewidth": 0,
            "ticks": ""
           }
          },
          "colorscale": {
           "diverging": [
            [
             0,
             "#8e0152"
            ],
            [
             0.1,
             "#c51b7d"
            ],
            [
             0.2,
             "#de77ae"
            ],
            [
             0.3,
             "#f1b6da"
            ],
            [
             0.4,
             "#fde0ef"
            ],
            [
             0.5,
             "#f7f7f7"
            ],
            [
             0.6,
             "#e6f5d0"
            ],
            [
             0.7,
             "#b8e186"
            ],
            [
             0.8,
             "#7fbc41"
            ],
            [
             0.9,
             "#4d9221"
            ],
            [
             1,
             "#276419"
            ]
           ],
           "sequential": [
            [
             0,
             "#0d0887"
            ],
            [
             0.1111111111111111,
             "#46039f"
            ],
            [
             0.2222222222222222,
             "#7201a8"
            ],
            [
             0.3333333333333333,
             "#9c179e"
            ],
            [
             0.4444444444444444,
             "#bd3786"
            ],
            [
             0.5555555555555556,
             "#d8576b"
            ],
            [
             0.6666666666666666,
             "#ed7953"
            ],
            [
             0.7777777777777778,
             "#fb9f3a"
            ],
            [
             0.8888888888888888,
             "#fdca26"
            ],
            [
             1,
             "#f0f921"
            ]
           ],
           "sequentialminus": [
            [
             0,
             "#0d0887"
            ],
            [
             0.1111111111111111,
             "#46039f"
            ],
            [
             0.2222222222222222,
             "#7201a8"
            ],
            [
             0.3333333333333333,
             "#9c179e"
            ],
            [
             0.4444444444444444,
             "#bd3786"
            ],
            [
             0.5555555555555556,
             "#d8576b"
            ],
            [
             0.6666666666666666,
             "#ed7953"
            ],
            [
             0.7777777777777778,
             "#fb9f3a"
            ],
            [
             0.8888888888888888,
             "#fdca26"
            ],
            [
             1,
             "#f0f921"
            ]
           ]
          },
          "colorway": [
           "#636efa",
           "#EF553B",
           "#00cc96",
           "#ab63fa",
           "#FFA15A",
           "#19d3f3",
           "#FF6692",
           "#B6E880",
           "#FF97FF",
           "#FECB52"
          ],
          "font": {
           "color": "#2a3f5f"
          },
          "geo": {
           "bgcolor": "white",
           "lakecolor": "white",
           "landcolor": "#E5ECF6",
           "showlakes": true,
           "showland": true,
           "subunitcolor": "white"
          },
          "hoverlabel": {
           "align": "left"
          },
          "hovermode": "closest",
          "mapbox": {
           "style": "light"
          },
          "paper_bgcolor": "white",
          "plot_bgcolor": "#E5ECF6",
          "polar": {
           "angularaxis": {
            "gridcolor": "white",
            "linecolor": "white",
            "ticks": ""
           },
           "bgcolor": "#E5ECF6",
           "radialaxis": {
            "gridcolor": "white",
            "linecolor": "white",
            "ticks": ""
           }
          },
          "scene": {
           "xaxis": {
            "backgroundcolor": "#E5ECF6",
            "gridcolor": "white",
            "gridwidth": 2,
            "linecolor": "white",
            "showbackground": true,
            "ticks": "",
            "zerolinecolor": "white"
           },
           "yaxis": {
            "backgroundcolor": "#E5ECF6",
            "gridcolor": "white",
            "gridwidth": 2,
            "linecolor": "white",
            "showbackground": true,
            "ticks": "",
            "zerolinecolor": "white"
           },
           "zaxis": {
            "backgroundcolor": "#E5ECF6",
            "gridcolor": "white",
            "gridwidth": 2,
            "linecolor": "white",
            "showbackground": true,
            "ticks": "",
            "zerolinecolor": "white"
           }
          },
          "shapedefaults": {
           "line": {
            "color": "#2a3f5f"
           }
          },
          "ternary": {
           "aaxis": {
            "gridcolor": "white",
            "linecolor": "white",
            "ticks": ""
           },
           "baxis": {
            "gridcolor": "white",
            "linecolor": "white",
            "ticks": ""
           },
           "bgcolor": "#E5ECF6",
           "caxis": {
            "gridcolor": "white",
            "linecolor": "white",
            "ticks": ""
           }
          },
          "title": {
           "x": 0.05
          },
          "xaxis": {
           "automargin": true,
           "gridcolor": "white",
           "linecolor": "white",
           "ticks": "",
           "title": {
            "standoff": 15
           },
           "zerolinecolor": "white",
           "zerolinewidth": 2
          },
          "yaxis": {
           "automargin": true,
           "gridcolor": "white",
           "linecolor": "white",
           "ticks": "",
           "title": {
            "standoff": 15
           },
           "zerolinecolor": "white",
           "zerolinewidth": 2
          }
         }
        },
        "title": {
         "text": "Global Distribution of Women in Parliament 2008"
        }
       }
      },
      "text/html": [
       "<div>                            <div id=\"f52bf85a-3f73-4935-bb52-82784b03cf95\" class=\"plotly-graph-div\" style=\"height:525px; width:100%;\"></div>            <script type=\"text/javascript\">                require([\"plotly\"], function(Plotly) {                    window.PLOTLYENV=window.PLOTLYENV || {};                                    if (document.getElementById(\"f52bf85a-3f73-4935-bb52-82784b03cf95\")) {                    Plotly.newPlot(                        \"f52bf85a-3f73-4935-bb52-82784b03cf95\",                        [{\"colorbar\":{\"title\":{\"text\":\"Women in Parliament\"}},\"locationmode\":\"country names\",\"locations\":[\"Afghanistan\",\"Angola\",\"Albania\",\"Andorra\",\"United Arab Emirates\",\"Argentina\",\"Armenia\",\"Antigua and Barbuda\",\"Australia\",\"Austria\",\"Azerbaijan\",\"Burundi\",\"Belgium\",\"Benin\",\"Burkina Faso\",\"Bangladesh\",\"Bulgaria\",\"Bahrain\",\"Bahamas\",\"Bosnia and Herzegovina\",\"Belarus\",\"Belize\",\"Bolivia\",\"Brazil\",\"Barbados\",\"Brunei\",\"Bhutan\",\"Botswana\",\"Central African Republic\",\"Canada\",\"Switzerland\",\"Chile\",\"China\",\"Cote d'Ivoire\",\"Cameroon\",\"Congo Dem Rep\",\"Congo, Rep.\",\"Colombia\",\"Comoros\",\"Cape Verde\",\"Costa Rica\",\"Cuba\",\"Cyprus\",\"Czech Republic\",\"Germany\",\"Djibouti\",\"Dominica\",\"Denmark\",\"Dominican Republic\",\"Algeria\",\"Ecuador\",\"Egypt\",\"Eritrea\",\"Spain\",\"Estonia\",\"Ethiopia\",\"Finland\",\"Fiji\",\"France\",\"Micronesia, Fed. Sts.\",\"Gabon\",\"United Kingdom\",\"Georgia\",\"Ghana\",\"Guinea\",\"Gambia\",\"Guinea-Bissau\",\"Equatorial Guinea\",\"Greece\",\"Grenada\",\"Guatemala\",\"Guyana\",\"Hong Kong, China\",\"Honduras\",\"Holy See\",\"Croatia\",\"Haiti\",\"Hungary\",\"Indonesia\",\"India\",\"Ireland\",\"Iran\",\"Iraq\",\"Iceland\",\"Israel\",\"Italy\",\"Jamaica\",\"Jordan\",\"Japan\",\"Kazakhstan\",\"Kenya\",\"Kyrgyz Republic\",\"Cambodia\",\"Kiribati\",\"St. Kitts and Nevis\",\"South Korea\",\"Kuwait\",\"Lao\",\"Lebanon\",\"Liberia\",\"Libya\",\"St. Lucia\",\"Liechtenstein\",\"Sri Lanka\",\"Lesotho\",\"Lithuania\",\"Luxembourg\",\"Latvia\",\"Morocco\",\"Monaco\",\"Moldova\",\"Madagascar\",\"Maldives\",\"Mexico\",\"Marshall Islands\",\"North Macedonia\",\"Mali\",\"Malta\",\"Myanmar\",\"Montenegro\",\"Mongolia\",\"Mozambique\",\"Mauritania\",\"Mauritius\",\"Malawi\",\"Malaysia\",\"Namibia\",\"Niger\",\"Nigeria\",\"Nicaragua\",\"Netherlands\",\"Norway\",\"Nepal\",\"Nauru\",\"New Zealand\",\"Oman\",\"Pakistan\",\"Panama\",\"Peru\",\"Philippines\",\"Palau\",\"Papua New Guinea\",\"Poland\",\"North Korea\",\"Portugal\",\"Paraguay\",\"Palestine\",\"Qatar\",\"Romania\",\"Russia\",\"Rwanda\",\"Saudi Arabia\",\"Sudan\",\"Senegal\",\"Singapore\",\"Solomon Islands\",\"Sierra Leone\",\"El Salvador\",\"San Marino\",\"Somalia\",\"Serbia\",\"South Sudan\",\"Sao Tome and Principe\",\"Suriname\",\"Slovak Republic\",\"Slovenia\",\"Sweden\",\"Eswatini\",\"Seychelles\",\"Syria\",\"Chad\",\"Togo\",\"Thailand\",\"Tajikistan\",\"Turkmenistan\",\"Timor-Leste\",\"Tonga\",\"Trinidad and Tobago\",\"Tunisia\",\"Turkey\",\"Tuvalu\",\"Taiwan\",\"Tanzania\",\"Uganda\",\"Ukraine\",\"Uruguay\",\"United States\",\"Uzbekistan\",\"St. Vincent and the Grenadines\",\"Venezuela\",\"Vietnam\",\"Vanuatu\",\"Samoa\",\"Yemen\",\"South Africa\",\"Zambia\",\"Zimbabwe\",\"Congo, Dem. Rep.\",\"Aruba\",\"Africa Eastern and Southern\",\"Africa Western and Central\",\"Arab World\",\"American Samoa\",\"Bahamas, The\",\"Bermuda\",\"Brunei Darussalam\",\"Central Europe and the Baltics\",\"Channel Islands\",\"Cabo Verde\",\"Caribbean small states\",\"Curacao\",\"Cayman Islands\",\"East Asia & Pacific (excluding high income)\",\"Early-demographic dividend\",\"East Asia & Pacific\",\"Europe & Central Asia (excluding high income)\",\"Europe & Central Asia\",\"Egypt, Arab Rep.\",\"Euro area\",\"European Union\",\"Fragile and conflict affected situations\",\"Faroe Islands\",\"Gibraltar\",\"Gambia, The\",\"Greenland\",\"Guam\",\"High income\",\"Hong Kong SAR, China\",\"Heavily indebted poor countries (HIPC)\",\"IBRD only\",\"IDA & IBRD total\",\"IDA total\",\"IDA blend\",\"IDA only\",\"Isle of Man\",\"Not classified\",\"Iran, Islamic Rep.\",\"Korea, Rep.\",\"Latin America & Caribbean (excluding high income)\",\"Lao PDR\",\"Latin America & Caribbean\",\"Least developed countries: UN classification\",\"Low income\",\"Lower middle income\",\"Low & middle income\",\"Late-demographic dividend\",\"Macao SAR, China\",\"St. Martin (French part)\",\"Middle East & North Africa\",\"Middle income\",\"Middle East & North Africa (excluding high income)\",\"Northern Mariana Islands\",\"North America\",\"New Caledonia\",\"OECD members\",\"Other small states\",\"Pre-demographic dividend\",\"Puerto Rico\",\"Korea, Dem. People's Rep.\",\"West Bank and Gaza\",\"Pacific island small states\",\"Post-demographic dividend\",\"French Polynesia\",\"Russian Federation\",\"South Asia\",\"Sub-Saharan Africa (excluding high income)\",\"Sub-Saharan Africa\",\"Small states\",\"Sint Maarten (Dutch part)\",\"Syrian Arab Republic\",\"Turks and Caicos Islands\",\"East Asia & Pacific (IDA & IBRD countries)\",\"Europe & Central Asia (IDA & IBRD countries)\",\"Latin America & the Caribbean (IDA & IBRD countries)\",\"Middle East & North Africa (IDA & IBRD countries)\",\"South Asia (IDA & IBRD)\",\"Sub-Saharan Africa (IDA & IBRD countries)\",\"Upper middle income\",\"Venezuela, RB\",\"British Virgin Islands\",\"Virgin Islands (U.S.)\",\"World\",\"Kosovo\",\"Yemen, Rep.\"],\"text\":[\"Afghanistan\",\"Angola\",\"Albania\",\"Andorra\",\"United Arab Emirates\",\"Argentina\",\"Armenia\",\"Antigua and Barbuda\",\"Australia\",\"Austria\",\"Azerbaijan\",\"Burundi\",\"Belgium\",\"Benin\",\"Burkina Faso\",\"Bangladesh\",\"Bulgaria\",\"Bahrain\",\"Bahamas\",\"Bosnia and Herzegovina\",\"Belarus\",\"Belize\",\"Bolivia\",\"Brazil\",\"Barbados\",\"Brunei\",\"Bhutan\",\"Botswana\",\"Central African Republic\",\"Canada\",\"Switzerland\",\"Chile\",\"China\",\"Cote d'Ivoire\",\"Cameroon\",\"Congo Dem Rep\",\"Congo, Rep.\",\"Colombia\",\"Comoros\",\"Cape Verde\",\"Costa Rica\",\"Cuba\",\"Cyprus\",\"Czech Republic\",\"Germany\",\"Djibouti\",\"Dominica\",\"Denmark\",\"Dominican Republic\",\"Algeria\",\"Ecuador\",\"Egypt\",\"Eritrea\",\"Spain\",\"Estonia\",\"Ethiopia\",\"Finland\",\"Fiji\",\"France\",\"Micronesia, Fed. Sts.\",\"Gabon\",\"United Kingdom\",\"Georgia\",\"Ghana\",\"Guinea\",\"Gambia\",\"Guinea-Bissau\",\"Equatorial Guinea\",\"Greece\",\"Grenada\",\"Guatemala\",\"Guyana\",\"Hong Kong, China\",\"Honduras\",\"Holy See\",\"Croatia\",\"Haiti\",\"Hungary\",\"Indonesia\",\"India\",\"Ireland\",\"Iran\",\"Iraq\",\"Iceland\",\"Israel\",\"Italy\",\"Jamaica\",\"Jordan\",\"Japan\",\"Kazakhstan\",\"Kenya\",\"Kyrgyz Republic\",\"Cambodia\",\"Kiribati\",\"St. Kitts and Nevis\",\"South Korea\",\"Kuwait\",\"Lao\",\"Lebanon\",\"Liberia\",\"Libya\",\"St. Lucia\",\"Liechtenstein\",\"Sri Lanka\",\"Lesotho\",\"Lithuania\",\"Luxembourg\",\"Latvia\",\"Morocco\",\"Monaco\",\"Moldova\",\"Madagascar\",\"Maldives\",\"Mexico\",\"Marshall Islands\",\"North Macedonia\",\"Mali\",\"Malta\",\"Myanmar\",\"Montenegro\",\"Mongolia\",\"Mozambique\",\"Mauritania\",\"Mauritius\",\"Malawi\",\"Malaysia\",\"Namibia\",\"Niger\",\"Nigeria\",\"Nicaragua\",\"Netherlands\",\"Norway\",\"Nepal\",\"Nauru\",\"New Zealand\",\"Oman\",\"Pakistan\",\"Panama\",\"Peru\",\"Philippines\",\"Palau\",\"Papua New Guinea\",\"Poland\",\"North Korea\",\"Portugal\",\"Paraguay\",\"Palestine\",\"Qatar\",\"Romania\",\"Russia\",\"Rwanda\",\"Saudi Arabia\",\"Sudan\",\"Senegal\",\"Singapore\",\"Solomon Islands\",\"Sierra Leone\",\"El Salvador\",\"San Marino\",\"Somalia\",\"Serbia\",\"South Sudan\",\"Sao Tome and Principe\",\"Suriname\",\"Slovak Republic\",\"Slovenia\",\"Sweden\",\"Eswatini\",\"Seychelles\",\"Syria\",\"Chad\",\"Togo\",\"Thailand\",\"Tajikistan\",\"Turkmenistan\",\"Timor-Leste\",\"Tonga\",\"Trinidad and Tobago\",\"Tunisia\",\"Turkey\",\"Tuvalu\",\"Taiwan\",\"Tanzania\",\"Uganda\",\"Ukraine\",\"Uruguay\",\"United States\",\"Uzbekistan\",\"St. Vincent and the Grenadines\",\"Venezuela\",\"Vietnam\",\"Vanuatu\",\"Samoa\",\"Yemen\",\"South Africa\",\"Zambia\",\"Zimbabwe\",\"Congo, Dem. Rep.\",\"Aruba\",\"Africa Eastern and Southern\",\"Africa Western and Central\",\"Arab World\",\"American Samoa\",\"Bahamas, The\",\"Bermuda\",\"Brunei Darussalam\",\"Central Europe and the Baltics\",\"Channel Islands\",\"Cabo Verde\",\"Caribbean small states\",\"Curacao\",\"Cayman Islands\",\"East Asia & Pacific (excluding high income)\",\"Early-demographic dividend\",\"East Asia & Pacific\",\"Europe & Central Asia (excluding high income)\",\"Europe & Central Asia\",\"Egypt, Arab Rep.\",\"Euro area\",\"European Union\",\"Fragile and conflict affected situations\",\"Faroe Islands\",\"Gibraltar\",\"Gambia, The\",\"Greenland\",\"Guam\",\"High income\",\"Hong Kong SAR, China\",\"Heavily indebted poor countries (HIPC)\",\"IBRD only\",\"IDA & IBRD total\",\"IDA total\",\"IDA blend\",\"IDA only\",\"Isle of Man\",\"Not classified\",\"Iran, Islamic Rep.\",\"Korea, Rep.\",\"Latin America & Caribbean (excluding high income)\",\"Lao PDR\",\"Latin America & Caribbean\",\"Least developed countries: UN classification\",\"Low income\",\"Lower middle income\",\"Low & middle income\",\"Late-demographic dividend\",\"Macao SAR, China\",\"St. Martin (French part)\",\"Middle East & North Africa\",\"Middle income\",\"Middle East & North Africa (excluding high income)\",\"Northern Mariana Islands\",\"North America\",\"New Caledonia\",\"OECD members\",\"Other small states\",\"Pre-demographic dividend\",\"Puerto Rico\",\"Korea, Dem. People's Rep.\",\"West Bank and Gaza\",\"Pacific island small states\",\"Post-demographic dividend\",\"French Polynesia\",\"Russian Federation\",\"South Asia\",\"Sub-Saharan Africa (excluding high income)\",\"Sub-Saharan Africa\",\"Small states\",\"Sint Maarten (Dutch part)\",\"Syrian Arab Republic\",\"Turks and Caicos Islands\",\"East Asia & Pacific (IDA & IBRD countries)\",\"Europe & Central Asia (IDA & IBRD countries)\",\"Latin America & the Caribbean (IDA & IBRD countries)\",\"Middle East & North Africa (IDA & IBRD countries)\",\"South Asia (IDA & IBRD)\",\"Sub-Saharan Africa (IDA & IBRD countries)\",\"Upper middle income\",\"Venezuela, RB\",\"British Virgin Islands\",\"Virgin Islands (U.S.)\",\"World\",\"Kosovo\",\"Yemen, Rep.\"],\"z\":[26.9,37.3,14.1,33.7,5.0,39.4,9.36,18.3,29.5,27.8,null,33.4,36.3,10.2,15.4,null,20.8,null,null,15.3,32.5,17.4,23.7,9.77,null,null,13.9,8.57,null,25.3,27.1,null,null,10.4,14.6,null,7.3,11.8,0.61,17.5,38.6,43.2,12.9,18.1,32.5,13.8,12.6,37.9,18.1,7.11,30.2,9.12,21.6,32.1,21.9,23.1,41.9,13.0,21.9,0.0,13.9,19.7,6.0,7.89,20.7,9.06,10.0,6.0,16.0,21.4,12.3,29.9,null,19.3,null,21.6,4.72,9.72,16.6,10.8,16.1,2.76,27.5,36.0,16.4,20.1,13.4,9.8,14.5,3.8,10.3,24.7,16.3,5.43,4.44,13.7,3.08,25.1,3.52,12.2,9.24,23.5,24.0,5.19,24.8,17.7,24.0,19.0,6.72,25.0,24.2,13.6,7.47,25.7,3.03,30.0,10.1,8.7,3.96,8.64,5.13,38.3,16.3,18.2,19.6,14.6,25.0,10.3,6.23,25.2,37.7,39.2,33.2,0.0,33.6,9.22,22.5,10.2,26.0,21.0,15.4,1.28,19.2,13.7,26.2,13.6,null,0.0,9.77,5.2,56.3,17.0,19.9,31.0,21.6,0.0,13.4,18.3,15.0,9.14,21.6,null,12.7,16.1,15.7,13.3,46.1,18.1,31.5,12.3,null,9.49,16.0,18.4,16.8,29.6,3.13,31.5,15.2,10.4,0.0,null,33.9,21.5,8.45,13.5,17.3,20.7,15.9,17.1,25.4,3.85,6.53,0.58,40.2,13.2,18.3,7.23,null,null,null,null,null,null,null,null,null,null,null,null,null,null,null,null,null,null,null,null,null,null,null,null,null,null,null,null,null,null,null,null,null,null,null,null,null,null,null,null,null,null,null,null,null,null,null,null,null,null,null,null,null,null,null,null,null,null,null,null,null,null,null,null,null,null,null,null,null,null,null,null,null,null,null,null,null,null,null,null,null,null,null,null,null,null],\"type\":\"choropleth\"}],                        {\"geo\":{\"showframe\":false},\"template\":{\"data\":{\"barpolar\":[{\"marker\":{\"line\":{\"color\":\"#E5ECF6\",\"width\":0.5},\"pattern\":{\"fillmode\":\"overlay\",\"size\":10,\"solidity\":0.2}},\"type\":\"barpolar\"}],\"bar\":[{\"error_x\":{\"color\":\"#2a3f5f\"},\"error_y\":{\"color\":\"#2a3f5f\"},\"marker\":{\"line\":{\"color\":\"#E5ECF6\",\"width\":0.5},\"pattern\":{\"fillmode\":\"overlay\",\"size\":10,\"solidity\":0.2}},\"type\":\"bar\"}],\"carpet\":[{\"aaxis\":{\"endlinecolor\":\"#2a3f5f\",\"gridcolor\":\"white\",\"linecolor\":\"white\",\"minorgridcolor\":\"white\",\"startlinecolor\":\"#2a3f5f\"},\"baxis\":{\"endlinecolor\":\"#2a3f5f\",\"gridcolor\":\"white\",\"linecolor\":\"white\",\"minorgridcolor\":\"white\",\"startlinecolor\":\"#2a3f5f\"},\"type\":\"carpet\"}],\"choropleth\":[{\"colorbar\":{\"outlinewidth\":0,\"ticks\":\"\"},\"type\":\"choropleth\"}],\"contourcarpet\":[{\"colorbar\":{\"outlinewidth\":0,\"ticks\":\"\"},\"type\":\"contourcarpet\"}],\"contour\":[{\"colorbar\":{\"outlinewidth\":0,\"ticks\":\"\"},\"colorscale\":[[0.0,\"#0d0887\"],[0.1111111111111111,\"#46039f\"],[0.2222222222222222,\"#7201a8\"],[0.3333333333333333,\"#9c179e\"],[0.4444444444444444,\"#bd3786\"],[0.5555555555555556,\"#d8576b\"],[0.6666666666666666,\"#ed7953\"],[0.7777777777777778,\"#fb9f3a\"],[0.8888888888888888,\"#fdca26\"],[1.0,\"#f0f921\"]],\"type\":\"contour\"}],\"heatmapgl\":[{\"colorbar\":{\"outlinewidth\":0,\"ticks\":\"\"},\"colorscale\":[[0.0,\"#0d0887\"],[0.1111111111111111,\"#46039f\"],[0.2222222222222222,\"#7201a8\"],[0.3333333333333333,\"#9c179e\"],[0.4444444444444444,\"#bd3786\"],[0.5555555555555556,\"#d8576b\"],[0.6666666666666666,\"#ed7953\"],[0.7777777777777778,\"#fb9f3a\"],[0.8888888888888888,\"#fdca26\"],[1.0,\"#f0f921\"]],\"type\":\"heatmapgl\"}],\"heatmap\":[{\"colorbar\":{\"outlinewidth\":0,\"ticks\":\"\"},\"colorscale\":[[0.0,\"#0d0887\"],[0.1111111111111111,\"#46039f\"],[0.2222222222222222,\"#7201a8\"],[0.3333333333333333,\"#9c179e\"],[0.4444444444444444,\"#bd3786\"],[0.5555555555555556,\"#d8576b\"],[0.6666666666666666,\"#ed7953\"],[0.7777777777777778,\"#fb9f3a\"],[0.8888888888888888,\"#fdca26\"],[1.0,\"#f0f921\"]],\"type\":\"heatmap\"}],\"histogram2dcontour\":[{\"colorbar\":{\"outlinewidth\":0,\"ticks\":\"\"},\"colorscale\":[[0.0,\"#0d0887\"],[0.1111111111111111,\"#46039f\"],[0.2222222222222222,\"#7201a8\"],[0.3333333333333333,\"#9c179e\"],[0.4444444444444444,\"#bd3786\"],[0.5555555555555556,\"#d8576b\"],[0.6666666666666666,\"#ed7953\"],[0.7777777777777778,\"#fb9f3a\"],[0.8888888888888888,\"#fdca26\"],[1.0,\"#f0f921\"]],\"type\":\"histogram2dcontour\"}],\"histogram2d\":[{\"colorbar\":{\"outlinewidth\":0,\"ticks\":\"\"},\"colorscale\":[[0.0,\"#0d0887\"],[0.1111111111111111,\"#46039f\"],[0.2222222222222222,\"#7201a8\"],[0.3333333333333333,\"#9c179e\"],[0.4444444444444444,\"#bd3786\"],[0.5555555555555556,\"#d8576b\"],[0.6666666666666666,\"#ed7953\"],[0.7777777777777778,\"#fb9f3a\"],[0.8888888888888888,\"#fdca26\"],[1.0,\"#f0f921\"]],\"type\":\"histogram2d\"}],\"histogram\":[{\"marker\":{\"pattern\":{\"fillmode\":\"overlay\",\"size\":10,\"solidity\":0.2}},\"type\":\"histogram\"}],\"mesh3d\":[{\"colorbar\":{\"outlinewidth\":0,\"ticks\":\"\"},\"type\":\"mesh3d\"}],\"parcoords\":[{\"line\":{\"colorbar\":{\"outlinewidth\":0,\"ticks\":\"\"}},\"type\":\"parcoords\"}],\"pie\":[{\"automargin\":true,\"type\":\"pie\"}],\"scatter3d\":[{\"line\":{\"colorbar\":{\"outlinewidth\":0,\"ticks\":\"\"}},\"marker\":{\"colorbar\":{\"outlinewidth\":0,\"ticks\":\"\"}},\"type\":\"scatter3d\"}],\"scattercarpet\":[{\"marker\":{\"colorbar\":{\"outlinewidth\":0,\"ticks\":\"\"}},\"type\":\"scattercarpet\"}],\"scattergeo\":[{\"marker\":{\"colorbar\":{\"outlinewidth\":0,\"ticks\":\"\"}},\"type\":\"scattergeo\"}],\"scattergl\":[{\"marker\":{\"colorbar\":{\"outlinewidth\":0,\"ticks\":\"\"}},\"type\":\"scattergl\"}],\"scattermapbox\":[{\"marker\":{\"colorbar\":{\"outlinewidth\":0,\"ticks\":\"\"}},\"type\":\"scattermapbox\"}],\"scatterpolargl\":[{\"marker\":{\"colorbar\":{\"outlinewidth\":0,\"ticks\":\"\"}},\"type\":\"scatterpolargl\"}],\"scatterpolar\":[{\"marker\":{\"colorbar\":{\"outlinewidth\":0,\"ticks\":\"\"}},\"type\":\"scatterpolar\"}],\"scatter\":[{\"fillpattern\":{\"fillmode\":\"overlay\",\"size\":10,\"solidity\":0.2},\"type\":\"scatter\"}],\"scatterternary\":[{\"marker\":{\"colorbar\":{\"outlinewidth\":0,\"ticks\":\"\"}},\"type\":\"scatterternary\"}],\"surface\":[{\"colorbar\":{\"outlinewidth\":0,\"ticks\":\"\"},\"colorscale\":[[0.0,\"#0d0887\"],[0.1111111111111111,\"#46039f\"],[0.2222222222222222,\"#7201a8\"],[0.3333333333333333,\"#9c179e\"],[0.4444444444444444,\"#bd3786\"],[0.5555555555555556,\"#d8576b\"],[0.6666666666666666,\"#ed7953\"],[0.7777777777777778,\"#fb9f3a\"],[0.8888888888888888,\"#fdca26\"],[1.0,\"#f0f921\"]],\"type\":\"surface\"}],\"table\":[{\"cells\":{\"fill\":{\"color\":\"#EBF0F8\"},\"line\":{\"color\":\"white\"}},\"header\":{\"fill\":{\"color\":\"#C8D4E3\"},\"line\":{\"color\":\"white\"}},\"type\":\"table\"}]},\"layout\":{\"annotationdefaults\":{\"arrowcolor\":\"#2a3f5f\",\"arrowhead\":0,\"arrowwidth\":1},\"autotypenumbers\":\"strict\",\"coloraxis\":{\"colorbar\":{\"outlinewidth\":0,\"ticks\":\"\"}},\"colorscale\":{\"diverging\":[[0,\"#8e0152\"],[0.1,\"#c51b7d\"],[0.2,\"#de77ae\"],[0.3,\"#f1b6da\"],[0.4,\"#fde0ef\"],[0.5,\"#f7f7f7\"],[0.6,\"#e6f5d0\"],[0.7,\"#b8e186\"],[0.8,\"#7fbc41\"],[0.9,\"#4d9221\"],[1,\"#276419\"]],\"sequential\":[[0.0,\"#0d0887\"],[0.1111111111111111,\"#46039f\"],[0.2222222222222222,\"#7201a8\"],[0.3333333333333333,\"#9c179e\"],[0.4444444444444444,\"#bd3786\"],[0.5555555555555556,\"#d8576b\"],[0.6666666666666666,\"#ed7953\"],[0.7777777777777778,\"#fb9f3a\"],[0.8888888888888888,\"#fdca26\"],[1.0,\"#f0f921\"]],\"sequentialminus\":[[0.0,\"#0d0887\"],[0.1111111111111111,\"#46039f\"],[0.2222222222222222,\"#7201a8\"],[0.3333333333333333,\"#9c179e\"],[0.4444444444444444,\"#bd3786\"],[0.5555555555555556,\"#d8576b\"],[0.6666666666666666,\"#ed7953\"],[0.7777777777777778,\"#fb9f3a\"],[0.8888888888888888,\"#fdca26\"],[1.0,\"#f0f921\"]]},\"colorway\":[\"#636efa\",\"#EF553B\",\"#00cc96\",\"#ab63fa\",\"#FFA15A\",\"#19d3f3\",\"#FF6692\",\"#B6E880\",\"#FF97FF\",\"#FECB52\"],\"font\":{\"color\":\"#2a3f5f\"},\"geo\":{\"bgcolor\":\"white\",\"lakecolor\":\"white\",\"landcolor\":\"#E5ECF6\",\"showlakes\":true,\"showland\":true,\"subunitcolor\":\"white\"},\"hoverlabel\":{\"align\":\"left\"},\"hovermode\":\"closest\",\"mapbox\":{\"style\":\"light\"},\"paper_bgcolor\":\"white\",\"plot_bgcolor\":\"#E5ECF6\",\"polar\":{\"angularaxis\":{\"gridcolor\":\"white\",\"linecolor\":\"white\",\"ticks\":\"\"},\"bgcolor\":\"#E5ECF6\",\"radialaxis\":{\"gridcolor\":\"white\",\"linecolor\":\"white\",\"ticks\":\"\"}},\"scene\":{\"xaxis\":{\"backgroundcolor\":\"#E5ECF6\",\"gridcolor\":\"white\",\"gridwidth\":2,\"linecolor\":\"white\",\"showbackground\":true,\"ticks\":\"\",\"zerolinecolor\":\"white\"},\"yaxis\":{\"backgroundcolor\":\"#E5ECF6\",\"gridcolor\":\"white\",\"gridwidth\":2,\"linecolor\":\"white\",\"showbackground\":true,\"ticks\":\"\",\"zerolinecolor\":\"white\"},\"zaxis\":{\"backgroundcolor\":\"#E5ECF6\",\"gridcolor\":\"white\",\"gridwidth\":2,\"linecolor\":\"white\",\"showbackground\":true,\"ticks\":\"\",\"zerolinecolor\":\"white\"}},\"shapedefaults\":{\"line\":{\"color\":\"#2a3f5f\"}},\"ternary\":{\"aaxis\":{\"gridcolor\":\"white\",\"linecolor\":\"white\",\"ticks\":\"\"},\"baxis\":{\"gridcolor\":\"white\",\"linecolor\":\"white\",\"ticks\":\"\"},\"bgcolor\":\"#E5ECF6\",\"caxis\":{\"gridcolor\":\"white\",\"linecolor\":\"white\",\"ticks\":\"\"}},\"title\":{\"x\":0.05},\"xaxis\":{\"automargin\":true,\"gridcolor\":\"white\",\"linecolor\":\"white\",\"ticks\":\"\",\"title\":{\"standoff\":15},\"zerolinecolor\":\"white\",\"zerolinewidth\":2},\"yaxis\":{\"automargin\":true,\"gridcolor\":\"white\",\"linecolor\":\"white\",\"ticks\":\"\",\"title\":{\"standoff\":15},\"zerolinecolor\":\"white\",\"zerolinewidth\":2}}},\"title\":{\"text\":\"Global Distribution of Women in Parliament 2008\"}},                        {\"responsive\": true}                    ).then(function(){\n",
       "                            \n",
       "var gd = document.getElementById('f52bf85a-3f73-4935-bb52-82784b03cf95');\n",
       "var x = new MutationObserver(function (mutations, observer) {{\n",
       "        var display = window.getComputedStyle(gd).display;\n",
       "        if (!display || display === 'none') {{\n",
       "            console.log([gd, 'removed!']);\n",
       "            Plotly.purge(gd);\n",
       "            observer.disconnect();\n",
       "        }}\n",
       "}});\n",
       "\n",
       "// Listen for the removal of the full notebook cells\n",
       "var notebookContainer = gd.closest('#notebook-container');\n",
       "if (notebookContainer) {{\n",
       "    x.observe(notebookContainer, {childList: true});\n",
       "}}\n",
       "\n",
       "// Listen for the clearing of the current output cell\n",
       "var outputEl = gd.closest('.output');\n",
       "if (outputEl) {{\n",
       "    x.observe(outputEl, {childList: true});\n",
       "}}\n",
       "\n",
       "                        })                };                });            </script>        </div>"
      ]
     },
     "metadata": {},
     "output_type": "display_data"
    }
   ],
   "source": [
    "import plotly.graph_objs as go\n",
    "from plotly.offline import download_plotlyjs, init_notebook_mode, plot, iplot \n",
    "init_notebook_mode(connected=True)\n",
    "\n",
    "data = dict(type = 'choropleth', \n",
    "           locations = yearof2008['country'],\n",
    "           locationmode = 'country names',\n",
    "           z = yearof2008['women_participation'], \n",
    "           text = yearof2008['country'],\n",
    "           colorbar = {'title':'Women in Parliament'})\n",
    "layout = dict(title = 'Global Distribution of Women in Parliament 2008', \n",
    "             geo = dict(showframe = False))\n",
    "choromap3 = go.Figure(data = [data], layout=layout)\n",
    "iplot(choromap3)"
   ]
  },
  {
   "cell_type": "code",
   "execution_count": 217,
   "id": "03493bc9",
   "metadata": {},
   "outputs": [
    {
     "data": {
      "text/html": [
       "        <script type=\"text/javascript\">\n",
       "        window.PlotlyConfig = {MathJaxConfig: 'local'};\n",
       "        if (window.MathJax && window.MathJax.Hub && window.MathJax.Hub.Config) {window.MathJax.Hub.Config({SVG: {font: \"STIX-Web\"}});}\n",
       "        if (typeof require !== 'undefined') {\n",
       "        require.undef(\"plotly\");\n",
       "        requirejs.config({\n",
       "            paths: {\n",
       "                'plotly': ['https://cdn.plot.ly/plotly-2.12.1.min']\n",
       "            }\n",
       "        });\n",
       "        require(['plotly'], function(Plotly) {\n",
       "            window._Plotly = Plotly;\n",
       "        });\n",
       "        }\n",
       "        </script>\n",
       "        "
      ]
     },
     "metadata": {},
     "output_type": "display_data"
    },
    {
     "data": {
      "application/vnd.plotly.v1+json": {
       "config": {
        "linkText": "Export to plot.ly",
        "plotlyServerURL": "https://plot.ly",
        "showLink": false
       },
       "data": [
        {
         "colorbar": {
          "title": {
           "text": "Functioning Governments"
          }
         },
         "locationmode": "country names",
         "locations": [
          "Afghanistan",
          "Angola",
          "Albania",
          "Andorra",
          "United Arab Emirates",
          "Argentina",
          "Armenia",
          "Antigua and Barbuda",
          "Australia",
          "Austria",
          "Azerbaijan",
          "Burundi",
          "Belgium",
          "Benin",
          "Burkina Faso",
          "Bangladesh",
          "Bulgaria",
          "Bahrain",
          "Bahamas",
          "Bosnia and Herzegovina",
          "Belarus",
          "Belize",
          "Bolivia",
          "Brazil",
          "Barbados",
          "Brunei",
          "Bhutan",
          "Botswana",
          "Central African Republic",
          "Canada",
          "Switzerland",
          "Chile",
          "China",
          "Cote d'Ivoire",
          "Cameroon",
          "Congo Dem Rep",
          "Congo, Rep.",
          "Colombia",
          "Comoros",
          "Cape Verde",
          "Costa Rica",
          "Cuba",
          "Cyprus",
          "Czech Republic",
          "Germany",
          "Djibouti",
          "Dominica",
          "Denmark",
          "Dominican Republic",
          "Algeria",
          "Ecuador",
          "Egypt",
          "Eritrea",
          "Spain",
          "Estonia",
          "Ethiopia",
          "Finland",
          "Fiji",
          "France",
          "Micronesia, Fed. Sts.",
          "Gabon",
          "United Kingdom",
          "Georgia",
          "Ghana",
          "Guinea",
          "Gambia",
          "Guinea-Bissau",
          "Equatorial Guinea",
          "Greece",
          "Grenada",
          "Guatemala",
          "Guyana",
          "Hong Kong, China",
          "Honduras",
          "Holy See",
          "Croatia",
          "Haiti",
          "Hungary",
          "Indonesia",
          "India",
          "Ireland",
          "Iran",
          "Iraq",
          "Iceland",
          "Israel",
          "Italy",
          "Jamaica",
          "Jordan",
          "Japan",
          "Kazakhstan",
          "Kenya",
          "Kyrgyz Republic",
          "Cambodia",
          "Kiribati",
          "St. Kitts and Nevis",
          "South Korea",
          "Kuwait",
          "Lao",
          "Lebanon",
          "Liberia",
          "Libya",
          "St. Lucia",
          "Liechtenstein",
          "Sri Lanka",
          "Lesotho",
          "Lithuania",
          "Luxembourg",
          "Latvia",
          "Morocco",
          "Monaco",
          "Moldova",
          "Madagascar",
          "Maldives",
          "Mexico",
          "Marshall Islands",
          "North Macedonia",
          "Mali",
          "Malta",
          "Myanmar",
          "Montenegro",
          "Mongolia",
          "Mozambique",
          "Mauritania",
          "Mauritius",
          "Malawi",
          "Malaysia",
          "Namibia",
          "Niger",
          "Nigeria",
          "Nicaragua",
          "Netherlands",
          "Norway",
          "Nepal",
          "Nauru",
          "New Zealand",
          "Oman",
          "Pakistan",
          "Panama",
          "Peru",
          "Philippines",
          "Palau",
          "Papua New Guinea",
          "Poland",
          "North Korea",
          "Portugal",
          "Paraguay",
          "Palestine",
          "Qatar",
          "Romania",
          "Russia",
          "Rwanda",
          "Saudi Arabia",
          "Sudan",
          "Senegal",
          "Singapore",
          "Solomon Islands",
          "Sierra Leone",
          "El Salvador",
          "San Marino",
          "Somalia",
          "Serbia",
          "South Sudan",
          "Sao Tome and Principe",
          "Suriname",
          "Slovak Republic",
          "Slovenia",
          "Sweden",
          "Eswatini",
          "Seychelles",
          "Syria",
          "Chad",
          "Togo",
          "Thailand",
          "Tajikistan",
          "Turkmenistan",
          "Timor-Leste",
          "Tonga",
          "Trinidad and Tobago",
          "Tunisia",
          "Turkey",
          "Tuvalu",
          "Taiwan",
          "Tanzania",
          "Uganda",
          "Ukraine",
          "Uruguay",
          "United States",
          "Uzbekistan",
          "St. Vincent and the Grenadines",
          "Venezuela",
          "Vietnam",
          "Vanuatu",
          "Samoa",
          "Yemen",
          "South Africa",
          "Zambia",
          "Zimbabwe",
          "Congo, Dem. Rep.",
          "Aruba",
          "Africa Eastern and Southern",
          "Africa Western and Central",
          "Arab World",
          "American Samoa",
          "Bahamas, The",
          "Bermuda",
          "Brunei Darussalam",
          "Central Europe and the Baltics",
          "Channel Islands",
          "Cabo Verde",
          "Caribbean small states",
          "Curacao",
          "Cayman Islands",
          "East Asia & Pacific (excluding high income)",
          "Early-demographic dividend",
          "East Asia & Pacific",
          "Europe & Central Asia (excluding high income)",
          "Europe & Central Asia",
          "Egypt, Arab Rep.",
          "Euro area",
          "European Union",
          "Fragile and conflict affected situations",
          "Faroe Islands",
          "Gibraltar",
          "Gambia, The",
          "Greenland",
          "Guam",
          "High income",
          "Hong Kong SAR, China",
          "Heavily indebted poor countries (HIPC)",
          "IBRD only",
          "IDA & IBRD total",
          "IDA total",
          "IDA blend",
          "IDA only",
          "Isle of Man",
          "Not classified",
          "Iran, Islamic Rep.",
          "Korea, Rep.",
          "Latin America & Caribbean (excluding high income)",
          "Lao PDR",
          "Latin America & Caribbean",
          "Least developed countries: UN classification",
          "Low income",
          "Lower middle income",
          "Low & middle income",
          "Late-demographic dividend",
          "Macao SAR, China",
          "St. Martin (French part)",
          "Middle East & North Africa",
          "Middle income",
          "Middle East & North Africa (excluding high income)",
          "Northern Mariana Islands",
          "North America",
          "New Caledonia",
          "OECD members",
          "Other small states",
          "Pre-demographic dividend",
          "Puerto Rico",
          "Korea, Dem. People's Rep.",
          "West Bank and Gaza",
          "Pacific island small states",
          "Post-demographic dividend",
          "French Polynesia",
          "Russian Federation",
          "South Asia",
          "Sub-Saharan Africa (excluding high income)",
          "Sub-Saharan Africa",
          "Small states",
          "Sint Maarten (Dutch part)",
          "Syrian Arab Republic",
          "Turks and Caicos Islands",
          "East Asia & Pacific (IDA & IBRD countries)",
          "Europe & Central Asia (IDA & IBRD countries)",
          "Latin America & the Caribbean (IDA & IBRD countries)",
          "Middle East & North Africa (IDA & IBRD countries)",
          "South Asia (IDA & IBRD)",
          "Sub-Saharan Africa (IDA & IBRD countries)",
          "Upper middle income",
          "Venezuela, RB",
          "British Virgin Islands",
          "Virgin Islands (U.S.)",
          "World",
          "Kosovo",
          "Yemen, Rep."
         ],
         "text": [
          "Afghanistan",
          "Angola",
          "Albania",
          "Andorra",
          "United Arab Emirates",
          "Argentina",
          "Armenia",
          "Antigua and Barbuda",
          "Australia",
          "Austria",
          "Azerbaijan",
          "Burundi",
          "Belgium",
          "Benin",
          "Burkina Faso",
          "Bangladesh",
          "Bulgaria",
          "Bahrain",
          "Bahamas",
          "Bosnia and Herzegovina",
          "Belarus",
          "Belize",
          "Bolivia",
          "Brazil",
          "Barbados",
          "Brunei",
          "Bhutan",
          "Botswana",
          "Central African Republic",
          "Canada",
          "Switzerland",
          "Chile",
          "China",
          "Cote d'Ivoire",
          "Cameroon",
          "Congo Dem Rep",
          "Congo, Rep.",
          "Colombia",
          "Comoros",
          "Cape Verde",
          "Costa Rica",
          "Cuba",
          "Cyprus",
          "Czech Republic",
          "Germany",
          "Djibouti",
          "Dominica",
          "Denmark",
          "Dominican Republic",
          "Algeria",
          "Ecuador",
          "Egypt",
          "Eritrea",
          "Spain",
          "Estonia",
          "Ethiopia",
          "Finland",
          "Fiji",
          "France",
          "Micronesia, Fed. Sts.",
          "Gabon",
          "United Kingdom",
          "Georgia",
          "Ghana",
          "Guinea",
          "Gambia",
          "Guinea-Bissau",
          "Equatorial Guinea",
          "Greece",
          "Grenada",
          "Guatemala",
          "Guyana",
          "Hong Kong, China",
          "Honduras",
          "Holy See",
          "Croatia",
          "Haiti",
          "Hungary",
          "Indonesia",
          "India",
          "Ireland",
          "Iran",
          "Iraq",
          "Iceland",
          "Israel",
          "Italy",
          "Jamaica",
          "Jordan",
          "Japan",
          "Kazakhstan",
          "Kenya",
          "Kyrgyz Republic",
          "Cambodia",
          "Kiribati",
          "St. Kitts and Nevis",
          "South Korea",
          "Kuwait",
          "Lao",
          "Lebanon",
          "Liberia",
          "Libya",
          "St. Lucia",
          "Liechtenstein",
          "Sri Lanka",
          "Lesotho",
          "Lithuania",
          "Luxembourg",
          "Latvia",
          "Morocco",
          "Monaco",
          "Moldova",
          "Madagascar",
          "Maldives",
          "Mexico",
          "Marshall Islands",
          "North Macedonia",
          "Mali",
          "Malta",
          "Myanmar",
          "Montenegro",
          "Mongolia",
          "Mozambique",
          "Mauritania",
          "Mauritius",
          "Malawi",
          "Malaysia",
          "Namibia",
          "Niger",
          "Nigeria",
          "Nicaragua",
          "Netherlands",
          "Norway",
          "Nepal",
          "Nauru",
          "New Zealand",
          "Oman",
          "Pakistan",
          "Panama",
          "Peru",
          "Philippines",
          "Palau",
          "Papua New Guinea",
          "Poland",
          "North Korea",
          "Portugal",
          "Paraguay",
          "Palestine",
          "Qatar",
          "Romania",
          "Russia",
          "Rwanda",
          "Saudi Arabia",
          "Sudan",
          "Senegal",
          "Singapore",
          "Solomon Islands",
          "Sierra Leone",
          "El Salvador",
          "San Marino",
          "Somalia",
          "Serbia",
          "South Sudan",
          "Sao Tome and Principe",
          "Suriname",
          "Slovak Republic",
          "Slovenia",
          "Sweden",
          "Eswatini",
          "Seychelles",
          "Syria",
          "Chad",
          "Togo",
          "Thailand",
          "Tajikistan",
          "Turkmenistan",
          "Timor-Leste",
          "Tonga",
          "Trinidad and Tobago",
          "Tunisia",
          "Turkey",
          "Tuvalu",
          "Taiwan",
          "Tanzania",
          "Uganda",
          "Ukraine",
          "Uruguay",
          "United States",
          "Uzbekistan",
          "St. Vincent and the Grenadines",
          "Venezuela",
          "Vietnam",
          "Vanuatu",
          "Samoa",
          "Yemen",
          "South Africa",
          "Zambia",
          "Zimbabwe",
          "Congo, Dem. Rep.",
          "Aruba",
          "Africa Eastern and Southern",
          "Africa Western and Central",
          "Arab World",
          "American Samoa",
          "Bahamas, The",
          "Bermuda",
          "Brunei Darussalam",
          "Central Europe and the Baltics",
          "Channel Islands",
          "Cabo Verde",
          "Caribbean small states",
          "Curacao",
          "Cayman Islands",
          "East Asia & Pacific (excluding high income)",
          "Early-demographic dividend",
          "East Asia & Pacific",
          "Europe & Central Asia (excluding high income)",
          "Europe & Central Asia",
          "Egypt, Arab Rep.",
          "Euro area",
          "European Union",
          "Fragile and conflict affected situations",
          "Faroe Islands",
          "Gibraltar",
          "Gambia, The",
          "Greenland",
          "Guam",
          "High income",
          "Hong Kong SAR, China",
          "Heavily indebted poor countries (HIPC)",
          "IBRD only",
          "IDA & IBRD total",
          "IDA total",
          "IDA blend",
          "IDA only",
          "Isle of Man",
          "Not classified",
          "Iran, Islamic Rep.",
          "Korea, Rep.",
          "Latin America & Caribbean (excluding high income)",
          "Lao PDR",
          "Latin America & Caribbean",
          "Least developed countries: UN classification",
          "Low income",
          "Lower middle income",
          "Low & middle income",
          "Late-demographic dividend",
          "Macao SAR, China",
          "St. Martin (French part)",
          "Middle East & North Africa",
          "Middle income",
          "Middle East & North Africa (excluding high income)",
          "Northern Mariana Islands",
          "North America",
          "New Caledonia",
          "OECD members",
          "Other small states",
          "Pre-demographic dividend",
          "Puerto Rico",
          "Korea, Dem. People's Rep.",
          "West Bank and Gaza",
          "Pacific island small states",
          "Post-demographic dividend",
          "French Polynesia",
          "Russian Federation",
          "South Asia",
          "Sub-Saharan Africa (excluding high income)",
          "Sub-Saharan Africa",
          "Small states",
          "Sint Maarten (Dutch part)",
          "Syrian Arab Republic",
          "Turks and Caicos Islands",
          "East Asia & Pacific (IDA & IBRD countries)",
          "Europe & Central Asia (IDA & IBRD countries)",
          "Latin America & the Caribbean (IDA & IBRD countries)",
          "Middle East & North Africa (IDA & IBRD countries)",
          "South Asia (IDA & IBRD)",
          "Sub-Saharan Africa (IDA & IBRD countries)",
          "Upper middle income",
          "Venezuela, RB",
          "British Virgin Islands",
          "Virgin Islands (U.S.)",
          "World",
          "Kosovo",
          "Yemen, Rep."
         ],
         "type": "choropleth",
         "z": [
          7.9,
          32.1,
          50.7,
          null,
          39.3,
          50,
          32.1,
          null,
          89.3,
          78.6,
          7.9,
          32.9,
          82.1,
          64.3,
          17.9,
          50.7,
          53.6,
          35.7,
          null,
          32.9,
          28.6,
          null,
          57.1,
          78.6,
          null,
          null,
          50,
          75,
          10.7,
          96.4,
          92.9,
          89.3,
          50,
          28.6,
          42.9,
          null,
          28.6,
          53.6,
          22.1,
          78.6,
          82.1,
          46.4,
          60.7,
          71.4,
          85.7,
          14.3,
          null,
          96.4,
          46.4,
          22.1,
          42.9,
          32.1,
          21.4,
          78.6,
          75,
          39.3,
          100,
          32.1,
          75,
          null,
          22.1,
          85.7,
          7.9,
          46.4,
          4.3,
          46.4,
          0,
          28.6,
          75,
          null,
          67.9,
          57.1,
          57.1,
          60.7,
          null,
          60.7,
          36.4,
          60.7,
          67.9,
          82.1,
          89.3,
          28.6,
          0.7,
          96.4,
          75,
          64.3,
          67.9,
          32.1,
          82.1,
          21.4,
          42.9,
          18.6,
          60.7,
          null,
          null,
          75,
          42.9,
          32.1,
          32.1,
          7.9,
          21.4,
          null,
          null,
          46.4,
          60.7,
          57.1,
          92.9,
          57.1,
          39.3,
          null,
          42.9,
          57.1,
          null,
          71.4,
          null,
          41.4,
          57.1,
          82.1,
          17.9,
          50,
          60.7,
          53.6,
          42.9,
          82.1,
          50,
          60.7,
          53.6,
          11.4,
          32.1,
          43.6,
          89.3,
          96.4,
          42.9,
          null,
          89.3,
          35.7,
          57.1,
          71.4,
          42.9,
          50,
          null,
          64.3,
          60.7,
          25,
          82.1,
          60.7,
          28.6,
          35.7,
          60.7,
          28.6,
          35.7,
          28.6,
          25,
          50,
          75,
          null,
          15,
          57.1,
          null,
          null,
          50,
          null,
          null,
          60.7,
          71.4,
          78.6,
          100,
          28.6,
          null,
          21.4,
          0,
          4.3,
          67.9,
          7.9,
          7.9,
          67.9,
          null,
          67.9,
          28.6,
          60.7,
          null,
          75,
          39.3,
          39.3,
          53.6,
          82.1,
          78.6,
          7.9,
          null,
          42.9,
          42.9,
          null,
          null,
          25,
          78.6,
          46.4,
          7.9,
          7.1,
          null,
          null,
          null,
          null,
          null,
          null,
          null,
          null,
          null,
          null,
          null,
          null,
          null,
          null,
          null,
          null,
          null,
          null,
          null,
          null,
          null,
          null,
          null,
          null,
          null,
          null,
          null,
          null,
          null,
          null,
          null,
          null,
          null,
          null,
          null,
          null,
          null,
          null,
          null,
          null,
          null,
          null,
          null,
          null,
          null,
          null,
          null,
          null,
          null,
          null,
          null,
          null,
          null,
          null,
          null,
          null,
          null,
          null,
          null,
          null,
          null,
          null,
          null,
          null,
          null,
          null,
          null,
          null,
          null,
          null,
          null,
          null,
          null,
          null,
          null,
          null,
          null,
          null,
          null,
          null,
          null,
          null,
          null,
          null,
          null,
          null
         ]
        }
       ],
       "layout": {
        "geo": {
         "showframe": false
        },
        "template": {
         "data": {
          "bar": [
           {
            "error_x": {
             "color": "#2a3f5f"
            },
            "error_y": {
             "color": "#2a3f5f"
            },
            "marker": {
             "line": {
              "color": "#E5ECF6",
              "width": 0.5
             },
             "pattern": {
              "fillmode": "overlay",
              "size": 10,
              "solidity": 0.2
             }
            },
            "type": "bar"
           }
          ],
          "barpolar": [
           {
            "marker": {
             "line": {
              "color": "#E5ECF6",
              "width": 0.5
             },
             "pattern": {
              "fillmode": "overlay",
              "size": 10,
              "solidity": 0.2
             }
            },
            "type": "barpolar"
           }
          ],
          "carpet": [
           {
            "aaxis": {
             "endlinecolor": "#2a3f5f",
             "gridcolor": "white",
             "linecolor": "white",
             "minorgridcolor": "white",
             "startlinecolor": "#2a3f5f"
            },
            "baxis": {
             "endlinecolor": "#2a3f5f",
             "gridcolor": "white",
             "linecolor": "white",
             "minorgridcolor": "white",
             "startlinecolor": "#2a3f5f"
            },
            "type": "carpet"
           }
          ],
          "choropleth": [
           {
            "colorbar": {
             "outlinewidth": 0,
             "ticks": ""
            },
            "type": "choropleth"
           }
          ],
          "contour": [
           {
            "colorbar": {
             "outlinewidth": 0,
             "ticks": ""
            },
            "colorscale": [
             [
              0,
              "#0d0887"
             ],
             [
              0.1111111111111111,
              "#46039f"
             ],
             [
              0.2222222222222222,
              "#7201a8"
             ],
             [
              0.3333333333333333,
              "#9c179e"
             ],
             [
              0.4444444444444444,
              "#bd3786"
             ],
             [
              0.5555555555555556,
              "#d8576b"
             ],
             [
              0.6666666666666666,
              "#ed7953"
             ],
             [
              0.7777777777777778,
              "#fb9f3a"
             ],
             [
              0.8888888888888888,
              "#fdca26"
             ],
             [
              1,
              "#f0f921"
             ]
            ],
            "type": "contour"
           }
          ],
          "contourcarpet": [
           {
            "colorbar": {
             "outlinewidth": 0,
             "ticks": ""
            },
            "type": "contourcarpet"
           }
          ],
          "heatmap": [
           {
            "colorbar": {
             "outlinewidth": 0,
             "ticks": ""
            },
            "colorscale": [
             [
              0,
              "#0d0887"
             ],
             [
              0.1111111111111111,
              "#46039f"
             ],
             [
              0.2222222222222222,
              "#7201a8"
             ],
             [
              0.3333333333333333,
              "#9c179e"
             ],
             [
              0.4444444444444444,
              "#bd3786"
             ],
             [
              0.5555555555555556,
              "#d8576b"
             ],
             [
              0.6666666666666666,
              "#ed7953"
             ],
             [
              0.7777777777777778,
              "#fb9f3a"
             ],
             [
              0.8888888888888888,
              "#fdca26"
             ],
             [
              1,
              "#f0f921"
             ]
            ],
            "type": "heatmap"
           }
          ],
          "heatmapgl": [
           {
            "colorbar": {
             "outlinewidth": 0,
             "ticks": ""
            },
            "colorscale": [
             [
              0,
              "#0d0887"
             ],
             [
              0.1111111111111111,
              "#46039f"
             ],
             [
              0.2222222222222222,
              "#7201a8"
             ],
             [
              0.3333333333333333,
              "#9c179e"
             ],
             [
              0.4444444444444444,
              "#bd3786"
             ],
             [
              0.5555555555555556,
              "#d8576b"
             ],
             [
              0.6666666666666666,
              "#ed7953"
             ],
             [
              0.7777777777777778,
              "#fb9f3a"
             ],
             [
              0.8888888888888888,
              "#fdca26"
             ],
             [
              1,
              "#f0f921"
             ]
            ],
            "type": "heatmapgl"
           }
          ],
          "histogram": [
           {
            "marker": {
             "pattern": {
              "fillmode": "overlay",
              "size": 10,
              "solidity": 0.2
             }
            },
            "type": "histogram"
           }
          ],
          "histogram2d": [
           {
            "colorbar": {
             "outlinewidth": 0,
             "ticks": ""
            },
            "colorscale": [
             [
              0,
              "#0d0887"
             ],
             [
              0.1111111111111111,
              "#46039f"
             ],
             [
              0.2222222222222222,
              "#7201a8"
             ],
             [
              0.3333333333333333,
              "#9c179e"
             ],
             [
              0.4444444444444444,
              "#bd3786"
             ],
             [
              0.5555555555555556,
              "#d8576b"
             ],
             [
              0.6666666666666666,
              "#ed7953"
             ],
             [
              0.7777777777777778,
              "#fb9f3a"
             ],
             [
              0.8888888888888888,
              "#fdca26"
             ],
             [
              1,
              "#f0f921"
             ]
            ],
            "type": "histogram2d"
           }
          ],
          "histogram2dcontour": [
           {
            "colorbar": {
             "outlinewidth": 0,
             "ticks": ""
            },
            "colorscale": [
             [
              0,
              "#0d0887"
             ],
             [
              0.1111111111111111,
              "#46039f"
             ],
             [
              0.2222222222222222,
              "#7201a8"
             ],
             [
              0.3333333333333333,
              "#9c179e"
             ],
             [
              0.4444444444444444,
              "#bd3786"
             ],
             [
              0.5555555555555556,
              "#d8576b"
             ],
             [
              0.6666666666666666,
              "#ed7953"
             ],
             [
              0.7777777777777778,
              "#fb9f3a"
             ],
             [
              0.8888888888888888,
              "#fdca26"
             ],
             [
              1,
              "#f0f921"
             ]
            ],
            "type": "histogram2dcontour"
           }
          ],
          "mesh3d": [
           {
            "colorbar": {
             "outlinewidth": 0,
             "ticks": ""
            },
            "type": "mesh3d"
           }
          ],
          "parcoords": [
           {
            "line": {
             "colorbar": {
              "outlinewidth": 0,
              "ticks": ""
             }
            },
            "type": "parcoords"
           }
          ],
          "pie": [
           {
            "automargin": true,
            "type": "pie"
           }
          ],
          "scatter": [
           {
            "fillpattern": {
             "fillmode": "overlay",
             "size": 10,
             "solidity": 0.2
            },
            "type": "scatter"
           }
          ],
          "scatter3d": [
           {
            "line": {
             "colorbar": {
              "outlinewidth": 0,
              "ticks": ""
             }
            },
            "marker": {
             "colorbar": {
              "outlinewidth": 0,
              "ticks": ""
             }
            },
            "type": "scatter3d"
           }
          ],
          "scattercarpet": [
           {
            "marker": {
             "colorbar": {
              "outlinewidth": 0,
              "ticks": ""
             }
            },
            "type": "scattercarpet"
           }
          ],
          "scattergeo": [
           {
            "marker": {
             "colorbar": {
              "outlinewidth": 0,
              "ticks": ""
             }
            },
            "type": "scattergeo"
           }
          ],
          "scattergl": [
           {
            "marker": {
             "colorbar": {
              "outlinewidth": 0,
              "ticks": ""
             }
            },
            "type": "scattergl"
           }
          ],
          "scattermapbox": [
           {
            "marker": {
             "colorbar": {
              "outlinewidth": 0,
              "ticks": ""
             }
            },
            "type": "scattermapbox"
           }
          ],
          "scatterpolar": [
           {
            "marker": {
             "colorbar": {
              "outlinewidth": 0,
              "ticks": ""
             }
            },
            "type": "scatterpolar"
           }
          ],
          "scatterpolargl": [
           {
            "marker": {
             "colorbar": {
              "outlinewidth": 0,
              "ticks": ""
             }
            },
            "type": "scatterpolargl"
           }
          ],
          "scatterternary": [
           {
            "marker": {
             "colorbar": {
              "outlinewidth": 0,
              "ticks": ""
             }
            },
            "type": "scatterternary"
           }
          ],
          "surface": [
           {
            "colorbar": {
             "outlinewidth": 0,
             "ticks": ""
            },
            "colorscale": [
             [
              0,
              "#0d0887"
             ],
             [
              0.1111111111111111,
              "#46039f"
             ],
             [
              0.2222222222222222,
              "#7201a8"
             ],
             [
              0.3333333333333333,
              "#9c179e"
             ],
             [
              0.4444444444444444,
              "#bd3786"
             ],
             [
              0.5555555555555556,
              "#d8576b"
             ],
             [
              0.6666666666666666,
              "#ed7953"
             ],
             [
              0.7777777777777778,
              "#fb9f3a"
             ],
             [
              0.8888888888888888,
              "#fdca26"
             ],
             [
              1,
              "#f0f921"
             ]
            ],
            "type": "surface"
           }
          ],
          "table": [
           {
            "cells": {
             "fill": {
              "color": "#EBF0F8"
             },
             "line": {
              "color": "white"
             }
            },
            "header": {
             "fill": {
              "color": "#C8D4E3"
             },
             "line": {
              "color": "white"
             }
            },
            "type": "table"
           }
          ]
         },
         "layout": {
          "annotationdefaults": {
           "arrowcolor": "#2a3f5f",
           "arrowhead": 0,
           "arrowwidth": 1
          },
          "autotypenumbers": "strict",
          "coloraxis": {
           "colorbar": {
            "outlinewidth": 0,
            "ticks": ""
           }
          },
          "colorscale": {
           "diverging": [
            [
             0,
             "#8e0152"
            ],
            [
             0.1,
             "#c51b7d"
            ],
            [
             0.2,
             "#de77ae"
            ],
            [
             0.3,
             "#f1b6da"
            ],
            [
             0.4,
             "#fde0ef"
            ],
            [
             0.5,
             "#f7f7f7"
            ],
            [
             0.6,
             "#e6f5d0"
            ],
            [
             0.7,
             "#b8e186"
            ],
            [
             0.8,
             "#7fbc41"
            ],
            [
             0.9,
             "#4d9221"
            ],
            [
             1,
             "#276419"
            ]
           ],
           "sequential": [
            [
             0,
             "#0d0887"
            ],
            [
             0.1111111111111111,
             "#46039f"
            ],
            [
             0.2222222222222222,
             "#7201a8"
            ],
            [
             0.3333333333333333,
             "#9c179e"
            ],
            [
             0.4444444444444444,
             "#bd3786"
            ],
            [
             0.5555555555555556,
             "#d8576b"
            ],
            [
             0.6666666666666666,
             "#ed7953"
            ],
            [
             0.7777777777777778,
             "#fb9f3a"
            ],
            [
             0.8888888888888888,
             "#fdca26"
            ],
            [
             1,
             "#f0f921"
            ]
           ],
           "sequentialminus": [
            [
             0,
             "#0d0887"
            ],
            [
             0.1111111111111111,
             "#46039f"
            ],
            [
             0.2222222222222222,
             "#7201a8"
            ],
            [
             0.3333333333333333,
             "#9c179e"
            ],
            [
             0.4444444444444444,
             "#bd3786"
            ],
            [
             0.5555555555555556,
             "#d8576b"
            ],
            [
             0.6666666666666666,
             "#ed7953"
            ],
            [
             0.7777777777777778,
             "#fb9f3a"
            ],
            [
             0.8888888888888888,
             "#fdca26"
            ],
            [
             1,
             "#f0f921"
            ]
           ]
          },
          "colorway": [
           "#636efa",
           "#EF553B",
           "#00cc96",
           "#ab63fa",
           "#FFA15A",
           "#19d3f3",
           "#FF6692",
           "#B6E880",
           "#FF97FF",
           "#FECB52"
          ],
          "font": {
           "color": "#2a3f5f"
          },
          "geo": {
           "bgcolor": "white",
           "lakecolor": "white",
           "landcolor": "#E5ECF6",
           "showlakes": true,
           "showland": true,
           "subunitcolor": "white"
          },
          "hoverlabel": {
           "align": "left"
          },
          "hovermode": "closest",
          "mapbox": {
           "style": "light"
          },
          "paper_bgcolor": "white",
          "plot_bgcolor": "#E5ECF6",
          "polar": {
           "angularaxis": {
            "gridcolor": "white",
            "linecolor": "white",
            "ticks": ""
           },
           "bgcolor": "#E5ECF6",
           "radialaxis": {
            "gridcolor": "white",
            "linecolor": "white",
            "ticks": ""
           }
          },
          "scene": {
           "xaxis": {
            "backgroundcolor": "#E5ECF6",
            "gridcolor": "white",
            "gridwidth": 2,
            "linecolor": "white",
            "showbackground": true,
            "ticks": "",
            "zerolinecolor": "white"
           },
           "yaxis": {
            "backgroundcolor": "#E5ECF6",
            "gridcolor": "white",
            "gridwidth": 2,
            "linecolor": "white",
            "showbackground": true,
            "ticks": "",
            "zerolinecolor": "white"
           },
           "zaxis": {
            "backgroundcolor": "#E5ECF6",
            "gridcolor": "white",
            "gridwidth": 2,
            "linecolor": "white",
            "showbackground": true,
            "ticks": "",
            "zerolinecolor": "white"
           }
          },
          "shapedefaults": {
           "line": {
            "color": "#2a3f5f"
           }
          },
          "ternary": {
           "aaxis": {
            "gridcolor": "white",
            "linecolor": "white",
            "ticks": ""
           },
           "baxis": {
            "gridcolor": "white",
            "linecolor": "white",
            "ticks": ""
           },
           "bgcolor": "#E5ECF6",
           "caxis": {
            "gridcolor": "white",
            "linecolor": "white",
            "ticks": ""
           }
          },
          "title": {
           "x": 0.05
          },
          "xaxis": {
           "automargin": true,
           "gridcolor": "white",
           "linecolor": "white",
           "ticks": "",
           "title": {
            "standoff": 15
           },
           "zerolinecolor": "white",
           "zerolinewidth": 2
          },
          "yaxis": {
           "automargin": true,
           "gridcolor": "white",
           "linecolor": "white",
           "ticks": "",
           "title": {
            "standoff": 15
           },
           "zerolinecolor": "white",
           "zerolinewidth": 2
          }
         }
        },
        "title": {
         "text": "Global Distribution of Functioning Governments 2008"
        }
       }
      },
      "text/html": [
       "<div>                            <div id=\"25a014c3-ea8f-42cc-882f-dac094208aee\" class=\"plotly-graph-div\" style=\"height:525px; width:100%;\"></div>            <script type=\"text/javascript\">                require([\"plotly\"], function(Plotly) {                    window.PLOTLYENV=window.PLOTLYENV || {};                                    if (document.getElementById(\"25a014c3-ea8f-42cc-882f-dac094208aee\")) {                    Plotly.newPlot(                        \"25a014c3-ea8f-42cc-882f-dac094208aee\",                        [{\"colorbar\":{\"title\":{\"text\":\"Functioning Governments\"}},\"locationmode\":\"country names\",\"locations\":[\"Afghanistan\",\"Angola\",\"Albania\",\"Andorra\",\"United Arab Emirates\",\"Argentina\",\"Armenia\",\"Antigua and Barbuda\",\"Australia\",\"Austria\",\"Azerbaijan\",\"Burundi\",\"Belgium\",\"Benin\",\"Burkina Faso\",\"Bangladesh\",\"Bulgaria\",\"Bahrain\",\"Bahamas\",\"Bosnia and Herzegovina\",\"Belarus\",\"Belize\",\"Bolivia\",\"Brazil\",\"Barbados\",\"Brunei\",\"Bhutan\",\"Botswana\",\"Central African Republic\",\"Canada\",\"Switzerland\",\"Chile\",\"China\",\"Cote d'Ivoire\",\"Cameroon\",\"Congo Dem Rep\",\"Congo, Rep.\",\"Colombia\",\"Comoros\",\"Cape Verde\",\"Costa Rica\",\"Cuba\",\"Cyprus\",\"Czech Republic\",\"Germany\",\"Djibouti\",\"Dominica\",\"Denmark\",\"Dominican Republic\",\"Algeria\",\"Ecuador\",\"Egypt\",\"Eritrea\",\"Spain\",\"Estonia\",\"Ethiopia\",\"Finland\",\"Fiji\",\"France\",\"Micronesia, Fed. Sts.\",\"Gabon\",\"United Kingdom\",\"Georgia\",\"Ghana\",\"Guinea\",\"Gambia\",\"Guinea-Bissau\",\"Equatorial Guinea\",\"Greece\",\"Grenada\",\"Guatemala\",\"Guyana\",\"Hong Kong, China\",\"Honduras\",\"Holy See\",\"Croatia\",\"Haiti\",\"Hungary\",\"Indonesia\",\"India\",\"Ireland\",\"Iran\",\"Iraq\",\"Iceland\",\"Israel\",\"Italy\",\"Jamaica\",\"Jordan\",\"Japan\",\"Kazakhstan\",\"Kenya\",\"Kyrgyz Republic\",\"Cambodia\",\"Kiribati\",\"St. Kitts and Nevis\",\"South Korea\",\"Kuwait\",\"Lao\",\"Lebanon\",\"Liberia\",\"Libya\",\"St. Lucia\",\"Liechtenstein\",\"Sri Lanka\",\"Lesotho\",\"Lithuania\",\"Luxembourg\",\"Latvia\",\"Morocco\",\"Monaco\",\"Moldova\",\"Madagascar\",\"Maldives\",\"Mexico\",\"Marshall Islands\",\"North Macedonia\",\"Mali\",\"Malta\",\"Myanmar\",\"Montenegro\",\"Mongolia\",\"Mozambique\",\"Mauritania\",\"Mauritius\",\"Malawi\",\"Malaysia\",\"Namibia\",\"Niger\",\"Nigeria\",\"Nicaragua\",\"Netherlands\",\"Norway\",\"Nepal\",\"Nauru\",\"New Zealand\",\"Oman\",\"Pakistan\",\"Panama\",\"Peru\",\"Philippines\",\"Palau\",\"Papua New Guinea\",\"Poland\",\"North Korea\",\"Portugal\",\"Paraguay\",\"Palestine\",\"Qatar\",\"Romania\",\"Russia\",\"Rwanda\",\"Saudi Arabia\",\"Sudan\",\"Senegal\",\"Singapore\",\"Solomon Islands\",\"Sierra Leone\",\"El Salvador\",\"San Marino\",\"Somalia\",\"Serbia\",\"South Sudan\",\"Sao Tome and Principe\",\"Suriname\",\"Slovak Republic\",\"Slovenia\",\"Sweden\",\"Eswatini\",\"Seychelles\",\"Syria\",\"Chad\",\"Togo\",\"Thailand\",\"Tajikistan\",\"Turkmenistan\",\"Timor-Leste\",\"Tonga\",\"Trinidad and Tobago\",\"Tunisia\",\"Turkey\",\"Tuvalu\",\"Taiwan\",\"Tanzania\",\"Uganda\",\"Ukraine\",\"Uruguay\",\"United States\",\"Uzbekistan\",\"St. Vincent and the Grenadines\",\"Venezuela\",\"Vietnam\",\"Vanuatu\",\"Samoa\",\"Yemen\",\"South Africa\",\"Zambia\",\"Zimbabwe\",\"Congo, Dem. Rep.\",\"Aruba\",\"Africa Eastern and Southern\",\"Africa Western and Central\",\"Arab World\",\"American Samoa\",\"Bahamas, The\",\"Bermuda\",\"Brunei Darussalam\",\"Central Europe and the Baltics\",\"Channel Islands\",\"Cabo Verde\",\"Caribbean small states\",\"Curacao\",\"Cayman Islands\",\"East Asia & Pacific (excluding high income)\",\"Early-demographic dividend\",\"East Asia & Pacific\",\"Europe & Central Asia (excluding high income)\",\"Europe & Central Asia\",\"Egypt, Arab Rep.\",\"Euro area\",\"European Union\",\"Fragile and conflict affected situations\",\"Faroe Islands\",\"Gibraltar\",\"Gambia, The\",\"Greenland\",\"Guam\",\"High income\",\"Hong Kong SAR, China\",\"Heavily indebted poor countries (HIPC)\",\"IBRD only\",\"IDA & IBRD total\",\"IDA total\",\"IDA blend\",\"IDA only\",\"Isle of Man\",\"Not classified\",\"Iran, Islamic Rep.\",\"Korea, Rep.\",\"Latin America & Caribbean (excluding high income)\",\"Lao PDR\",\"Latin America & Caribbean\",\"Least developed countries: UN classification\",\"Low income\",\"Lower middle income\",\"Low & middle income\",\"Late-demographic dividend\",\"Macao SAR, China\",\"St. Martin (French part)\",\"Middle East & North Africa\",\"Middle income\",\"Middle East & North Africa (excluding high income)\",\"Northern Mariana Islands\",\"North America\",\"New Caledonia\",\"OECD members\",\"Other small states\",\"Pre-demographic dividend\",\"Puerto Rico\",\"Korea, Dem. People's Rep.\",\"West Bank and Gaza\",\"Pacific island small states\",\"Post-demographic dividend\",\"French Polynesia\",\"Russian Federation\",\"South Asia\",\"Sub-Saharan Africa (excluding high income)\",\"Sub-Saharan Africa\",\"Small states\",\"Sint Maarten (Dutch part)\",\"Syrian Arab Republic\",\"Turks and Caicos Islands\",\"East Asia & Pacific (IDA & IBRD countries)\",\"Europe & Central Asia (IDA & IBRD countries)\",\"Latin America & the Caribbean (IDA & IBRD countries)\",\"Middle East & North Africa (IDA & IBRD countries)\",\"South Asia (IDA & IBRD)\",\"Sub-Saharan Africa (IDA & IBRD countries)\",\"Upper middle income\",\"Venezuela, RB\",\"British Virgin Islands\",\"Virgin Islands (U.S.)\",\"World\",\"Kosovo\",\"Yemen, Rep.\"],\"text\":[\"Afghanistan\",\"Angola\",\"Albania\",\"Andorra\",\"United Arab Emirates\",\"Argentina\",\"Armenia\",\"Antigua and Barbuda\",\"Australia\",\"Austria\",\"Azerbaijan\",\"Burundi\",\"Belgium\",\"Benin\",\"Burkina Faso\",\"Bangladesh\",\"Bulgaria\",\"Bahrain\",\"Bahamas\",\"Bosnia and Herzegovina\",\"Belarus\",\"Belize\",\"Bolivia\",\"Brazil\",\"Barbados\",\"Brunei\",\"Bhutan\",\"Botswana\",\"Central African Republic\",\"Canada\",\"Switzerland\",\"Chile\",\"China\",\"Cote d'Ivoire\",\"Cameroon\",\"Congo Dem Rep\",\"Congo, Rep.\",\"Colombia\",\"Comoros\",\"Cape Verde\",\"Costa Rica\",\"Cuba\",\"Cyprus\",\"Czech Republic\",\"Germany\",\"Djibouti\",\"Dominica\",\"Denmark\",\"Dominican Republic\",\"Algeria\",\"Ecuador\",\"Egypt\",\"Eritrea\",\"Spain\",\"Estonia\",\"Ethiopia\",\"Finland\",\"Fiji\",\"France\",\"Micronesia, Fed. Sts.\",\"Gabon\",\"United Kingdom\",\"Georgia\",\"Ghana\",\"Guinea\",\"Gambia\",\"Guinea-Bissau\",\"Equatorial Guinea\",\"Greece\",\"Grenada\",\"Guatemala\",\"Guyana\",\"Hong Kong, China\",\"Honduras\",\"Holy See\",\"Croatia\",\"Haiti\",\"Hungary\",\"Indonesia\",\"India\",\"Ireland\",\"Iran\",\"Iraq\",\"Iceland\",\"Israel\",\"Italy\",\"Jamaica\",\"Jordan\",\"Japan\",\"Kazakhstan\",\"Kenya\",\"Kyrgyz Republic\",\"Cambodia\",\"Kiribati\",\"St. Kitts and Nevis\",\"South Korea\",\"Kuwait\",\"Lao\",\"Lebanon\",\"Liberia\",\"Libya\",\"St. Lucia\",\"Liechtenstein\",\"Sri Lanka\",\"Lesotho\",\"Lithuania\",\"Luxembourg\",\"Latvia\",\"Morocco\",\"Monaco\",\"Moldova\",\"Madagascar\",\"Maldives\",\"Mexico\",\"Marshall Islands\",\"North Macedonia\",\"Mali\",\"Malta\",\"Myanmar\",\"Montenegro\",\"Mongolia\",\"Mozambique\",\"Mauritania\",\"Mauritius\",\"Malawi\",\"Malaysia\",\"Namibia\",\"Niger\",\"Nigeria\",\"Nicaragua\",\"Netherlands\",\"Norway\",\"Nepal\",\"Nauru\",\"New Zealand\",\"Oman\",\"Pakistan\",\"Panama\",\"Peru\",\"Philippines\",\"Palau\",\"Papua New Guinea\",\"Poland\",\"North Korea\",\"Portugal\",\"Paraguay\",\"Palestine\",\"Qatar\",\"Romania\",\"Russia\",\"Rwanda\",\"Saudi Arabia\",\"Sudan\",\"Senegal\",\"Singapore\",\"Solomon Islands\",\"Sierra Leone\",\"El Salvador\",\"San Marino\",\"Somalia\",\"Serbia\",\"South Sudan\",\"Sao Tome and Principe\",\"Suriname\",\"Slovak Republic\",\"Slovenia\",\"Sweden\",\"Eswatini\",\"Seychelles\",\"Syria\",\"Chad\",\"Togo\",\"Thailand\",\"Tajikistan\",\"Turkmenistan\",\"Timor-Leste\",\"Tonga\",\"Trinidad and Tobago\",\"Tunisia\",\"Turkey\",\"Tuvalu\",\"Taiwan\",\"Tanzania\",\"Uganda\",\"Ukraine\",\"Uruguay\",\"United States\",\"Uzbekistan\",\"St. Vincent and the Grenadines\",\"Venezuela\",\"Vietnam\",\"Vanuatu\",\"Samoa\",\"Yemen\",\"South Africa\",\"Zambia\",\"Zimbabwe\",\"Congo, Dem. Rep.\",\"Aruba\",\"Africa Eastern and Southern\",\"Africa Western and Central\",\"Arab World\",\"American Samoa\",\"Bahamas, The\",\"Bermuda\",\"Brunei Darussalam\",\"Central Europe and the Baltics\",\"Channel Islands\",\"Cabo Verde\",\"Caribbean small states\",\"Curacao\",\"Cayman Islands\",\"East Asia & Pacific (excluding high income)\",\"Early-demographic dividend\",\"East Asia & Pacific\",\"Europe & Central Asia (excluding high income)\",\"Europe & Central Asia\",\"Egypt, Arab Rep.\",\"Euro area\",\"European Union\",\"Fragile and conflict affected situations\",\"Faroe Islands\",\"Gibraltar\",\"Gambia, The\",\"Greenland\",\"Guam\",\"High income\",\"Hong Kong SAR, China\",\"Heavily indebted poor countries (HIPC)\",\"IBRD only\",\"IDA & IBRD total\",\"IDA total\",\"IDA blend\",\"IDA only\",\"Isle of Man\",\"Not classified\",\"Iran, Islamic Rep.\",\"Korea, Rep.\",\"Latin America & Caribbean (excluding high income)\",\"Lao PDR\",\"Latin America & Caribbean\",\"Least developed countries: UN classification\",\"Low income\",\"Lower middle income\",\"Low & middle income\",\"Late-demographic dividend\",\"Macao SAR, China\",\"St. Martin (French part)\",\"Middle East & North Africa\",\"Middle income\",\"Middle East & North Africa (excluding high income)\",\"Northern Mariana Islands\",\"North America\",\"New Caledonia\",\"OECD members\",\"Other small states\",\"Pre-demographic dividend\",\"Puerto Rico\",\"Korea, Dem. People's Rep.\",\"West Bank and Gaza\",\"Pacific island small states\",\"Post-demographic dividend\",\"French Polynesia\",\"Russian Federation\",\"South Asia\",\"Sub-Saharan Africa (excluding high income)\",\"Sub-Saharan Africa\",\"Small states\",\"Sint Maarten (Dutch part)\",\"Syrian Arab Republic\",\"Turks and Caicos Islands\",\"East Asia & Pacific (IDA & IBRD countries)\",\"Europe & Central Asia (IDA & IBRD countries)\",\"Latin America & the Caribbean (IDA & IBRD countries)\",\"Middle East & North Africa (IDA & IBRD countries)\",\"South Asia (IDA & IBRD)\",\"Sub-Saharan Africa (IDA & IBRD countries)\",\"Upper middle income\",\"Venezuela, RB\",\"British Virgin Islands\",\"Virgin Islands (U.S.)\",\"World\",\"Kosovo\",\"Yemen, Rep.\"],\"z\":[7.9,32.1,50.7,null,39.3,50.0,32.1,null,89.3,78.6,7.9,32.9,82.1,64.3,17.9,50.7,53.6,35.7,null,32.9,28.6,null,57.1,78.6,null,null,50.0,75.0,10.7,96.4,92.9,89.3,50.0,28.6,42.9,null,28.6,53.6,22.1,78.6,82.1,46.4,60.7,71.4,85.7,14.3,null,96.4,46.4,22.1,42.9,32.1,21.4,78.6,75.0,39.3,100.0,32.1,75.0,null,22.1,85.7,7.9,46.4,4.3,46.4,0.0,28.6,75.0,null,67.9,57.1,57.1,60.7,null,60.7,36.4,60.7,67.9,82.1,89.3,28.6,0.7,96.4,75.0,64.3,67.9,32.1,82.1,21.4,42.9,18.6,60.7,null,null,75.0,42.9,32.1,32.1,7.9,21.4,null,null,46.4,60.7,57.1,92.9,57.1,39.3,null,42.9,57.1,null,71.4,null,41.4,57.1,82.1,17.9,50.0,60.7,53.6,42.9,82.1,50.0,60.7,53.6,11.4,32.1,43.6,89.3,96.4,42.9,null,89.3,35.7,57.1,71.4,42.9,50.0,null,64.3,60.7,25.0,82.1,60.7,28.6,35.7,60.7,28.6,35.7,28.6,25.0,50.0,75.0,null,15.0,57.1,null,null,50.0,null,null,60.7,71.4,78.6,100.0,28.6,null,21.4,0.0,4.3,67.9,7.9,7.9,67.9,null,67.9,28.6,60.7,null,75.0,39.3,39.3,53.6,82.1,78.6,7.9,null,42.9,42.9,null,null,25.0,78.6,46.4,7.9,7.1,null,null,null,null,null,null,null,null,null,null,null,null,null,null,null,null,null,null,null,null,null,null,null,null,null,null,null,null,null,null,null,null,null,null,null,null,null,null,null,null,null,null,null,null,null,null,null,null,null,null,null,null,null,null,null,null,null,null,null,null,null,null,null,null,null,null,null,null,null,null,null,null,null,null,null,null,null,null,null,null,null,null,null,null,null,null],\"type\":\"choropleth\"}],                        {\"geo\":{\"showframe\":false},\"template\":{\"data\":{\"barpolar\":[{\"marker\":{\"line\":{\"color\":\"#E5ECF6\",\"width\":0.5},\"pattern\":{\"fillmode\":\"overlay\",\"size\":10,\"solidity\":0.2}},\"type\":\"barpolar\"}],\"bar\":[{\"error_x\":{\"color\":\"#2a3f5f\"},\"error_y\":{\"color\":\"#2a3f5f\"},\"marker\":{\"line\":{\"color\":\"#E5ECF6\",\"width\":0.5},\"pattern\":{\"fillmode\":\"overlay\",\"size\":10,\"solidity\":0.2}},\"type\":\"bar\"}],\"carpet\":[{\"aaxis\":{\"endlinecolor\":\"#2a3f5f\",\"gridcolor\":\"white\",\"linecolor\":\"white\",\"minorgridcolor\":\"white\",\"startlinecolor\":\"#2a3f5f\"},\"baxis\":{\"endlinecolor\":\"#2a3f5f\",\"gridcolor\":\"white\",\"linecolor\":\"white\",\"minorgridcolor\":\"white\",\"startlinecolor\":\"#2a3f5f\"},\"type\":\"carpet\"}],\"choropleth\":[{\"colorbar\":{\"outlinewidth\":0,\"ticks\":\"\"},\"type\":\"choropleth\"}],\"contourcarpet\":[{\"colorbar\":{\"outlinewidth\":0,\"ticks\":\"\"},\"type\":\"contourcarpet\"}],\"contour\":[{\"colorbar\":{\"outlinewidth\":0,\"ticks\":\"\"},\"colorscale\":[[0.0,\"#0d0887\"],[0.1111111111111111,\"#46039f\"],[0.2222222222222222,\"#7201a8\"],[0.3333333333333333,\"#9c179e\"],[0.4444444444444444,\"#bd3786\"],[0.5555555555555556,\"#d8576b\"],[0.6666666666666666,\"#ed7953\"],[0.7777777777777778,\"#fb9f3a\"],[0.8888888888888888,\"#fdca26\"],[1.0,\"#f0f921\"]],\"type\":\"contour\"}],\"heatmapgl\":[{\"colorbar\":{\"outlinewidth\":0,\"ticks\":\"\"},\"colorscale\":[[0.0,\"#0d0887\"],[0.1111111111111111,\"#46039f\"],[0.2222222222222222,\"#7201a8\"],[0.3333333333333333,\"#9c179e\"],[0.4444444444444444,\"#bd3786\"],[0.5555555555555556,\"#d8576b\"],[0.6666666666666666,\"#ed7953\"],[0.7777777777777778,\"#fb9f3a\"],[0.8888888888888888,\"#fdca26\"],[1.0,\"#f0f921\"]],\"type\":\"heatmapgl\"}],\"heatmap\":[{\"colorbar\":{\"outlinewidth\":0,\"ticks\":\"\"},\"colorscale\":[[0.0,\"#0d0887\"],[0.1111111111111111,\"#46039f\"],[0.2222222222222222,\"#7201a8\"],[0.3333333333333333,\"#9c179e\"],[0.4444444444444444,\"#bd3786\"],[0.5555555555555556,\"#d8576b\"],[0.6666666666666666,\"#ed7953\"],[0.7777777777777778,\"#fb9f3a\"],[0.8888888888888888,\"#fdca26\"],[1.0,\"#f0f921\"]],\"type\":\"heatmap\"}],\"histogram2dcontour\":[{\"colorbar\":{\"outlinewidth\":0,\"ticks\":\"\"},\"colorscale\":[[0.0,\"#0d0887\"],[0.1111111111111111,\"#46039f\"],[0.2222222222222222,\"#7201a8\"],[0.3333333333333333,\"#9c179e\"],[0.4444444444444444,\"#bd3786\"],[0.5555555555555556,\"#d8576b\"],[0.6666666666666666,\"#ed7953\"],[0.7777777777777778,\"#fb9f3a\"],[0.8888888888888888,\"#fdca26\"],[1.0,\"#f0f921\"]],\"type\":\"histogram2dcontour\"}],\"histogram2d\":[{\"colorbar\":{\"outlinewidth\":0,\"ticks\":\"\"},\"colorscale\":[[0.0,\"#0d0887\"],[0.1111111111111111,\"#46039f\"],[0.2222222222222222,\"#7201a8\"],[0.3333333333333333,\"#9c179e\"],[0.4444444444444444,\"#bd3786\"],[0.5555555555555556,\"#d8576b\"],[0.6666666666666666,\"#ed7953\"],[0.7777777777777778,\"#fb9f3a\"],[0.8888888888888888,\"#fdca26\"],[1.0,\"#f0f921\"]],\"type\":\"histogram2d\"}],\"histogram\":[{\"marker\":{\"pattern\":{\"fillmode\":\"overlay\",\"size\":10,\"solidity\":0.2}},\"type\":\"histogram\"}],\"mesh3d\":[{\"colorbar\":{\"outlinewidth\":0,\"ticks\":\"\"},\"type\":\"mesh3d\"}],\"parcoords\":[{\"line\":{\"colorbar\":{\"outlinewidth\":0,\"ticks\":\"\"}},\"type\":\"parcoords\"}],\"pie\":[{\"automargin\":true,\"type\":\"pie\"}],\"scatter3d\":[{\"line\":{\"colorbar\":{\"outlinewidth\":0,\"ticks\":\"\"}},\"marker\":{\"colorbar\":{\"outlinewidth\":0,\"ticks\":\"\"}},\"type\":\"scatter3d\"}],\"scattercarpet\":[{\"marker\":{\"colorbar\":{\"outlinewidth\":0,\"ticks\":\"\"}},\"type\":\"scattercarpet\"}],\"scattergeo\":[{\"marker\":{\"colorbar\":{\"outlinewidth\":0,\"ticks\":\"\"}},\"type\":\"scattergeo\"}],\"scattergl\":[{\"marker\":{\"colorbar\":{\"outlinewidth\":0,\"ticks\":\"\"}},\"type\":\"scattergl\"}],\"scattermapbox\":[{\"marker\":{\"colorbar\":{\"outlinewidth\":0,\"ticks\":\"\"}},\"type\":\"scattermapbox\"}],\"scatterpolargl\":[{\"marker\":{\"colorbar\":{\"outlinewidth\":0,\"ticks\":\"\"}},\"type\":\"scatterpolargl\"}],\"scatterpolar\":[{\"marker\":{\"colorbar\":{\"outlinewidth\":0,\"ticks\":\"\"}},\"type\":\"scatterpolar\"}],\"scatter\":[{\"fillpattern\":{\"fillmode\":\"overlay\",\"size\":10,\"solidity\":0.2},\"type\":\"scatter\"}],\"scatterternary\":[{\"marker\":{\"colorbar\":{\"outlinewidth\":0,\"ticks\":\"\"}},\"type\":\"scatterternary\"}],\"surface\":[{\"colorbar\":{\"outlinewidth\":0,\"ticks\":\"\"},\"colorscale\":[[0.0,\"#0d0887\"],[0.1111111111111111,\"#46039f\"],[0.2222222222222222,\"#7201a8\"],[0.3333333333333333,\"#9c179e\"],[0.4444444444444444,\"#bd3786\"],[0.5555555555555556,\"#d8576b\"],[0.6666666666666666,\"#ed7953\"],[0.7777777777777778,\"#fb9f3a\"],[0.8888888888888888,\"#fdca26\"],[1.0,\"#f0f921\"]],\"type\":\"surface\"}],\"table\":[{\"cells\":{\"fill\":{\"color\":\"#EBF0F8\"},\"line\":{\"color\":\"white\"}},\"header\":{\"fill\":{\"color\":\"#C8D4E3\"},\"line\":{\"color\":\"white\"}},\"type\":\"table\"}]},\"layout\":{\"annotationdefaults\":{\"arrowcolor\":\"#2a3f5f\",\"arrowhead\":0,\"arrowwidth\":1},\"autotypenumbers\":\"strict\",\"coloraxis\":{\"colorbar\":{\"outlinewidth\":0,\"ticks\":\"\"}},\"colorscale\":{\"diverging\":[[0,\"#8e0152\"],[0.1,\"#c51b7d\"],[0.2,\"#de77ae\"],[0.3,\"#f1b6da\"],[0.4,\"#fde0ef\"],[0.5,\"#f7f7f7\"],[0.6,\"#e6f5d0\"],[0.7,\"#b8e186\"],[0.8,\"#7fbc41\"],[0.9,\"#4d9221\"],[1,\"#276419\"]],\"sequential\":[[0.0,\"#0d0887\"],[0.1111111111111111,\"#46039f\"],[0.2222222222222222,\"#7201a8\"],[0.3333333333333333,\"#9c179e\"],[0.4444444444444444,\"#bd3786\"],[0.5555555555555556,\"#d8576b\"],[0.6666666666666666,\"#ed7953\"],[0.7777777777777778,\"#fb9f3a\"],[0.8888888888888888,\"#fdca26\"],[1.0,\"#f0f921\"]],\"sequentialminus\":[[0.0,\"#0d0887\"],[0.1111111111111111,\"#46039f\"],[0.2222222222222222,\"#7201a8\"],[0.3333333333333333,\"#9c179e\"],[0.4444444444444444,\"#bd3786\"],[0.5555555555555556,\"#d8576b\"],[0.6666666666666666,\"#ed7953\"],[0.7777777777777778,\"#fb9f3a\"],[0.8888888888888888,\"#fdca26\"],[1.0,\"#f0f921\"]]},\"colorway\":[\"#636efa\",\"#EF553B\",\"#00cc96\",\"#ab63fa\",\"#FFA15A\",\"#19d3f3\",\"#FF6692\",\"#B6E880\",\"#FF97FF\",\"#FECB52\"],\"font\":{\"color\":\"#2a3f5f\"},\"geo\":{\"bgcolor\":\"white\",\"lakecolor\":\"white\",\"landcolor\":\"#E5ECF6\",\"showlakes\":true,\"showland\":true,\"subunitcolor\":\"white\"},\"hoverlabel\":{\"align\":\"left\"},\"hovermode\":\"closest\",\"mapbox\":{\"style\":\"light\"},\"paper_bgcolor\":\"white\",\"plot_bgcolor\":\"#E5ECF6\",\"polar\":{\"angularaxis\":{\"gridcolor\":\"white\",\"linecolor\":\"white\",\"ticks\":\"\"},\"bgcolor\":\"#E5ECF6\",\"radialaxis\":{\"gridcolor\":\"white\",\"linecolor\":\"white\",\"ticks\":\"\"}},\"scene\":{\"xaxis\":{\"backgroundcolor\":\"#E5ECF6\",\"gridcolor\":\"white\",\"gridwidth\":2,\"linecolor\":\"white\",\"showbackground\":true,\"ticks\":\"\",\"zerolinecolor\":\"white\"},\"yaxis\":{\"backgroundcolor\":\"#E5ECF6\",\"gridcolor\":\"white\",\"gridwidth\":2,\"linecolor\":\"white\",\"showbackground\":true,\"ticks\":\"\",\"zerolinecolor\":\"white\"},\"zaxis\":{\"backgroundcolor\":\"#E5ECF6\",\"gridcolor\":\"white\",\"gridwidth\":2,\"linecolor\":\"white\",\"showbackground\":true,\"ticks\":\"\",\"zerolinecolor\":\"white\"}},\"shapedefaults\":{\"line\":{\"color\":\"#2a3f5f\"}},\"ternary\":{\"aaxis\":{\"gridcolor\":\"white\",\"linecolor\":\"white\",\"ticks\":\"\"},\"baxis\":{\"gridcolor\":\"white\",\"linecolor\":\"white\",\"ticks\":\"\"},\"bgcolor\":\"#E5ECF6\",\"caxis\":{\"gridcolor\":\"white\",\"linecolor\":\"white\",\"ticks\":\"\"}},\"title\":{\"x\":0.05},\"xaxis\":{\"automargin\":true,\"gridcolor\":\"white\",\"linecolor\":\"white\",\"ticks\":\"\",\"title\":{\"standoff\":15},\"zerolinecolor\":\"white\",\"zerolinewidth\":2},\"yaxis\":{\"automargin\":true,\"gridcolor\":\"white\",\"linecolor\":\"white\",\"ticks\":\"\",\"title\":{\"standoff\":15},\"zerolinecolor\":\"white\",\"zerolinewidth\":2}}},\"title\":{\"text\":\"Global Distribution of Functioning Governments 2008\"}},                        {\"responsive\": true}                    ).then(function(){\n",
       "                            \n",
       "var gd = document.getElementById('25a014c3-ea8f-42cc-882f-dac094208aee');\n",
       "var x = new MutationObserver(function (mutations, observer) {{\n",
       "        var display = window.getComputedStyle(gd).display;\n",
       "        if (!display || display === 'none') {{\n",
       "            console.log([gd, 'removed!']);\n",
       "            Plotly.purge(gd);\n",
       "            observer.disconnect();\n",
       "        }}\n",
       "}});\n",
       "\n",
       "// Listen for the removal of the full notebook cells\n",
       "var notebookContainer = gd.closest('#notebook-container');\n",
       "if (notebookContainer) {{\n",
       "    x.observe(notebookContainer, {childList: true});\n",
       "}}\n",
       "\n",
       "// Listen for the clearing of the current output cell\n",
       "var outputEl = gd.closest('.output');\n",
       "if (outputEl) {{\n",
       "    x.observe(outputEl, {childList: true});\n",
       "}}\n",
       "\n",
       "                        })                };                });            </script>        </div>"
      ]
     },
     "metadata": {},
     "output_type": "display_data"
    }
   ],
   "source": [
    "import plotly.graph_objs as go\n",
    "from plotly.offline import download_plotlyjs, init_notebook_mode, plot, iplot \n",
    "init_notebook_mode(connected=True)\n",
    "\n",
    "data = dict(type = 'choropleth', \n",
    "           locations = yearof2008['country'],\n",
    "           locationmode = 'country names',\n",
    "           z = yearof2008['func_govt'], \n",
    "           text = yearof2008['country'],\n",
    "           colorbar = {'title':'Functioning Governments'})\n",
    "layout = dict(title = 'Global Distribution of Functioning Governments 2008', \n",
    "             geo = dict(showframe = False))\n",
    "choromap3 = go.Figure(data = [data], layout=layout)\n",
    "iplot(choromap3)"
   ]
  },
  {
   "cell_type": "code",
   "execution_count": 219,
   "id": "b5844e97",
   "metadata": {},
   "outputs": [
    {
     "data": {
      "text/html": [
       "        <script type=\"text/javascript\">\n",
       "        window.PlotlyConfig = {MathJaxConfig: 'local'};\n",
       "        if (window.MathJax && window.MathJax.Hub && window.MathJax.Hub.Config) {window.MathJax.Hub.Config({SVG: {font: \"STIX-Web\"}});}\n",
       "        if (typeof require !== 'undefined') {\n",
       "        require.undef(\"plotly\");\n",
       "        requirejs.config({\n",
       "            paths: {\n",
       "                'plotly': ['https://cdn.plot.ly/plotly-2.12.1.min']\n",
       "            }\n",
       "        });\n",
       "        require(['plotly'], function(Plotly) {\n",
       "            window._Plotly = Plotly;\n",
       "        });\n",
       "        }\n",
       "        </script>\n",
       "        "
      ]
     },
     "metadata": {},
     "output_type": "display_data"
    },
    {
     "data": {
      "application/vnd.plotly.v1+json": {
       "config": {
        "linkText": "Export to plot.ly",
        "plotlyServerURL": "https://plot.ly",
        "showLink": false
       },
       "data": [
        {
         "colorbar": {
          "title": {
           "text": "Democratic Governments"
          }
         },
         "locationmode": "country names",
         "locations": [
          "Afghanistan",
          "Angola",
          "Albania",
          "Andorra",
          "United Arab Emirates",
          "Argentina",
          "Armenia",
          "Antigua and Barbuda",
          "Australia",
          "Austria",
          "Azerbaijan",
          "Burundi",
          "Belgium",
          "Benin",
          "Burkina Faso",
          "Bangladesh",
          "Bulgaria",
          "Bahrain",
          "Bahamas",
          "Bosnia and Herzegovina",
          "Belarus",
          "Belize",
          "Bolivia",
          "Brazil",
          "Barbados",
          "Brunei",
          "Bhutan",
          "Botswana",
          "Central African Republic",
          "Canada",
          "Switzerland",
          "Chile",
          "China",
          "Cote d'Ivoire",
          "Cameroon",
          "Congo Dem Rep",
          "Congo, Rep.",
          "Colombia",
          "Comoros",
          "Cape Verde",
          "Costa Rica",
          "Cuba",
          "Cyprus",
          "Czech Republic",
          "Germany",
          "Djibouti",
          "Dominica",
          "Denmark",
          "Dominican Republic",
          "Algeria",
          "Ecuador",
          "Egypt",
          "Eritrea",
          "Spain",
          "Estonia",
          "Ethiopia",
          "Finland",
          "Fiji",
          "France",
          "Micronesia, Fed. Sts.",
          "Gabon",
          "United Kingdom",
          "Georgia",
          "Ghana",
          "Guinea",
          "Gambia",
          "Guinea-Bissau",
          "Equatorial Guinea",
          "Greece",
          "Grenada",
          "Guatemala",
          "Guyana",
          "Hong Kong, China",
          "Honduras",
          "Holy See",
          "Croatia",
          "Haiti",
          "Hungary",
          "Indonesia",
          "India",
          "Ireland",
          "Iran",
          "Iraq",
          "Iceland",
          "Israel",
          "Italy",
          "Jamaica",
          "Jordan",
          "Japan",
          "Kazakhstan",
          "Kenya",
          "Kyrgyz Republic",
          "Cambodia",
          "Kiribati",
          "St. Kitts and Nevis",
          "South Korea",
          "Kuwait",
          "Lao",
          "Lebanon",
          "Liberia",
          "Libya",
          "St. Lucia",
          "Liechtenstein",
          "Sri Lanka",
          "Lesotho",
          "Lithuania",
          "Luxembourg",
          "Latvia",
          "Morocco",
          "Monaco",
          "Moldova",
          "Madagascar",
          "Maldives",
          "Mexico",
          "Marshall Islands",
          "North Macedonia",
          "Mali",
          "Malta",
          "Myanmar",
          "Montenegro",
          "Mongolia",
          "Mozambique",
          "Mauritania",
          "Mauritius",
          "Malawi",
          "Malaysia",
          "Namibia",
          "Niger",
          "Nigeria",
          "Nicaragua",
          "Netherlands",
          "Norway",
          "Nepal",
          "Nauru",
          "New Zealand",
          "Oman",
          "Pakistan",
          "Panama",
          "Peru",
          "Philippines",
          "Palau",
          "Papua New Guinea",
          "Poland",
          "North Korea",
          "Portugal",
          "Paraguay",
          "Palestine",
          "Qatar",
          "Romania",
          "Russia",
          "Rwanda",
          "Saudi Arabia",
          "Sudan",
          "Senegal",
          "Singapore",
          "Solomon Islands",
          "Sierra Leone",
          "El Salvador",
          "San Marino",
          "Somalia",
          "Serbia",
          "South Sudan",
          "Sao Tome and Principe",
          "Suriname",
          "Slovak Republic",
          "Slovenia",
          "Sweden",
          "Eswatini",
          "Seychelles",
          "Syria",
          "Chad",
          "Togo",
          "Thailand",
          "Tajikistan",
          "Turkmenistan",
          "Timor-Leste",
          "Tonga",
          "Trinidad and Tobago",
          "Tunisia",
          "Turkey",
          "Tuvalu",
          "Taiwan",
          "Tanzania",
          "Uganda",
          "Ukraine",
          "Uruguay",
          "United States",
          "Uzbekistan",
          "St. Vincent and the Grenadines",
          "Venezuela",
          "Vietnam",
          "Vanuatu",
          "Samoa",
          "Yemen",
          "South Africa",
          "Zambia",
          "Zimbabwe",
          "Congo, Dem. Rep.",
          "Aruba",
          "Africa Eastern and Southern",
          "Africa Western and Central",
          "Arab World",
          "American Samoa",
          "Bahamas, The",
          "Bermuda",
          "Brunei Darussalam",
          "Central Europe and the Baltics",
          "Channel Islands",
          "Cabo Verde",
          "Caribbean small states",
          "Curacao",
          "Cayman Islands",
          "East Asia & Pacific (excluding high income)",
          "Early-demographic dividend",
          "East Asia & Pacific",
          "Europe & Central Asia (excluding high income)",
          "Europe & Central Asia",
          "Egypt, Arab Rep.",
          "Euro area",
          "European Union",
          "Fragile and conflict affected situations",
          "Faroe Islands",
          "Gibraltar",
          "Gambia, The",
          "Greenland",
          "Guam",
          "High income",
          "Hong Kong SAR, China",
          "Heavily indebted poor countries (HIPC)",
          "IBRD only",
          "IDA & IBRD total",
          "IDA total",
          "IDA blend",
          "IDA only",
          "Isle of Man",
          "Not classified",
          "Iran, Islamic Rep.",
          "Korea, Rep.",
          "Latin America & Caribbean (excluding high income)",
          "Lao PDR",
          "Latin America & Caribbean",
          "Least developed countries: UN classification",
          "Low income",
          "Lower middle income",
          "Low & middle income",
          "Late-demographic dividend",
          "Macao SAR, China",
          "St. Martin (French part)",
          "Middle East & North Africa",
          "Middle income",
          "Middle East & North Africa (excluding high income)",
          "Northern Mariana Islands",
          "North America",
          "New Caledonia",
          "OECD members",
          "Other small states",
          "Pre-demographic dividend",
          "Puerto Rico",
          "Korea, Dem. People's Rep.",
          "West Bank and Gaza",
          "Pacific island small states",
          "Post-demographic dividend",
          "French Polynesia",
          "Russian Federation",
          "South Asia",
          "Sub-Saharan Africa (excluding high income)",
          "Sub-Saharan Africa",
          "Small states",
          "Sint Maarten (Dutch part)",
          "Syrian Arab Republic",
          "Turks and Caicos Islands",
          "East Asia & Pacific (IDA & IBRD countries)",
          "Europe & Central Asia (IDA & IBRD countries)",
          "Latin America & the Caribbean (IDA & IBRD countries)",
          "Middle East & North Africa (IDA & IBRD countries)",
          "South Asia (IDA & IBRD)",
          "Sub-Saharan Africa (IDA & IBRD countries)",
          "Upper middle income",
          "Venezuela, RB",
          "British Virgin Islands",
          "Virgin Islands (U.S.)",
          "World",
          "Kosovo",
          "Yemen, Rep."
         ],
         "text": [
          "Afghanistan",
          "Angola",
          "Albania",
          "Andorra",
          "United Arab Emirates",
          "Argentina",
          "Armenia",
          "Antigua and Barbuda",
          "Australia",
          "Austria",
          "Azerbaijan",
          "Burundi",
          "Belgium",
          "Benin",
          "Burkina Faso",
          "Bangladesh",
          "Bulgaria",
          "Bahrain",
          "Bahamas",
          "Bosnia and Herzegovina",
          "Belarus",
          "Belize",
          "Bolivia",
          "Brazil",
          "Barbados",
          "Brunei",
          "Bhutan",
          "Botswana",
          "Central African Republic",
          "Canada",
          "Switzerland",
          "Chile",
          "China",
          "Cote d'Ivoire",
          "Cameroon",
          "Congo Dem Rep",
          "Congo, Rep.",
          "Colombia",
          "Comoros",
          "Cape Verde",
          "Costa Rica",
          "Cuba",
          "Cyprus",
          "Czech Republic",
          "Germany",
          "Djibouti",
          "Dominica",
          "Denmark",
          "Dominican Republic",
          "Algeria",
          "Ecuador",
          "Egypt",
          "Eritrea",
          "Spain",
          "Estonia",
          "Ethiopia",
          "Finland",
          "Fiji",
          "France",
          "Micronesia, Fed. Sts.",
          "Gabon",
          "United Kingdom",
          "Georgia",
          "Ghana",
          "Guinea",
          "Gambia",
          "Guinea-Bissau",
          "Equatorial Guinea",
          "Greece",
          "Grenada",
          "Guatemala",
          "Guyana",
          "Hong Kong, China",
          "Honduras",
          "Holy See",
          "Croatia",
          "Haiti",
          "Hungary",
          "Indonesia",
          "India",
          "Ireland",
          "Iran",
          "Iraq",
          "Iceland",
          "Israel",
          "Italy",
          "Jamaica",
          "Jordan",
          "Japan",
          "Kazakhstan",
          "Kenya",
          "Kyrgyz Republic",
          "Cambodia",
          "Kiribati",
          "St. Kitts and Nevis",
          "South Korea",
          "Kuwait",
          "Lao",
          "Lebanon",
          "Liberia",
          "Libya",
          "St. Lucia",
          "Liechtenstein",
          "Sri Lanka",
          "Lesotho",
          "Lithuania",
          "Luxembourg",
          "Latvia",
          "Morocco",
          "Monaco",
          "Moldova",
          "Madagascar",
          "Maldives",
          "Mexico",
          "Marshall Islands",
          "North Macedonia",
          "Mali",
          "Malta",
          "Myanmar",
          "Montenegro",
          "Mongolia",
          "Mozambique",
          "Mauritania",
          "Mauritius",
          "Malawi",
          "Malaysia",
          "Namibia",
          "Niger",
          "Nigeria",
          "Nicaragua",
          "Netherlands",
          "Norway",
          "Nepal",
          "Nauru",
          "New Zealand",
          "Oman",
          "Pakistan",
          "Panama",
          "Peru",
          "Philippines",
          "Palau",
          "Papua New Guinea",
          "Poland",
          "North Korea",
          "Portugal",
          "Paraguay",
          "Palestine",
          "Qatar",
          "Romania",
          "Russia",
          "Rwanda",
          "Saudi Arabia",
          "Sudan",
          "Senegal",
          "Singapore",
          "Solomon Islands",
          "Sierra Leone",
          "El Salvador",
          "San Marino",
          "Somalia",
          "Serbia",
          "South Sudan",
          "Sao Tome and Principe",
          "Suriname",
          "Slovak Republic",
          "Slovenia",
          "Sweden",
          "Eswatini",
          "Seychelles",
          "Syria",
          "Chad",
          "Togo",
          "Thailand",
          "Tajikistan",
          "Turkmenistan",
          "Timor-Leste",
          "Tonga",
          "Trinidad and Tobago",
          "Tunisia",
          "Turkey",
          "Tuvalu",
          "Taiwan",
          "Tanzania",
          "Uganda",
          "Ukraine",
          "Uruguay",
          "United States",
          "Uzbekistan",
          "St. Vincent and the Grenadines",
          "Venezuela",
          "Vietnam",
          "Vanuatu",
          "Samoa",
          "Yemen",
          "South Africa",
          "Zambia",
          "Zimbabwe",
          "Congo, Dem. Rep.",
          "Aruba",
          "Africa Eastern and Southern",
          "Africa Western and Central",
          "Arab World",
          "American Samoa",
          "Bahamas, The",
          "Bermuda",
          "Brunei Darussalam",
          "Central Europe and the Baltics",
          "Channel Islands",
          "Cabo Verde",
          "Caribbean small states",
          "Curacao",
          "Cayman Islands",
          "East Asia & Pacific (excluding high income)",
          "Early-demographic dividend",
          "East Asia & Pacific",
          "Europe & Central Asia (excluding high income)",
          "Europe & Central Asia",
          "Egypt, Arab Rep.",
          "Euro area",
          "European Union",
          "Fragile and conflict affected situations",
          "Faroe Islands",
          "Gibraltar",
          "Gambia, The",
          "Greenland",
          "Guam",
          "High income",
          "Hong Kong SAR, China",
          "Heavily indebted poor countries (HIPC)",
          "IBRD only",
          "IDA & IBRD total",
          "IDA total",
          "IDA blend",
          "IDA only",
          "Isle of Man",
          "Not classified",
          "Iran, Islamic Rep.",
          "Korea, Rep.",
          "Latin America & Caribbean (excluding high income)",
          "Lao PDR",
          "Latin America & Caribbean",
          "Least developed countries: UN classification",
          "Low income",
          "Lower middle income",
          "Low & middle income",
          "Late-demographic dividend",
          "Macao SAR, China",
          "St. Martin (French part)",
          "Middle East & North Africa",
          "Middle income",
          "Middle East & North Africa (excluding high income)",
          "Northern Mariana Islands",
          "North America",
          "New Caledonia",
          "OECD members",
          "Other small states",
          "Pre-demographic dividend",
          "Puerto Rico",
          "Korea, Dem. People's Rep.",
          "West Bank and Gaza",
          "Pacific island small states",
          "Post-demographic dividend",
          "French Polynesia",
          "Russian Federation",
          "South Asia",
          "Sub-Saharan Africa (excluding high income)",
          "Sub-Saharan Africa",
          "Small states",
          "Sint Maarten (Dutch part)",
          "Syrian Arab Republic",
          "Turks and Caicos Islands",
          "East Asia & Pacific (IDA & IBRD countries)",
          "Europe & Central Asia (IDA & IBRD countries)",
          "Latin America & the Caribbean (IDA & IBRD countries)",
          "Middle East & North Africa (IDA & IBRD countries)",
          "South Asia (IDA & IBRD)",
          "Sub-Saharan Africa (IDA & IBRD countries)",
          "Upper middle income",
          "Venezuela, RB",
          "British Virgin Islands",
          "Virgin Islands (U.S.)",
          "World",
          "Kosovo",
          "Yemen, Rep."
         ],
         "type": "choropleth",
         "z": [
          30.2,
          33.5,
          59.1,
          null,
          26,
          66.3,
          40.9,
          null,
          90.9,
          84.9,
          31.9,
          45.1,
          81.6,
          60.6,
          36,
          55.2,
          70.2,
          33.8,
          null,
          57,
          33.4,
          null,
          61.5,
          73.8,
          null,
          null,
          43,
          74.7,
          18.6,
          90.7,
          91.5,
          78.9,
          30.4,
          32.7,
          34.6,
          null,
          29.4,
          65.4,
          35.8,
          78.1,
          80.4,
          35.2,
          77,
          81.9,
          88.2,
          23.7,
          null,
          95.2,
          62,
          33.2,
          56.4,
          38.9,
          23.1,
          84.5,
          76.8,
          45.2,
          92.5,
          51.1,
          80.7,
          null,
          30,
          81.5,
          46.2,
          53.5,
          20.9,
          41.9,
          19.9,
          21.9,
          81.3,
          null,
          60.7,
          61.2,
          58.5,
          61.8,
          null,
          70.4,
          41.9,
          74.4,
          63.4,
          78,
          90.1,
          28.3,
          40,
          96.5,
          74.8,
          79.8,
          72.1,
          39.3,
          82.5,
          34.5,
          47.9,
          40.5,
          48.7,
          null,
          null,
          80.1,
          33.9,
          21,
          56.2,
          52.5,
          20,
          null,
          null,
          66.1,
          62.9,
          73.6,
          91,
          72.3,
          38.8,
          null,
          65,
          55.7,
          null,
          67.8,
          null,
          62.1,
          58.7,
          83.9,
          17.7,
          64.3,
          66,
          54.9,
          39.1,
          80.4,
          51.3,
          63.6,
          64.8,
          34.1,
          35.3,
          60.7,
          95.3,
          96.8,
          40.5,
          null,
          91.9,
          29.8,
          44.6,
          73.5,
          63.1,
          61.2,
          null,
          65.4,
          73,
          8.6,
          80.5,
          64,
          58.3,
          29.2,
          70.6,
          44.8,
          37.1,
          19,
          28.1,
          53.7,
          58.9,
          null,
          41.1,
          64,
          null,
          null,
          64.9,
          null,
          null,
          65.8,
          73.3,
          79.6,
          98.8,
          30.4,
          null,
          21.8,
          15.2,
          24.3,
          68.1,
          24.5,
          17.2,
          72.2,
          null,
          72.1,
          29.6,
          56.9,
          null,
          78.2,
          52.8,
          50.3,
          69.4,
          80.8,
          82.2,
          17.4,
          null,
          53.4,
          25.3,
          null,
          null,
          29.5,
          79.1,
          52.5,
          25.3,
          22.8,
          null,
          null,
          null,
          null,
          null,
          null,
          null,
          null,
          null,
          null,
          null,
          null,
          null,
          null,
          null,
          null,
          null,
          null,
          null,
          null,
          null,
          null,
          null,
          null,
          null,
          null,
          null,
          null,
          null,
          null,
          null,
          null,
          null,
          null,
          null,
          null,
          null,
          null,
          null,
          null,
          null,
          null,
          null,
          null,
          null,
          null,
          null,
          null,
          null,
          null,
          null,
          null,
          null,
          null,
          null,
          null,
          null,
          null,
          null,
          null,
          null,
          null,
          null,
          null,
          null,
          null,
          null,
          null,
          null,
          null,
          null,
          null,
          null,
          null,
          null,
          null,
          null,
          null,
          null,
          null,
          null,
          null,
          null,
          null,
          null,
          null
         ]
        }
       ],
       "layout": {
        "geo": {
         "showframe": false
        },
        "template": {
         "data": {
          "bar": [
           {
            "error_x": {
             "color": "#2a3f5f"
            },
            "error_y": {
             "color": "#2a3f5f"
            },
            "marker": {
             "line": {
              "color": "#E5ECF6",
              "width": 0.5
             },
             "pattern": {
              "fillmode": "overlay",
              "size": 10,
              "solidity": 0.2
             }
            },
            "type": "bar"
           }
          ],
          "barpolar": [
           {
            "marker": {
             "line": {
              "color": "#E5ECF6",
              "width": 0.5
             },
             "pattern": {
              "fillmode": "overlay",
              "size": 10,
              "solidity": 0.2
             }
            },
            "type": "barpolar"
           }
          ],
          "carpet": [
           {
            "aaxis": {
             "endlinecolor": "#2a3f5f",
             "gridcolor": "white",
             "linecolor": "white",
             "minorgridcolor": "white",
             "startlinecolor": "#2a3f5f"
            },
            "baxis": {
             "endlinecolor": "#2a3f5f",
             "gridcolor": "white",
             "linecolor": "white",
             "minorgridcolor": "white",
             "startlinecolor": "#2a3f5f"
            },
            "type": "carpet"
           }
          ],
          "choropleth": [
           {
            "colorbar": {
             "outlinewidth": 0,
             "ticks": ""
            },
            "type": "choropleth"
           }
          ],
          "contour": [
           {
            "colorbar": {
             "outlinewidth": 0,
             "ticks": ""
            },
            "colorscale": [
             [
              0,
              "#0d0887"
             ],
             [
              0.1111111111111111,
              "#46039f"
             ],
             [
              0.2222222222222222,
              "#7201a8"
             ],
             [
              0.3333333333333333,
              "#9c179e"
             ],
             [
              0.4444444444444444,
              "#bd3786"
             ],
             [
              0.5555555555555556,
              "#d8576b"
             ],
             [
              0.6666666666666666,
              "#ed7953"
             ],
             [
              0.7777777777777778,
              "#fb9f3a"
             ],
             [
              0.8888888888888888,
              "#fdca26"
             ],
             [
              1,
              "#f0f921"
             ]
            ],
            "type": "contour"
           }
          ],
          "contourcarpet": [
           {
            "colorbar": {
             "outlinewidth": 0,
             "ticks": ""
            },
            "type": "contourcarpet"
           }
          ],
          "heatmap": [
           {
            "colorbar": {
             "outlinewidth": 0,
             "ticks": ""
            },
            "colorscale": [
             [
              0,
              "#0d0887"
             ],
             [
              0.1111111111111111,
              "#46039f"
             ],
             [
              0.2222222222222222,
              "#7201a8"
             ],
             [
              0.3333333333333333,
              "#9c179e"
             ],
             [
              0.4444444444444444,
              "#bd3786"
             ],
             [
              0.5555555555555556,
              "#d8576b"
             ],
             [
              0.6666666666666666,
              "#ed7953"
             ],
             [
              0.7777777777777778,
              "#fb9f3a"
             ],
             [
              0.8888888888888888,
              "#fdca26"
             ],
             [
              1,
              "#f0f921"
             ]
            ],
            "type": "heatmap"
           }
          ],
          "heatmapgl": [
           {
            "colorbar": {
             "outlinewidth": 0,
             "ticks": ""
            },
            "colorscale": [
             [
              0,
              "#0d0887"
             ],
             [
              0.1111111111111111,
              "#46039f"
             ],
             [
              0.2222222222222222,
              "#7201a8"
             ],
             [
              0.3333333333333333,
              "#9c179e"
             ],
             [
              0.4444444444444444,
              "#bd3786"
             ],
             [
              0.5555555555555556,
              "#d8576b"
             ],
             [
              0.6666666666666666,
              "#ed7953"
             ],
             [
              0.7777777777777778,
              "#fb9f3a"
             ],
             [
              0.8888888888888888,
              "#fdca26"
             ],
             [
              1,
              "#f0f921"
             ]
            ],
            "type": "heatmapgl"
           }
          ],
          "histogram": [
           {
            "marker": {
             "pattern": {
              "fillmode": "overlay",
              "size": 10,
              "solidity": 0.2
             }
            },
            "type": "histogram"
           }
          ],
          "histogram2d": [
           {
            "colorbar": {
             "outlinewidth": 0,
             "ticks": ""
            },
            "colorscale": [
             [
              0,
              "#0d0887"
             ],
             [
              0.1111111111111111,
              "#46039f"
             ],
             [
              0.2222222222222222,
              "#7201a8"
             ],
             [
              0.3333333333333333,
              "#9c179e"
             ],
             [
              0.4444444444444444,
              "#bd3786"
             ],
             [
              0.5555555555555556,
              "#d8576b"
             ],
             [
              0.6666666666666666,
              "#ed7953"
             ],
             [
              0.7777777777777778,
              "#fb9f3a"
             ],
             [
              0.8888888888888888,
              "#fdca26"
             ],
             [
              1,
              "#f0f921"
             ]
            ],
            "type": "histogram2d"
           }
          ],
          "histogram2dcontour": [
           {
            "colorbar": {
             "outlinewidth": 0,
             "ticks": ""
            },
            "colorscale": [
             [
              0,
              "#0d0887"
             ],
             [
              0.1111111111111111,
              "#46039f"
             ],
             [
              0.2222222222222222,
              "#7201a8"
             ],
             [
              0.3333333333333333,
              "#9c179e"
             ],
             [
              0.4444444444444444,
              "#bd3786"
             ],
             [
              0.5555555555555556,
              "#d8576b"
             ],
             [
              0.6666666666666666,
              "#ed7953"
             ],
             [
              0.7777777777777778,
              "#fb9f3a"
             ],
             [
              0.8888888888888888,
              "#fdca26"
             ],
             [
              1,
              "#f0f921"
             ]
            ],
            "type": "histogram2dcontour"
           }
          ],
          "mesh3d": [
           {
            "colorbar": {
             "outlinewidth": 0,
             "ticks": ""
            },
            "type": "mesh3d"
           }
          ],
          "parcoords": [
           {
            "line": {
             "colorbar": {
              "outlinewidth": 0,
              "ticks": ""
             }
            },
            "type": "parcoords"
           }
          ],
          "pie": [
           {
            "automargin": true,
            "type": "pie"
           }
          ],
          "scatter": [
           {
            "fillpattern": {
             "fillmode": "overlay",
             "size": 10,
             "solidity": 0.2
            },
            "type": "scatter"
           }
          ],
          "scatter3d": [
           {
            "line": {
             "colorbar": {
              "outlinewidth": 0,
              "ticks": ""
             }
            },
            "marker": {
             "colorbar": {
              "outlinewidth": 0,
              "ticks": ""
             }
            },
            "type": "scatter3d"
           }
          ],
          "scattercarpet": [
           {
            "marker": {
             "colorbar": {
              "outlinewidth": 0,
              "ticks": ""
             }
            },
            "type": "scattercarpet"
           }
          ],
          "scattergeo": [
           {
            "marker": {
             "colorbar": {
              "outlinewidth": 0,
              "ticks": ""
             }
            },
            "type": "scattergeo"
           }
          ],
          "scattergl": [
           {
            "marker": {
             "colorbar": {
              "outlinewidth": 0,
              "ticks": ""
             }
            },
            "type": "scattergl"
           }
          ],
          "scattermapbox": [
           {
            "marker": {
             "colorbar": {
              "outlinewidth": 0,
              "ticks": ""
             }
            },
            "type": "scattermapbox"
           }
          ],
          "scatterpolar": [
           {
            "marker": {
             "colorbar": {
              "outlinewidth": 0,
              "ticks": ""
             }
            },
            "type": "scatterpolar"
           }
          ],
          "scatterpolargl": [
           {
            "marker": {
             "colorbar": {
              "outlinewidth": 0,
              "ticks": ""
             }
            },
            "type": "scatterpolargl"
           }
          ],
          "scatterternary": [
           {
            "marker": {
             "colorbar": {
              "outlinewidth": 0,
              "ticks": ""
             }
            },
            "type": "scatterternary"
           }
          ],
          "surface": [
           {
            "colorbar": {
             "outlinewidth": 0,
             "ticks": ""
            },
            "colorscale": [
             [
              0,
              "#0d0887"
             ],
             [
              0.1111111111111111,
              "#46039f"
             ],
             [
              0.2222222222222222,
              "#7201a8"
             ],
             [
              0.3333333333333333,
              "#9c179e"
             ],
             [
              0.4444444444444444,
              "#bd3786"
             ],
             [
              0.5555555555555556,
              "#d8576b"
             ],
             [
              0.6666666666666666,
              "#ed7953"
             ],
             [
              0.7777777777777778,
              "#fb9f3a"
             ],
             [
              0.8888888888888888,
              "#fdca26"
             ],
             [
              1,
              "#f0f921"
             ]
            ],
            "type": "surface"
           }
          ],
          "table": [
           {
            "cells": {
             "fill": {
              "color": "#EBF0F8"
             },
             "line": {
              "color": "white"
             }
            },
            "header": {
             "fill": {
              "color": "#C8D4E3"
             },
             "line": {
              "color": "white"
             }
            },
            "type": "table"
           }
          ]
         },
         "layout": {
          "annotationdefaults": {
           "arrowcolor": "#2a3f5f",
           "arrowhead": 0,
           "arrowwidth": 1
          },
          "autotypenumbers": "strict",
          "coloraxis": {
           "colorbar": {
            "outlinewidth": 0,
            "ticks": ""
           }
          },
          "colorscale": {
           "diverging": [
            [
             0,
             "#8e0152"
            ],
            [
             0.1,
             "#c51b7d"
            ],
            [
             0.2,
             "#de77ae"
            ],
            [
             0.3,
             "#f1b6da"
            ],
            [
             0.4,
             "#fde0ef"
            ],
            [
             0.5,
             "#f7f7f7"
            ],
            [
             0.6,
             "#e6f5d0"
            ],
            [
             0.7,
             "#b8e186"
            ],
            [
             0.8,
             "#7fbc41"
            ],
            [
             0.9,
             "#4d9221"
            ],
            [
             1,
             "#276419"
            ]
           ],
           "sequential": [
            [
             0,
             "#0d0887"
            ],
            [
             0.1111111111111111,
             "#46039f"
            ],
            [
             0.2222222222222222,
             "#7201a8"
            ],
            [
             0.3333333333333333,
             "#9c179e"
            ],
            [
             0.4444444444444444,
             "#bd3786"
            ],
            [
             0.5555555555555556,
             "#d8576b"
            ],
            [
             0.6666666666666666,
             "#ed7953"
            ],
            [
             0.7777777777777778,
             "#fb9f3a"
            ],
            [
             0.8888888888888888,
             "#fdca26"
            ],
            [
             1,
             "#f0f921"
            ]
           ],
           "sequentialminus": [
            [
             0,
             "#0d0887"
            ],
            [
             0.1111111111111111,
             "#46039f"
            ],
            [
             0.2222222222222222,
             "#7201a8"
            ],
            [
             0.3333333333333333,
             "#9c179e"
            ],
            [
             0.4444444444444444,
             "#bd3786"
            ],
            [
             0.5555555555555556,
             "#d8576b"
            ],
            [
             0.6666666666666666,
             "#ed7953"
            ],
            [
             0.7777777777777778,
             "#fb9f3a"
            ],
            [
             0.8888888888888888,
             "#fdca26"
            ],
            [
             1,
             "#f0f921"
            ]
           ]
          },
          "colorway": [
           "#636efa",
           "#EF553B",
           "#00cc96",
           "#ab63fa",
           "#FFA15A",
           "#19d3f3",
           "#FF6692",
           "#B6E880",
           "#FF97FF",
           "#FECB52"
          ],
          "font": {
           "color": "#2a3f5f"
          },
          "geo": {
           "bgcolor": "white",
           "lakecolor": "white",
           "landcolor": "#E5ECF6",
           "showlakes": true,
           "showland": true,
           "subunitcolor": "white"
          },
          "hoverlabel": {
           "align": "left"
          },
          "hovermode": "closest",
          "mapbox": {
           "style": "light"
          },
          "paper_bgcolor": "white",
          "plot_bgcolor": "#E5ECF6",
          "polar": {
           "angularaxis": {
            "gridcolor": "white",
            "linecolor": "white",
            "ticks": ""
           },
           "bgcolor": "#E5ECF6",
           "radialaxis": {
            "gridcolor": "white",
            "linecolor": "white",
            "ticks": ""
           }
          },
          "scene": {
           "xaxis": {
            "backgroundcolor": "#E5ECF6",
            "gridcolor": "white",
            "gridwidth": 2,
            "linecolor": "white",
            "showbackground": true,
            "ticks": "",
            "zerolinecolor": "white"
           },
           "yaxis": {
            "backgroundcolor": "#E5ECF6",
            "gridcolor": "white",
            "gridwidth": 2,
            "linecolor": "white",
            "showbackground": true,
            "ticks": "",
            "zerolinecolor": "white"
           },
           "zaxis": {
            "backgroundcolor": "#E5ECF6",
            "gridcolor": "white",
            "gridwidth": 2,
            "linecolor": "white",
            "showbackground": true,
            "ticks": "",
            "zerolinecolor": "white"
           }
          },
          "shapedefaults": {
           "line": {
            "color": "#2a3f5f"
           }
          },
          "ternary": {
           "aaxis": {
            "gridcolor": "white",
            "linecolor": "white",
            "ticks": ""
           },
           "baxis": {
            "gridcolor": "white",
            "linecolor": "white",
            "ticks": ""
           },
           "bgcolor": "#E5ECF6",
           "caxis": {
            "gridcolor": "white",
            "linecolor": "white",
            "ticks": ""
           }
          },
          "title": {
           "x": 0.05
          },
          "xaxis": {
           "automargin": true,
           "gridcolor": "white",
           "linecolor": "white",
           "ticks": "",
           "title": {
            "standoff": 15
           },
           "zerolinecolor": "white",
           "zerolinewidth": 2
          },
          "yaxis": {
           "automargin": true,
           "gridcolor": "white",
           "linecolor": "white",
           "ticks": "",
           "title": {
            "standoff": 15
           },
           "zerolinecolor": "white",
           "zerolinewidth": 2
          }
         }
        },
        "title": {
         "text": "Global Distribution of Democratic Countries 2008"
        }
       }
      },
      "text/html": [
       "<div>                            <div id=\"eb4eb887-28af-4493-9a96-64b64548213a\" class=\"plotly-graph-div\" style=\"height:525px; width:100%;\"></div>            <script type=\"text/javascript\">                require([\"plotly\"], function(Plotly) {                    window.PLOTLYENV=window.PLOTLYENV || {};                                    if (document.getElementById(\"eb4eb887-28af-4493-9a96-64b64548213a\")) {                    Plotly.newPlot(                        \"eb4eb887-28af-4493-9a96-64b64548213a\",                        [{\"colorbar\":{\"title\":{\"text\":\"Democratic Governments\"}},\"locationmode\":\"country names\",\"locations\":[\"Afghanistan\",\"Angola\",\"Albania\",\"Andorra\",\"United Arab Emirates\",\"Argentina\",\"Armenia\",\"Antigua and Barbuda\",\"Australia\",\"Austria\",\"Azerbaijan\",\"Burundi\",\"Belgium\",\"Benin\",\"Burkina Faso\",\"Bangladesh\",\"Bulgaria\",\"Bahrain\",\"Bahamas\",\"Bosnia and Herzegovina\",\"Belarus\",\"Belize\",\"Bolivia\",\"Brazil\",\"Barbados\",\"Brunei\",\"Bhutan\",\"Botswana\",\"Central African Republic\",\"Canada\",\"Switzerland\",\"Chile\",\"China\",\"Cote d'Ivoire\",\"Cameroon\",\"Congo Dem Rep\",\"Congo, Rep.\",\"Colombia\",\"Comoros\",\"Cape Verde\",\"Costa Rica\",\"Cuba\",\"Cyprus\",\"Czech Republic\",\"Germany\",\"Djibouti\",\"Dominica\",\"Denmark\",\"Dominican Republic\",\"Algeria\",\"Ecuador\",\"Egypt\",\"Eritrea\",\"Spain\",\"Estonia\",\"Ethiopia\",\"Finland\",\"Fiji\",\"France\",\"Micronesia, Fed. Sts.\",\"Gabon\",\"United Kingdom\",\"Georgia\",\"Ghana\",\"Guinea\",\"Gambia\",\"Guinea-Bissau\",\"Equatorial Guinea\",\"Greece\",\"Grenada\",\"Guatemala\",\"Guyana\",\"Hong Kong, China\",\"Honduras\",\"Holy See\",\"Croatia\",\"Haiti\",\"Hungary\",\"Indonesia\",\"India\",\"Ireland\",\"Iran\",\"Iraq\",\"Iceland\",\"Israel\",\"Italy\",\"Jamaica\",\"Jordan\",\"Japan\",\"Kazakhstan\",\"Kenya\",\"Kyrgyz Republic\",\"Cambodia\",\"Kiribati\",\"St. Kitts and Nevis\",\"South Korea\",\"Kuwait\",\"Lao\",\"Lebanon\",\"Liberia\",\"Libya\",\"St. Lucia\",\"Liechtenstein\",\"Sri Lanka\",\"Lesotho\",\"Lithuania\",\"Luxembourg\",\"Latvia\",\"Morocco\",\"Monaco\",\"Moldova\",\"Madagascar\",\"Maldives\",\"Mexico\",\"Marshall Islands\",\"North Macedonia\",\"Mali\",\"Malta\",\"Myanmar\",\"Montenegro\",\"Mongolia\",\"Mozambique\",\"Mauritania\",\"Mauritius\",\"Malawi\",\"Malaysia\",\"Namibia\",\"Niger\",\"Nigeria\",\"Nicaragua\",\"Netherlands\",\"Norway\",\"Nepal\",\"Nauru\",\"New Zealand\",\"Oman\",\"Pakistan\",\"Panama\",\"Peru\",\"Philippines\",\"Palau\",\"Papua New Guinea\",\"Poland\",\"North Korea\",\"Portugal\",\"Paraguay\",\"Palestine\",\"Qatar\",\"Romania\",\"Russia\",\"Rwanda\",\"Saudi Arabia\",\"Sudan\",\"Senegal\",\"Singapore\",\"Solomon Islands\",\"Sierra Leone\",\"El Salvador\",\"San Marino\",\"Somalia\",\"Serbia\",\"South Sudan\",\"Sao Tome and Principe\",\"Suriname\",\"Slovak Republic\",\"Slovenia\",\"Sweden\",\"Eswatini\",\"Seychelles\",\"Syria\",\"Chad\",\"Togo\",\"Thailand\",\"Tajikistan\",\"Turkmenistan\",\"Timor-Leste\",\"Tonga\",\"Trinidad and Tobago\",\"Tunisia\",\"Turkey\",\"Tuvalu\",\"Taiwan\",\"Tanzania\",\"Uganda\",\"Ukraine\",\"Uruguay\",\"United States\",\"Uzbekistan\",\"St. Vincent and the Grenadines\",\"Venezuela\",\"Vietnam\",\"Vanuatu\",\"Samoa\",\"Yemen\",\"South Africa\",\"Zambia\",\"Zimbabwe\",\"Congo, Dem. Rep.\",\"Aruba\",\"Africa Eastern and Southern\",\"Africa Western and Central\",\"Arab World\",\"American Samoa\",\"Bahamas, The\",\"Bermuda\",\"Brunei Darussalam\",\"Central Europe and the Baltics\",\"Channel Islands\",\"Cabo Verde\",\"Caribbean small states\",\"Curacao\",\"Cayman Islands\",\"East Asia & Pacific (excluding high income)\",\"Early-demographic dividend\",\"East Asia & Pacific\",\"Europe & Central Asia (excluding high income)\",\"Europe & Central Asia\",\"Egypt, Arab Rep.\",\"Euro area\",\"European Union\",\"Fragile and conflict affected situations\",\"Faroe Islands\",\"Gibraltar\",\"Gambia, The\",\"Greenland\",\"Guam\",\"High income\",\"Hong Kong SAR, China\",\"Heavily indebted poor countries (HIPC)\",\"IBRD only\",\"IDA & IBRD total\",\"IDA total\",\"IDA blend\",\"IDA only\",\"Isle of Man\",\"Not classified\",\"Iran, Islamic Rep.\",\"Korea, Rep.\",\"Latin America & Caribbean (excluding high income)\",\"Lao PDR\",\"Latin America & Caribbean\",\"Least developed countries: UN classification\",\"Low income\",\"Lower middle income\",\"Low & middle income\",\"Late-demographic dividend\",\"Macao SAR, China\",\"St. Martin (French part)\",\"Middle East & North Africa\",\"Middle income\",\"Middle East & North Africa (excluding high income)\",\"Northern Mariana Islands\",\"North America\",\"New Caledonia\",\"OECD members\",\"Other small states\",\"Pre-demographic dividend\",\"Puerto Rico\",\"Korea, Dem. People's Rep.\",\"West Bank and Gaza\",\"Pacific island small states\",\"Post-demographic dividend\",\"French Polynesia\",\"Russian Federation\",\"South Asia\",\"Sub-Saharan Africa (excluding high income)\",\"Sub-Saharan Africa\",\"Small states\",\"Sint Maarten (Dutch part)\",\"Syrian Arab Republic\",\"Turks and Caicos Islands\",\"East Asia & Pacific (IDA & IBRD countries)\",\"Europe & Central Asia (IDA & IBRD countries)\",\"Latin America & the Caribbean (IDA & IBRD countries)\",\"Middle East & North Africa (IDA & IBRD countries)\",\"South Asia (IDA & IBRD)\",\"Sub-Saharan Africa (IDA & IBRD countries)\",\"Upper middle income\",\"Venezuela, RB\",\"British Virgin Islands\",\"Virgin Islands (U.S.)\",\"World\",\"Kosovo\",\"Yemen, Rep.\"],\"text\":[\"Afghanistan\",\"Angola\",\"Albania\",\"Andorra\",\"United Arab Emirates\",\"Argentina\",\"Armenia\",\"Antigua and Barbuda\",\"Australia\",\"Austria\",\"Azerbaijan\",\"Burundi\",\"Belgium\",\"Benin\",\"Burkina Faso\",\"Bangladesh\",\"Bulgaria\",\"Bahrain\",\"Bahamas\",\"Bosnia and Herzegovina\",\"Belarus\",\"Belize\",\"Bolivia\",\"Brazil\",\"Barbados\",\"Brunei\",\"Bhutan\",\"Botswana\",\"Central African Republic\",\"Canada\",\"Switzerland\",\"Chile\",\"China\",\"Cote d'Ivoire\",\"Cameroon\",\"Congo Dem Rep\",\"Congo, Rep.\",\"Colombia\",\"Comoros\",\"Cape Verde\",\"Costa Rica\",\"Cuba\",\"Cyprus\",\"Czech Republic\",\"Germany\",\"Djibouti\",\"Dominica\",\"Denmark\",\"Dominican Republic\",\"Algeria\",\"Ecuador\",\"Egypt\",\"Eritrea\",\"Spain\",\"Estonia\",\"Ethiopia\",\"Finland\",\"Fiji\",\"France\",\"Micronesia, Fed. Sts.\",\"Gabon\",\"United Kingdom\",\"Georgia\",\"Ghana\",\"Guinea\",\"Gambia\",\"Guinea-Bissau\",\"Equatorial Guinea\",\"Greece\",\"Grenada\",\"Guatemala\",\"Guyana\",\"Hong Kong, China\",\"Honduras\",\"Holy See\",\"Croatia\",\"Haiti\",\"Hungary\",\"Indonesia\",\"India\",\"Ireland\",\"Iran\",\"Iraq\",\"Iceland\",\"Israel\",\"Italy\",\"Jamaica\",\"Jordan\",\"Japan\",\"Kazakhstan\",\"Kenya\",\"Kyrgyz Republic\",\"Cambodia\",\"Kiribati\",\"St. Kitts and Nevis\",\"South Korea\",\"Kuwait\",\"Lao\",\"Lebanon\",\"Liberia\",\"Libya\",\"St. Lucia\",\"Liechtenstein\",\"Sri Lanka\",\"Lesotho\",\"Lithuania\",\"Luxembourg\",\"Latvia\",\"Morocco\",\"Monaco\",\"Moldova\",\"Madagascar\",\"Maldives\",\"Mexico\",\"Marshall Islands\",\"North Macedonia\",\"Mali\",\"Malta\",\"Myanmar\",\"Montenegro\",\"Mongolia\",\"Mozambique\",\"Mauritania\",\"Mauritius\",\"Malawi\",\"Malaysia\",\"Namibia\",\"Niger\",\"Nigeria\",\"Nicaragua\",\"Netherlands\",\"Norway\",\"Nepal\",\"Nauru\",\"New Zealand\",\"Oman\",\"Pakistan\",\"Panama\",\"Peru\",\"Philippines\",\"Palau\",\"Papua New Guinea\",\"Poland\",\"North Korea\",\"Portugal\",\"Paraguay\",\"Palestine\",\"Qatar\",\"Romania\",\"Russia\",\"Rwanda\",\"Saudi Arabia\",\"Sudan\",\"Senegal\",\"Singapore\",\"Solomon Islands\",\"Sierra Leone\",\"El Salvador\",\"San Marino\",\"Somalia\",\"Serbia\",\"South Sudan\",\"Sao Tome and Principe\",\"Suriname\",\"Slovak Republic\",\"Slovenia\",\"Sweden\",\"Eswatini\",\"Seychelles\",\"Syria\",\"Chad\",\"Togo\",\"Thailand\",\"Tajikistan\",\"Turkmenistan\",\"Timor-Leste\",\"Tonga\",\"Trinidad and Tobago\",\"Tunisia\",\"Turkey\",\"Tuvalu\",\"Taiwan\",\"Tanzania\",\"Uganda\",\"Ukraine\",\"Uruguay\",\"United States\",\"Uzbekistan\",\"St. Vincent and the Grenadines\",\"Venezuela\",\"Vietnam\",\"Vanuatu\",\"Samoa\",\"Yemen\",\"South Africa\",\"Zambia\",\"Zimbabwe\",\"Congo, Dem. Rep.\",\"Aruba\",\"Africa Eastern and Southern\",\"Africa Western and Central\",\"Arab World\",\"American Samoa\",\"Bahamas, The\",\"Bermuda\",\"Brunei Darussalam\",\"Central Europe and the Baltics\",\"Channel Islands\",\"Cabo Verde\",\"Caribbean small states\",\"Curacao\",\"Cayman Islands\",\"East Asia & Pacific (excluding high income)\",\"Early-demographic dividend\",\"East Asia & Pacific\",\"Europe & Central Asia (excluding high income)\",\"Europe & Central Asia\",\"Egypt, Arab Rep.\",\"Euro area\",\"European Union\",\"Fragile and conflict affected situations\",\"Faroe Islands\",\"Gibraltar\",\"Gambia, The\",\"Greenland\",\"Guam\",\"High income\",\"Hong Kong SAR, China\",\"Heavily indebted poor countries (HIPC)\",\"IBRD only\",\"IDA & IBRD total\",\"IDA total\",\"IDA blend\",\"IDA only\",\"Isle of Man\",\"Not classified\",\"Iran, Islamic Rep.\",\"Korea, Rep.\",\"Latin America & Caribbean (excluding high income)\",\"Lao PDR\",\"Latin America & Caribbean\",\"Least developed countries: UN classification\",\"Low income\",\"Lower middle income\",\"Low & middle income\",\"Late-demographic dividend\",\"Macao SAR, China\",\"St. Martin (French part)\",\"Middle East & North Africa\",\"Middle income\",\"Middle East & North Africa (excluding high income)\",\"Northern Mariana Islands\",\"North America\",\"New Caledonia\",\"OECD members\",\"Other small states\",\"Pre-demographic dividend\",\"Puerto Rico\",\"Korea, Dem. People's Rep.\",\"West Bank and Gaza\",\"Pacific island small states\",\"Post-demographic dividend\",\"French Polynesia\",\"Russian Federation\",\"South Asia\",\"Sub-Saharan Africa (excluding high income)\",\"Sub-Saharan Africa\",\"Small states\",\"Sint Maarten (Dutch part)\",\"Syrian Arab Republic\",\"Turks and Caicos Islands\",\"East Asia & Pacific (IDA & IBRD countries)\",\"Europe & Central Asia (IDA & IBRD countries)\",\"Latin America & the Caribbean (IDA & IBRD countries)\",\"Middle East & North Africa (IDA & IBRD countries)\",\"South Asia (IDA & IBRD)\",\"Sub-Saharan Africa (IDA & IBRD countries)\",\"Upper middle income\",\"Venezuela, RB\",\"British Virgin Islands\",\"Virgin Islands (U.S.)\",\"World\",\"Kosovo\",\"Yemen, Rep.\"],\"z\":[30.2,33.5,59.1,null,26.0,66.3,40.9,null,90.9,84.9,31.9,45.1,81.6,60.6,36.0,55.2,70.2,33.8,null,57.0,33.4,null,61.5,73.8,null,null,43.0,74.7,18.6,90.7,91.5,78.9,30.4,32.7,34.6,null,29.4,65.4,35.8,78.1,80.4,35.2,77.0,81.9,88.2,23.7,null,95.2,62.0,33.2,56.4,38.9,23.1,84.5,76.8,45.2,92.5,51.1,80.7,null,30.0,81.5,46.2,53.5,20.9,41.9,19.9,21.9,81.3,null,60.7,61.2,58.5,61.8,null,70.4,41.9,74.4,63.4,78.0,90.1,28.3,40.0,96.5,74.8,79.8,72.1,39.3,82.5,34.5,47.9,40.5,48.7,null,null,80.1,33.9,21.0,56.2,52.5,20.0,null,null,66.1,62.9,73.6,91.0,72.3,38.8,null,65.0,55.7,null,67.8,null,62.1,58.7,83.9,17.7,64.3,66.0,54.9,39.1,80.4,51.3,63.6,64.8,34.1,35.3,60.7,95.3,96.8,40.5,null,91.9,29.8,44.6,73.5,63.1,61.2,null,65.4,73.0,8.6,80.5,64.0,58.3,29.2,70.6,44.8,37.1,19.0,28.1,53.7,58.9,null,41.1,64.0,null,null,64.9,null,null,65.8,73.3,79.6,98.8,30.4,null,21.8,15.2,24.3,68.1,24.5,17.2,72.2,null,72.1,29.6,56.9,null,78.2,52.8,50.3,69.4,80.8,82.2,17.4,null,53.4,25.3,null,null,29.5,79.1,52.5,25.3,22.8,null,null,null,null,null,null,null,null,null,null,null,null,null,null,null,null,null,null,null,null,null,null,null,null,null,null,null,null,null,null,null,null,null,null,null,null,null,null,null,null,null,null,null,null,null,null,null,null,null,null,null,null,null,null,null,null,null,null,null,null,null,null,null,null,null,null,null,null,null,null,null,null,null,null,null,null,null,null,null,null,null,null,null,null,null,null],\"type\":\"choropleth\"}],                        {\"geo\":{\"showframe\":false},\"template\":{\"data\":{\"barpolar\":[{\"marker\":{\"line\":{\"color\":\"#E5ECF6\",\"width\":0.5},\"pattern\":{\"fillmode\":\"overlay\",\"size\":10,\"solidity\":0.2}},\"type\":\"barpolar\"}],\"bar\":[{\"error_x\":{\"color\":\"#2a3f5f\"},\"error_y\":{\"color\":\"#2a3f5f\"},\"marker\":{\"line\":{\"color\":\"#E5ECF6\",\"width\":0.5},\"pattern\":{\"fillmode\":\"overlay\",\"size\":10,\"solidity\":0.2}},\"type\":\"bar\"}],\"carpet\":[{\"aaxis\":{\"endlinecolor\":\"#2a3f5f\",\"gridcolor\":\"white\",\"linecolor\":\"white\",\"minorgridcolor\":\"white\",\"startlinecolor\":\"#2a3f5f\"},\"baxis\":{\"endlinecolor\":\"#2a3f5f\",\"gridcolor\":\"white\",\"linecolor\":\"white\",\"minorgridcolor\":\"white\",\"startlinecolor\":\"#2a3f5f\"},\"type\":\"carpet\"}],\"choropleth\":[{\"colorbar\":{\"outlinewidth\":0,\"ticks\":\"\"},\"type\":\"choropleth\"}],\"contourcarpet\":[{\"colorbar\":{\"outlinewidth\":0,\"ticks\":\"\"},\"type\":\"contourcarpet\"}],\"contour\":[{\"colorbar\":{\"outlinewidth\":0,\"ticks\":\"\"},\"colorscale\":[[0.0,\"#0d0887\"],[0.1111111111111111,\"#46039f\"],[0.2222222222222222,\"#7201a8\"],[0.3333333333333333,\"#9c179e\"],[0.4444444444444444,\"#bd3786\"],[0.5555555555555556,\"#d8576b\"],[0.6666666666666666,\"#ed7953\"],[0.7777777777777778,\"#fb9f3a\"],[0.8888888888888888,\"#fdca26\"],[1.0,\"#f0f921\"]],\"type\":\"contour\"}],\"heatmapgl\":[{\"colorbar\":{\"outlinewidth\":0,\"ticks\":\"\"},\"colorscale\":[[0.0,\"#0d0887\"],[0.1111111111111111,\"#46039f\"],[0.2222222222222222,\"#7201a8\"],[0.3333333333333333,\"#9c179e\"],[0.4444444444444444,\"#bd3786\"],[0.5555555555555556,\"#d8576b\"],[0.6666666666666666,\"#ed7953\"],[0.7777777777777778,\"#fb9f3a\"],[0.8888888888888888,\"#fdca26\"],[1.0,\"#f0f921\"]],\"type\":\"heatmapgl\"}],\"heatmap\":[{\"colorbar\":{\"outlinewidth\":0,\"ticks\":\"\"},\"colorscale\":[[0.0,\"#0d0887\"],[0.1111111111111111,\"#46039f\"],[0.2222222222222222,\"#7201a8\"],[0.3333333333333333,\"#9c179e\"],[0.4444444444444444,\"#bd3786\"],[0.5555555555555556,\"#d8576b\"],[0.6666666666666666,\"#ed7953\"],[0.7777777777777778,\"#fb9f3a\"],[0.8888888888888888,\"#fdca26\"],[1.0,\"#f0f921\"]],\"type\":\"heatmap\"}],\"histogram2dcontour\":[{\"colorbar\":{\"outlinewidth\":0,\"ticks\":\"\"},\"colorscale\":[[0.0,\"#0d0887\"],[0.1111111111111111,\"#46039f\"],[0.2222222222222222,\"#7201a8\"],[0.3333333333333333,\"#9c179e\"],[0.4444444444444444,\"#bd3786\"],[0.5555555555555556,\"#d8576b\"],[0.6666666666666666,\"#ed7953\"],[0.7777777777777778,\"#fb9f3a\"],[0.8888888888888888,\"#fdca26\"],[1.0,\"#f0f921\"]],\"type\":\"histogram2dcontour\"}],\"histogram2d\":[{\"colorbar\":{\"outlinewidth\":0,\"ticks\":\"\"},\"colorscale\":[[0.0,\"#0d0887\"],[0.1111111111111111,\"#46039f\"],[0.2222222222222222,\"#7201a8\"],[0.3333333333333333,\"#9c179e\"],[0.4444444444444444,\"#bd3786\"],[0.5555555555555556,\"#d8576b\"],[0.6666666666666666,\"#ed7953\"],[0.7777777777777778,\"#fb9f3a\"],[0.8888888888888888,\"#fdca26\"],[1.0,\"#f0f921\"]],\"type\":\"histogram2d\"}],\"histogram\":[{\"marker\":{\"pattern\":{\"fillmode\":\"overlay\",\"size\":10,\"solidity\":0.2}},\"type\":\"histogram\"}],\"mesh3d\":[{\"colorbar\":{\"outlinewidth\":0,\"ticks\":\"\"},\"type\":\"mesh3d\"}],\"parcoords\":[{\"line\":{\"colorbar\":{\"outlinewidth\":0,\"ticks\":\"\"}},\"type\":\"parcoords\"}],\"pie\":[{\"automargin\":true,\"type\":\"pie\"}],\"scatter3d\":[{\"line\":{\"colorbar\":{\"outlinewidth\":0,\"ticks\":\"\"}},\"marker\":{\"colorbar\":{\"outlinewidth\":0,\"ticks\":\"\"}},\"type\":\"scatter3d\"}],\"scattercarpet\":[{\"marker\":{\"colorbar\":{\"outlinewidth\":0,\"ticks\":\"\"}},\"type\":\"scattercarpet\"}],\"scattergeo\":[{\"marker\":{\"colorbar\":{\"outlinewidth\":0,\"ticks\":\"\"}},\"type\":\"scattergeo\"}],\"scattergl\":[{\"marker\":{\"colorbar\":{\"outlinewidth\":0,\"ticks\":\"\"}},\"type\":\"scattergl\"}],\"scattermapbox\":[{\"marker\":{\"colorbar\":{\"outlinewidth\":0,\"ticks\":\"\"}},\"type\":\"scattermapbox\"}],\"scatterpolargl\":[{\"marker\":{\"colorbar\":{\"outlinewidth\":0,\"ticks\":\"\"}},\"type\":\"scatterpolargl\"}],\"scatterpolar\":[{\"marker\":{\"colorbar\":{\"outlinewidth\":0,\"ticks\":\"\"}},\"type\":\"scatterpolar\"}],\"scatter\":[{\"fillpattern\":{\"fillmode\":\"overlay\",\"size\":10,\"solidity\":0.2},\"type\":\"scatter\"}],\"scatterternary\":[{\"marker\":{\"colorbar\":{\"outlinewidth\":0,\"ticks\":\"\"}},\"type\":\"scatterternary\"}],\"surface\":[{\"colorbar\":{\"outlinewidth\":0,\"ticks\":\"\"},\"colorscale\":[[0.0,\"#0d0887\"],[0.1111111111111111,\"#46039f\"],[0.2222222222222222,\"#7201a8\"],[0.3333333333333333,\"#9c179e\"],[0.4444444444444444,\"#bd3786\"],[0.5555555555555556,\"#d8576b\"],[0.6666666666666666,\"#ed7953\"],[0.7777777777777778,\"#fb9f3a\"],[0.8888888888888888,\"#fdca26\"],[1.0,\"#f0f921\"]],\"type\":\"surface\"}],\"table\":[{\"cells\":{\"fill\":{\"color\":\"#EBF0F8\"},\"line\":{\"color\":\"white\"}},\"header\":{\"fill\":{\"color\":\"#C8D4E3\"},\"line\":{\"color\":\"white\"}},\"type\":\"table\"}]},\"layout\":{\"annotationdefaults\":{\"arrowcolor\":\"#2a3f5f\",\"arrowhead\":0,\"arrowwidth\":1},\"autotypenumbers\":\"strict\",\"coloraxis\":{\"colorbar\":{\"outlinewidth\":0,\"ticks\":\"\"}},\"colorscale\":{\"diverging\":[[0,\"#8e0152\"],[0.1,\"#c51b7d\"],[0.2,\"#de77ae\"],[0.3,\"#f1b6da\"],[0.4,\"#fde0ef\"],[0.5,\"#f7f7f7\"],[0.6,\"#e6f5d0\"],[0.7,\"#b8e186\"],[0.8,\"#7fbc41\"],[0.9,\"#4d9221\"],[1,\"#276419\"]],\"sequential\":[[0.0,\"#0d0887\"],[0.1111111111111111,\"#46039f\"],[0.2222222222222222,\"#7201a8\"],[0.3333333333333333,\"#9c179e\"],[0.4444444444444444,\"#bd3786\"],[0.5555555555555556,\"#d8576b\"],[0.6666666666666666,\"#ed7953\"],[0.7777777777777778,\"#fb9f3a\"],[0.8888888888888888,\"#fdca26\"],[1.0,\"#f0f921\"]],\"sequentialminus\":[[0.0,\"#0d0887\"],[0.1111111111111111,\"#46039f\"],[0.2222222222222222,\"#7201a8\"],[0.3333333333333333,\"#9c179e\"],[0.4444444444444444,\"#bd3786\"],[0.5555555555555556,\"#d8576b\"],[0.6666666666666666,\"#ed7953\"],[0.7777777777777778,\"#fb9f3a\"],[0.8888888888888888,\"#fdca26\"],[1.0,\"#f0f921\"]]},\"colorway\":[\"#636efa\",\"#EF553B\",\"#00cc96\",\"#ab63fa\",\"#FFA15A\",\"#19d3f3\",\"#FF6692\",\"#B6E880\",\"#FF97FF\",\"#FECB52\"],\"font\":{\"color\":\"#2a3f5f\"},\"geo\":{\"bgcolor\":\"white\",\"lakecolor\":\"white\",\"landcolor\":\"#E5ECF6\",\"showlakes\":true,\"showland\":true,\"subunitcolor\":\"white\"},\"hoverlabel\":{\"align\":\"left\"},\"hovermode\":\"closest\",\"mapbox\":{\"style\":\"light\"},\"paper_bgcolor\":\"white\",\"plot_bgcolor\":\"#E5ECF6\",\"polar\":{\"angularaxis\":{\"gridcolor\":\"white\",\"linecolor\":\"white\",\"ticks\":\"\"},\"bgcolor\":\"#E5ECF6\",\"radialaxis\":{\"gridcolor\":\"white\",\"linecolor\":\"white\",\"ticks\":\"\"}},\"scene\":{\"xaxis\":{\"backgroundcolor\":\"#E5ECF6\",\"gridcolor\":\"white\",\"gridwidth\":2,\"linecolor\":\"white\",\"showbackground\":true,\"ticks\":\"\",\"zerolinecolor\":\"white\"},\"yaxis\":{\"backgroundcolor\":\"#E5ECF6\",\"gridcolor\":\"white\",\"gridwidth\":2,\"linecolor\":\"white\",\"showbackground\":true,\"ticks\":\"\",\"zerolinecolor\":\"white\"},\"zaxis\":{\"backgroundcolor\":\"#E5ECF6\",\"gridcolor\":\"white\",\"gridwidth\":2,\"linecolor\":\"white\",\"showbackground\":true,\"ticks\":\"\",\"zerolinecolor\":\"white\"}},\"shapedefaults\":{\"line\":{\"color\":\"#2a3f5f\"}},\"ternary\":{\"aaxis\":{\"gridcolor\":\"white\",\"linecolor\":\"white\",\"ticks\":\"\"},\"baxis\":{\"gridcolor\":\"white\",\"linecolor\":\"white\",\"ticks\":\"\"},\"bgcolor\":\"#E5ECF6\",\"caxis\":{\"gridcolor\":\"white\",\"linecolor\":\"white\",\"ticks\":\"\"}},\"title\":{\"x\":0.05},\"xaxis\":{\"automargin\":true,\"gridcolor\":\"white\",\"linecolor\":\"white\",\"ticks\":\"\",\"title\":{\"standoff\":15},\"zerolinecolor\":\"white\",\"zerolinewidth\":2},\"yaxis\":{\"automargin\":true,\"gridcolor\":\"white\",\"linecolor\":\"white\",\"ticks\":\"\",\"title\":{\"standoff\":15},\"zerolinecolor\":\"white\",\"zerolinewidth\":2}}},\"title\":{\"text\":\"Global Distribution of Democratic Countries 2008\"}},                        {\"responsive\": true}                    ).then(function(){\n",
       "                            \n",
       "var gd = document.getElementById('eb4eb887-28af-4493-9a96-64b64548213a');\n",
       "var x = new MutationObserver(function (mutations, observer) {{\n",
       "        var display = window.getComputedStyle(gd).display;\n",
       "        if (!display || display === 'none') {{\n",
       "            console.log([gd, 'removed!']);\n",
       "            Plotly.purge(gd);\n",
       "            observer.disconnect();\n",
       "        }}\n",
       "}});\n",
       "\n",
       "// Listen for the removal of the full notebook cells\n",
       "var notebookContainer = gd.closest('#notebook-container');\n",
       "if (notebookContainer) {{\n",
       "    x.observe(notebookContainer, {childList: true});\n",
       "}}\n",
       "\n",
       "// Listen for the clearing of the current output cell\n",
       "var outputEl = gd.closest('.output');\n",
       "if (outputEl) {{\n",
       "    x.observe(outputEl, {childList: true});\n",
       "}}\n",
       "\n",
       "                        })                };                });            </script>        </div>"
      ]
     },
     "metadata": {},
     "output_type": "display_data"
    }
   ],
   "source": [
    "import plotly.graph_objs as go\n",
    "from plotly.offline import download_plotlyjs, init_notebook_mode, plot, iplot \n",
    "init_notebook_mode(connected=True)\n",
    "\n",
    "data = dict(type = 'choropleth', \n",
    "           locations = yearof2008['country'],\n",
    "           locationmode = 'country names',\n",
    "           z = yearof2008['democracy'], \n",
    "           text = yearof2008['country'],\n",
    "           colorbar = {'title':'Democratic Governments'})\n",
    "layout = dict(title = 'Global Distribution of Democratic Countries 2008', \n",
    "             geo = dict(showframe = False))\n",
    "choromap3 = go.Figure(data = [data], layout=layout)\n",
    "iplot(choromap3)"
   ]
  },
  {
   "cell_type": "code",
   "execution_count": 220,
   "id": "f9634d80",
   "metadata": {},
   "outputs": [
    {
     "data": {
      "text/html": [
       "        <script type=\"text/javascript\">\n",
       "        window.PlotlyConfig = {MathJaxConfig: 'local'};\n",
       "        if (window.MathJax && window.MathJax.Hub && window.MathJax.Hub.Config) {window.MathJax.Hub.Config({SVG: {font: \"STIX-Web\"}});}\n",
       "        if (typeof require !== 'undefined') {\n",
       "        require.undef(\"plotly\");\n",
       "        requirejs.config({\n",
       "            paths: {\n",
       "                'plotly': ['https://cdn.plot.ly/plotly-2.12.1.min']\n",
       "            }\n",
       "        });\n",
       "        require(['plotly'], function(Plotly) {\n",
       "            window._Plotly = Plotly;\n",
       "        });\n",
       "        }\n",
       "        </script>\n",
       "        "
      ]
     },
     "metadata": {},
     "output_type": "display_data"
    },
    {
     "data": {
      "application/vnd.plotly.v1+json": {
       "config": {
        "linkText": "Export to plot.ly",
        "plotlyServerURL": "https://plot.ly",
        "showLink": false
       },
       "data": [
        {
         "colorbar": {
          "title": {
           "text": "Population"
          }
         },
         "locationmode": "country names",
         "locations": [
          "Afghanistan",
          "Angola",
          "Albania",
          "Andorra",
          "United Arab Emirates",
          "Argentina",
          "Armenia",
          "Antigua and Barbuda",
          "Australia",
          "Austria",
          "Azerbaijan",
          "Burundi",
          "Belgium",
          "Benin",
          "Burkina Faso",
          "Bangladesh",
          "Bulgaria",
          "Bahrain",
          "Bahamas",
          "Bosnia and Herzegovina",
          "Belarus",
          "Belize",
          "Bolivia",
          "Brazil",
          "Barbados",
          "Brunei",
          "Bhutan",
          "Botswana",
          "Central African Republic",
          "Canada",
          "Switzerland",
          "Chile",
          "China",
          "Cote d'Ivoire",
          "Cameroon",
          "Congo Dem Rep",
          "Congo, Rep.",
          "Colombia",
          "Comoros",
          "Cape Verde",
          "Costa Rica",
          "Cuba",
          "Cyprus",
          "Czech Republic",
          "Germany",
          "Djibouti",
          "Dominica",
          "Denmark",
          "Dominican Republic",
          "Algeria",
          "Ecuador",
          "Egypt",
          "Eritrea",
          "Spain",
          "Estonia",
          "Ethiopia",
          "Finland",
          "Fiji",
          "France",
          "Micronesia, Fed. Sts.",
          "Gabon",
          "United Kingdom",
          "Georgia",
          "Ghana",
          "Guinea",
          "Gambia",
          "Guinea-Bissau",
          "Equatorial Guinea",
          "Greece",
          "Grenada",
          "Guatemala",
          "Guyana",
          "Hong Kong, China",
          "Honduras",
          "Holy See",
          "Croatia",
          "Haiti",
          "Hungary",
          "Indonesia",
          "India",
          "Ireland",
          "Iran",
          "Iraq",
          "Iceland",
          "Israel",
          "Italy",
          "Jamaica",
          "Jordan",
          "Japan",
          "Kazakhstan",
          "Kenya",
          "Kyrgyz Republic",
          "Cambodia",
          "Kiribati",
          "St. Kitts and Nevis",
          "South Korea",
          "Kuwait",
          "Lao",
          "Lebanon",
          "Liberia",
          "Libya",
          "St. Lucia",
          "Liechtenstein",
          "Sri Lanka",
          "Lesotho",
          "Lithuania",
          "Luxembourg",
          "Latvia",
          "Morocco",
          "Monaco",
          "Moldova",
          "Madagascar",
          "Maldives",
          "Mexico",
          "Marshall Islands",
          "North Macedonia",
          "Mali",
          "Malta",
          "Myanmar",
          "Montenegro",
          "Mongolia",
          "Mozambique",
          "Mauritania",
          "Mauritius",
          "Malawi",
          "Malaysia",
          "Namibia",
          "Niger",
          "Nigeria",
          "Nicaragua",
          "Netherlands",
          "Norway",
          "Nepal",
          "Nauru",
          "New Zealand",
          "Oman",
          "Pakistan",
          "Panama",
          "Peru",
          "Philippines",
          "Palau",
          "Papua New Guinea",
          "Poland",
          "North Korea",
          "Portugal",
          "Paraguay",
          "Palestine",
          "Qatar",
          "Romania",
          "Russia",
          "Rwanda",
          "Saudi Arabia",
          "Sudan",
          "Senegal",
          "Singapore",
          "Solomon Islands",
          "Sierra Leone",
          "El Salvador",
          "San Marino",
          "Somalia",
          "Serbia",
          "South Sudan",
          "Sao Tome and Principe",
          "Suriname",
          "Slovak Republic",
          "Slovenia",
          "Sweden",
          "Eswatini",
          "Seychelles",
          "Syria",
          "Chad",
          "Togo",
          "Thailand",
          "Tajikistan",
          "Turkmenistan",
          "Timor-Leste",
          "Tonga",
          "Trinidad and Tobago",
          "Tunisia",
          "Turkey",
          "Tuvalu",
          "Taiwan",
          "Tanzania",
          "Uganda",
          "Ukraine",
          "Uruguay",
          "United States",
          "Uzbekistan",
          "St. Vincent and the Grenadines",
          "Venezuela",
          "Vietnam",
          "Vanuatu",
          "Samoa",
          "Yemen",
          "South Africa",
          "Zambia",
          "Zimbabwe",
          "Congo, Dem. Rep.",
          "Aruba",
          "Africa Eastern and Southern",
          "Africa Western and Central",
          "Arab World",
          "American Samoa",
          "Bahamas, The",
          "Bermuda",
          "Brunei Darussalam",
          "Central Europe and the Baltics",
          "Channel Islands",
          "Cabo Verde",
          "Caribbean small states",
          "Curacao",
          "Cayman Islands",
          "East Asia & Pacific (excluding high income)",
          "Early-demographic dividend",
          "East Asia & Pacific",
          "Europe & Central Asia (excluding high income)",
          "Europe & Central Asia",
          "Egypt, Arab Rep.",
          "Euro area",
          "European Union",
          "Fragile and conflict affected situations",
          "Faroe Islands",
          "Gibraltar",
          "Gambia, The",
          "Greenland",
          "Guam",
          "High income",
          "Hong Kong SAR, China",
          "Heavily indebted poor countries (HIPC)",
          "IBRD only",
          "IDA & IBRD total",
          "IDA total",
          "IDA blend",
          "IDA only",
          "Isle of Man",
          "Not classified",
          "Iran, Islamic Rep.",
          "Korea, Rep.",
          "Latin America & Caribbean (excluding high income)",
          "Lao PDR",
          "Latin America & Caribbean",
          "Least developed countries: UN classification",
          "Low income",
          "Lower middle income",
          "Low & middle income",
          "Late-demographic dividend",
          "Macao SAR, China",
          "St. Martin (French part)",
          "Middle East & North Africa",
          "Middle income",
          "Middle East & North Africa (excluding high income)",
          "Northern Mariana Islands",
          "North America",
          "New Caledonia",
          "OECD members",
          "Other small states",
          "Pre-demographic dividend",
          "Puerto Rico",
          "Korea, Dem. People's Rep.",
          "West Bank and Gaza",
          "Pacific island small states",
          "Post-demographic dividend",
          "French Polynesia",
          "Russian Federation",
          "South Asia",
          "Sub-Saharan Africa (excluding high income)",
          "Sub-Saharan Africa",
          "Small states",
          "Sint Maarten (Dutch part)",
          "Syrian Arab Republic",
          "Turks and Caicos Islands",
          "East Asia & Pacific (IDA & IBRD countries)",
          "Europe & Central Asia (IDA & IBRD countries)",
          "Latin America & the Caribbean (IDA & IBRD countries)",
          "Middle East & North Africa (IDA & IBRD countries)",
          "South Asia (IDA & IBRD)",
          "Sub-Saharan Africa (IDA & IBRD countries)",
          "Upper middle income",
          "Venezuela, RB",
          "British Virgin Islands",
          "Virgin Islands (U.S.)",
          "World",
          "Kosovo",
          "Yemen, Rep."
         ],
         "text": [
          "Afghanistan",
          "Angola",
          "Albania",
          "Andorra",
          "United Arab Emirates",
          "Argentina",
          "Armenia",
          "Antigua and Barbuda",
          "Australia",
          "Austria",
          "Azerbaijan",
          "Burundi",
          "Belgium",
          "Benin",
          "Burkina Faso",
          "Bangladesh",
          "Bulgaria",
          "Bahrain",
          "Bahamas",
          "Bosnia and Herzegovina",
          "Belarus",
          "Belize",
          "Bolivia",
          "Brazil",
          "Barbados",
          "Brunei",
          "Bhutan",
          "Botswana",
          "Central African Republic",
          "Canada",
          "Switzerland",
          "Chile",
          "China",
          "Cote d'Ivoire",
          "Cameroon",
          "Congo Dem Rep",
          "Congo, Rep.",
          "Colombia",
          "Comoros",
          "Cape Verde",
          "Costa Rica",
          "Cuba",
          "Cyprus",
          "Czech Republic",
          "Germany",
          "Djibouti",
          "Dominica",
          "Denmark",
          "Dominican Republic",
          "Algeria",
          "Ecuador",
          "Egypt",
          "Eritrea",
          "Spain",
          "Estonia",
          "Ethiopia",
          "Finland",
          "Fiji",
          "France",
          "Micronesia, Fed. Sts.",
          "Gabon",
          "United Kingdom",
          "Georgia",
          "Ghana",
          "Guinea",
          "Gambia",
          "Guinea-Bissau",
          "Equatorial Guinea",
          "Greece",
          "Grenada",
          "Guatemala",
          "Guyana",
          "Hong Kong, China",
          "Honduras",
          "Holy See",
          "Croatia",
          "Haiti",
          "Hungary",
          "Indonesia",
          "India",
          "Ireland",
          "Iran",
          "Iraq",
          "Iceland",
          "Israel",
          "Italy",
          "Jamaica",
          "Jordan",
          "Japan",
          "Kazakhstan",
          "Kenya",
          "Kyrgyz Republic",
          "Cambodia",
          "Kiribati",
          "St. Kitts and Nevis",
          "South Korea",
          "Kuwait",
          "Lao",
          "Lebanon",
          "Liberia",
          "Libya",
          "St. Lucia",
          "Liechtenstein",
          "Sri Lanka",
          "Lesotho",
          "Lithuania",
          "Luxembourg",
          "Latvia",
          "Morocco",
          "Monaco",
          "Moldova",
          "Madagascar",
          "Maldives",
          "Mexico",
          "Marshall Islands",
          "North Macedonia",
          "Mali",
          "Malta",
          "Myanmar",
          "Montenegro",
          "Mongolia",
          "Mozambique",
          "Mauritania",
          "Mauritius",
          "Malawi",
          "Malaysia",
          "Namibia",
          "Niger",
          "Nigeria",
          "Nicaragua",
          "Netherlands",
          "Norway",
          "Nepal",
          "Nauru",
          "New Zealand",
          "Oman",
          "Pakistan",
          "Panama",
          "Peru",
          "Philippines",
          "Palau",
          "Papua New Guinea",
          "Poland",
          "North Korea",
          "Portugal",
          "Paraguay",
          "Palestine",
          "Qatar",
          "Romania",
          "Russia",
          "Rwanda",
          "Saudi Arabia",
          "Sudan",
          "Senegal",
          "Singapore",
          "Solomon Islands",
          "Sierra Leone",
          "El Salvador",
          "San Marino",
          "Somalia",
          "Serbia",
          "South Sudan",
          "Sao Tome and Principe",
          "Suriname",
          "Slovak Republic",
          "Slovenia",
          "Sweden",
          "Eswatini",
          "Seychelles",
          "Syria",
          "Chad",
          "Togo",
          "Thailand",
          "Tajikistan",
          "Turkmenistan",
          "Timor-Leste",
          "Tonga",
          "Trinidad and Tobago",
          "Tunisia",
          "Turkey",
          "Tuvalu",
          "Taiwan",
          "Tanzania",
          "Uganda",
          "Ukraine",
          "Uruguay",
          "United States",
          "Uzbekistan",
          "St. Vincent and the Grenadines",
          "Venezuela",
          "Vietnam",
          "Vanuatu",
          "Samoa",
          "Yemen",
          "South Africa",
          "Zambia",
          "Zimbabwe",
          "Congo, Dem. Rep.",
          "Aruba",
          "Africa Eastern and Southern",
          "Africa Western and Central",
          "Arab World",
          "American Samoa",
          "Bahamas, The",
          "Bermuda",
          "Brunei Darussalam",
          "Central Europe and the Baltics",
          "Channel Islands",
          "Cabo Verde",
          "Caribbean small states",
          "Curacao",
          "Cayman Islands",
          "East Asia & Pacific (excluding high income)",
          "Early-demographic dividend",
          "East Asia & Pacific",
          "Europe & Central Asia (excluding high income)",
          "Europe & Central Asia",
          "Egypt, Arab Rep.",
          "Euro area",
          "European Union",
          "Fragile and conflict affected situations",
          "Faroe Islands",
          "Gibraltar",
          "Gambia, The",
          "Greenland",
          "Guam",
          "High income",
          "Hong Kong SAR, China",
          "Heavily indebted poor countries (HIPC)",
          "IBRD only",
          "IDA & IBRD total",
          "IDA total",
          "IDA blend",
          "IDA only",
          "Isle of Man",
          "Not classified",
          "Iran, Islamic Rep.",
          "Korea, Rep.",
          "Latin America & Caribbean (excluding high income)",
          "Lao PDR",
          "Latin America & Caribbean",
          "Least developed countries: UN classification",
          "Low income",
          "Lower middle income",
          "Low & middle income",
          "Late-demographic dividend",
          "Macao SAR, China",
          "St. Martin (French part)",
          "Middle East & North Africa",
          "Middle income",
          "Middle East & North Africa (excluding high income)",
          "Northern Mariana Islands",
          "North America",
          "New Caledonia",
          "OECD members",
          "Other small states",
          "Pre-demographic dividend",
          "Puerto Rico",
          "Korea, Dem. People's Rep.",
          "West Bank and Gaza",
          "Pacific island small states",
          "Post-demographic dividend",
          "French Polynesia",
          "Russian Federation",
          "South Asia",
          "Sub-Saharan Africa (excluding high income)",
          "Sub-Saharan Africa",
          "Small states",
          "Sint Maarten (Dutch part)",
          "Syrian Arab Republic",
          "Turks and Caicos Islands",
          "East Asia & Pacific (IDA & IBRD countries)",
          "Europe & Central Asia (IDA & IBRD countries)",
          "Latin America & the Caribbean (IDA & IBRD countries)",
          "Middle East & North Africa (IDA & IBRD countries)",
          "South Asia (IDA & IBRD)",
          "Sub-Saharan Africa (IDA & IBRD countries)",
          "Upper middle income",
          "Venezuela, RB",
          "British Virgin Islands",
          "Virgin Islands (U.S.)",
          "World",
          "Kosovo",
          "Yemen, Rep."
         ],
         "type": "choropleth",
         "z": [
          27722281,
          21695636,
          2947314,
          83860,
          7089486,
          40080159,
          2907615,
          85394,
          21249200,
          8321496,
          8763400,
          8126104,
          10709973,
          8696915,
          14689725,
          144304164,
          7492561,
          1114645,
          null,
          3754261,
          9527985,
          306822,
          9721457,
          192030362,
          279946,
          null,
          671611,
          1915636,
          4273368,
          33247118,
          7647675,
          16708255,
          1324655000,
          19605568,
          19252674,
          null,
          4011487,
          44254972,
          657227,
          null,
          4463123,
          11236975,
          1081568,
          10384603,
          82110097,
          816361,
          70829,
          5493621,
          9458079,
          34730604,
          14535740,
          null,
          3062782,
          45954106,
          1337090,
          82916236,
          5313399,
          845356,
          64374979,
          103549,
          1518538,
          61806995,
          3848449,
          23563832,
          9738796,
          null,
          1446936,
          860839,
          11077841,
          105457,
          13739299,
          746815,
          null,
          7980955,
          null,
          4309705,
          9646570,
          10038188,
          235469755,
          1200669762,
          4489544,
          null,
          28385739,
          317414,
          7308800,
          58826731,
          2781869,
          6556473,
          128063000,
          15776938,
          39791984,
          5318700,
          13883835,
          98760,
          48178,
          null,
          2656010,
          null,
          4764745,
          3607863,
          6058740,
          170011,
          35469,
          19983984,
          1987130,
          3198231,
          488650,
          2177322,
          31536807,
          34860,
          2867964,
          19996476,
          343448,
          110815272,
          56166,
          2046898,
          14113578,
          409379,
          49929642,
          616969,
          2631899,
          22276596,
          3296237,
          1244121,
          13727899,
          27236003,
          2043382,
          15250913,
          150269622,
          5667436,
          16445593,
          4768212,
          26666581,
          9880,
          4259800,
          2750956,
          171648984,
          3516204,
          28562321,
          90901967,
          18708,
          6976200,
          38125759,
          null,
          10558177,
          6081296,
          null,
          1436670,
          20537875,
          null,
          9524532,
          25888535,
          33060844,
          12004700,
          4839396,
          503366,
          6133599,
          6131767,
          30434,
          11397188,
          7350222,
          8736932,
          171122,
          517122,
          5379233,
          2021316,
          9219637,
          1049948,
          86956,
          null,
          11183589,
          6083417,
          66530980,
          7209924,
          4935765,
          1055428,
          103384,
          1314449,
          10414425,
          70418612,
          10315,
          null,
          41853944,
          30431734,
          46258189,
          3340221,
          304093966,
          27302800,
          108401,
          null,
          86243424,
          224700,
          183270,
          null,
          49779472,
          12848531,
          12379553,
          60411195,
          101362,
          491173160,
          331772330,
          338395936,
          57490,
          343680,
          65273,
          379418,
          105001883,
          156441,
          480846,
          6878973,
          145880,
          53835,
          1938057262,
          2820636607,
          2177119138,
          394372190,
          880911644,
          79636081,
          334274725,
          439876674,
          700030438,
          47822,
          33570,
          1689288,
          56328,
          159037,
          1138167727,
          6957800,
          590590409,
          4340107147,
          5643683607,
          1303576460,
          434469632,
          869106828,
          83515,
          null,
          72120608,
          49054708,
          522729313,
          6046630,
          576783743,
          798338725,
          486468200,
          2790205950,
          5591196860,
          2154327657,
          515232,
          36880,
          369823227,
          5104728660,
          321168746,
          54621,
          337406357,
          242750,
          1274522708,
          24762404,
          691447634,
          3760866,
          24310143,
          3591977,
          2157454,
          1064394135,
          264064,
          142742366,
          1592010815,
          822858534,
          822945490,
          33798831,
          33964,
          20664037,
          31200,
          1913718217,
          436807654,
          560624662,
          317576769,
          1592010815,
          822945490,
          2314522710,
          27635827,
          26096,
          108397,
          6757000414,
          1747383,
          21892149
         ]
        }
       ],
       "layout": {
        "geo": {
         "showframe": false
        },
        "template": {
         "data": {
          "bar": [
           {
            "error_x": {
             "color": "#2a3f5f"
            },
            "error_y": {
             "color": "#2a3f5f"
            },
            "marker": {
             "line": {
              "color": "#E5ECF6",
              "width": 0.5
             },
             "pattern": {
              "fillmode": "overlay",
              "size": 10,
              "solidity": 0.2
             }
            },
            "type": "bar"
           }
          ],
          "barpolar": [
           {
            "marker": {
             "line": {
              "color": "#E5ECF6",
              "width": 0.5
             },
             "pattern": {
              "fillmode": "overlay",
              "size": 10,
              "solidity": 0.2
             }
            },
            "type": "barpolar"
           }
          ],
          "carpet": [
           {
            "aaxis": {
             "endlinecolor": "#2a3f5f",
             "gridcolor": "white",
             "linecolor": "white",
             "minorgridcolor": "white",
             "startlinecolor": "#2a3f5f"
            },
            "baxis": {
             "endlinecolor": "#2a3f5f",
             "gridcolor": "white",
             "linecolor": "white",
             "minorgridcolor": "white",
             "startlinecolor": "#2a3f5f"
            },
            "type": "carpet"
           }
          ],
          "choropleth": [
           {
            "colorbar": {
             "outlinewidth": 0,
             "ticks": ""
            },
            "type": "choropleth"
           }
          ],
          "contour": [
           {
            "colorbar": {
             "outlinewidth": 0,
             "ticks": ""
            },
            "colorscale": [
             [
              0,
              "#0d0887"
             ],
             [
              0.1111111111111111,
              "#46039f"
             ],
             [
              0.2222222222222222,
              "#7201a8"
             ],
             [
              0.3333333333333333,
              "#9c179e"
             ],
             [
              0.4444444444444444,
              "#bd3786"
             ],
             [
              0.5555555555555556,
              "#d8576b"
             ],
             [
              0.6666666666666666,
              "#ed7953"
             ],
             [
              0.7777777777777778,
              "#fb9f3a"
             ],
             [
              0.8888888888888888,
              "#fdca26"
             ],
             [
              1,
              "#f0f921"
             ]
            ],
            "type": "contour"
           }
          ],
          "contourcarpet": [
           {
            "colorbar": {
             "outlinewidth": 0,
             "ticks": ""
            },
            "type": "contourcarpet"
           }
          ],
          "heatmap": [
           {
            "colorbar": {
             "outlinewidth": 0,
             "ticks": ""
            },
            "colorscale": [
             [
              0,
              "#0d0887"
             ],
             [
              0.1111111111111111,
              "#46039f"
             ],
             [
              0.2222222222222222,
              "#7201a8"
             ],
             [
              0.3333333333333333,
              "#9c179e"
             ],
             [
              0.4444444444444444,
              "#bd3786"
             ],
             [
              0.5555555555555556,
              "#d8576b"
             ],
             [
              0.6666666666666666,
              "#ed7953"
             ],
             [
              0.7777777777777778,
              "#fb9f3a"
             ],
             [
              0.8888888888888888,
              "#fdca26"
             ],
             [
              1,
              "#f0f921"
             ]
            ],
            "type": "heatmap"
           }
          ],
          "heatmapgl": [
           {
            "colorbar": {
             "outlinewidth": 0,
             "ticks": ""
            },
            "colorscale": [
             [
              0,
              "#0d0887"
             ],
             [
              0.1111111111111111,
              "#46039f"
             ],
             [
              0.2222222222222222,
              "#7201a8"
             ],
             [
              0.3333333333333333,
              "#9c179e"
             ],
             [
              0.4444444444444444,
              "#bd3786"
             ],
             [
              0.5555555555555556,
              "#d8576b"
             ],
             [
              0.6666666666666666,
              "#ed7953"
             ],
             [
              0.7777777777777778,
              "#fb9f3a"
             ],
             [
              0.8888888888888888,
              "#fdca26"
             ],
             [
              1,
              "#f0f921"
             ]
            ],
            "type": "heatmapgl"
           }
          ],
          "histogram": [
           {
            "marker": {
             "pattern": {
              "fillmode": "overlay",
              "size": 10,
              "solidity": 0.2
             }
            },
            "type": "histogram"
           }
          ],
          "histogram2d": [
           {
            "colorbar": {
             "outlinewidth": 0,
             "ticks": ""
            },
            "colorscale": [
             [
              0,
              "#0d0887"
             ],
             [
              0.1111111111111111,
              "#46039f"
             ],
             [
              0.2222222222222222,
              "#7201a8"
             ],
             [
              0.3333333333333333,
              "#9c179e"
             ],
             [
              0.4444444444444444,
              "#bd3786"
             ],
             [
              0.5555555555555556,
              "#d8576b"
             ],
             [
              0.6666666666666666,
              "#ed7953"
             ],
             [
              0.7777777777777778,
              "#fb9f3a"
             ],
             [
              0.8888888888888888,
              "#fdca26"
             ],
             [
              1,
              "#f0f921"
             ]
            ],
            "type": "histogram2d"
           }
          ],
          "histogram2dcontour": [
           {
            "colorbar": {
             "outlinewidth": 0,
             "ticks": ""
            },
            "colorscale": [
             [
              0,
              "#0d0887"
             ],
             [
              0.1111111111111111,
              "#46039f"
             ],
             [
              0.2222222222222222,
              "#7201a8"
             ],
             [
              0.3333333333333333,
              "#9c179e"
             ],
             [
              0.4444444444444444,
              "#bd3786"
             ],
             [
              0.5555555555555556,
              "#d8576b"
             ],
             [
              0.6666666666666666,
              "#ed7953"
             ],
             [
              0.7777777777777778,
              "#fb9f3a"
             ],
             [
              0.8888888888888888,
              "#fdca26"
             ],
             [
              1,
              "#f0f921"
             ]
            ],
            "type": "histogram2dcontour"
           }
          ],
          "mesh3d": [
           {
            "colorbar": {
             "outlinewidth": 0,
             "ticks": ""
            },
            "type": "mesh3d"
           }
          ],
          "parcoords": [
           {
            "line": {
             "colorbar": {
              "outlinewidth": 0,
              "ticks": ""
             }
            },
            "type": "parcoords"
           }
          ],
          "pie": [
           {
            "automargin": true,
            "type": "pie"
           }
          ],
          "scatter": [
           {
            "fillpattern": {
             "fillmode": "overlay",
             "size": 10,
             "solidity": 0.2
            },
            "type": "scatter"
           }
          ],
          "scatter3d": [
           {
            "line": {
             "colorbar": {
              "outlinewidth": 0,
              "ticks": ""
             }
            },
            "marker": {
             "colorbar": {
              "outlinewidth": 0,
              "ticks": ""
             }
            },
            "type": "scatter3d"
           }
          ],
          "scattercarpet": [
           {
            "marker": {
             "colorbar": {
              "outlinewidth": 0,
              "ticks": ""
             }
            },
            "type": "scattercarpet"
           }
          ],
          "scattergeo": [
           {
            "marker": {
             "colorbar": {
              "outlinewidth": 0,
              "ticks": ""
             }
            },
            "type": "scattergeo"
           }
          ],
          "scattergl": [
           {
            "marker": {
             "colorbar": {
              "outlinewidth": 0,
              "ticks": ""
             }
            },
            "type": "scattergl"
           }
          ],
          "scattermapbox": [
           {
            "marker": {
             "colorbar": {
              "outlinewidth": 0,
              "ticks": ""
             }
            },
            "type": "scattermapbox"
           }
          ],
          "scatterpolar": [
           {
            "marker": {
             "colorbar": {
              "outlinewidth": 0,
              "ticks": ""
             }
            },
            "type": "scatterpolar"
           }
          ],
          "scatterpolargl": [
           {
            "marker": {
             "colorbar": {
              "outlinewidth": 0,
              "ticks": ""
             }
            },
            "type": "scatterpolargl"
           }
          ],
          "scatterternary": [
           {
            "marker": {
             "colorbar": {
              "outlinewidth": 0,
              "ticks": ""
             }
            },
            "type": "scatterternary"
           }
          ],
          "surface": [
           {
            "colorbar": {
             "outlinewidth": 0,
             "ticks": ""
            },
            "colorscale": [
             [
              0,
              "#0d0887"
             ],
             [
              0.1111111111111111,
              "#46039f"
             ],
             [
              0.2222222222222222,
              "#7201a8"
             ],
             [
              0.3333333333333333,
              "#9c179e"
             ],
             [
              0.4444444444444444,
              "#bd3786"
             ],
             [
              0.5555555555555556,
              "#d8576b"
             ],
             [
              0.6666666666666666,
              "#ed7953"
             ],
             [
              0.7777777777777778,
              "#fb9f3a"
             ],
             [
              0.8888888888888888,
              "#fdca26"
             ],
             [
              1,
              "#f0f921"
             ]
            ],
            "type": "surface"
           }
          ],
          "table": [
           {
            "cells": {
             "fill": {
              "color": "#EBF0F8"
             },
             "line": {
              "color": "white"
             }
            },
            "header": {
             "fill": {
              "color": "#C8D4E3"
             },
             "line": {
              "color": "white"
             }
            },
            "type": "table"
           }
          ]
         },
         "layout": {
          "annotationdefaults": {
           "arrowcolor": "#2a3f5f",
           "arrowhead": 0,
           "arrowwidth": 1
          },
          "autotypenumbers": "strict",
          "coloraxis": {
           "colorbar": {
            "outlinewidth": 0,
            "ticks": ""
           }
          },
          "colorscale": {
           "diverging": [
            [
             0,
             "#8e0152"
            ],
            [
             0.1,
             "#c51b7d"
            ],
            [
             0.2,
             "#de77ae"
            ],
            [
             0.3,
             "#f1b6da"
            ],
            [
             0.4,
             "#fde0ef"
            ],
            [
             0.5,
             "#f7f7f7"
            ],
            [
             0.6,
             "#e6f5d0"
            ],
            [
             0.7,
             "#b8e186"
            ],
            [
             0.8,
             "#7fbc41"
            ],
            [
             0.9,
             "#4d9221"
            ],
            [
             1,
             "#276419"
            ]
           ],
           "sequential": [
            [
             0,
             "#0d0887"
            ],
            [
             0.1111111111111111,
             "#46039f"
            ],
            [
             0.2222222222222222,
             "#7201a8"
            ],
            [
             0.3333333333333333,
             "#9c179e"
            ],
            [
             0.4444444444444444,
             "#bd3786"
            ],
            [
             0.5555555555555556,
             "#d8576b"
            ],
            [
             0.6666666666666666,
             "#ed7953"
            ],
            [
             0.7777777777777778,
             "#fb9f3a"
            ],
            [
             0.8888888888888888,
             "#fdca26"
            ],
            [
             1,
             "#f0f921"
            ]
           ],
           "sequentialminus": [
            [
             0,
             "#0d0887"
            ],
            [
             0.1111111111111111,
             "#46039f"
            ],
            [
             0.2222222222222222,
             "#7201a8"
            ],
            [
             0.3333333333333333,
             "#9c179e"
            ],
            [
             0.4444444444444444,
             "#bd3786"
            ],
            [
             0.5555555555555556,
             "#d8576b"
            ],
            [
             0.6666666666666666,
             "#ed7953"
            ],
            [
             0.7777777777777778,
             "#fb9f3a"
            ],
            [
             0.8888888888888888,
             "#fdca26"
            ],
            [
             1,
             "#f0f921"
            ]
           ]
          },
          "colorway": [
           "#636efa",
           "#EF553B",
           "#00cc96",
           "#ab63fa",
           "#FFA15A",
           "#19d3f3",
           "#FF6692",
           "#B6E880",
           "#FF97FF",
           "#FECB52"
          ],
          "font": {
           "color": "#2a3f5f"
          },
          "geo": {
           "bgcolor": "white",
           "lakecolor": "white",
           "landcolor": "#E5ECF6",
           "showlakes": true,
           "showland": true,
           "subunitcolor": "white"
          },
          "hoverlabel": {
           "align": "left"
          },
          "hovermode": "closest",
          "mapbox": {
           "style": "light"
          },
          "paper_bgcolor": "white",
          "plot_bgcolor": "#E5ECF6",
          "polar": {
           "angularaxis": {
            "gridcolor": "white",
            "linecolor": "white",
            "ticks": ""
           },
           "bgcolor": "#E5ECF6",
           "radialaxis": {
            "gridcolor": "white",
            "linecolor": "white",
            "ticks": ""
           }
          },
          "scene": {
           "xaxis": {
            "backgroundcolor": "#E5ECF6",
            "gridcolor": "white",
            "gridwidth": 2,
            "linecolor": "white",
            "showbackground": true,
            "ticks": "",
            "zerolinecolor": "white"
           },
           "yaxis": {
            "backgroundcolor": "#E5ECF6",
            "gridcolor": "white",
            "gridwidth": 2,
            "linecolor": "white",
            "showbackground": true,
            "ticks": "",
            "zerolinecolor": "white"
           },
           "zaxis": {
            "backgroundcolor": "#E5ECF6",
            "gridcolor": "white",
            "gridwidth": 2,
            "linecolor": "white",
            "showbackground": true,
            "ticks": "",
            "zerolinecolor": "white"
           }
          },
          "shapedefaults": {
           "line": {
            "color": "#2a3f5f"
           }
          },
          "ternary": {
           "aaxis": {
            "gridcolor": "white",
            "linecolor": "white",
            "ticks": ""
           },
           "baxis": {
            "gridcolor": "white",
            "linecolor": "white",
            "ticks": ""
           },
           "bgcolor": "#E5ECF6",
           "caxis": {
            "gridcolor": "white",
            "linecolor": "white",
            "ticks": ""
           }
          },
          "title": {
           "x": 0.05
          },
          "xaxis": {
           "automargin": true,
           "gridcolor": "white",
           "linecolor": "white",
           "ticks": "",
           "title": {
            "standoff": 15
           },
           "zerolinecolor": "white",
           "zerolinewidth": 2
          },
          "yaxis": {
           "automargin": true,
           "gridcolor": "white",
           "linecolor": "white",
           "ticks": "",
           "title": {
            "standoff": 15
           },
           "zerolinecolor": "white",
           "zerolinewidth": 2
          }
         }
        },
        "title": {
         "text": "Global Population 2008"
        }
       }
      },
      "text/html": [
       "<div>                            <div id=\"9f0ce358-a4c3-4a49-bdd1-add6804512d2\" class=\"plotly-graph-div\" style=\"height:525px; width:100%;\"></div>            <script type=\"text/javascript\">                require([\"plotly\"], function(Plotly) {                    window.PLOTLYENV=window.PLOTLYENV || {};                                    if (document.getElementById(\"9f0ce358-a4c3-4a49-bdd1-add6804512d2\")) {                    Plotly.newPlot(                        \"9f0ce358-a4c3-4a49-bdd1-add6804512d2\",                        [{\"colorbar\":{\"title\":{\"text\":\"Population\"}},\"locationmode\":\"country names\",\"locations\":[\"Afghanistan\",\"Angola\",\"Albania\",\"Andorra\",\"United Arab Emirates\",\"Argentina\",\"Armenia\",\"Antigua and Barbuda\",\"Australia\",\"Austria\",\"Azerbaijan\",\"Burundi\",\"Belgium\",\"Benin\",\"Burkina Faso\",\"Bangladesh\",\"Bulgaria\",\"Bahrain\",\"Bahamas\",\"Bosnia and Herzegovina\",\"Belarus\",\"Belize\",\"Bolivia\",\"Brazil\",\"Barbados\",\"Brunei\",\"Bhutan\",\"Botswana\",\"Central African Republic\",\"Canada\",\"Switzerland\",\"Chile\",\"China\",\"Cote d'Ivoire\",\"Cameroon\",\"Congo Dem Rep\",\"Congo, Rep.\",\"Colombia\",\"Comoros\",\"Cape Verde\",\"Costa Rica\",\"Cuba\",\"Cyprus\",\"Czech Republic\",\"Germany\",\"Djibouti\",\"Dominica\",\"Denmark\",\"Dominican Republic\",\"Algeria\",\"Ecuador\",\"Egypt\",\"Eritrea\",\"Spain\",\"Estonia\",\"Ethiopia\",\"Finland\",\"Fiji\",\"France\",\"Micronesia, Fed. Sts.\",\"Gabon\",\"United Kingdom\",\"Georgia\",\"Ghana\",\"Guinea\",\"Gambia\",\"Guinea-Bissau\",\"Equatorial Guinea\",\"Greece\",\"Grenada\",\"Guatemala\",\"Guyana\",\"Hong Kong, China\",\"Honduras\",\"Holy See\",\"Croatia\",\"Haiti\",\"Hungary\",\"Indonesia\",\"India\",\"Ireland\",\"Iran\",\"Iraq\",\"Iceland\",\"Israel\",\"Italy\",\"Jamaica\",\"Jordan\",\"Japan\",\"Kazakhstan\",\"Kenya\",\"Kyrgyz Republic\",\"Cambodia\",\"Kiribati\",\"St. Kitts and Nevis\",\"South Korea\",\"Kuwait\",\"Lao\",\"Lebanon\",\"Liberia\",\"Libya\",\"St. Lucia\",\"Liechtenstein\",\"Sri Lanka\",\"Lesotho\",\"Lithuania\",\"Luxembourg\",\"Latvia\",\"Morocco\",\"Monaco\",\"Moldova\",\"Madagascar\",\"Maldives\",\"Mexico\",\"Marshall Islands\",\"North Macedonia\",\"Mali\",\"Malta\",\"Myanmar\",\"Montenegro\",\"Mongolia\",\"Mozambique\",\"Mauritania\",\"Mauritius\",\"Malawi\",\"Malaysia\",\"Namibia\",\"Niger\",\"Nigeria\",\"Nicaragua\",\"Netherlands\",\"Norway\",\"Nepal\",\"Nauru\",\"New Zealand\",\"Oman\",\"Pakistan\",\"Panama\",\"Peru\",\"Philippines\",\"Palau\",\"Papua New Guinea\",\"Poland\",\"North Korea\",\"Portugal\",\"Paraguay\",\"Palestine\",\"Qatar\",\"Romania\",\"Russia\",\"Rwanda\",\"Saudi Arabia\",\"Sudan\",\"Senegal\",\"Singapore\",\"Solomon Islands\",\"Sierra Leone\",\"El Salvador\",\"San Marino\",\"Somalia\",\"Serbia\",\"South Sudan\",\"Sao Tome and Principe\",\"Suriname\",\"Slovak Republic\",\"Slovenia\",\"Sweden\",\"Eswatini\",\"Seychelles\",\"Syria\",\"Chad\",\"Togo\",\"Thailand\",\"Tajikistan\",\"Turkmenistan\",\"Timor-Leste\",\"Tonga\",\"Trinidad and Tobago\",\"Tunisia\",\"Turkey\",\"Tuvalu\",\"Taiwan\",\"Tanzania\",\"Uganda\",\"Ukraine\",\"Uruguay\",\"United States\",\"Uzbekistan\",\"St. Vincent and the Grenadines\",\"Venezuela\",\"Vietnam\",\"Vanuatu\",\"Samoa\",\"Yemen\",\"South Africa\",\"Zambia\",\"Zimbabwe\",\"Congo, Dem. Rep.\",\"Aruba\",\"Africa Eastern and Southern\",\"Africa Western and Central\",\"Arab World\",\"American Samoa\",\"Bahamas, The\",\"Bermuda\",\"Brunei Darussalam\",\"Central Europe and the Baltics\",\"Channel Islands\",\"Cabo Verde\",\"Caribbean small states\",\"Curacao\",\"Cayman Islands\",\"East Asia & Pacific (excluding high income)\",\"Early-demographic dividend\",\"East Asia & Pacific\",\"Europe & Central Asia (excluding high income)\",\"Europe & Central Asia\",\"Egypt, Arab Rep.\",\"Euro area\",\"European Union\",\"Fragile and conflict affected situations\",\"Faroe Islands\",\"Gibraltar\",\"Gambia, The\",\"Greenland\",\"Guam\",\"High income\",\"Hong Kong SAR, China\",\"Heavily indebted poor countries (HIPC)\",\"IBRD only\",\"IDA & IBRD total\",\"IDA total\",\"IDA blend\",\"IDA only\",\"Isle of Man\",\"Not classified\",\"Iran, Islamic Rep.\",\"Korea, Rep.\",\"Latin America & Caribbean (excluding high income)\",\"Lao PDR\",\"Latin America & Caribbean\",\"Least developed countries: UN classification\",\"Low income\",\"Lower middle income\",\"Low & middle income\",\"Late-demographic dividend\",\"Macao SAR, China\",\"St. Martin (French part)\",\"Middle East & North Africa\",\"Middle income\",\"Middle East & North Africa (excluding high income)\",\"Northern Mariana Islands\",\"North America\",\"New Caledonia\",\"OECD members\",\"Other small states\",\"Pre-demographic dividend\",\"Puerto Rico\",\"Korea, Dem. People's Rep.\",\"West Bank and Gaza\",\"Pacific island small states\",\"Post-demographic dividend\",\"French Polynesia\",\"Russian Federation\",\"South Asia\",\"Sub-Saharan Africa (excluding high income)\",\"Sub-Saharan Africa\",\"Small states\",\"Sint Maarten (Dutch part)\",\"Syrian Arab Republic\",\"Turks and Caicos Islands\",\"East Asia & Pacific (IDA & IBRD countries)\",\"Europe & Central Asia (IDA & IBRD countries)\",\"Latin America & the Caribbean (IDA & IBRD countries)\",\"Middle East & North Africa (IDA & IBRD countries)\",\"South Asia (IDA & IBRD)\",\"Sub-Saharan Africa (IDA & IBRD countries)\",\"Upper middle income\",\"Venezuela, RB\",\"British Virgin Islands\",\"Virgin Islands (U.S.)\",\"World\",\"Kosovo\",\"Yemen, Rep.\"],\"text\":[\"Afghanistan\",\"Angola\",\"Albania\",\"Andorra\",\"United Arab Emirates\",\"Argentina\",\"Armenia\",\"Antigua and Barbuda\",\"Australia\",\"Austria\",\"Azerbaijan\",\"Burundi\",\"Belgium\",\"Benin\",\"Burkina Faso\",\"Bangladesh\",\"Bulgaria\",\"Bahrain\",\"Bahamas\",\"Bosnia and Herzegovina\",\"Belarus\",\"Belize\",\"Bolivia\",\"Brazil\",\"Barbados\",\"Brunei\",\"Bhutan\",\"Botswana\",\"Central African Republic\",\"Canada\",\"Switzerland\",\"Chile\",\"China\",\"Cote d'Ivoire\",\"Cameroon\",\"Congo Dem Rep\",\"Congo, Rep.\",\"Colombia\",\"Comoros\",\"Cape Verde\",\"Costa Rica\",\"Cuba\",\"Cyprus\",\"Czech Republic\",\"Germany\",\"Djibouti\",\"Dominica\",\"Denmark\",\"Dominican Republic\",\"Algeria\",\"Ecuador\",\"Egypt\",\"Eritrea\",\"Spain\",\"Estonia\",\"Ethiopia\",\"Finland\",\"Fiji\",\"France\",\"Micronesia, Fed. Sts.\",\"Gabon\",\"United Kingdom\",\"Georgia\",\"Ghana\",\"Guinea\",\"Gambia\",\"Guinea-Bissau\",\"Equatorial Guinea\",\"Greece\",\"Grenada\",\"Guatemala\",\"Guyana\",\"Hong Kong, China\",\"Honduras\",\"Holy See\",\"Croatia\",\"Haiti\",\"Hungary\",\"Indonesia\",\"India\",\"Ireland\",\"Iran\",\"Iraq\",\"Iceland\",\"Israel\",\"Italy\",\"Jamaica\",\"Jordan\",\"Japan\",\"Kazakhstan\",\"Kenya\",\"Kyrgyz Republic\",\"Cambodia\",\"Kiribati\",\"St. Kitts and Nevis\",\"South Korea\",\"Kuwait\",\"Lao\",\"Lebanon\",\"Liberia\",\"Libya\",\"St. Lucia\",\"Liechtenstein\",\"Sri Lanka\",\"Lesotho\",\"Lithuania\",\"Luxembourg\",\"Latvia\",\"Morocco\",\"Monaco\",\"Moldova\",\"Madagascar\",\"Maldives\",\"Mexico\",\"Marshall Islands\",\"North Macedonia\",\"Mali\",\"Malta\",\"Myanmar\",\"Montenegro\",\"Mongolia\",\"Mozambique\",\"Mauritania\",\"Mauritius\",\"Malawi\",\"Malaysia\",\"Namibia\",\"Niger\",\"Nigeria\",\"Nicaragua\",\"Netherlands\",\"Norway\",\"Nepal\",\"Nauru\",\"New Zealand\",\"Oman\",\"Pakistan\",\"Panama\",\"Peru\",\"Philippines\",\"Palau\",\"Papua New Guinea\",\"Poland\",\"North Korea\",\"Portugal\",\"Paraguay\",\"Palestine\",\"Qatar\",\"Romania\",\"Russia\",\"Rwanda\",\"Saudi Arabia\",\"Sudan\",\"Senegal\",\"Singapore\",\"Solomon Islands\",\"Sierra Leone\",\"El Salvador\",\"San Marino\",\"Somalia\",\"Serbia\",\"South Sudan\",\"Sao Tome and Principe\",\"Suriname\",\"Slovak Republic\",\"Slovenia\",\"Sweden\",\"Eswatini\",\"Seychelles\",\"Syria\",\"Chad\",\"Togo\",\"Thailand\",\"Tajikistan\",\"Turkmenistan\",\"Timor-Leste\",\"Tonga\",\"Trinidad and Tobago\",\"Tunisia\",\"Turkey\",\"Tuvalu\",\"Taiwan\",\"Tanzania\",\"Uganda\",\"Ukraine\",\"Uruguay\",\"United States\",\"Uzbekistan\",\"St. Vincent and the Grenadines\",\"Venezuela\",\"Vietnam\",\"Vanuatu\",\"Samoa\",\"Yemen\",\"South Africa\",\"Zambia\",\"Zimbabwe\",\"Congo, Dem. Rep.\",\"Aruba\",\"Africa Eastern and Southern\",\"Africa Western and Central\",\"Arab World\",\"American Samoa\",\"Bahamas, The\",\"Bermuda\",\"Brunei Darussalam\",\"Central Europe and the Baltics\",\"Channel Islands\",\"Cabo Verde\",\"Caribbean small states\",\"Curacao\",\"Cayman Islands\",\"East Asia & Pacific (excluding high income)\",\"Early-demographic dividend\",\"East Asia & Pacific\",\"Europe & Central Asia (excluding high income)\",\"Europe & Central Asia\",\"Egypt, Arab Rep.\",\"Euro area\",\"European Union\",\"Fragile and conflict affected situations\",\"Faroe Islands\",\"Gibraltar\",\"Gambia, The\",\"Greenland\",\"Guam\",\"High income\",\"Hong Kong SAR, China\",\"Heavily indebted poor countries (HIPC)\",\"IBRD only\",\"IDA & IBRD total\",\"IDA total\",\"IDA blend\",\"IDA only\",\"Isle of Man\",\"Not classified\",\"Iran, Islamic Rep.\",\"Korea, Rep.\",\"Latin America & Caribbean (excluding high income)\",\"Lao PDR\",\"Latin America & Caribbean\",\"Least developed countries: UN classification\",\"Low income\",\"Lower middle income\",\"Low & middle income\",\"Late-demographic dividend\",\"Macao SAR, China\",\"St. Martin (French part)\",\"Middle East & North Africa\",\"Middle income\",\"Middle East & North Africa (excluding high income)\",\"Northern Mariana Islands\",\"North America\",\"New Caledonia\",\"OECD members\",\"Other small states\",\"Pre-demographic dividend\",\"Puerto Rico\",\"Korea, Dem. People's Rep.\",\"West Bank and Gaza\",\"Pacific island small states\",\"Post-demographic dividend\",\"French Polynesia\",\"Russian Federation\",\"South Asia\",\"Sub-Saharan Africa (excluding high income)\",\"Sub-Saharan Africa\",\"Small states\",\"Sint Maarten (Dutch part)\",\"Syrian Arab Republic\",\"Turks and Caicos Islands\",\"East Asia & Pacific (IDA & IBRD countries)\",\"Europe & Central Asia (IDA & IBRD countries)\",\"Latin America & the Caribbean (IDA & IBRD countries)\",\"Middle East & North Africa (IDA & IBRD countries)\",\"South Asia (IDA & IBRD)\",\"Sub-Saharan Africa (IDA & IBRD countries)\",\"Upper middle income\",\"Venezuela, RB\",\"British Virgin Islands\",\"Virgin Islands (U.S.)\",\"World\",\"Kosovo\",\"Yemen, Rep.\"],\"z\":[27722281.0,21695636.0,2947314.0,83860.0,7089486.0,40080159.0,2907615.0,85394.0,21249200.0,8321496.0,8763400.0,8126104.0,10709973.0,8696915.0,14689725.0,144304164.0,7492561.0,1114645.0,null,3754261.0,9527985.0,306822.0,9721457.0,192030362.0,279946.0,null,671611.0,1915636.0,4273368.0,33247118.0,7647675.0,16708255.0,1324655000.0,19605568.0,19252674.0,null,4011487.0,44254972.0,657227.0,null,4463123.0,11236975.0,1081568.0,10384603.0,82110097.0,816361.0,70829.0,5493621.0,9458079.0,34730604.0,14535740.0,null,3062782.0,45954106.0,1337090.0,82916236.0,5313399.0,845356.0,64374979.0,103549.0,1518538.0,61806995.0,3848449.0,23563832.0,9738796.0,null,1446936.0,860839.0,11077841.0,105457.0,13739299.0,746815.0,null,7980955.0,null,4309705.0,9646570.0,10038188.0,235469755.0,1200669762.0,4489544.0,null,28385739.0,317414.0,7308800.0,58826731.0,2781869.0,6556473.0,128063000.0,15776938.0,39791984.0,5318700.0,13883835.0,98760.0,48178.0,null,2656010.0,null,4764745.0,3607863.0,6058740.0,170011.0,35469.0,19983984.0,1987130.0,3198231.0,488650.0,2177322.0,31536807.0,34860.0,2867964.0,19996476.0,343448.0,110815272.0,56166.0,2046898.0,14113578.0,409379.0,49929642.0,616969.0,2631899.0,22276596.0,3296237.0,1244121.0,13727899.0,27236003.0,2043382.0,15250913.0,150269622.0,5667436.0,16445593.0,4768212.0,26666581.0,9880.0,4259800.0,2750956.0,171648984.0,3516204.0,28562321.0,90901967.0,18708.0,6976200.0,38125759.0,null,10558177.0,6081296.0,null,1436670.0,20537875.0,null,9524532.0,25888535.0,33060844.0,12004700.0,4839396.0,503366.0,6133599.0,6131767.0,30434.0,11397188.0,7350222.0,8736932.0,171122.0,517122.0,5379233.0,2021316.0,9219637.0,1049948.0,86956.0,null,11183589.0,6083417.0,66530980.0,7209924.0,4935765.0,1055428.0,103384.0,1314449.0,10414425.0,70418612.0,10315.0,null,41853944.0,30431734.0,46258189.0,3340221.0,304093966.0,27302800.0,108401.0,null,86243424.0,224700.0,183270.0,null,49779472.0,12848531.0,12379553.0,60411195.0,101362.0,491173160.0,331772330.0,338395936.0,57490.0,343680.0,65273.0,379418.0,105001883.0,156441.0,480846.0,6878973.0,145880.0,53835.0,1938057262.0,2820636607.0,2177119138.0,394372190.0,880911644.0,79636081.0,334274725.0,439876674.0,700030438.0,47822.0,33570.0,1689288.0,56328.0,159037.0,1138167727.0,6957800.0,590590409.0,4340107147.0,5643683607.0,1303576460.0,434469632.0,869106828.0,83515.0,null,72120608.0,49054708.0,522729313.0,6046630.0,576783743.0,798338725.0,486468200.0,2790205950.0,5591196860.0,2154327657.0,515232.0,36880.0,369823227.0,5104728660.0,321168746.0,54621.0,337406357.0,242750.0,1274522708.0,24762404.0,691447634.0,3760866.0,24310143.0,3591977.0,2157454.0,1064394135.0,264064.0,142742366.0,1592010815.0,822858534.0,822945490.0,33798831.0,33964.0,20664037.0,31200.0,1913718217.0,436807654.0,560624662.0,317576769.0,1592010815.0,822945490.0,2314522710.0,27635827.0,26096.0,108397.0,6757000414.0,1747383.0,21892149.0],\"type\":\"choropleth\"}],                        {\"geo\":{\"showframe\":false},\"template\":{\"data\":{\"barpolar\":[{\"marker\":{\"line\":{\"color\":\"#E5ECF6\",\"width\":0.5},\"pattern\":{\"fillmode\":\"overlay\",\"size\":10,\"solidity\":0.2}},\"type\":\"barpolar\"}],\"bar\":[{\"error_x\":{\"color\":\"#2a3f5f\"},\"error_y\":{\"color\":\"#2a3f5f\"},\"marker\":{\"line\":{\"color\":\"#E5ECF6\",\"width\":0.5},\"pattern\":{\"fillmode\":\"overlay\",\"size\":10,\"solidity\":0.2}},\"type\":\"bar\"}],\"carpet\":[{\"aaxis\":{\"endlinecolor\":\"#2a3f5f\",\"gridcolor\":\"white\",\"linecolor\":\"white\",\"minorgridcolor\":\"white\",\"startlinecolor\":\"#2a3f5f\"},\"baxis\":{\"endlinecolor\":\"#2a3f5f\",\"gridcolor\":\"white\",\"linecolor\":\"white\",\"minorgridcolor\":\"white\",\"startlinecolor\":\"#2a3f5f\"},\"type\":\"carpet\"}],\"choropleth\":[{\"colorbar\":{\"outlinewidth\":0,\"ticks\":\"\"},\"type\":\"choropleth\"}],\"contourcarpet\":[{\"colorbar\":{\"outlinewidth\":0,\"ticks\":\"\"},\"type\":\"contourcarpet\"}],\"contour\":[{\"colorbar\":{\"outlinewidth\":0,\"ticks\":\"\"},\"colorscale\":[[0.0,\"#0d0887\"],[0.1111111111111111,\"#46039f\"],[0.2222222222222222,\"#7201a8\"],[0.3333333333333333,\"#9c179e\"],[0.4444444444444444,\"#bd3786\"],[0.5555555555555556,\"#d8576b\"],[0.6666666666666666,\"#ed7953\"],[0.7777777777777778,\"#fb9f3a\"],[0.8888888888888888,\"#fdca26\"],[1.0,\"#f0f921\"]],\"type\":\"contour\"}],\"heatmapgl\":[{\"colorbar\":{\"outlinewidth\":0,\"ticks\":\"\"},\"colorscale\":[[0.0,\"#0d0887\"],[0.1111111111111111,\"#46039f\"],[0.2222222222222222,\"#7201a8\"],[0.3333333333333333,\"#9c179e\"],[0.4444444444444444,\"#bd3786\"],[0.5555555555555556,\"#d8576b\"],[0.6666666666666666,\"#ed7953\"],[0.7777777777777778,\"#fb9f3a\"],[0.8888888888888888,\"#fdca26\"],[1.0,\"#f0f921\"]],\"type\":\"heatmapgl\"}],\"heatmap\":[{\"colorbar\":{\"outlinewidth\":0,\"ticks\":\"\"},\"colorscale\":[[0.0,\"#0d0887\"],[0.1111111111111111,\"#46039f\"],[0.2222222222222222,\"#7201a8\"],[0.3333333333333333,\"#9c179e\"],[0.4444444444444444,\"#bd3786\"],[0.5555555555555556,\"#d8576b\"],[0.6666666666666666,\"#ed7953\"],[0.7777777777777778,\"#fb9f3a\"],[0.8888888888888888,\"#fdca26\"],[1.0,\"#f0f921\"]],\"type\":\"heatmap\"}],\"histogram2dcontour\":[{\"colorbar\":{\"outlinewidth\":0,\"ticks\":\"\"},\"colorscale\":[[0.0,\"#0d0887\"],[0.1111111111111111,\"#46039f\"],[0.2222222222222222,\"#7201a8\"],[0.3333333333333333,\"#9c179e\"],[0.4444444444444444,\"#bd3786\"],[0.5555555555555556,\"#d8576b\"],[0.6666666666666666,\"#ed7953\"],[0.7777777777777778,\"#fb9f3a\"],[0.8888888888888888,\"#fdca26\"],[1.0,\"#f0f921\"]],\"type\":\"histogram2dcontour\"}],\"histogram2d\":[{\"colorbar\":{\"outlinewidth\":0,\"ticks\":\"\"},\"colorscale\":[[0.0,\"#0d0887\"],[0.1111111111111111,\"#46039f\"],[0.2222222222222222,\"#7201a8\"],[0.3333333333333333,\"#9c179e\"],[0.4444444444444444,\"#bd3786\"],[0.5555555555555556,\"#d8576b\"],[0.6666666666666666,\"#ed7953\"],[0.7777777777777778,\"#fb9f3a\"],[0.8888888888888888,\"#fdca26\"],[1.0,\"#f0f921\"]],\"type\":\"histogram2d\"}],\"histogram\":[{\"marker\":{\"pattern\":{\"fillmode\":\"overlay\",\"size\":10,\"solidity\":0.2}},\"type\":\"histogram\"}],\"mesh3d\":[{\"colorbar\":{\"outlinewidth\":0,\"ticks\":\"\"},\"type\":\"mesh3d\"}],\"parcoords\":[{\"line\":{\"colorbar\":{\"outlinewidth\":0,\"ticks\":\"\"}},\"type\":\"parcoords\"}],\"pie\":[{\"automargin\":true,\"type\":\"pie\"}],\"scatter3d\":[{\"line\":{\"colorbar\":{\"outlinewidth\":0,\"ticks\":\"\"}},\"marker\":{\"colorbar\":{\"outlinewidth\":0,\"ticks\":\"\"}},\"type\":\"scatter3d\"}],\"scattercarpet\":[{\"marker\":{\"colorbar\":{\"outlinewidth\":0,\"ticks\":\"\"}},\"type\":\"scattercarpet\"}],\"scattergeo\":[{\"marker\":{\"colorbar\":{\"outlinewidth\":0,\"ticks\":\"\"}},\"type\":\"scattergeo\"}],\"scattergl\":[{\"marker\":{\"colorbar\":{\"outlinewidth\":0,\"ticks\":\"\"}},\"type\":\"scattergl\"}],\"scattermapbox\":[{\"marker\":{\"colorbar\":{\"outlinewidth\":0,\"ticks\":\"\"}},\"type\":\"scattermapbox\"}],\"scatterpolargl\":[{\"marker\":{\"colorbar\":{\"outlinewidth\":0,\"ticks\":\"\"}},\"type\":\"scatterpolargl\"}],\"scatterpolar\":[{\"marker\":{\"colorbar\":{\"outlinewidth\":0,\"ticks\":\"\"}},\"type\":\"scatterpolar\"}],\"scatter\":[{\"fillpattern\":{\"fillmode\":\"overlay\",\"size\":10,\"solidity\":0.2},\"type\":\"scatter\"}],\"scatterternary\":[{\"marker\":{\"colorbar\":{\"outlinewidth\":0,\"ticks\":\"\"}},\"type\":\"scatterternary\"}],\"surface\":[{\"colorbar\":{\"outlinewidth\":0,\"ticks\":\"\"},\"colorscale\":[[0.0,\"#0d0887\"],[0.1111111111111111,\"#46039f\"],[0.2222222222222222,\"#7201a8\"],[0.3333333333333333,\"#9c179e\"],[0.4444444444444444,\"#bd3786\"],[0.5555555555555556,\"#d8576b\"],[0.6666666666666666,\"#ed7953\"],[0.7777777777777778,\"#fb9f3a\"],[0.8888888888888888,\"#fdca26\"],[1.0,\"#f0f921\"]],\"type\":\"surface\"}],\"table\":[{\"cells\":{\"fill\":{\"color\":\"#EBF0F8\"},\"line\":{\"color\":\"white\"}},\"header\":{\"fill\":{\"color\":\"#C8D4E3\"},\"line\":{\"color\":\"white\"}},\"type\":\"table\"}]},\"layout\":{\"annotationdefaults\":{\"arrowcolor\":\"#2a3f5f\",\"arrowhead\":0,\"arrowwidth\":1},\"autotypenumbers\":\"strict\",\"coloraxis\":{\"colorbar\":{\"outlinewidth\":0,\"ticks\":\"\"}},\"colorscale\":{\"diverging\":[[0,\"#8e0152\"],[0.1,\"#c51b7d\"],[0.2,\"#de77ae\"],[0.3,\"#f1b6da\"],[0.4,\"#fde0ef\"],[0.5,\"#f7f7f7\"],[0.6,\"#e6f5d0\"],[0.7,\"#b8e186\"],[0.8,\"#7fbc41\"],[0.9,\"#4d9221\"],[1,\"#276419\"]],\"sequential\":[[0.0,\"#0d0887\"],[0.1111111111111111,\"#46039f\"],[0.2222222222222222,\"#7201a8\"],[0.3333333333333333,\"#9c179e\"],[0.4444444444444444,\"#bd3786\"],[0.5555555555555556,\"#d8576b\"],[0.6666666666666666,\"#ed7953\"],[0.7777777777777778,\"#fb9f3a\"],[0.8888888888888888,\"#fdca26\"],[1.0,\"#f0f921\"]],\"sequentialminus\":[[0.0,\"#0d0887\"],[0.1111111111111111,\"#46039f\"],[0.2222222222222222,\"#7201a8\"],[0.3333333333333333,\"#9c179e\"],[0.4444444444444444,\"#bd3786\"],[0.5555555555555556,\"#d8576b\"],[0.6666666666666666,\"#ed7953\"],[0.7777777777777778,\"#fb9f3a\"],[0.8888888888888888,\"#fdca26\"],[1.0,\"#f0f921\"]]},\"colorway\":[\"#636efa\",\"#EF553B\",\"#00cc96\",\"#ab63fa\",\"#FFA15A\",\"#19d3f3\",\"#FF6692\",\"#B6E880\",\"#FF97FF\",\"#FECB52\"],\"font\":{\"color\":\"#2a3f5f\"},\"geo\":{\"bgcolor\":\"white\",\"lakecolor\":\"white\",\"landcolor\":\"#E5ECF6\",\"showlakes\":true,\"showland\":true,\"subunitcolor\":\"white\"},\"hoverlabel\":{\"align\":\"left\"},\"hovermode\":\"closest\",\"mapbox\":{\"style\":\"light\"},\"paper_bgcolor\":\"white\",\"plot_bgcolor\":\"#E5ECF6\",\"polar\":{\"angularaxis\":{\"gridcolor\":\"white\",\"linecolor\":\"white\",\"ticks\":\"\"},\"bgcolor\":\"#E5ECF6\",\"radialaxis\":{\"gridcolor\":\"white\",\"linecolor\":\"white\",\"ticks\":\"\"}},\"scene\":{\"xaxis\":{\"backgroundcolor\":\"#E5ECF6\",\"gridcolor\":\"white\",\"gridwidth\":2,\"linecolor\":\"white\",\"showbackground\":true,\"ticks\":\"\",\"zerolinecolor\":\"white\"},\"yaxis\":{\"backgroundcolor\":\"#E5ECF6\",\"gridcolor\":\"white\",\"gridwidth\":2,\"linecolor\":\"white\",\"showbackground\":true,\"ticks\":\"\",\"zerolinecolor\":\"white\"},\"zaxis\":{\"backgroundcolor\":\"#E5ECF6\",\"gridcolor\":\"white\",\"gridwidth\":2,\"linecolor\":\"white\",\"showbackground\":true,\"ticks\":\"\",\"zerolinecolor\":\"white\"}},\"shapedefaults\":{\"line\":{\"color\":\"#2a3f5f\"}},\"ternary\":{\"aaxis\":{\"gridcolor\":\"white\",\"linecolor\":\"white\",\"ticks\":\"\"},\"baxis\":{\"gridcolor\":\"white\",\"linecolor\":\"white\",\"ticks\":\"\"},\"bgcolor\":\"#E5ECF6\",\"caxis\":{\"gridcolor\":\"white\",\"linecolor\":\"white\",\"ticks\":\"\"}},\"title\":{\"x\":0.05},\"xaxis\":{\"automargin\":true,\"gridcolor\":\"white\",\"linecolor\":\"white\",\"ticks\":\"\",\"title\":{\"standoff\":15},\"zerolinecolor\":\"white\",\"zerolinewidth\":2},\"yaxis\":{\"automargin\":true,\"gridcolor\":\"white\",\"linecolor\":\"white\",\"ticks\":\"\",\"title\":{\"standoff\":15},\"zerolinecolor\":\"white\",\"zerolinewidth\":2}}},\"title\":{\"text\":\"Global Population 2008\"}},                        {\"responsive\": true}                    ).then(function(){\n",
       "                            \n",
       "var gd = document.getElementById('9f0ce358-a4c3-4a49-bdd1-add6804512d2');\n",
       "var x = new MutationObserver(function (mutations, observer) {{\n",
       "        var display = window.getComputedStyle(gd).display;\n",
       "        if (!display || display === 'none') {{\n",
       "            console.log([gd, 'removed!']);\n",
       "            Plotly.purge(gd);\n",
       "            observer.disconnect();\n",
       "        }}\n",
       "}});\n",
       "\n",
       "// Listen for the removal of the full notebook cells\n",
       "var notebookContainer = gd.closest('#notebook-container');\n",
       "if (notebookContainer) {{\n",
       "    x.observe(notebookContainer, {childList: true});\n",
       "}}\n",
       "\n",
       "// Listen for the clearing of the current output cell\n",
       "var outputEl = gd.closest('.output');\n",
       "if (outputEl) {{\n",
       "    x.observe(outputEl, {childList: true});\n",
       "}}\n",
       "\n",
       "                        })                };                });            </script>        </div>"
      ]
     },
     "metadata": {},
     "output_type": "display_data"
    }
   ],
   "source": [
    "import plotly.graph_objs as go\n",
    "from plotly.offline import download_plotlyjs, init_notebook_mode, plot, iplot \n",
    "init_notebook_mode(connected=True)\n",
    "\n",
    "data = dict(type = 'choropleth', \n",
    "           locations = yearof2008['country'],\n",
    "           locationmode = 'country names',\n",
    "           z = yearof2008['population'], \n",
    "           text = yearof2008['country'],\n",
    "           colorbar = {'title':'Population'})\n",
    "layout = dict(title = 'Global Population 2008', \n",
    "             geo = dict(showframe = False))\n",
    "choromap3 = go.Figure(data = [data], layout=layout)\n",
    "iplot(choromap3)"
   ]
  },
  {
   "cell_type": "code",
   "execution_count": 238,
   "id": "ad8a2a7b",
   "metadata": {},
   "outputs": [
    {
     "data": {
      "text/plain": [
       "<matplotlib.legend.Legend at 0x14ffecc50>"
      ]
     },
     "execution_count": 238,
     "metadata": {},
     "output_type": "execute_result"
    },
    {
     "data": {
      "image/png": "[encoded data removed]",
      "text/plain": [
       "<Figure size 2400x800 with 1 Axes>"
      ]
     },
     "metadata": {},
     "output_type": "display_data"
    }
   ],
   "source": [
    "plt.figure(figsize=(24,8))\n",
    "plt.subplot(1,3,1)\n",
    "plt.scatter( yearof2008['score'], yearof2008['ave_income'])\n",
    "plt.xlabel('Average Daily Income in 2008')\n",
    "plt.ylabel('Happiness score')\n",
    "plt.legend(['2008'])"
   ]
  },
  {
   "cell_type": "code",
   "execution_count": 231,
   "id": "7bfec968",
   "metadata": {},
   "outputs": [],
   "source": [
    "import matplotlib.pyplot as plt"
   ]
  },
  {
   "cell_type": "code",
   "execution_count": null,
   "id": "a38d2d61",
   "metadata": {},
   "outputs": [],
   "source": []
  }
 ],
 "metadata": {
  "kernelspec": {
   "display_name": "Python 3 (ipykernel)",
   "language": "python",
   "name": "python3"
  },
  "language_info": {
   "codemirror_mode": {
    "name": "ipython",
    "version": 3
   },
   "file_extension": ".py",
   "mimetype": "text/x-python",
   "name": "python",
   "nbconvert_exporter": "python",
   "pygments_lexer": "ipython3",
   "version": "3.11.3"
  }
 },
 "nbformat": 4,
 "nbformat_minor": 5
}
